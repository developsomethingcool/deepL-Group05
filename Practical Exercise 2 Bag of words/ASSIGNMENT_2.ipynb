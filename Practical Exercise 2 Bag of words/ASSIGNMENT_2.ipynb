{
  "cells": [
    {
      "cell_type": "markdown",
      "metadata": {
        "id": "KthJSHkGQR7Z"
      },
      "source": [
        "# Bag of Words Text Classification\n",
        "\n",
        "In this assignment we will build a simple Bag of Words (BoW) text classifier using PyTorch. The classifier is trained on a Twitter dataset (with given labels) and is supposed to identify if the sentiment in individual tweets is *positive* or *negative*.\n",
        "\n",
        "\n",
        "## Concepts covered in this assignment\n",
        "1. NLP text pre-processing\n",
        "2. Split of training, validation and testing datasets\n",
        "3. Build a simple feed-forward neural net classifier using PyTorch\n",
        "4. Training the model"
      ]
    },
    {
      "cell_type": "markdown",
      "metadata": {
        "id": "3v_ulv3NvQbA"
      },
      "source": [
        "As always, we start with some imports...\n",
        "\n",
        "\n"
      ]
    },
    {
      "cell_type": "code",
      "execution_count": 1,
      "metadata": {
        "colab": {
          "base_uri": "https://localhost:8080/"
        },
        "id": "SWfCic1utyKk",
        "outputId": "4b29e464-69b1-42b9-8ce7-46bf388e7422"
      },
      "outputs": [
        {
          "output_type": "stream",
          "name": "stdout",
          "text": [
            "Requirement already satisfied: googledrivedownloader in /usr/local/lib/python3.10/dist-packages (0.4)\n",
            "Requirement already satisfied: torch in /usr/local/lib/python3.10/dist-packages (2.1.0+cu118)\n",
            "Requirement already satisfied: filelock in /usr/local/lib/python3.10/dist-packages (from torch) (3.13.1)\n",
            "Requirement already satisfied: typing-extensions in /usr/local/lib/python3.10/dist-packages (from torch) (4.5.0)\n",
            "Requirement already satisfied: sympy in /usr/local/lib/python3.10/dist-packages (from torch) (1.12)\n",
            "Requirement already satisfied: networkx in /usr/local/lib/python3.10/dist-packages (from torch) (3.2.1)\n",
            "Requirement already satisfied: jinja2 in /usr/local/lib/python3.10/dist-packages (from torch) (3.1.2)\n",
            "Requirement already satisfied: fsspec in /usr/local/lib/python3.10/dist-packages (from torch) (2023.6.0)\n",
            "Requirement already satisfied: triton==2.1.0 in /usr/local/lib/python3.10/dist-packages (from torch) (2.1.0)\n",
            "Requirement already satisfied: MarkupSafe>=2.0 in /usr/local/lib/python3.10/dist-packages (from jinja2->torch) (2.1.3)\n",
            "Requirement already satisfied: mpmath>=0.19 in /usr/local/lib/python3.10/dist-packages (from sympy->torch) (1.3.0)\n"
          ]
        }
      ],
      "source": [
        "!pip install googledrivedownloader\n",
        "!pip install torch"
      ]
    },
    {
      "cell_type": "code",
      "execution_count": 2,
      "metadata": {
        "id": "_8cUAJPMQR7g",
        "colab": {
          "base_uri": "https://localhost:8080/"
        },
        "outputId": "9e90a1ea-94d1-434d-98d5-c53f22467390"
      },
      "outputs": [
        {
          "output_type": "stream",
          "name": "stderr",
          "text": [
            "[nltk_data] Downloading package omw-1.4 to /root/nltk_data...\n",
            "[nltk_data] Downloading package stopwords to /root/nltk_data...\n",
            "[nltk_data]   Unzipping corpora/stopwords.zip.\n",
            "[nltk_data] Downloading package wordnet to /root/nltk_data...\n",
            "[nltk_data] Downloading package punkt to /root/nltk_data...\n",
            "[nltk_data]   Unzipping tokenizers/punkt.zip.\n"
          ]
        },
        {
          "output_type": "execute_result",
          "data": {
            "text/plain": [
              "device(type='cpu')"
            ]
          },
          "metadata": {},
          "execution_count": 2
        }
      ],
      "source": [
        "import random\n",
        "import re # regular expression\n",
        "from collections import Counter\n",
        "from functools import partial\n",
        "from pathlib import Path\n",
        "\n",
        "import matplotlib.pyplot as plt\n",
        "import numpy as np\n",
        "import pandas as pd\n",
        "import google_drive_downloader\n",
        "from google_drive_downloader import GoogleDriveDownloader as gdd\n",
        "from IPython.core.display import display, HTML\n",
        "from sklearn.metrics import classification_report\n",
        "from tqdm import tqdm, tqdm_notebook # show progress bar\n",
        "\n",
        "# PyTorch modules\n",
        "import torch\n",
        "import torch.nn as nn\n",
        "import torch.nn.functional as F\n",
        "from torch import optim\n",
        "from torch.optim.lr_scheduler import CosineAnnealingLR\n",
        "from torch.utils.data import Dataset, DataLoader\n",
        "from torch.utils.data.dataset import random_split\n",
        "\n",
        "# nltk text processors\n",
        "import nltk\n",
        "from nltk.corpus import stopwords\n",
        "from nltk.tokenize import wordpunct_tokenize\n",
        "from nltk.stem import WordNetLemmatizer\n",
        "from nltk.corpus import wordnet\n",
        "\n",
        "nltk.download('omw-1.4')\n",
        "nltk.download('stopwords')\n",
        "nltk.download('wordnet')\n",
        "nltk.download('punkt')\n",
        "\n",
        "import pickle\n",
        "\n",
        "%matplotlib inline\n",
        "%config InlineBackend.figure_formats = ['svg']\n",
        "plt.style.use('ggplot')\n",
        "tqdm.pandas()\n",
        "\n",
        "lemmatizer = WordNetLemmatizer()\n",
        "device = torch.device('cuda' if torch.cuda.is_available() else 'cpu')\n",
        "device"
      ]
    },
    {
      "cell_type": "markdown",
      "metadata": {
        "id": "dv50uF2AGHCq"
      },
      "source": [
        "Next, we load our dataset."
      ]
    },
    {
      "cell_type": "code",
      "execution_count": 3,
      "metadata": {
        "id": "j8-WlORVQR7n",
        "colab": {
          "base_uri": "https://localhost:8080/"
        },
        "outputId": "06623067-ba2d-4520-9802-144cc83df237"
      },
      "outputs": [
        {
          "output_type": "stream",
          "name": "stdout",
          "text": [
            "Downloading 13OLqDXOBAO9fjD9Shz8iTeev3ZaNHaTC into data/twitter_reviews.csv... Done.\n"
          ]
        }
      ],
      "source": [
        "DATA_PATH = 'data/twitter_reviews.csv'\n",
        "if not Path(DATA_PATH).is_file():\n",
        "    gdd.download_file_from_google_drive(\n",
        "        file_id='13OLqDXOBAO9fjD9Shz8iTeev3ZaNHaTC',\n",
        "        dest_path=DATA_PATH,\n",
        "    )\n",
        "\n",
        "df = pd.read_csv(DATA_PATH)"
      ]
    },
    {
      "cell_type": "markdown",
      "metadata": {
        "id": "YJmd3NNtQR7s"
      },
      "source": [
        "**Let's see what we are working with...**"
      ]
    },
    {
      "cell_type": "code",
      "execution_count": 4,
      "metadata": {
        "id": "FnsKvqrXQR7t",
        "colab": {
          "base_uri": "https://localhost:8080/"
        },
        "outputId": "360186df-ad20-4989-d4af-2552b4470a28"
      },
      "outputs": [
        {
          "output_type": "stream",
          "name": "stdout",
          "text": [
            "Shape of the dataset\n",
            "(1000000, 3)\n"
          ]
        }
      ],
      "source": [
        "print('Shape of the dataset' )\n",
        "print(df.shape)"
      ]
    },
    {
      "cell_type": "markdown",
      "metadata": {
        "id": "0Frm2s8TwMFV"
      },
      "source": [
        "Below is a sample set of five random tweets and their classifications. The classifications are labeled \"1\" for positive and \"0\" for negative tweets."
      ]
    },
    {
      "cell_type": "code",
      "execution_count": 5,
      "metadata": {
        "id": "eLGr_1fKOCqN",
        "colab": {
          "base_uri": "https://localhost:8080/",
          "height": 206
        },
        "outputId": "9ca9742a-7c59-459a-acb9-d2cbfc2f758f"
      },
      "outputs": [
        {
          "output_type": "execute_result",
          "data": {
            "text/plain": [
              "        Unnamed: 0                                              tweet  label\n",
              "135632      135632  @drdonkalicious I think you're doing an excell...      1\n",
              "622251      622251  damn season 2 of gossip girl is ending in amer...      0\n",
              "430276      430276  @staticxage oh what its not back yet  ok then ...      0\n",
              "28543        28543  @abiFACE I know! And I'm even more upset becau...      0\n",
              "634087      634087                    Besides, Da Vinci Code sucks...      0"
            ],
            "text/html": [
              "\n",
              "  <div id=\"df-5035cab5-c6da-4fc0-99a4-83768d26895f\" class=\"colab-df-container\">\n",
              "    <div>\n",
              "<style scoped>\n",
              "    .dataframe tbody tr th:only-of-type {\n",
              "        vertical-align: middle;\n",
              "    }\n",
              "\n",
              "    .dataframe tbody tr th {\n",
              "        vertical-align: top;\n",
              "    }\n",
              "\n",
              "    .dataframe thead th {\n",
              "        text-align: right;\n",
              "    }\n",
              "</style>\n",
              "<table border=\"1\" class=\"dataframe\">\n",
              "  <thead>\n",
              "    <tr style=\"text-align: right;\">\n",
              "      <th></th>\n",
              "      <th>Unnamed: 0</th>\n",
              "      <th>tweet</th>\n",
              "      <th>label</th>\n",
              "    </tr>\n",
              "  </thead>\n",
              "  <tbody>\n",
              "    <tr>\n",
              "      <th>135632</th>\n",
              "      <td>135632</td>\n",
              "      <td>@drdonkalicious I think you're doing an excell...</td>\n",
              "      <td>1</td>\n",
              "    </tr>\n",
              "    <tr>\n",
              "      <th>622251</th>\n",
              "      <td>622251</td>\n",
              "      <td>damn season 2 of gossip girl is ending in amer...</td>\n",
              "      <td>0</td>\n",
              "    </tr>\n",
              "    <tr>\n",
              "      <th>430276</th>\n",
              "      <td>430276</td>\n",
              "      <td>@staticxage oh what its not back yet  ok then ...</td>\n",
              "      <td>0</td>\n",
              "    </tr>\n",
              "    <tr>\n",
              "      <th>28543</th>\n",
              "      <td>28543</td>\n",
              "      <td>@abiFACE I know! And I'm even more upset becau...</td>\n",
              "      <td>0</td>\n",
              "    </tr>\n",
              "    <tr>\n",
              "      <th>634087</th>\n",
              "      <td>634087</td>\n",
              "      <td>Besides, Da Vinci Code sucks...</td>\n",
              "      <td>0</td>\n",
              "    </tr>\n",
              "  </tbody>\n",
              "</table>\n",
              "</div>\n",
              "    <div class=\"colab-df-buttons\">\n",
              "\n",
              "  <div class=\"colab-df-container\">\n",
              "    <button class=\"colab-df-convert\" onclick=\"convertToInteractive('df-5035cab5-c6da-4fc0-99a4-83768d26895f')\"\n",
              "            title=\"Convert this dataframe to an interactive table.\"\n",
              "            style=\"display:none;\">\n",
              "\n",
              "  <svg xmlns=\"http://www.w3.org/2000/svg\" height=\"24px\" viewBox=\"0 -960 960 960\">\n",
              "    <path d=\"M120-120v-720h720v720H120Zm60-500h600v-160H180v160Zm220 220h160v-160H400v160Zm0 220h160v-160H400v160ZM180-400h160v-160H180v160Zm440 0h160v-160H620v160ZM180-180h160v-160H180v160Zm440 0h160v-160H620v160Z\"/>\n",
              "  </svg>\n",
              "    </button>\n",
              "\n",
              "  <style>\n",
              "    .colab-df-container {\n",
              "      display:flex;\n",
              "      gap: 12px;\n",
              "    }\n",
              "\n",
              "    .colab-df-convert {\n",
              "      background-color: #E8F0FE;\n",
              "      border: none;\n",
              "      border-radius: 50%;\n",
              "      cursor: pointer;\n",
              "      display: none;\n",
              "      fill: #1967D2;\n",
              "      height: 32px;\n",
              "      padding: 0 0 0 0;\n",
              "      width: 32px;\n",
              "    }\n",
              "\n",
              "    .colab-df-convert:hover {\n",
              "      background-color: #E2EBFA;\n",
              "      box-shadow: 0px 1px 2px rgba(60, 64, 67, 0.3), 0px 1px 3px 1px rgba(60, 64, 67, 0.15);\n",
              "      fill: #174EA6;\n",
              "    }\n",
              "\n",
              "    .colab-df-buttons div {\n",
              "      margin-bottom: 4px;\n",
              "    }\n",
              "\n",
              "    [theme=dark] .colab-df-convert {\n",
              "      background-color: #3B4455;\n",
              "      fill: #D2E3FC;\n",
              "    }\n",
              "\n",
              "    [theme=dark] .colab-df-convert:hover {\n",
              "      background-color: #434B5C;\n",
              "      box-shadow: 0px 1px 3px 1px rgba(0, 0, 0, 0.15);\n",
              "      filter: drop-shadow(0px 1px 2px rgba(0, 0, 0, 0.3));\n",
              "      fill: #FFFFFF;\n",
              "    }\n",
              "  </style>\n",
              "\n",
              "    <script>\n",
              "      const buttonEl =\n",
              "        document.querySelector('#df-5035cab5-c6da-4fc0-99a4-83768d26895f button.colab-df-convert');\n",
              "      buttonEl.style.display =\n",
              "        google.colab.kernel.accessAllowed ? 'block' : 'none';\n",
              "\n",
              "      async function convertToInteractive(key) {\n",
              "        const element = document.querySelector('#df-5035cab5-c6da-4fc0-99a4-83768d26895f');\n",
              "        const dataTable =\n",
              "          await google.colab.kernel.invokeFunction('convertToInteractive',\n",
              "                                                    [key], {});\n",
              "        if (!dataTable) return;\n",
              "\n",
              "        const docLinkHtml = 'Like what you see? Visit the ' +\n",
              "          '<a target=\"_blank\" href=https://colab.research.google.com/notebooks/data_table.ipynb>data table notebook</a>'\n",
              "          + ' to learn more about interactive tables.';\n",
              "        element.innerHTML = '';\n",
              "        dataTable['output_type'] = 'display_data';\n",
              "        await google.colab.output.renderOutput(dataTable, element);\n",
              "        const docLink = document.createElement('div');\n",
              "        docLink.innerHTML = docLinkHtml;\n",
              "        element.appendChild(docLink);\n",
              "      }\n",
              "    </script>\n",
              "  </div>\n",
              "\n",
              "\n",
              "<div id=\"df-a26a90b4-4ca0-4cfa-a283-27dd6fd6a938\">\n",
              "  <button class=\"colab-df-quickchart\" onclick=\"quickchart('df-a26a90b4-4ca0-4cfa-a283-27dd6fd6a938')\"\n",
              "            title=\"Suggest charts\"\n",
              "            style=\"display:none;\">\n",
              "\n",
              "<svg xmlns=\"http://www.w3.org/2000/svg\" height=\"24px\"viewBox=\"0 0 24 24\"\n",
              "     width=\"24px\">\n",
              "    <g>\n",
              "        <path d=\"M19 3H5c-1.1 0-2 .9-2 2v14c0 1.1.9 2 2 2h14c1.1 0 2-.9 2-2V5c0-1.1-.9-2-2-2zM9 17H7v-7h2v7zm4 0h-2V7h2v10zm4 0h-2v-4h2v4z\"/>\n",
              "    </g>\n",
              "</svg>\n",
              "  </button>\n",
              "\n",
              "<style>\n",
              "  .colab-df-quickchart {\n",
              "      --bg-color: #E8F0FE;\n",
              "      --fill-color: #1967D2;\n",
              "      --hover-bg-color: #E2EBFA;\n",
              "      --hover-fill-color: #174EA6;\n",
              "      --disabled-fill-color: #AAA;\n",
              "      --disabled-bg-color: #DDD;\n",
              "  }\n",
              "\n",
              "  [theme=dark] .colab-df-quickchart {\n",
              "      --bg-color: #3B4455;\n",
              "      --fill-color: #D2E3FC;\n",
              "      --hover-bg-color: #434B5C;\n",
              "      --hover-fill-color: #FFFFFF;\n",
              "      --disabled-bg-color: #3B4455;\n",
              "      --disabled-fill-color: #666;\n",
              "  }\n",
              "\n",
              "  .colab-df-quickchart {\n",
              "    background-color: var(--bg-color);\n",
              "    border: none;\n",
              "    border-radius: 50%;\n",
              "    cursor: pointer;\n",
              "    display: none;\n",
              "    fill: var(--fill-color);\n",
              "    height: 32px;\n",
              "    padding: 0;\n",
              "    width: 32px;\n",
              "  }\n",
              "\n",
              "  .colab-df-quickchart:hover {\n",
              "    background-color: var(--hover-bg-color);\n",
              "    box-shadow: 0 1px 2px rgba(60, 64, 67, 0.3), 0 1px 3px 1px rgba(60, 64, 67, 0.15);\n",
              "    fill: var(--button-hover-fill-color);\n",
              "  }\n",
              "\n",
              "  .colab-df-quickchart-complete:disabled,\n",
              "  .colab-df-quickchart-complete:disabled:hover {\n",
              "    background-color: var(--disabled-bg-color);\n",
              "    fill: var(--disabled-fill-color);\n",
              "    box-shadow: none;\n",
              "  }\n",
              "\n",
              "  .colab-df-spinner {\n",
              "    border: 2px solid var(--fill-color);\n",
              "    border-color: transparent;\n",
              "    border-bottom-color: var(--fill-color);\n",
              "    animation:\n",
              "      spin 1s steps(1) infinite;\n",
              "  }\n",
              "\n",
              "  @keyframes spin {\n",
              "    0% {\n",
              "      border-color: transparent;\n",
              "      border-bottom-color: var(--fill-color);\n",
              "      border-left-color: var(--fill-color);\n",
              "    }\n",
              "    20% {\n",
              "      border-color: transparent;\n",
              "      border-left-color: var(--fill-color);\n",
              "      border-top-color: var(--fill-color);\n",
              "    }\n",
              "    30% {\n",
              "      border-color: transparent;\n",
              "      border-left-color: var(--fill-color);\n",
              "      border-top-color: var(--fill-color);\n",
              "      border-right-color: var(--fill-color);\n",
              "    }\n",
              "    40% {\n",
              "      border-color: transparent;\n",
              "      border-right-color: var(--fill-color);\n",
              "      border-top-color: var(--fill-color);\n",
              "    }\n",
              "    60% {\n",
              "      border-color: transparent;\n",
              "      border-right-color: var(--fill-color);\n",
              "    }\n",
              "    80% {\n",
              "      border-color: transparent;\n",
              "      border-right-color: var(--fill-color);\n",
              "      border-bottom-color: var(--fill-color);\n",
              "    }\n",
              "    90% {\n",
              "      border-color: transparent;\n",
              "      border-bottom-color: var(--fill-color);\n",
              "    }\n",
              "  }\n",
              "</style>\n",
              "\n",
              "  <script>\n",
              "    async function quickchart(key) {\n",
              "      const quickchartButtonEl =\n",
              "        document.querySelector('#' + key + ' button');\n",
              "      quickchartButtonEl.disabled = true;  // To prevent multiple clicks.\n",
              "      quickchartButtonEl.classList.add('colab-df-spinner');\n",
              "      try {\n",
              "        const charts = await google.colab.kernel.invokeFunction(\n",
              "            'suggestCharts', [key], {});\n",
              "      } catch (error) {\n",
              "        console.error('Error during call to suggestCharts:', error);\n",
              "      }\n",
              "      quickchartButtonEl.classList.remove('colab-df-spinner');\n",
              "      quickchartButtonEl.classList.add('colab-df-quickchart-complete');\n",
              "    }\n",
              "    (() => {\n",
              "      let quickchartButtonEl =\n",
              "        document.querySelector('#df-a26a90b4-4ca0-4cfa-a283-27dd6fd6a938 button');\n",
              "      quickchartButtonEl.style.display =\n",
              "        google.colab.kernel.accessAllowed ? 'block' : 'none';\n",
              "    })();\n",
              "  </script>\n",
              "</div>\n",
              "    </div>\n",
              "  </div>\n"
            ]
          },
          "metadata": {},
          "execution_count": 5
        }
      ],
      "source": [
        "df.sample(5)"
      ]
    },
    {
      "cell_type": "markdown",
      "metadata": {
        "id": "8sm1IAVGOUFQ"
      },
      "source": [
        "Let's see the distribution of positive and negative tweets. This is the data our classifier will be trained on later."
      ]
    },
    {
      "cell_type": "code",
      "execution_count": 6,
      "metadata": {
        "id": "12HSdQoG78Qr",
        "colab": {
          "base_uri": "https://localhost:8080/",
          "height": 440
        },
        "outputId": "7b93bfee-1f36-46f8-fc16-50558e73f3ae"
      },
      "outputs": [
        {
          "output_type": "display_data",
          "data": {
            "text/plain": [
              "<Figure size 640x480 with 1 Axes>"
            ],
            "image/svg+xml": "<?xml version=\"1.0\" encoding=\"utf-8\" standalone=\"no\"?>\n<!DOCTYPE svg PUBLIC \"-//W3C//DTD SVG 1.1//EN\"\n  \"http://www.w3.org/Graphics/SVG/1.1/DTD/svg11.dtd\">\n<svg xmlns:xlink=\"http://www.w3.org/1999/xlink\" width=\"432.30875pt\" height=\"314.131875pt\" viewBox=\"0 0 432.30875 314.131875\" xmlns=\"http://www.w3.org/2000/svg\" version=\"1.1\">\n <metadata>\n  <rdf:RDF xmlns:dc=\"http://purl.org/dc/elements/1.1/\" xmlns:cc=\"http://creativecommons.org/ns#\" xmlns:rdf=\"http://www.w3.org/1999/02/22-rdf-syntax-ns#\">\n   <cc:Work>\n    <dc:type rdf:resource=\"http://purl.org/dc/dcmitype/StillImage\"/>\n    <dc:date>2023-12-14T08:30:18.374531</dc:date>\n    <dc:format>image/svg+xml</dc:format>\n    <dc:creator>\n     <cc:Agent>\n      <dc:title>Matplotlib v3.7.1, https://matplotlib.org/</dc:title>\n     </cc:Agent>\n    </dc:creator>\n   </cc:Work>\n  </rdf:RDF>\n </metadata>\n <defs>\n  <style type=\"text/css\">*{stroke-linejoin: round; stroke-linecap: butt}</style>\n </defs>\n <g id=\"figure_1\">\n  <g id=\"patch_1\">\n   <path d=\"M 0 314.131875 \nL 432.30875 314.131875 \nL 432.30875 0 \nL 0 0 \nz\n\" style=\"fill: #ffffff\"/>\n  </g>\n  <g id=\"axes_1\">\n   <g id=\"patch_2\">\n    <path d=\"M 67.98875 290.25375 \nL 425.10875 290.25375 \nL 425.10875 24.14175 \nL 67.98875 24.14175 \nz\n\" style=\"fill: #e5e5e5\"/>\n   </g>\n   <g id=\"matplotlib.axis_1\">\n    <g id=\"xtick_1\">\n     <g id=\"line2d_1\">\n      <path d=\"M 84.221477 290.25375 \nL 84.221477 24.14175 \n\" clip-path=\"url(#p1785e64cb6)\" style=\"fill: none; stroke: #ffffff; stroke-width: 0.8; stroke-linecap: square\"/>\n     </g>\n     <g id=\"line2d_2\">\n      <defs>\n       <path id=\"m6325137d66\" d=\"M 0 0 \nL 0 3.5 \n\" style=\"stroke: #555555; stroke-width: 0.8\"/>\n      </defs>\n      <g>\n       <use xlink:href=\"#m6325137d66\" x=\"84.221477\" y=\"290.25375\" style=\"fill: #555555; stroke: #555555; stroke-width: 0.8\"/>\n      </g>\n     </g>\n     <g id=\"text_1\">\n      <!-- 0.0 -->\n      <g style=\"fill: #555555\" transform=\"translate(76.269915 304.852187) scale(0.1 -0.1)\">\n       <defs>\n        <path id=\"DejaVuSans-30\" d=\"M 2034 4250 \nQ 1547 4250 1301 3770 \nQ 1056 3291 1056 2328 \nQ 1056 1369 1301 889 \nQ 1547 409 2034 409 \nQ 2525 409 2770 889 \nQ 3016 1369 3016 2328 \nQ 3016 3291 2770 3770 \nQ 2525 4250 2034 4250 \nz\nM 2034 4750 \nQ 2819 4750 3233 4129 \nQ 3647 3509 3647 2328 \nQ 3647 1150 3233 529 \nQ 2819 -91 2034 -91 \nQ 1250 -91 836 529 \nQ 422 1150 422 2328 \nQ 422 3509 836 4129 \nQ 1250 4750 2034 4750 \nz\n\" transform=\"scale(0.015625)\"/>\n        <path id=\"DejaVuSans-2e\" d=\"M 684 794 \nL 1344 794 \nL 1344 0 \nL 684 0 \nL 684 794 \nz\n\" transform=\"scale(0.015625)\"/>\n       </defs>\n       <use xlink:href=\"#DejaVuSans-30\"/>\n       <use xlink:href=\"#DejaVuSans-2e\" x=\"63.623047\"/>\n       <use xlink:href=\"#DejaVuSans-30\" x=\"95.410156\"/>\n      </g>\n     </g>\n    </g>\n    <g id=\"xtick_2\">\n     <g id=\"line2d_3\">\n      <path d=\"M 149.152386 290.25375 \nL 149.152386 24.14175 \n\" clip-path=\"url(#p1785e64cb6)\" style=\"fill: none; stroke: #ffffff; stroke-width: 0.8; stroke-linecap: square\"/>\n     </g>\n     <g id=\"line2d_4\">\n      <g>\n       <use xlink:href=\"#m6325137d66\" x=\"149.152386\" y=\"290.25375\" style=\"fill: #555555; stroke: #555555; stroke-width: 0.8\"/>\n      </g>\n     </g>\n     <g id=\"text_2\">\n      <!-- 0.2 -->\n      <g style=\"fill: #555555\" transform=\"translate(141.200824 304.852187) scale(0.1 -0.1)\">\n       <defs>\n        <path id=\"DejaVuSans-32\" d=\"M 1228 531 \nL 3431 531 \nL 3431 0 \nL 469 0 \nL 469 531 \nQ 828 903 1448 1529 \nQ 2069 2156 2228 2338 \nQ 2531 2678 2651 2914 \nQ 2772 3150 2772 3378 \nQ 2772 3750 2511 3984 \nQ 2250 4219 1831 4219 \nQ 1534 4219 1204 4116 \nQ 875 4013 500 3803 \nL 500 4441 \nQ 881 4594 1212 4672 \nQ 1544 4750 1819 4750 \nQ 2544 4750 2975 4387 \nQ 3406 4025 3406 3419 \nQ 3406 3131 3298 2873 \nQ 3191 2616 2906 2266 \nQ 2828 2175 2409 1742 \nQ 1991 1309 1228 531 \nz\n\" transform=\"scale(0.015625)\"/>\n       </defs>\n       <use xlink:href=\"#DejaVuSans-30\"/>\n       <use xlink:href=\"#DejaVuSans-2e\" x=\"63.623047\"/>\n       <use xlink:href=\"#DejaVuSans-32\" x=\"95.410156\"/>\n      </g>\n     </g>\n    </g>\n    <g id=\"xtick_3\">\n     <g id=\"line2d_5\">\n      <path d=\"M 214.083295 290.25375 \nL 214.083295 24.14175 \n\" clip-path=\"url(#p1785e64cb6)\" style=\"fill: none; stroke: #ffffff; stroke-width: 0.8; stroke-linecap: square\"/>\n     </g>\n     <g id=\"line2d_6\">\n      <g>\n       <use xlink:href=\"#m6325137d66\" x=\"214.083295\" y=\"290.25375\" style=\"fill: #555555; stroke: #555555; stroke-width: 0.8\"/>\n      </g>\n     </g>\n     <g id=\"text_3\">\n      <!-- 0.4 -->\n      <g style=\"fill: #555555\" transform=\"translate(206.131733 304.852187) scale(0.1 -0.1)\">\n       <defs>\n        <path id=\"DejaVuSans-34\" d=\"M 2419 4116 \nL 825 1625 \nL 2419 1625 \nL 2419 4116 \nz\nM 2253 4666 \nL 3047 4666 \nL 3047 1625 \nL 3713 1625 \nL 3713 1100 \nL 3047 1100 \nL 3047 0 \nL 2419 0 \nL 2419 1100 \nL 313 1100 \nL 313 1709 \nL 2253 4666 \nz\n\" transform=\"scale(0.015625)\"/>\n       </defs>\n       <use xlink:href=\"#DejaVuSans-30\"/>\n       <use xlink:href=\"#DejaVuSans-2e\" x=\"63.623047\"/>\n       <use xlink:href=\"#DejaVuSans-34\" x=\"95.410156\"/>\n      </g>\n     </g>\n    </g>\n    <g id=\"xtick_4\">\n     <g id=\"line2d_7\">\n      <path d=\"M 279.014205 290.25375 \nL 279.014205 24.14175 \n\" clip-path=\"url(#p1785e64cb6)\" style=\"fill: none; stroke: #ffffff; stroke-width: 0.8; stroke-linecap: square\"/>\n     </g>\n     <g id=\"line2d_8\">\n      <g>\n       <use xlink:href=\"#m6325137d66\" x=\"279.014205\" y=\"290.25375\" style=\"fill: #555555; stroke: #555555; stroke-width: 0.8\"/>\n      </g>\n     </g>\n     <g id=\"text_4\">\n      <!-- 0.6 -->\n      <g style=\"fill: #555555\" transform=\"translate(271.062642 304.852187) scale(0.1 -0.1)\">\n       <defs>\n        <path id=\"DejaVuSans-36\" d=\"M 2113 2584 \nQ 1688 2584 1439 2293 \nQ 1191 2003 1191 1497 \nQ 1191 994 1439 701 \nQ 1688 409 2113 409 \nQ 2538 409 2786 701 \nQ 3034 994 3034 1497 \nQ 3034 2003 2786 2293 \nQ 2538 2584 2113 2584 \nz\nM 3366 4563 \nL 3366 3988 \nQ 3128 4100 2886 4159 \nQ 2644 4219 2406 4219 \nQ 1781 4219 1451 3797 \nQ 1122 3375 1075 2522 \nQ 1259 2794 1537 2939 \nQ 1816 3084 2150 3084 \nQ 2853 3084 3261 2657 \nQ 3669 2231 3669 1497 \nQ 3669 778 3244 343 \nQ 2819 -91 2113 -91 \nQ 1303 -91 875 529 \nQ 447 1150 447 2328 \nQ 447 3434 972 4092 \nQ 1497 4750 2381 4750 \nQ 2619 4750 2861 4703 \nQ 3103 4656 3366 4563 \nz\n\" transform=\"scale(0.015625)\"/>\n       </defs>\n       <use xlink:href=\"#DejaVuSans-30\"/>\n       <use xlink:href=\"#DejaVuSans-2e\" x=\"63.623047\"/>\n       <use xlink:href=\"#DejaVuSans-36\" x=\"95.410156\"/>\n      </g>\n     </g>\n    </g>\n    <g id=\"xtick_5\">\n     <g id=\"line2d_9\">\n      <path d=\"M 343.945114 290.25375 \nL 343.945114 24.14175 \n\" clip-path=\"url(#p1785e64cb6)\" style=\"fill: none; stroke: #ffffff; stroke-width: 0.8; stroke-linecap: square\"/>\n     </g>\n     <g id=\"line2d_10\">\n      <g>\n       <use xlink:href=\"#m6325137d66\" x=\"343.945114\" y=\"290.25375\" style=\"fill: #555555; stroke: #555555; stroke-width: 0.8\"/>\n      </g>\n     </g>\n     <g id=\"text_5\">\n      <!-- 0.8 -->\n      <g style=\"fill: #555555\" transform=\"translate(335.993551 304.852187) scale(0.1 -0.1)\">\n       <defs>\n        <path id=\"DejaVuSans-38\" d=\"M 2034 2216 \nQ 1584 2216 1326 1975 \nQ 1069 1734 1069 1313 \nQ 1069 891 1326 650 \nQ 1584 409 2034 409 \nQ 2484 409 2743 651 \nQ 3003 894 3003 1313 \nQ 3003 1734 2745 1975 \nQ 2488 2216 2034 2216 \nz\nM 1403 2484 \nQ 997 2584 770 2862 \nQ 544 3141 544 3541 \nQ 544 4100 942 4425 \nQ 1341 4750 2034 4750 \nQ 2731 4750 3128 4425 \nQ 3525 4100 3525 3541 \nQ 3525 3141 3298 2862 \nQ 3072 2584 2669 2484 \nQ 3125 2378 3379 2068 \nQ 3634 1759 3634 1313 \nQ 3634 634 3220 271 \nQ 2806 -91 2034 -91 \nQ 1263 -91 848 271 \nQ 434 634 434 1313 \nQ 434 1759 690 2068 \nQ 947 2378 1403 2484 \nz\nM 1172 3481 \nQ 1172 3119 1398 2916 \nQ 1625 2713 2034 2713 \nQ 2441 2713 2670 2916 \nQ 2900 3119 2900 3481 \nQ 2900 3844 2670 4047 \nQ 2441 4250 2034 4250 \nQ 1625 4250 1398 4047 \nQ 1172 3844 1172 3481 \nz\n\" transform=\"scale(0.015625)\"/>\n       </defs>\n       <use xlink:href=\"#DejaVuSans-30\"/>\n       <use xlink:href=\"#DejaVuSans-2e\" x=\"63.623047\"/>\n       <use xlink:href=\"#DejaVuSans-38\" x=\"95.410156\"/>\n      </g>\n     </g>\n    </g>\n    <g id=\"xtick_6\">\n     <g id=\"line2d_11\">\n      <path d=\"M 408.876023 290.25375 \nL 408.876023 24.14175 \n\" clip-path=\"url(#p1785e64cb6)\" style=\"fill: none; stroke: #ffffff; stroke-width: 0.8; stroke-linecap: square\"/>\n     </g>\n     <g id=\"line2d_12\">\n      <g>\n       <use xlink:href=\"#m6325137d66\" x=\"408.876023\" y=\"290.25375\" style=\"fill: #555555; stroke: #555555; stroke-width: 0.8\"/>\n      </g>\n     </g>\n     <g id=\"text_6\">\n      <!-- 1.0 -->\n      <g style=\"fill: #555555\" transform=\"translate(400.92446 304.852187) scale(0.1 -0.1)\">\n       <defs>\n        <path id=\"DejaVuSans-31\" d=\"M 794 531 \nL 1825 531 \nL 1825 4091 \nL 703 3866 \nL 703 4441 \nL 1819 4666 \nL 2450 4666 \nL 2450 531 \nL 3481 531 \nL 3481 0 \nL 794 0 \nL 794 531 \nz\n\" transform=\"scale(0.015625)\"/>\n       </defs>\n       <use xlink:href=\"#DejaVuSans-31\"/>\n       <use xlink:href=\"#DejaVuSans-2e\" x=\"63.623047\"/>\n       <use xlink:href=\"#DejaVuSans-30\" x=\"95.410156\"/>\n      </g>\n     </g>\n    </g>\n   </g>\n   <g id=\"matplotlib.axis_2\">\n    <g id=\"ytick_1\">\n     <g id=\"line2d_13\">\n      <path d=\"M 67.98875 290.25375 \nL 425.10875 290.25375 \n\" clip-path=\"url(#p1785e64cb6)\" style=\"fill: none; stroke: #ffffff; stroke-width: 0.8; stroke-linecap: square\"/>\n     </g>\n     <g id=\"line2d_14\">\n      <defs>\n       <path id=\"m8e36cbb6c8\" d=\"M 0 0 \nL -3.5 0 \n\" style=\"stroke: #555555; stroke-width: 0.8\"/>\n      </defs>\n      <g>\n       <use xlink:href=\"#m8e36cbb6c8\" x=\"67.98875\" y=\"290.25375\" style=\"fill: #555555; stroke: #555555; stroke-width: 0.8\"/>\n      </g>\n     </g>\n     <g id=\"text_7\">\n      <!-- 0 -->\n      <g style=\"fill: #555555\" transform=\"translate(54.62625 294.052969) scale(0.1 -0.1)\">\n       <use xlink:href=\"#DejaVuSans-30\"/>\n      </g>\n     </g>\n    </g>\n    <g id=\"ytick_2\">\n     <g id=\"line2d_15\">\n      <path d=\"M 67.98875 242.556734 \nL 425.10875 242.556734 \n\" clip-path=\"url(#p1785e64cb6)\" style=\"fill: none; stroke: #ffffff; stroke-width: 0.8; stroke-linecap: square\"/>\n     </g>\n     <g id=\"line2d_16\">\n      <g>\n       <use xlink:href=\"#m8e36cbb6c8\" x=\"67.98875\" y=\"242.556734\" style=\"fill: #555555; stroke: #555555; stroke-width: 0.8\"/>\n      </g>\n     </g>\n     <g id=\"text_8\">\n      <!-- 100000 -->\n      <g style=\"fill: #555555\" transform=\"translate(22.81375 246.355953) scale(0.1 -0.1)\">\n       <use xlink:href=\"#DejaVuSans-31\"/>\n       <use xlink:href=\"#DejaVuSans-30\" x=\"63.623047\"/>\n       <use xlink:href=\"#DejaVuSans-30\" x=\"127.246094\"/>\n       <use xlink:href=\"#DejaVuSans-30\" x=\"190.869141\"/>\n       <use xlink:href=\"#DejaVuSans-30\" x=\"254.492188\"/>\n       <use xlink:href=\"#DejaVuSans-30\" x=\"318.115234\"/>\n      </g>\n     </g>\n    </g>\n    <g id=\"ytick_3\">\n     <g id=\"line2d_17\">\n      <path d=\"M 67.98875 194.859719 \nL 425.10875 194.859719 \n\" clip-path=\"url(#p1785e64cb6)\" style=\"fill: none; stroke: #ffffff; stroke-width: 0.8; stroke-linecap: square\"/>\n     </g>\n     <g id=\"line2d_18\">\n      <g>\n       <use xlink:href=\"#m8e36cbb6c8\" x=\"67.98875\" y=\"194.859719\" style=\"fill: #555555; stroke: #555555; stroke-width: 0.8\"/>\n      </g>\n     </g>\n     <g id=\"text_9\">\n      <!-- 200000 -->\n      <g style=\"fill: #555555\" transform=\"translate(22.81375 198.658938) scale(0.1 -0.1)\">\n       <use xlink:href=\"#DejaVuSans-32\"/>\n       <use xlink:href=\"#DejaVuSans-30\" x=\"63.623047\"/>\n       <use xlink:href=\"#DejaVuSans-30\" x=\"127.246094\"/>\n       <use xlink:href=\"#DejaVuSans-30\" x=\"190.869141\"/>\n       <use xlink:href=\"#DejaVuSans-30\" x=\"254.492188\"/>\n       <use xlink:href=\"#DejaVuSans-30\" x=\"318.115234\"/>\n      </g>\n     </g>\n    </g>\n    <g id=\"ytick_4\">\n     <g id=\"line2d_19\">\n      <path d=\"M 67.98875 147.162703 \nL 425.10875 147.162703 \n\" clip-path=\"url(#p1785e64cb6)\" style=\"fill: none; stroke: #ffffff; stroke-width: 0.8; stroke-linecap: square\"/>\n     </g>\n     <g id=\"line2d_20\">\n      <g>\n       <use xlink:href=\"#m8e36cbb6c8\" x=\"67.98875\" y=\"147.162703\" style=\"fill: #555555; stroke: #555555; stroke-width: 0.8\"/>\n      </g>\n     </g>\n     <g id=\"text_10\">\n      <!-- 300000 -->\n      <g style=\"fill: #555555\" transform=\"translate(22.81375 150.961922) scale(0.1 -0.1)\">\n       <defs>\n        <path id=\"DejaVuSans-33\" d=\"M 2597 2516 \nQ 3050 2419 3304 2112 \nQ 3559 1806 3559 1356 \nQ 3559 666 3084 287 \nQ 2609 -91 1734 -91 \nQ 1441 -91 1130 -33 \nQ 819 25 488 141 \nL 488 750 \nQ 750 597 1062 519 \nQ 1375 441 1716 441 \nQ 2309 441 2620 675 \nQ 2931 909 2931 1356 \nQ 2931 1769 2642 2001 \nQ 2353 2234 1838 2234 \nL 1294 2234 \nL 1294 2753 \nL 1863 2753 \nQ 2328 2753 2575 2939 \nQ 2822 3125 2822 3475 \nQ 2822 3834 2567 4026 \nQ 2313 4219 1838 4219 \nQ 1578 4219 1281 4162 \nQ 984 4106 628 3988 \nL 628 4550 \nQ 988 4650 1302 4700 \nQ 1616 4750 1894 4750 \nQ 2613 4750 3031 4423 \nQ 3450 4097 3450 3541 \nQ 3450 3153 3228 2886 \nQ 3006 2619 2597 2516 \nz\n\" transform=\"scale(0.015625)\"/>\n       </defs>\n       <use xlink:href=\"#DejaVuSans-33\"/>\n       <use xlink:href=\"#DejaVuSans-30\" x=\"63.623047\"/>\n       <use xlink:href=\"#DejaVuSans-30\" x=\"127.246094\"/>\n       <use xlink:href=\"#DejaVuSans-30\" x=\"190.869141\"/>\n       <use xlink:href=\"#DejaVuSans-30\" x=\"254.492188\"/>\n       <use xlink:href=\"#DejaVuSans-30\" x=\"318.115234\"/>\n      </g>\n     </g>\n    </g>\n    <g id=\"ytick_5\">\n     <g id=\"line2d_21\">\n      <path d=\"M 67.98875 99.465688 \nL 425.10875 99.465688 \n\" clip-path=\"url(#p1785e64cb6)\" style=\"fill: none; stroke: #ffffff; stroke-width: 0.8; stroke-linecap: square\"/>\n     </g>\n     <g id=\"line2d_22\">\n      <g>\n       <use xlink:href=\"#m8e36cbb6c8\" x=\"67.98875\" y=\"99.465688\" style=\"fill: #555555; stroke: #555555; stroke-width: 0.8\"/>\n      </g>\n     </g>\n     <g id=\"text_11\">\n      <!-- 400000 -->\n      <g style=\"fill: #555555\" transform=\"translate(22.81375 103.264907) scale(0.1 -0.1)\">\n       <use xlink:href=\"#DejaVuSans-34\"/>\n       <use xlink:href=\"#DejaVuSans-30\" x=\"63.623047\"/>\n       <use xlink:href=\"#DejaVuSans-30\" x=\"127.246094\"/>\n       <use xlink:href=\"#DejaVuSans-30\" x=\"190.869141\"/>\n       <use xlink:href=\"#DejaVuSans-30\" x=\"254.492188\"/>\n       <use xlink:href=\"#DejaVuSans-30\" x=\"318.115234\"/>\n      </g>\n     </g>\n    </g>\n    <g id=\"ytick_6\">\n     <g id=\"line2d_23\">\n      <path d=\"M 67.98875 51.768672 \nL 425.10875 51.768672 \n\" clip-path=\"url(#p1785e64cb6)\" style=\"fill: none; stroke: #ffffff; stroke-width: 0.8; stroke-linecap: square\"/>\n     </g>\n     <g id=\"line2d_24\">\n      <g>\n       <use xlink:href=\"#m8e36cbb6c8\" x=\"67.98875\" y=\"51.768672\" style=\"fill: #555555; stroke: #555555; stroke-width: 0.8\"/>\n      </g>\n     </g>\n     <g id=\"text_12\">\n      <!-- 500000 -->\n      <g style=\"fill: #555555\" transform=\"translate(22.81375 55.567891) scale(0.1 -0.1)\">\n       <defs>\n        <path id=\"DejaVuSans-35\" d=\"M 691 4666 \nL 3169 4666 \nL 3169 4134 \nL 1269 4134 \nL 1269 2991 \nQ 1406 3038 1543 3061 \nQ 1681 3084 1819 3084 \nQ 2600 3084 3056 2656 \nQ 3513 2228 3513 1497 \nQ 3513 744 3044 326 \nQ 2575 -91 1722 -91 \nQ 1428 -91 1123 -41 \nQ 819 9 494 109 \nL 494 744 \nQ 775 591 1075 516 \nQ 1375 441 1709 441 \nQ 2250 441 2565 725 \nQ 2881 1009 2881 1497 \nQ 2881 1984 2565 2268 \nQ 2250 2553 1709 2553 \nQ 1456 2553 1204 2497 \nQ 953 2441 691 2322 \nL 691 4666 \nz\n\" transform=\"scale(0.015625)\"/>\n       </defs>\n       <use xlink:href=\"#DejaVuSans-35\"/>\n       <use xlink:href=\"#DejaVuSans-30\" x=\"63.623047\"/>\n       <use xlink:href=\"#DejaVuSans-30\" x=\"127.246094\"/>\n       <use xlink:href=\"#DejaVuSans-30\" x=\"190.869141\"/>\n       <use xlink:href=\"#DejaVuSans-30\" x=\"254.492188\"/>\n       <use xlink:href=\"#DejaVuSans-30\" x=\"318.115234\"/>\n      </g>\n     </g>\n    </g>\n    <g id=\"text_13\">\n     <!-- Frequency -->\n     <g style=\"fill: #555555\" transform=\"translate(16.318125 188.193375) rotate(-90) scale(0.12 -0.12)\">\n      <defs>\n       <path id=\"DejaVuSans-46\" d=\"M 628 4666 \nL 3309 4666 \nL 3309 4134 \nL 1259 4134 \nL 1259 2759 \nL 3109 2759 \nL 3109 2228 \nL 1259 2228 \nL 1259 0 \nL 628 0 \nL 628 4666 \nz\n\" transform=\"scale(0.015625)\"/>\n       <path id=\"DejaVuSans-72\" d=\"M 2631 2963 \nQ 2534 3019 2420 3045 \nQ 2306 3072 2169 3072 \nQ 1681 3072 1420 2755 \nQ 1159 2438 1159 1844 \nL 1159 0 \nL 581 0 \nL 581 3500 \nL 1159 3500 \nL 1159 2956 \nQ 1341 3275 1631 3429 \nQ 1922 3584 2338 3584 \nQ 2397 3584 2469 3576 \nQ 2541 3569 2628 3553 \nL 2631 2963 \nz\n\" transform=\"scale(0.015625)\"/>\n       <path id=\"DejaVuSans-65\" d=\"M 3597 1894 \nL 3597 1613 \nL 953 1613 \nQ 991 1019 1311 708 \nQ 1631 397 2203 397 \nQ 2534 397 2845 478 \nQ 3156 559 3463 722 \nL 3463 178 \nQ 3153 47 2828 -22 \nQ 2503 -91 2169 -91 \nQ 1331 -91 842 396 \nQ 353 884 353 1716 \nQ 353 2575 817 3079 \nQ 1281 3584 2069 3584 \nQ 2775 3584 3186 3129 \nQ 3597 2675 3597 1894 \nz\nM 3022 2063 \nQ 3016 2534 2758 2815 \nQ 2500 3097 2075 3097 \nQ 1594 3097 1305 2825 \nQ 1016 2553 972 2059 \nL 3022 2063 \nz\n\" transform=\"scale(0.015625)\"/>\n       <path id=\"DejaVuSans-71\" d=\"M 947 1747 \nQ 947 1113 1208 752 \nQ 1469 391 1925 391 \nQ 2381 391 2643 752 \nQ 2906 1113 2906 1747 \nQ 2906 2381 2643 2742 \nQ 2381 3103 1925 3103 \nQ 1469 3103 1208 2742 \nQ 947 2381 947 1747 \nz\nM 2906 525 \nQ 2725 213 2448 61 \nQ 2172 -91 1784 -91 \nQ 1150 -91 751 415 \nQ 353 922 353 1747 \nQ 353 2572 751 3078 \nQ 1150 3584 1784 3584 \nQ 2172 3584 2448 3432 \nQ 2725 3281 2906 2969 \nL 2906 3500 \nL 3481 3500 \nL 3481 -1331 \nL 2906 -1331 \nL 2906 525 \nz\n\" transform=\"scale(0.015625)\"/>\n       <path id=\"DejaVuSans-75\" d=\"M 544 1381 \nL 544 3500 \nL 1119 3500 \nL 1119 1403 \nQ 1119 906 1312 657 \nQ 1506 409 1894 409 \nQ 2359 409 2629 706 \nQ 2900 1003 2900 1516 \nL 2900 3500 \nL 3475 3500 \nL 3475 0 \nL 2900 0 \nL 2900 538 \nQ 2691 219 2414 64 \nQ 2138 -91 1772 -91 \nQ 1169 -91 856 284 \nQ 544 659 544 1381 \nz\nM 1991 3584 \nL 1991 3584 \nz\n\" transform=\"scale(0.015625)\"/>\n       <path id=\"DejaVuSans-6e\" d=\"M 3513 2113 \nL 3513 0 \nL 2938 0 \nL 2938 2094 \nQ 2938 2591 2744 2837 \nQ 2550 3084 2163 3084 \nQ 1697 3084 1428 2787 \nQ 1159 2491 1159 1978 \nL 1159 0 \nL 581 0 \nL 581 3500 \nL 1159 3500 \nL 1159 2956 \nQ 1366 3272 1645 3428 \nQ 1925 3584 2291 3584 \nQ 2894 3584 3203 3211 \nQ 3513 2838 3513 2113 \nz\n\" transform=\"scale(0.015625)\"/>\n       <path id=\"DejaVuSans-63\" d=\"M 3122 3366 \nL 3122 2828 \nQ 2878 2963 2633 3030 \nQ 2388 3097 2138 3097 \nQ 1578 3097 1268 2742 \nQ 959 2388 959 1747 \nQ 959 1106 1268 751 \nQ 1578 397 2138 397 \nQ 2388 397 2633 464 \nQ 2878 531 3122 666 \nL 3122 134 \nQ 2881 22 2623 -34 \nQ 2366 -91 2075 -91 \nQ 1284 -91 818 406 \nQ 353 903 353 1747 \nQ 353 2603 823 3093 \nQ 1294 3584 2113 3584 \nQ 2378 3584 2631 3529 \nQ 2884 3475 3122 3366 \nz\n\" transform=\"scale(0.015625)\"/>\n       <path id=\"DejaVuSans-79\" d=\"M 2059 -325 \nQ 1816 -950 1584 -1140 \nQ 1353 -1331 966 -1331 \nL 506 -1331 \nL 506 -850 \nL 844 -850 \nQ 1081 -850 1212 -737 \nQ 1344 -625 1503 -206 \nL 1606 56 \nL 191 3500 \nL 800 3500 \nL 1894 763 \nL 2988 3500 \nL 3597 3500 \nL 2059 -325 \nz\n\" transform=\"scale(0.015625)\"/>\n      </defs>\n      <use xlink:href=\"#DejaVuSans-46\"/>\n      <use xlink:href=\"#DejaVuSans-72\" x=\"50.269531\"/>\n      <use xlink:href=\"#DejaVuSans-65\" x=\"89.132812\"/>\n      <use xlink:href=\"#DejaVuSans-71\" x=\"150.65625\"/>\n      <use xlink:href=\"#DejaVuSans-75\" x=\"214.132812\"/>\n      <use xlink:href=\"#DejaVuSans-65\" x=\"277.511719\"/>\n      <use xlink:href=\"#DejaVuSans-6e\" x=\"339.035156\"/>\n      <use xlink:href=\"#DejaVuSans-63\" x=\"402.414062\"/>\n      <use xlink:href=\"#DejaVuSans-79\" x=\"457.394531\"/>\n     </g>\n    </g>\n   </g>\n   <g id=\"patch_3\">\n    <path d=\"M 84.221477 290.25375 \nL 100.454205 290.25375 \nL 100.454205 66.723595 \nL 84.221477 66.723595 \nz\n\" clip-path=\"url(#p1785e64cb6)\" style=\"fill: #e24a33\"/>\n   </g>\n   <g id=\"patch_4\">\n    <path d=\"M 100.454205 290.25375 \nL 116.686932 290.25375 \nL 116.686932 290.25375 \nL 100.454205 290.25375 \nz\n\" clip-path=\"url(#p1785e64cb6)\" style=\"fill: #e24a33\"/>\n   </g>\n   <g id=\"patch_5\">\n    <path d=\"M 116.686932 290.25375 \nL 132.919659 290.25375 \nL 132.919659 290.25375 \nL 116.686932 290.25375 \nz\n\" clip-path=\"url(#p1785e64cb6)\" style=\"fill: #e24a33\"/>\n   </g>\n   <g id=\"patch_6\">\n    <path d=\"M 132.919659 290.25375 \nL 149.152386 290.25375 \nL 149.152386 290.25375 \nL 132.919659 290.25375 \nz\n\" clip-path=\"url(#p1785e64cb6)\" style=\"fill: #e24a33\"/>\n   </g>\n   <g id=\"patch_7\">\n    <path d=\"M 149.152386 290.25375 \nL 165.385114 290.25375 \nL 165.385114 290.25375 \nL 149.152386 290.25375 \nz\n\" clip-path=\"url(#p1785e64cb6)\" style=\"fill: #e24a33\"/>\n   </g>\n   <g id=\"patch_8\">\n    <path d=\"M 165.385114 290.25375 \nL 181.617841 290.25375 \nL 181.617841 290.25375 \nL 165.385114 290.25375 \nz\n\" clip-path=\"url(#p1785e64cb6)\" style=\"fill: #e24a33\"/>\n   </g>\n   <g id=\"patch_9\">\n    <path d=\"M 181.617841 290.25375 \nL 197.850568 290.25375 \nL 197.850568 290.25375 \nL 181.617841 290.25375 \nz\n\" clip-path=\"url(#p1785e64cb6)\" style=\"fill: #e24a33\"/>\n   </g>\n   <g id=\"patch_10\">\n    <path d=\"M 197.850568 290.25375 \nL 214.083295 290.25375 \nL 214.083295 290.25375 \nL 197.850568 290.25375 \nz\n\" clip-path=\"url(#p1785e64cb6)\" style=\"fill: #e24a33\"/>\n   </g>\n   <g id=\"patch_11\">\n    <path d=\"M 214.083295 290.25375 \nL 230.316023 290.25375 \nL 230.316023 290.25375 \nL 214.083295 290.25375 \nz\n\" clip-path=\"url(#p1785e64cb6)\" style=\"fill: #e24a33\"/>\n   </g>\n   <g id=\"patch_12\">\n    <path d=\"M 230.316023 290.25375 \nL 246.54875 290.25375 \nL 246.54875 290.25375 \nL 230.316023 290.25375 \nz\n\" clip-path=\"url(#p1785e64cb6)\" style=\"fill: #e24a33\"/>\n   </g>\n   <g id=\"patch_13\">\n    <path d=\"M 246.54875 290.25375 \nL 262.781477 290.25375 \nL 262.781477 290.25375 \nL 246.54875 290.25375 \nz\n\" clip-path=\"url(#p1785e64cb6)\" style=\"fill: #e24a33\"/>\n   </g>\n   <g id=\"patch_14\">\n    <path d=\"M 262.781477 290.25375 \nL 279.014205 290.25375 \nL 279.014205 290.25375 \nL 262.781477 290.25375 \nz\n\" clip-path=\"url(#p1785e64cb6)\" style=\"fill: #e24a33\"/>\n   </g>\n   <g id=\"patch_15\">\n    <path d=\"M 279.014205 290.25375 \nL 295.246932 290.25375 \nL 295.246932 290.25375 \nL 279.014205 290.25375 \nz\n\" clip-path=\"url(#p1785e64cb6)\" style=\"fill: #e24a33\"/>\n   </g>\n   <g id=\"patch_16\">\n    <path d=\"M 295.246932 290.25375 \nL 311.479659 290.25375 \nL 311.479659 290.25375 \nL 295.246932 290.25375 \nz\n\" clip-path=\"url(#p1785e64cb6)\" style=\"fill: #e24a33\"/>\n   </g>\n   <g id=\"patch_17\">\n    <path d=\"M 311.479659 290.25375 \nL 327.712386 290.25375 \nL 327.712386 290.25375 \nL 311.479659 290.25375 \nz\n\" clip-path=\"url(#p1785e64cb6)\" style=\"fill: #e24a33\"/>\n   </g>\n   <g id=\"patch_18\">\n    <path d=\"M 327.712386 290.25375 \nL 343.945114 290.25375 \nL 343.945114 290.25375 \nL 327.712386 290.25375 \nz\n\" clip-path=\"url(#p1785e64cb6)\" style=\"fill: #e24a33\"/>\n   </g>\n   <g id=\"patch_19\">\n    <path d=\"M 343.945114 290.25375 \nL 360.177841 290.25375 \nL 360.177841 290.25375 \nL 343.945114 290.25375 \nz\n\" clip-path=\"url(#p1785e64cb6)\" style=\"fill: #e24a33\"/>\n   </g>\n   <g id=\"patch_20\">\n    <path d=\"M 360.177841 290.25375 \nL 376.410568 290.25375 \nL 376.410568 290.25375 \nL 360.177841 290.25375 \nz\n\" clip-path=\"url(#p1785e64cb6)\" style=\"fill: #e24a33\"/>\n   </g>\n   <g id=\"patch_21\">\n    <path d=\"M 376.410568 290.25375 \nL 392.643295 290.25375 \nL 392.643295 290.25375 \nL 376.410568 290.25375 \nz\n\" clip-path=\"url(#p1785e64cb6)\" style=\"fill: #e24a33\"/>\n   </g>\n   <g id=\"patch_22\">\n    <path d=\"M 392.643295 290.25375 \nL 408.876023 290.25375 \nL 408.876023 36.81375 \nL 392.643295 36.81375 \nz\n\" clip-path=\"url(#p1785e64cb6)\" style=\"fill: #e24a33\"/>\n   </g>\n   <g id=\"patch_23\">\n    <path d=\"M 67.98875 290.25375 \nL 67.98875 24.14175 \n\" style=\"fill: none; stroke: #ffffff; stroke-linejoin: miter; stroke-linecap: square\"/>\n   </g>\n   <g id=\"patch_24\">\n    <path d=\"M 67.98875 290.25375 \nL 425.10875 290.25375 \n\" style=\"fill: none; stroke: #ffffff; stroke-linejoin: miter; stroke-linecap: square\"/>\n   </g>\n   <g id=\"text_14\">\n    <!-- label, positive = 1 and negative = 0 -->\n    <g transform=\"translate(116.321 18.14175) scale(0.144 -0.144)\">\n     <defs>\n      <path id=\"DejaVuSans-6c\" d=\"M 603 4863 \nL 1178 4863 \nL 1178 0 \nL 603 0 \nL 603 4863 \nz\n\" transform=\"scale(0.015625)\"/>\n      <path id=\"DejaVuSans-61\" d=\"M 2194 1759 \nQ 1497 1759 1228 1600 \nQ 959 1441 959 1056 \nQ 959 750 1161 570 \nQ 1363 391 1709 391 \nQ 2188 391 2477 730 \nQ 2766 1069 2766 1631 \nL 2766 1759 \nL 2194 1759 \nz\nM 3341 1997 \nL 3341 0 \nL 2766 0 \nL 2766 531 \nQ 2569 213 2275 61 \nQ 1981 -91 1556 -91 \nQ 1019 -91 701 211 \nQ 384 513 384 1019 \nQ 384 1609 779 1909 \nQ 1175 2209 1959 2209 \nL 2766 2209 \nL 2766 2266 \nQ 2766 2663 2505 2880 \nQ 2244 3097 1772 3097 \nQ 1472 3097 1187 3025 \nQ 903 2953 641 2809 \nL 641 3341 \nQ 956 3463 1253 3523 \nQ 1550 3584 1831 3584 \nQ 2591 3584 2966 3190 \nQ 3341 2797 3341 1997 \nz\n\" transform=\"scale(0.015625)\"/>\n      <path id=\"DejaVuSans-62\" d=\"M 3116 1747 \nQ 3116 2381 2855 2742 \nQ 2594 3103 2138 3103 \nQ 1681 3103 1420 2742 \nQ 1159 2381 1159 1747 \nQ 1159 1113 1420 752 \nQ 1681 391 2138 391 \nQ 2594 391 2855 752 \nQ 3116 1113 3116 1747 \nz\nM 1159 2969 \nQ 1341 3281 1617 3432 \nQ 1894 3584 2278 3584 \nQ 2916 3584 3314 3078 \nQ 3713 2572 3713 1747 \nQ 3713 922 3314 415 \nQ 2916 -91 2278 -91 \nQ 1894 -91 1617 61 \nQ 1341 213 1159 525 \nL 1159 0 \nL 581 0 \nL 581 4863 \nL 1159 4863 \nL 1159 2969 \nz\n\" transform=\"scale(0.015625)\"/>\n      <path id=\"DejaVuSans-2c\" d=\"M 750 794 \nL 1409 794 \nL 1409 256 \nL 897 -744 \nL 494 -744 \nL 750 256 \nL 750 794 \nz\n\" transform=\"scale(0.015625)\"/>\n      <path id=\"DejaVuSans-20\" transform=\"scale(0.015625)\"/>\n      <path id=\"DejaVuSans-70\" d=\"M 1159 525 \nL 1159 -1331 \nL 581 -1331 \nL 581 3500 \nL 1159 3500 \nL 1159 2969 \nQ 1341 3281 1617 3432 \nQ 1894 3584 2278 3584 \nQ 2916 3584 3314 3078 \nQ 3713 2572 3713 1747 \nQ 3713 922 3314 415 \nQ 2916 -91 2278 -91 \nQ 1894 -91 1617 61 \nQ 1341 213 1159 525 \nz\nM 3116 1747 \nQ 3116 2381 2855 2742 \nQ 2594 3103 2138 3103 \nQ 1681 3103 1420 2742 \nQ 1159 2381 1159 1747 \nQ 1159 1113 1420 752 \nQ 1681 391 2138 391 \nQ 2594 391 2855 752 \nQ 3116 1113 3116 1747 \nz\n\" transform=\"scale(0.015625)\"/>\n      <path id=\"DejaVuSans-6f\" d=\"M 1959 3097 \nQ 1497 3097 1228 2736 \nQ 959 2375 959 1747 \nQ 959 1119 1226 758 \nQ 1494 397 1959 397 \nQ 2419 397 2687 759 \nQ 2956 1122 2956 1747 \nQ 2956 2369 2687 2733 \nQ 2419 3097 1959 3097 \nz\nM 1959 3584 \nQ 2709 3584 3137 3096 \nQ 3566 2609 3566 1747 \nQ 3566 888 3137 398 \nQ 2709 -91 1959 -91 \nQ 1206 -91 779 398 \nQ 353 888 353 1747 \nQ 353 2609 779 3096 \nQ 1206 3584 1959 3584 \nz\n\" transform=\"scale(0.015625)\"/>\n      <path id=\"DejaVuSans-73\" d=\"M 2834 3397 \nL 2834 2853 \nQ 2591 2978 2328 3040 \nQ 2066 3103 1784 3103 \nQ 1356 3103 1142 2972 \nQ 928 2841 928 2578 \nQ 928 2378 1081 2264 \nQ 1234 2150 1697 2047 \nL 1894 2003 \nQ 2506 1872 2764 1633 \nQ 3022 1394 3022 966 \nQ 3022 478 2636 193 \nQ 2250 -91 1575 -91 \nQ 1294 -91 989 -36 \nQ 684 19 347 128 \nL 347 722 \nQ 666 556 975 473 \nQ 1284 391 1588 391 \nQ 1994 391 2212 530 \nQ 2431 669 2431 922 \nQ 2431 1156 2273 1281 \nQ 2116 1406 1581 1522 \nL 1381 1569 \nQ 847 1681 609 1914 \nQ 372 2147 372 2553 \nQ 372 3047 722 3315 \nQ 1072 3584 1716 3584 \nQ 2034 3584 2315 3537 \nQ 2597 3491 2834 3397 \nz\n\" transform=\"scale(0.015625)\"/>\n      <path id=\"DejaVuSans-69\" d=\"M 603 3500 \nL 1178 3500 \nL 1178 0 \nL 603 0 \nL 603 3500 \nz\nM 603 4863 \nL 1178 4863 \nL 1178 4134 \nL 603 4134 \nL 603 4863 \nz\n\" transform=\"scale(0.015625)\"/>\n      <path id=\"DejaVuSans-74\" d=\"M 1172 4494 \nL 1172 3500 \nL 2356 3500 \nL 2356 3053 \nL 1172 3053 \nL 1172 1153 \nQ 1172 725 1289 603 \nQ 1406 481 1766 481 \nL 2356 481 \nL 2356 0 \nL 1766 0 \nQ 1100 0 847 248 \nQ 594 497 594 1153 \nL 594 3053 \nL 172 3053 \nL 172 3500 \nL 594 3500 \nL 594 4494 \nL 1172 4494 \nz\n\" transform=\"scale(0.015625)\"/>\n      <path id=\"DejaVuSans-76\" d=\"M 191 3500 \nL 800 3500 \nL 1894 563 \nL 2988 3500 \nL 3597 3500 \nL 2284 0 \nL 1503 0 \nL 191 3500 \nz\n\" transform=\"scale(0.015625)\"/>\n      <path id=\"DejaVuSans-3d\" d=\"M 678 2906 \nL 4684 2906 \nL 4684 2381 \nL 678 2381 \nL 678 2906 \nz\nM 678 1631 \nL 4684 1631 \nL 4684 1100 \nL 678 1100 \nL 678 1631 \nz\n\" transform=\"scale(0.015625)\"/>\n      <path id=\"DejaVuSans-64\" d=\"M 2906 2969 \nL 2906 4863 \nL 3481 4863 \nL 3481 0 \nL 2906 0 \nL 2906 525 \nQ 2725 213 2448 61 \nQ 2172 -91 1784 -91 \nQ 1150 -91 751 415 \nQ 353 922 353 1747 \nQ 353 2572 751 3078 \nQ 1150 3584 1784 3584 \nQ 2172 3584 2448 3432 \nQ 2725 3281 2906 2969 \nz\nM 947 1747 \nQ 947 1113 1208 752 \nQ 1469 391 1925 391 \nQ 2381 391 2643 752 \nQ 2906 1113 2906 1747 \nQ 2906 2381 2643 2742 \nQ 2381 3103 1925 3103 \nQ 1469 3103 1208 2742 \nQ 947 2381 947 1747 \nz\n\" transform=\"scale(0.015625)\"/>\n      <path id=\"DejaVuSans-67\" d=\"M 2906 1791 \nQ 2906 2416 2648 2759 \nQ 2391 3103 1925 3103 \nQ 1463 3103 1205 2759 \nQ 947 2416 947 1791 \nQ 947 1169 1205 825 \nQ 1463 481 1925 481 \nQ 2391 481 2648 825 \nQ 2906 1169 2906 1791 \nz\nM 3481 434 \nQ 3481 -459 3084 -895 \nQ 2688 -1331 1869 -1331 \nQ 1566 -1331 1297 -1286 \nQ 1028 -1241 775 -1147 \nL 775 -588 \nQ 1028 -725 1275 -790 \nQ 1522 -856 1778 -856 \nQ 2344 -856 2625 -561 \nQ 2906 -266 2906 331 \nL 2906 616 \nQ 2728 306 2450 153 \nQ 2172 0 1784 0 \nQ 1141 0 747 490 \nQ 353 981 353 1791 \nQ 353 2603 747 3093 \nQ 1141 3584 1784 3584 \nQ 2172 3584 2450 3431 \nQ 2728 3278 2906 2969 \nL 2906 3500 \nL 3481 3500 \nL 3481 434 \nz\n\" transform=\"scale(0.015625)\"/>\n     </defs>\n     <use xlink:href=\"#DejaVuSans-6c\"/>\n     <use xlink:href=\"#DejaVuSans-61\" x=\"27.783203\"/>\n     <use xlink:href=\"#DejaVuSans-62\" x=\"89.0625\"/>\n     <use xlink:href=\"#DejaVuSans-65\" x=\"152.539062\"/>\n     <use xlink:href=\"#DejaVuSans-6c\" x=\"214.0625\"/>\n     <use xlink:href=\"#DejaVuSans-2c\" x=\"241.845703\"/>\n     <use xlink:href=\"#DejaVuSans-20\" x=\"273.632812\"/>\n     <use xlink:href=\"#DejaVuSans-70\" x=\"305.419922\"/>\n     <use xlink:href=\"#DejaVuSans-6f\" x=\"368.896484\"/>\n     <use xlink:href=\"#DejaVuSans-73\" x=\"430.078125\"/>\n     <use xlink:href=\"#DejaVuSans-69\" x=\"482.177734\"/>\n     <use xlink:href=\"#DejaVuSans-74\" x=\"509.960938\"/>\n     <use xlink:href=\"#DejaVuSans-69\" x=\"549.169922\"/>\n     <use xlink:href=\"#DejaVuSans-76\" x=\"576.953125\"/>\n     <use xlink:href=\"#DejaVuSans-65\" x=\"636.132812\"/>\n     <use xlink:href=\"#DejaVuSans-20\" x=\"697.65625\"/>\n     <use xlink:href=\"#DejaVuSans-3d\" x=\"729.443359\"/>\n     <use xlink:href=\"#DejaVuSans-20\" x=\"813.232422\"/>\n     <use xlink:href=\"#DejaVuSans-31\" x=\"845.019531\"/>\n     <use xlink:href=\"#DejaVuSans-20\" x=\"908.642578\"/>\n     <use xlink:href=\"#DejaVuSans-61\" x=\"940.429688\"/>\n     <use xlink:href=\"#DejaVuSans-6e\" x=\"1001.708984\"/>\n     <use xlink:href=\"#DejaVuSans-64\" x=\"1065.087891\"/>\n     <use xlink:href=\"#DejaVuSans-20\" x=\"1128.564453\"/>\n     <use xlink:href=\"#DejaVuSans-6e\" x=\"1160.351562\"/>\n     <use xlink:href=\"#DejaVuSans-65\" x=\"1223.730469\"/>\n     <use xlink:href=\"#DejaVuSans-67\" x=\"1285.253906\"/>\n     <use xlink:href=\"#DejaVuSans-61\" x=\"1348.730469\"/>\n     <use xlink:href=\"#DejaVuSans-74\" x=\"1410.009766\"/>\n     <use xlink:href=\"#DejaVuSans-69\" x=\"1449.21875\"/>\n     <use xlink:href=\"#DejaVuSans-76\" x=\"1477.001953\"/>\n     <use xlink:href=\"#DejaVuSans-65\" x=\"1536.181641\"/>\n     <use xlink:href=\"#DejaVuSans-20\" x=\"1597.705078\"/>\n     <use xlink:href=\"#DejaVuSans-3d\" x=\"1629.492188\"/>\n     <use xlink:href=\"#DejaVuSans-20\" x=\"1713.28125\"/>\n     <use xlink:href=\"#DejaVuSans-30\" x=\"1745.068359\"/>\n    </g>\n   </g>\n  </g>\n </g>\n <defs>\n  <clipPath id=\"p1785e64cb6\">\n   <rect x=\"67.98875\" y=\"24.14175\" width=\"357.12\" height=\"266.112\"/>\n  </clipPath>\n </defs>\n</svg>\n"
          },
          "metadata": {}
        }
      ],
      "source": [
        "df['label'].plot(kind='hist', bins=20, title='label, positive = 1 and negative = 0')\n",
        "#plt.gca().spines[['top', 'right',]].set_visible(False)\n",
        "\n",
        "# Access the current axes using plt.gca() and set the visibility for each spine\n",
        "ax = plt.gca()\n",
        "ax.spines['top'].set_visible(False)\n",
        "ax.spines['right'].set_visible(False)\n",
        "\n",
        "# Show the plot\n",
        "plt.show()"
      ]
    },
    {
      "cell_type": "markdown",
      "metadata": {
        "id": "KduLVeteOjay"
      },
      "source": [
        "How about looking at specific examples for each class?"
      ]
    },
    {
      "cell_type": "code",
      "execution_count": 7,
      "metadata": {
        "id": "oTM2IdHRQR7y",
        "colab": {
          "base_uri": "https://localhost:8080/"
        },
        "outputId": "d13f200c-cf2a-46ac-b85d-a014b0437dcd"
      },
      "outputs": [
        {
          "output_type": "stream",
          "name": "stdout",
          "text": [
            "Example negative tweet:\n",
            "  David must be hospitalized for five days end of July (palatine tonsils). I will probably never see Katie in concert.  \n",
            "\n",
            "Example positive tweet:\n",
            "*sigh*  sweet dreams guys...... \n",
            "\n"
          ]
        }
      ],
      "source": [
        "print('Example negative tweet:')\n",
        "print(df.loc[55,].tweet, '\\n')\n",
        "print('Example positive tweet:')\n",
        "print(df.loc[12456,].tweet, '\\n')"
      ]
    },
    {
      "cell_type": "markdown",
      "metadata": {
        "id": "WW9vhjy-O0ge"
      },
      "source": [
        "Looking at your data before starting to code will help you in the process for example when encountering errors, when the training does not improve, or when you simply want to understand your results in the end. Remember: a good DL model is only as good as the data we feed it with!"
      ]
    },
    {
      "cell_type": "markdown",
      "metadata": {
        "id": "kajOXwKjQR71"
      },
      "source": [
        "# 1. Preprocessing\n",
        "(2.5 Points - 0.5 for each subtask)<br>\n",
        "\n",
        "As in the last assignment, we need to transform our data before training our classifier on it. We are interested to do the following preprocessing steps:\n",
        "* Replace weird characters\n",
        "* Lowercase\n",
        "* Tokenize\n",
        "* Stemming & Lemmatize\n",
        "* Remove stopwords"
      ]
    },
    {
      "cell_type": "markdown",
      "metadata": {
        "id": "NEAMiSRUQR71"
      },
      "source": [
        "**Let's see how to pre-process these steps one by one. Below we constructed a simple test tweet.**"
      ]
    },
    {
      "cell_type": "code",
      "execution_count": 8,
      "metadata": {
        "id": "bd4I86AdQR72"
      },
      "outputs": [],
      "source": [
        "test_corpus = '''Curtain drops at the #Crown Uptown after 32 years http://www.kansas.com/news/featured/story/860875.html'''"
      ]
    },
    {
      "cell_type": "markdown",
      "metadata": {
        "id": "PLcnJGQQo8kj"
      },
      "source": [
        "<h1>Exercise 1.1</h1>\n",
        "Write a function `special_and_lower` that removes special characters and puts the text lowercase. If you wonder what a special character is, check [here](https://www.computerhope.com/jargon/s/specchar.htm)\n"
      ]
    },
    {
      "cell_type": "code",
      "execution_count": 9,
      "metadata": {
        "id": "__qLl57RQR74"
      },
      "outputs": [],
      "source": [
        "# Your answer goes here\n",
        "def special_and_lower(test_corpus):\n",
        "    \"\"\"\n",
        "    Remove special characters and convert text to lowercase.\n",
        "    \"\"\"\n",
        "    # Remove special characters using regex\n",
        "    processed_text = re.sub(r'[^a-zA-Z0-9\\s]', '', test_corpus)\n",
        "\n",
        "    # Convert to lowercase\n",
        "    processed_text = processed_text.lower()\n",
        "\n",
        "    return processed_text\n",
        "\n",
        "#test_corpus = special_and_lower(test_corpus)\n",
        "#print(test_corpus)"
      ]
    },
    {
      "cell_type": "markdown",
      "metadata": {
        "id": "A7qx11yEpxg6"
      },
      "source": [
        "<h1>Exercise 1.2</h1>Write a function `tokenize_text` that creates a list of tokens from the input text. Use your own implementation here."
      ]
    },
    {
      "cell_type": "code",
      "execution_count": 10,
      "metadata": {
        "id": "wEXzzABQQR78"
      },
      "outputs": [],
      "source": [
        "# Your answer goes here\n",
        "\"\"\"def tokenize_text(test_corpus):\n",
        "    # Tokenize sentences using NLTK\n",
        "    sentences_strings_ted  = nltk.tokenize.sent_tokenize(test_corpus)\n",
        "\n",
        "    # Word Tokenization and Preprocessing\n",
        "    tokens = []  # List to store all tokens in the text\n",
        "\n",
        "    # Loop through each sentence\n",
        "    for sentence in sentences_strings_ted:\n",
        "        # Word Tokenization\n",
        "        words = nltk.tokenize.word_tokenize(sentence)\n",
        "\n",
        "        # Remove Non-Letter Characters and Lowercasing\n",
        "        words = [word.lower() for word in words if word.isalpha()]\n",
        "\n",
        "        # Extend the tokens list with the words in the current sentence\n",
        "        tokens.extend(words)\n",
        "\n",
        "    return tokens\"\"\"\n",
        "\n",
        "def tokenize_text(test_corpus):\n",
        "    tokens = wordpunct_tokenize(test_corpus)\n",
        "    return tokens\n",
        "\n",
        "\n",
        "\n",
        "#test_corpus = tokenize_text(test_corpus)\n",
        "#print(test_corpus)"
      ]
    },
    {
      "cell_type": "code",
      "execution_count": 11,
      "metadata": {
        "id": "JdccGdv_tyKs"
      },
      "outputs": [],
      "source": [
        "#txt = \"In the realm of artificial intelligence, transformer networks, a groundbreaking architecture introduced by Vaswani et al. in their seminal paper 'Attention is All You Need,' have revolutionized natural language processing, enabling parallelized and efficient learning through self-attention mechanisms, making them pivotal in various applications such as machine translation, sentiment analysis, and text generation, showcasing the power of attention-driven computations in capturing complex contextual relationships within vast datasets.\"\n",
        "#print(tokenize_text(txt))"
      ]
    },
    {
      "cell_type": "markdown",
      "metadata": {
        "id": "0HX3sCwXp_D_"
      },
      "source": [
        "<h1>Exercise 1.3</h1>\n",
        "\n",
        "Using  **WordNetLemmatizer** , write a function `lemmatize_text` that lemmatizes the text. Lemmatization, which is the process of grouping inflected forms together as a single base form, is a text normalization that is used in pre-processing. Please lemmatize first nouns and then verbs. For more information regarding *WordNetLemmatizer*, please check [here](https://www.nltk.org/_modules/nltk/stem/wordnet.html):\n"
      ]
    },
    {
      "cell_type": "code",
      "execution_count": 12,
      "metadata": {
        "id": "yiNcDaSdQR7_"
      },
      "outputs": [],
      "source": [
        "# Your answer goes here\n",
        "def lemmatize_text(test_corpus, lemmatizer):\n",
        "    \"\"\"\n",
        "    Lemmatize words in the test_corpus using WordNetLemmatizer.\n",
        "    Each word is first lemmatized as a noun and then as a verb.\n",
        "    :param test_corpus: List of words to lemmatize.\n",
        "    :param lemmatizer: WordNetLemmatizer instance.\n",
        "    :return: List of lemmatized words.\n",
        "    \"\"\"\n",
        "    lemmatized_words = []\n",
        "    for word in test_corpus:\n",
        "        # First lemmatize as a noun\n",
        "        lemma_noun = lemmatizer.lemmatize(word, pos='n')\n",
        "        # Then lemmatize the result as a verb\n",
        "        lemma_verb = lemmatizer.lemmatize(lemma_noun, pos='v')\n",
        "        lemmatized_words.append(lemma_verb)\n",
        "\n",
        "    return lemmatized_words\n",
        "\n",
        "#lemmatizer = WordNetLemmatizer()\n",
        "#test_corpus = lemmatize_text(test_corpus, lemmatizer)\n",
        "#print(test_corpus)"
      ]
    },
    {
      "cell_type": "code",
      "execution_count": 13,
      "metadata": {
        "id": "ai5iwhL-tyKt"
      },
      "outputs": [],
      "source": [
        "#txt = nltk.tokenize.word_tokenize(\"In the realm of artificial intelligence, transformer networks, a groundbreaking architecture introduced by Vaswani et al. in their seminal paper 'Attention is All You Need,' have revolutionized natural language processing, enabling parallelized and efficient learning through self-attention mechanisms, making them pivotal in various applications such as machine translation, sentiment analysis, and text generation, showcasing the power of attention-driven computations in capturing complex contextual relationships within vast datasets.\")\n",
        "#print(lemmatize_text(txt, lemmatizer))"
      ]
    },
    {
      "cell_type": "markdown",
      "metadata": {
        "id": "goU2DbZoqSm-"
      },
      "source": [
        "<h1>Exercise 1.4 </h1>Write a function `replace_numbers` that replaces any standalone number with the special token \" < NUM > \" (without the spaces). For instance, \"42\" must be replaced by the token but \"42h\" not.\n"
      ]
    },
    {
      "cell_type": "code",
      "execution_count": 14,
      "metadata": {
        "id": "--w6TAk1QR8E"
      },
      "outputs": [],
      "source": [
        "# Your answer goes here\n",
        "def replace_numbers(test_corpus):\n",
        "    processed_text = []\n",
        "    pattern = re.compile(r'\\b\\d+\\b')\n",
        "    for word in test_corpus:\n",
        "        processed_text.append(pattern.sub('<NUM>', word))\n",
        "\n",
        "    return processed_text\n",
        "\n",
        "#test_corpus = replace_numbers(test_corpus)\n",
        "#print(test_corpus)"
      ]
    },
    {
      "cell_type": "markdown",
      "metadata": {
        "id": "ucsZrwA0rdIO"
      },
      "source": [
        "<h1>Exercise 1.5</h1>We want to remove redundant words that are very common in all the texts (like \"a\" or \"to\"). As you learned previously, these words are called stopwords and do not contain any meaning, that is relevant for our task.\n",
        "Write a function \"remove_stopwords\" that removes stopwords using the stopwords imported from NLTK (check on top)."
      ]
    },
    {
      "cell_type": "code",
      "execution_count": 15,
      "metadata": {
        "id": "h7PBL2lIQR8I"
      },
      "outputs": [],
      "source": [
        "# Your answer goes here\n",
        "def remove_stopwords(test_corpus, stop_words):\n",
        "    # Filter out stopwords from the list of tokens\n",
        "    filtered_sentence = [word for word in test_corpus if not word in stop_words]\n",
        "    return filtered_sentence\n",
        "\n",
        "#test_corpus = remove_stopwords(test_corpus, set(stopwords.words('english')))\n",
        "#print(test_corpus)"
      ]
    },
    {
      "cell_type": "markdown",
      "metadata": {
        "id": "uXzZMB5BPoAw"
      },
      "source": [
        "# 2. Building a Vocabulary\n",
        "\n",
        "Next we want to create some sort of represention for our tokens. As you encountered in the lecture, one way of doing this is by representing words by unique values and store them in a vocabulary. You will learn later why such a representation (or embedding) is not very efficient for larger text corpora. For the task at hand it is sufficient however."
      ]
    },
    {
      "cell_type": "markdown",
      "metadata": {
        "id": "091YxPUFruN0"
      },
      "source": [
        "<h1>Exercise 2.1</h1> (2 Points)<br> Define the function `build_vocab` which receives as input `clean_tokens` and returns `vocab`, which is a python dictionary with words as keys and unique integer indices as values.\n",
        "\n"
      ]
    },
    {
      "cell_type": "code",
      "execution_count": 16,
      "metadata": {
        "id": "9t4Mc4pxQR8P"
      },
      "outputs": [],
      "source": [
        "\"\"\"def build_vocab(clean_tokens):\n",
        "    vocab = {}\n",
        "    index = 0\n",
        "    for word in clean_tokens:\n",
        "        if word not in vocab:\n",
        "            vocab[word] = index\n",
        "            index += 1\n",
        "    return vocab\"\"\"\n",
        "\n",
        "def build_vocab(sent_clean_tokens):\n",
        "    vocab = {}  ### word:int_index\n",
        "    index = 0\n",
        "    print(sent_clean_tokens)\n",
        "    for line in sent_clean_tokens:\n",
        "        for w in line:\n",
        "            if w not in list(vocab.keys()):\n",
        "                vocab[w] = index\n",
        "                index += 1\n",
        "    return vocab"
      ]
    },
    {
      "cell_type": "markdown",
      "metadata": {
        "id": "Vy2zLY1CsqeT"
      },
      "source": [
        "<h1>Exercise 2.2 </h1>(2 Points)<br> Define the function `build_index2token` which receives as input `vocab` (the output of the previously defined function `build_vocab`) and returns `index2token`, which is a python dictionary with unique integer indices as keys and  words as values. Make sure that the indices assigned to the words are exactly the same as in `vocab`.\n"
      ]
    },
    {
      "cell_type": "code",
      "execution_count": 17,
      "metadata": {
        "id": "rQw7-4YFQR8S"
      },
      "outputs": [],
      "source": [
        "def build_index2token(vocab):\n",
        "    index2token = {index: token for token, index in vocab.items()}\n",
        "    return index2token\n",
        "\n",
        "#test_corpus = build_index2token(test_corpus)\n",
        "#print(test_corpus)"
      ]
    },
    {
      "cell_type": "markdown",
      "metadata": {
        "id": "jCw9LKDKQR8W"
      },
      "source": [
        "**Let's package the pre-processing steps together into one function to later apply it to our dataset.**<br>\n",
        "(1 Point)\n",
        "\n"
      ]
    },
    {
      "cell_type": "code",
      "execution_count": 18,
      "metadata": {
        "id": "GHCoa8R_QR8W"
      },
      "outputs": [],
      "source": [
        "def tokenize(text, stop_words, lemmatizer):\n",
        "\n",
        "    # Complete this function by sending the data (text) through each of the functions you built above (special_and_lower, tokenize_text, replace_numbers, remove_stopwords, lemmatize text).\n",
        "    # Think carefully about a sensible order!\n",
        "    processed_text = special_and_lower(text)\n",
        "    tokens = tokenize_text(processed_text)\n",
        "    tokens = replace_numbers(tokens)\n",
        "    tokens = remove_stopwords(tokens, stop_words)\n",
        "    tokens = lemmatize_text(tokens, lemmatizer)\n",
        "    return tokens\n",
        "\n",
        "def build_bow_vector(sequence, idx2token):\n",
        "    vector = [0] * len(idx2token)\n",
        "    for token_idx in sequence:\n",
        "        if token_idx not in idx2token:\n",
        "            raise ValueError('Wrong sequence index found!')\n",
        "        else:\n",
        "            vector[token_idx] += 1\n",
        "    return vector"
      ]
    },
    {
      "cell_type": "markdown",
      "metadata": {
        "id": "lRH1n4NLP1zt"
      },
      "source": [
        "# 3. Splitting and transforming the Dataset"
      ]
    },
    {
      "cell_type": "markdown",
      "metadata": {
        "id": "Vrtj7ZIEyI2Q"
      },
      "source": [
        "<h1>Exercise 3.1</h1>\n",
        "(3 points)"
      ]
    },
    {
      "cell_type": "markdown",
      "metadata": {
        "id": "2h8bZrGZ5AAq"
      },
      "source": [
        "In this part, we will build a class to assign our data to. It helps us to easier access different parts of our dataset. But before doing so, we want you to do something else. Go to the `TwitterDataset` class and implement a function that assigns to the variable `common_tokens` the `n` most frequent/used words accross all tokens. `n` in this case is denoted as `max_vocab`.<br>\n",
        "\n",
        "Make sure to use a function that compresses the output to a set of unique words, ie. disregard dublicates. If you're done with that, come back up here!"
      ]
    },
    {
      "cell_type": "markdown",
      "metadata": {
        "id": "ImymqbaNSlaw"
      },
      "source": [
        "Next, we want you to implement a function `remove_rare_words` that will be called in the `TwitterDataset` class to remove rare words from each sequence of tokens in our dataset. As you can see, the function takes two arguments: a list of tokens, and a set of common_tokens (which is the variable you just filled in the previous task)."
      ]
    },
    {
      "cell_type": "markdown",
      "metadata": {
        "id": "Ar3preW3YHkV"
      },
      "source": [
        "(1 point)"
      ]
    },
    {
      "cell_type": "code",
      "execution_count": 19,
      "metadata": {
        "id": "EAplm-XXSk3L"
      },
      "outputs": [],
      "source": [
        "def remove_rare_words(tokens, common_tokens):\n",
        "\n",
        "    ''' input: list = tokens, set = common_tokens\n",
        "    output: a list with only those tokens that can also be found among the most common tokens. all rare words are to be replaced with '<UNK>' '''\n",
        "\n",
        "    # Keep only tokens that are in the set of common_tokens\n",
        "    tokens = [token if token in common_tokens else \"<UNK>\" for token in tokens]\n",
        "\n",
        "    return tokens"
      ]
    },
    {
      "cell_type": "markdown",
      "metadata": {
        "id": "KnXv8sfrgLzS"
      },
      "source": [
        "Now we would like you to implement a function called `common_tokens`, that is called inside the class `TwitterDataset` and takes `all_tokens` to then return a set of most common words. The length of the set should be limited by the parameter `max_vocab`."
      ]
    },
    {
      "cell_type": "code",
      "execution_count": 20,
      "metadata": {
        "id": "YkzHMUzngMIv"
      },
      "outputs": [],
      "source": [
        "def func_common_tokens(all_tokens, max_vocab):\n",
        "    # Calculate word frequencies\n",
        "    word_frequencies = nltk.FreqDist(all_tokens)\n",
        "\n",
        "    # Get the most common words\n",
        "    common_tokens = [word for word, _ in word_frequencies.most_common(max_vocab)]\n",
        "    return set(common_tokens)  # Convert to set for faster lookup"
      ]
    },
    {
      "cell_type": "code",
      "source": [
        "#tokens = tokenize(test_corpus, set(stopwords.words('english')), WordNetLemmatizer())\n",
        "\n",
        "#tokens = func_common_tokens(tokens, 100)"
      ],
      "metadata": {
        "id": "kcM31heEFZ8b"
      },
      "execution_count": 21,
      "outputs": []
    },
    {
      "cell_type": "markdown",
      "metadata": {
        "id": "K0BCq67QYLs0"
      },
      "source": [
        "(1 point)"
      ]
    },
    {
      "cell_type": "code",
      "execution_count": 22,
      "metadata": {
        "id": "cRpfCXB5QR8Y"
      },
      "outputs": [],
      "source": [
        "class TwitterDataset(Dataset):\n",
        "    def __init__(self, data_path, max_vocab=5000):\n",
        "        df = pd.read_csv(data_path)\n",
        "\n",
        "        # Clean and tokenize\n",
        "        stop_words = set(stopwords.words('english'))\n",
        "        lemmatizer = WordNetLemmatizer()\n",
        "        df['tokens'] = df.tweet.apply(\n",
        "            partial(\n",
        "                tokenize,\n",
        "                stop_words=stop_words,\n",
        "                lemmatizer=lemmatizer,\n",
        "            ),\n",
        "        )\n",
        "\n",
        "        all_tokens = [token for doc in list(df.tokens) for token in doc]\n",
        "\n",
        "        # This is where your function will be called\n",
        "        common_tokens = func_common_tokens(all_tokens, max_vocab)\n",
        "\n",
        "        # Replace rare words with <UNK>\n",
        "        df.loc[:, 'tokens'] = df.tokens.progress_apply(\n",
        "            partial(\n",
        "                remove_rare_words,\n",
        "                common_tokens=common_tokens\n",
        "            ),\n",
        "        )\n",
        "\n",
        "        # Replace numbers with <NUM>\n",
        "        df.loc[:, 'tokens'] = df.tokens.progress_apply(replace_numbers)\n",
        "\n",
        "        # Remove sequences with only <UNK>\n",
        "        df = df[df.tokens.progress_apply(\n",
        "            lambda tokens: any(token != '<UNK>' for token in tokens),\n",
        "        )]\n",
        "\n",
        "        # Build vocab\n",
        "        self.token2idx = build_vocab(list(df.tokens))\n",
        "        self.idx2token = build_index2token(self.token2idx)\n",
        "\n",
        "\n",
        "        # Convert tokens to indexes\n",
        "        df['indexed_tokens'] = df.tokens.progress_apply(\n",
        "            lambda doc: [self.token2idx[token] for token in doc],\n",
        "        )\n",
        "\n",
        "        # Build BoW vector\n",
        "        df['bow_vector'] = df.indexed_tokens.progress_apply(\n",
        "            build_bow_vector, args=(self.idx2token,)\n",
        "        )\n",
        "\n",
        "        self.text = df.tweet.tolist()\n",
        "        self.sequences = df.indexed_tokens.tolist()\n",
        "        self.bow_vector = df.bow_vector.tolist()\n",
        "        self.targets = df.label.tolist()\n",
        "\n",
        "    def __getitem__(self, i):\n",
        "        return (\n",
        "            self.sequences[i],\n",
        "            self.bow_vector[i],\n",
        "            self.targets[i],\n",
        "            self.text[i],\n",
        "        )\n",
        "\n",
        "    def __len__(self):\n",
        "        return len(self.targets)"
      ]
    },
    {
      "cell_type": "markdown",
      "metadata": {
        "id": "g97gYaZaYB_w"
      },
      "source": [
        "**Question**: Why might removing rare words not be a good idea? Why or when could rare words be valuable?\n",
        "\n",
        "(1 point)"
      ]
    },
    {
      "cell_type": "markdown",
      "metadata": {
        "id": "zLywxHsLYhAf"
      },
      "source": [
        "**Your answer goes here:**\n",
        "There is a risk to loose some information: In particular names, adresses and generally semantic meaning can be lost.\n"
      ]
    },
    {
      "cell_type": "markdown",
      "metadata": {
        "id": "8ufiOM7iY1W2"
      },
      "source": [
        "Finally, we can instantiate our dataset."
      ]
    },
    {
      "cell_type": "code",
      "execution_count": 23,
      "metadata": {
        "id": "bYb2RZSI_F8A"
      },
      "outputs": [],
      "source": [
        "MAX_VOCAB = \"500\" #@param [1000, 5000, 10000, 100000] {allow-input: true}\n",
        "\n",
        "MAX_VOCAB = int(MAX_VOCAB)"
      ]
    },
    {
      "cell_type": "code",
      "execution_count": 24,
      "metadata": {
        "id": "K31nmR1KQR8a",
        "colab": {
          "base_uri": "https://localhost:8080/"
        },
        "outputId": "4300adfe-13c5-44b8-e5ad-8a0957a15a88"
      },
      "outputs": [
        {
          "output_type": "stream",
          "name": "stderr",
          "text": [
            "100%|██████████| 1000000/1000000 [00:05<00:00, 188083.94it/s]\n",
            "100%|██████████| 1000000/1000000 [00:06<00:00, 157371.73it/s]\n",
            "100%|██████████| 1000000/1000000 [00:01<00:00, 549601.76it/s]\n",
            "IOPub data rate exceeded.\n",
            "The notebook server will temporarily stop sending output\n",
            "to the client in order to avoid crashing it.\n",
            "To change this limit, set the config variable\n",
            "`--NotebookApp.iopub_data_rate_limit`.\n",
            "\n",
            "Current values:\n",
            "NotebookApp.iopub_data_rate_limit=1000000.0 (bytes/sec)\n",
            "NotebookApp.rate_limit_window=3.0 (secs)\n",
            "\n",
            "100%|██████████| 958766/958766 [00:02<00:00, 356299.49it/s]\n",
            "100%|██████████| 958766/958766 [00:14<00:00, 67451.40it/s]\n"
          ]
        }
      ],
      "source": [
        "# This will load for a while: Grab a coffee\n",
        "dataset = TwitterDataset(DATA_PATH, max_vocab=MAX_VOCAB)"
      ]
    },
    {
      "cell_type": "code",
      "source": [
        "\"\"\"# Specify the file path where you want to save the dataset\n",
        "save_path = 'twitter_dataset.pkl'\n",
        "\n",
        "# Save the dataset to a file using pickle.dump()\n",
        "with open(save_path, 'wb') as file:\n",
        "    pickle.dump(dataset, file)\"\"\""
      ],
      "metadata": {
        "id": "dJKa-W7pPgy7"
      },
      "execution_count": 25,
      "outputs": []
    },
    {
      "cell_type": "code",
      "source": [
        "\"\"\"# Load data from the file\n",
        "with open('twitter_dataset.pkl', 'rb') as file:\n",
        "    dataset = pickle.load(file)\"\"\""
      ],
      "metadata": {
        "id": "SICYkKNfbCCE"
      },
      "execution_count": 26,
      "outputs": []
    },
    {
      "cell_type": "markdown",
      "metadata": {
        "id": "ZgCt9GdyQR8d"
      },
      "source": [
        "Again, we can check a random sample out of the dataset."
      ]
    },
    {
      "cell_type": "code",
      "execution_count": 25,
      "metadata": {
        "id": "V57qJlwuQR8e",
        "colab": {
          "base_uri": "https://localhost:8080/"
        },
        "outputId": "84add5f0-364e-4d45-85d8-2cabda0c3208"
      },
      "outputs": [
        {
          "output_type": "stream",
          "name": "stdout",
          "text": [
            "Number of records: 958766 \n",
            "\n",
            "index: 640299 \n",
            "\n",
            "@Buff_Bodziak Is that a good wow or a bad wow?  \n",
            "\n",
            "[1, 231, 477, 229, 477] \n",
            "\n",
            "BoW vector size: 501 \n",
            "\n",
            "label: 1 \n",
            "\n"
          ]
        }
      ],
      "source": [
        "print('Number of records:', len(dataset), '\\n')\n",
        "\n",
        "import random\n",
        "random_idx = random.randint(0,len(dataset)-1)\n",
        "print('index:', random_idx, '\\n')\n",
        "sample_seq, bow_vector, sample_target, sample_text = dataset[random_idx]\n",
        "print(sample_text, '\\n')\n",
        "print(sample_seq, '\\n')\n",
        "print('BoW vector size:', len(bow_vector), '\\n')\n",
        "print('label:', sample_target, '\\n')"
      ]
    },
    {
      "cell_type": "markdown",
      "metadata": {
        "id": "3ScUh32jQR8g"
      },
      "source": [
        "<h1>Exercise 3.2</h1> (2 Points)<br> Split into training, validation, and test sets.\n",
        "\n",
        "Since we only have a certain ammount of Data to train, validate and test our model on, we need to split our Dataset into 3 Parts:\n",
        "\n",
        "- **Training**: data the model learns from (80%)\n",
        "- **Validation**: data to evaluate with for hyperparameter tuning (make sure the model doesn't overfit!) (10%)\n",
        "- **Testing**: data to evaluate the final performance of the model (10%)\n",
        "\n",
        "Given the ratios for validation and testing, it is your task to complete the `function split_train_valid_test` and calculate the three split lenghts, which are then used as argument in the `random_split` function we have imported at the top of this notebook."
      ]
    },
    {
      "cell_type": "code",
      "execution_count": 26,
      "metadata": {
        "id": "n06g-zwTQR8g"
      },
      "outputs": [],
      "source": [
        "# Please complete this\n",
        "def split_train_valid_test(dataset, valid_ratio, test_ratio):\n",
        "    \"\"\"Split dataset into train, validation, and test.\"\"\"\n",
        "    # Calculate the length of the test and validation sets\n",
        "    test_length = int(len(dataset) * test_ratio)\n",
        "    valid_length = int(len(dataset) * valid_ratio)\n",
        "\n",
        "    # Ensure the training set length makes the total add up to total_data_points\n",
        "    train_length = len(dataset) - valid_length - test_length\n",
        "\n",
        "    return random_split(dataset, (train_length, valid_length, test_length))"
      ]
    },
    {
      "cell_type": "code",
      "execution_count": 27,
      "metadata": {
        "id": "qRIrAPkmQR8i",
        "colab": {
          "base_uri": "https://localhost:8080/"
        },
        "outputId": "4f163c94-f493-4af9-9f48-d3c6f54ef2a9"
      },
      "outputs": [
        {
          "output_type": "execute_result",
          "data": {
            "text/plain": [
              "(862890, 47938, 47938)"
            ]
          },
          "metadata": {},
          "execution_count": 27
        }
      ],
      "source": [
        "# Now we apply the function above:\n",
        "train_dataset, valid_dataset, test_dataset = split_train_valid_test(\n",
        "    dataset, valid_ratio=0.05, test_ratio=0.05)\n",
        "len(train_dataset), len(valid_dataset), len(test_dataset)"
      ]
    },
    {
      "cell_type": "markdown",
      "metadata": {
        "id": "VdbeQ4l05SXQ"
      },
      "source": [
        "Next up: **Batching**. Since our classifier can only work on a certain amount of data at a time and we dont have endless amounts of RAM available, we will use batching to split our dataset into mouth-sized bites."
      ]
    },
    {
      "cell_type": "code",
      "execution_count": 28,
      "metadata": {
        "id": "Z1iPjOIOQR8l"
      },
      "outputs": [],
      "source": [
        "BATCH_SIZE = 528\n",
        "\n",
        "def collate(batch):\n",
        "    seq = [item[0] for item in batch]\n",
        "    bow = [item[1] for item in batch]\n",
        "    target = torch.LongTensor([item[2] for item in batch])\n",
        "    text = [item[3] for item in batch]\n",
        "    return seq, bow, target, text\n",
        "\n",
        "train_loader = DataLoader(train_dataset, batch_size=BATCH_SIZE, collate_fn=collate)\n",
        "valid_loader = DataLoader(valid_dataset, batch_size=BATCH_SIZE, collate_fn=collate)\n",
        "test_loader = DataLoader(test_dataset, batch_size=BATCH_SIZE, collate_fn=collate)"
      ]
    },
    {
      "cell_type": "markdown",
      "metadata": {
        "id": "gg5oSR-U5XfW"
      },
      "source": [
        "After splitting our data it now looks like this:"
      ]
    },
    {
      "cell_type": "code",
      "execution_count": 29,
      "metadata": {
        "id": "3LNYX9TOQR8n",
        "colab": {
          "base_uri": "https://localhost:8080/"
        },
        "outputId": "b727e8f4-b56d-4e9e-c27a-967c83546fc1"
      },
      "outputs": [
        {
          "output_type": "stream",
          "name": "stdout",
          "text": [
            "number of training batches: 1635 \n",
            "\n",
            "Training input sequence: [1, 1, 1, 1, 221, 1, 196, 61, 1, 296, 384, 1] \n",
            "\n",
            "BoW vector size: 501 \n",
            "\n",
            "Label:  tensor(1) \n",
            "\n",
            "Review text: @shenoyvarun86 Doubt it, nobody from my college that I am still in touch with is planning to write GATE after this  Will keep eyes peeled. \n",
            "\n"
          ]
        }
      ],
      "source": [
        "print('number of training batches:', len(train_loader), '\\n')\n",
        "batch_idx = random.randint(0, len(train_loader)-1)\n",
        "example_idx = random.randint(0, BATCH_SIZE-1)\n",
        "\n",
        "for i, fields in enumerate(train_loader):\n",
        "    seq, bow, target, text = fields\n",
        "    if i == batch_idx:\n",
        "        print('Training input sequence:', seq[example_idx], '\\n')\n",
        "        print('BoW vector size:', len(bow[example_idx]), '\\n')\n",
        "        print('Label: ', target[example_idx], '\\n')\n",
        "        print('Review text:', text[example_idx], '\\n')\n"
      ]
    },
    {
      "cell_type": "markdown",
      "metadata": {
        "id": "dRziGFdtQR8p"
      },
      "source": [
        "# 4. BoW Model\n",
        "\n",
        "So, now to the fun part. In the following, we are going to construct our classifier to the actual job of predicting positive or negative tweets. Ever step will take you through a different phase of building our model."
      ]
    },
    {
      "cell_type": "markdown",
      "metadata": {
        "id": "1aZ_jCUBGll4"
      },
      "source": [
        "### Building the BoW Model\n",
        "\n",
        "![BOW](https://github.com/scoutbeedev/pytorch-nlp-notebooks/blob/master/images/bow_representation.png?raw=1)\n",
        "\n",
        "In the cell below 4.1 we implemented a BoW-Model with the following specifics:\n",
        "- Input: BoW Vector\n",
        "- Model:\n",
        "    - feed-forward fully connected network\n",
        "    - 2 hidden layers\n",
        "- Output:\n",
        "    - vector size of 2 (2 possible outcome: positive v.s. negative)\n",
        "    - probability of input document classified as the label"
      ]
    },
    {
      "cell_type": "markdown",
      "metadata": {
        "id": "GreaW-FG80cU"
      },
      "source": [
        "<h1>Exercise 4.1 </h1> (2 Points)<br> Substitute the three non-linear functions which are currently of type `relu` with any other type you like. You may want to experiment with several types and then leave you favourite in the final solution. Check [here](https://pytorch.org/docs/stable/nn.html#non-linear-activations-weighted-sum-nonlinearity) for the available non-linear functions in Pytorch."
      ]
    },
    {
      "cell_type": "code",
      "execution_count": 33,
      "metadata": {
        "id": "-eKgEFZOQR8s"
      },
      "outputs": [],
      "source": [
        "class FeedfowardTextClassifier(nn.Module):\n",
        "    def __init__(self, device, vocab_size, hidden1, hidden2, hidden3, hidden4, num_labels, batch_size):\n",
        "        super(FeedfowardTextClassifier, self).__init__()\n",
        "        self.device = device\n",
        "        self.batch_size = batch_size\n",
        "        # Here we instantiate the different layers of our network\n",
        "        self.fc1 = nn.Linear(vocab_size, hidden1)\n",
        "        self.fc2 = nn.Linear(hidden1, hidden2)\n",
        "        self.fc3 = nn.Linear(hidden2, hidden3)\n",
        "        self.fc4 = nn.Linear(hidden3, hidden4)\n",
        "        self.fc5 = nn.Linear(hidden4, num_labels)\n",
        "\n",
        "    def forward(self, x):\n",
        "        batch_size = len(x)\n",
        "        if batch_size != self.batch_size:\n",
        "            self.batch_size = batch_size\n",
        "\n",
        "        # Here we feed our data through our neural network\n",
        "        # Please send them through each layer one my one.\n",
        "        x = torch.FloatTensor(x)\n",
        "        x = (self.fc1(x))\n",
        "        x = F.hardsigmoid(self.fc2(x))\n",
        "        x = F.hardsigmoid(self.fc3(x))\n",
        "        x = F.hardsigmoid(self.fc4(x))\n",
        "        x = self.fc5(x)\n",
        "        return x"
      ]
    },
    {
      "cell_type": "markdown",
      "metadata": {
        "id": "ZU0R7y2j9rOF"
      },
      "source": [
        "<h1>Exercise 4.2</h1>\n",
        "(not scored)<br> Play with HIDDEN1 and HIDDEN2 parameters. Try to find which parameter configuration leads to better classification performance. The number below influences the amount of Neurons per Layer."
      ]
    },
    {
      "cell_type": "code",
      "execution_count": 34,
      "metadata": {
        "id": "EgoFy6Z3K5vC"
      },
      "outputs": [],
      "source": [
        "# Define hidden layer size\n",
        "HIDDEN1 = \"100\" #@param [10, 30, 50, 100, 200, 500] {allow-input: true}\n",
        "HIDDEN2 = \"200\" #@param [10, 30, 50, 100, 200, 500] {allow-input: true}\n",
        "HIDDEN3 = \"200\" #@param [10, 30, 50, 100, 200, 500] {allow-input: true}\n",
        "\n",
        "LEARNING_RATE = \"0.01\" #@param [0.1, 0.001, 0.0001, 0.00001, 0.000001, 0.00000001] {allow-input: true}\n",
        "criterion = nn.CrossEntropyLoss() # try out different loss functions here. read the documenation for more.\n",
        "\n",
        "HIDDEN1 = int(HIDDEN1)\n",
        "HIDDEN2 = int(HIDDEN2)\n",
        "HIDDEN3 = int(HIDDEN3)\n",
        "LEARNING_RATE = float(LEARNING_RATE)"
      ]
    },
    {
      "cell_type": "markdown",
      "metadata": {
        "id": "oJHJnPnJLUfo"
      },
      "source": [
        "<h1>Exercise 4.3</h1> (2 Points) <br> Add an extra hidden layer to the network, with a size of your choice. You can do it by modifying the cell below and of course adjusting the Class definition of `FeedfowardTextClassifier` such that it accepts one more layer when initialized."
      ]
    },
    {
      "cell_type": "code",
      "execution_count": 36,
      "metadata": {
        "id": "M0Q9ze4EQR8t",
        "colab": {
          "base_uri": "https://localhost:8080/"
        },
        "outputId": "3da6b469-4f6b-4c5e-9816-d6bb412de298"
      },
      "outputs": [
        {
          "output_type": "execute_result",
          "data": {
            "text/plain": [
              "FeedfowardTextClassifier(\n",
              "  (fc1): Linear(in_features=501, out_features=100, bias=True)\n",
              "  (fc2): Linear(in_features=100, out_features=100, bias=True)\n",
              "  (fc3): Linear(in_features=100, out_features=200, bias=True)\n",
              "  (fc4): Linear(in_features=200, out_features=200, bias=True)\n",
              "  (fc5): Linear(in_features=200, out_features=2, bias=True)\n",
              ")"
            ]
          },
          "metadata": {},
          "execution_count": 36
        }
      ],
      "source": [
        "# Initializing the model.\n",
        "bow_model = FeedfowardTextClassifier(\n",
        "    vocab_size=len(dataset.token2idx),\n",
        "    hidden1=HIDDEN1,\n",
        "    hidden2=HIDDEN1,\n",
        "    hidden3 = HIDDEN3,\n",
        "    hidden4=HIDDEN3,\n",
        "    num_labels=2,\n",
        "    device=device,\n",
        "    batch_size=BATCH_SIZE,\n",
        ")\n",
        "\n",
        "bow_model"
      ]
    },
    {
      "cell_type": "code",
      "execution_count": 37,
      "metadata": {
        "id": "a3PifawkQR8w",
        "colab": {
          "base_uri": "https://localhost:8080/"
        },
        "outputId": "b12d0a8b-37cc-4d5a-f67f-a002a4f74435"
      },
      "outputs": [
        {
          "output_type": "stream",
          "name": "stdout",
          "text": [
            "torch.Size([100, 501])\n",
            "torch.Size([100])\n",
            "torch.Size([100, 100])\n",
            "torch.Size([100])\n",
            "torch.Size([200, 100])\n",
            "torch.Size([200])\n",
            "torch.Size([200, 200])\n",
            "torch.Size([200])\n",
            "torch.Size([2, 200])\n",
            "torch.Size([2])\n"
          ]
        }
      ],
      "source": [
        "for param in bow_model.parameters():\n",
        "    print(param.size())"
      ]
    },
    {
      "cell_type": "markdown",
      "metadata": {
        "id": "F9AG4SosQR80"
      },
      "source": [
        "### Training the BoW Model\n",
        "\n",
        "Theoretically, our model now looks like this. You have seen these mathematical formulas in the lecture and the tutorial.\n",
        "\n",
        "\n",
        "Layer 1 affine: $$x_1 = W_1 X + b_1$$\n",
        "Layer 1 activation: $$h_1 = Relu(x_1)$$\n",
        "Layer 2 affine: $$x_2 = W_2 h_1 + b_2$$\n",
        "output: $$p = softmax(x_2)$$\n",
        "Loss: $$L = −(ylog(p)+(1−y)log(1−p))$$\n",
        "Gradient:\n",
        "$$\\frac{\\partial }{\\partial W_1}L(W_1, b_1, W_2, b_2) = \\frac{\\partial L}{\\partial p}\\frac{\\partial p}{\\partial x_2}\\frac{\\partial x_2}{\\partial h_1}\\frac{\\partial h_1}{\\partial x_1}\\frac{\\partial x_1}{\\partial W_1}$$\n",
        "\n",
        "Parameter update:\n",
        "$$W_1 = W_1 - \\alpha \\frac{\\partial L}{\\partial W_1}$$"
      ]
    },
    {
      "cell_type": "markdown",
      "metadata": {
        "id": "3utDgyY2G2vK"
      },
      "source": [
        "**Define a loss function, a gradient descent optimizer, and a scheduler.**\n",
        "\n",
        "- Criterion: compute *Loss* to see how much the prediction does differ from truth\n",
        "- Optimizer: different ways of updating the weight parameters. It can affect the speed of training and how easily the global minimum is reached.\n",
        "- Scheduler: dynamic alteration of the learning rate\n",
        "\n",
        "**Question**: When selecting optimizers, you can think about what problems we may run into when performing gradient desent? (hint: global minimum vs. local minimum) <br>\n",
        "(0.5 points)"
      ]
    },
    {
      "cell_type": "markdown",
      "metadata": {
        "id": "ZC6WD1lReyRY"
      },
      "source": [
        "**Your answer goes here:** there is a chance of hitting local minimum and then stop the learning process without hitting a global minimum which will prevent us from properly training the model. It is also important to choose an optimal learning rate, otherwise our loss might not converge to global minimum if the learning rate is too high."
      ]
    },
    {
      "cell_type": "code",
      "execution_count": 38,
      "metadata": {
        "id": "H2emTYNqE4yC"
      },
      "outputs": [],
      "source": [
        "criterion = nn.CrossEntropyLoss()\n",
        "\n",
        "optimizer = optim.Adam(\n",
        "    filter(lambda p: p.requires_grad, bow_model.parameters()),\n",
        "    lr=LEARNING_RATE,\n",
        ")\n",
        "scheduler = CosineAnnealingLR(optimizer, 1)"
      ]
    },
    {
      "cell_type": "markdown",
      "metadata": {
        "id": "IpHbURwPH74N"
      },
      "source": [
        "**Define training round & validation round** <br>\n",
        "Nothing to do here, just run the cell."
      ]
    },
    {
      "cell_type": "code",
      "execution_count": 39,
      "metadata": {
        "id": "ROAha1KQQR81"
      },
      "outputs": [],
      "source": [
        "def train_epoch(model, optimizer, train_loader, input_type='bow'):\n",
        "    model.train()\n",
        "    total_loss, total = 0, 0\n",
        "    for seq, bow, target, text in train_loader:\n",
        "        if input_type == 'bow':\n",
        "            inputs = bow\n",
        "\n",
        "        # Reset gradient\n",
        "        optimizer.zero_grad()\n",
        "\n",
        "        # Forward pass\n",
        "        output = model(inputs)\n",
        "\n",
        "        # Compute loss\n",
        "        loss = criterion(output, target)\n",
        "        # Perform gradient descent, backwards pass\n",
        "        loss.backward()\n",
        "\n",
        "        # Take a step in the right direction\n",
        "        optimizer.step()\n",
        "        scheduler.step()\n",
        "\n",
        "        # Record metrics\n",
        "        total_loss += loss.item()\n",
        "        total += len(target)\n",
        "\n",
        "    return total_loss / total\n",
        "\n",
        "\n",
        "def validate_epoch(model, valid_loader, input_type='bow'):\n",
        "    model.eval()\n",
        "    total_loss, total = 0, 0\n",
        "    with torch.no_grad():\n",
        "        for seq, bow, target, text in valid_loader:\n",
        "            if input_type == 'bow':\n",
        "                inputs = bow\n",
        "\n",
        "            # Forward pass\n",
        "            output = model(inputs)\n",
        "\n",
        "            # Calculate how wrong the model is\n",
        "            loss = criterion(output, target)\n",
        "\n",
        "            # Record metrics\n",
        "            total_loss += loss.item()\n",
        "            total += len(target)\n",
        "\n",
        "    return total_loss / total"
      ]
    },
    {
      "cell_type": "markdown",
      "metadata": {
        "id": "4JwqTT6bQR83"
      },
      "source": [
        "And after all the construction work, we can now finally **train our classifier!**"
      ]
    },
    {
      "cell_type": "code",
      "execution_count": 40,
      "metadata": {
        "id": "k_DOlOHkQR83",
        "colab": {
          "base_uri": "https://localhost:8080/"
        },
        "outputId": "84a07c6e-180a-47f5-a5f3-cc7135842cf1"
      },
      "outputs": [
        {
          "output_type": "stream",
          "name": "stdout",
          "text": [
            "epoch #  1\ttrain_loss: 1.00e-03\tvalid_loss: 9.88e-04\n",
            "\n",
            "epoch #  2\ttrain_loss: 9.73e-04\tvalid_loss: 9.75e-04\n",
            "\n",
            "epoch #  3\ttrain_loss: 9.66e-04\tvalid_loss: 9.73e-04\n",
            "\n",
            "epoch #  4\ttrain_loss: 9.62e-04\tvalid_loss: 9.70e-04\n",
            "\n",
            "epoch #  5\ttrain_loss: 9.58e-04\tvalid_loss: 9.67e-04\n",
            "\n",
            "epoch #  6\ttrain_loss: 9.55e-04\tvalid_loss: 9.70e-04\n",
            "\n",
            "epoch #  7\ttrain_loss: 9.53e-04\tvalid_loss: 9.66e-04\n",
            "\n",
            "epoch #  8\ttrain_loss: 9.51e-04\tvalid_loss: 9.66e-04\n",
            "\n",
            "epoch #  9\ttrain_loss: 9.49e-04\tvalid_loss: 9.65e-04\n",
            "\n",
            "epoch # 10\ttrain_loss: 9.47e-04\tvalid_loss: 9.65e-04\n",
            "\n",
            "epoch # 11\ttrain_loss: 9.45e-04\tvalid_loss: 9.66e-04\n",
            "\n",
            "epoch # 12\ttrain_loss: 9.45e-04\tvalid_loss: 9.67e-04\n",
            "\n",
            "Stopping early\n"
          ]
        }
      ],
      "source": [
        "n_epochs = 0\n",
        "max_epochs =20\n",
        "train_losses, valid_losses = [], []\n",
        "while n_epochs <= max_epochs:\n",
        "    train_loss = train_epoch(bow_model, optimizer, train_loader, input_type='bow')\n",
        "    valid_loss = validate_epoch(bow_model, valid_loader, input_type='bow')\n",
        "\n",
        "    tqdm.write(\n",
        "        f'epoch #{n_epochs + 1:3d}\\ttrain_loss: {train_loss:.2e}\\tvalid_loss: {valid_loss:.2e}\\n',\n",
        "    )\n",
        "\n",
        "    # Early stopping if the current valid_loss is greater than the last three valid losses\n",
        "    if len(valid_losses) > 2 and all(valid_loss >= loss for loss in valid_losses[-3:]):\n",
        "        print('Stopping early')\n",
        "        break\n",
        "\n",
        "    train_losses.append(train_loss)\n",
        "    valid_losses.append(valid_loss)\n",
        "\n",
        "    n_epochs += 1"
      ]
    },
    {
      "cell_type": "code",
      "execution_count": 39,
      "metadata": {
        "id": "kmGeqkhPZ9cp",
        "colab": {
          "base_uri": "https://localhost:8080/",
          "height": 461
        },
        "outputId": "0ecf54c7-b51c-4060-b4fe-55c993d028a8"
      },
      "outputs": [
        {
          "output_type": "display_data",
          "data": {
            "text/plain": [
              "<Figure size 640x480 with 1 Axes>"
            ],
            "image/svg+xml": "<?xml version=\"1.0\" encoding=\"utf-8\" standalone=\"no\"?>\n<!DOCTYPE svg PUBLIC \"-//W3C//DTD SVG 1.1//EN\"\n  \"http://www.w3.org/Graphics/SVG/1.1/DTD/svg11.dtd\">\n<svg xmlns:xlink=\"http://www.w3.org/1999/xlink\" width=\"441.849375pt\" height=\"329.745625pt\" viewBox=\"0 0 441.849375 329.745625\" xmlns=\"http://www.w3.org/2000/svg\" version=\"1.1\">\n <metadata>\n  <rdf:RDF xmlns:dc=\"http://purl.org/dc/elements/1.1/\" xmlns:cc=\"http://creativecommons.org/ns#\" xmlns:rdf=\"http://www.w3.org/1999/02/22-rdf-syntax-ns#\">\n   <cc:Work>\n    <dc:type rdf:resource=\"http://purl.org/dc/dcmitype/StillImage\"/>\n    <dc:date>2023-12-13T19:25:38.529173</dc:date>\n    <dc:format>image/svg+xml</dc:format>\n    <dc:creator>\n     <cc:Agent>\n      <dc:title>Matplotlib v3.7.1, https://matplotlib.org/</dc:title>\n     </cc:Agent>\n    </dc:creator>\n   </cc:Work>\n  </rdf:RDF>\n </metadata>\n <defs>\n  <style type=\"text/css\">*{stroke-linejoin: round; stroke-linecap: butt}</style>\n </defs>\n <g id=\"figure_1\">\n  <g id=\"patch_1\">\n   <path d=\"M 0 329.745625 \nL 441.849375 329.745625 \nL 441.849375 0 \nL 0 0 \nz\n\" style=\"fill: #ffffff\"/>\n  </g>\n  <g id=\"axes_1\">\n   <g id=\"patch_2\">\n    <path d=\"M 77.529375 290.25375 \nL 434.649375 290.25375 \nL 434.649375 24.14175 \nL 77.529375 24.14175 \nz\n\" style=\"fill: #e5e5e5\"/>\n   </g>\n   <g id=\"matplotlib.axis_1\">\n    <g id=\"xtick_1\">\n     <g id=\"line2d_1\">\n      <path d=\"M 93.762102 290.25375 \nL 93.762102 24.14175 \n\" clip-path=\"url(#pc3f064a940)\" style=\"fill: none; stroke: #ffffff; stroke-width: 0.8; stroke-linecap: square\"/>\n     </g>\n     <g id=\"line2d_2\">\n      <defs>\n       <path id=\"m4f6bcc3c18\" d=\"M 0 0 \nL 0 3.5 \n\" style=\"stroke: #555555; stroke-width: 0.8\"/>\n      </defs>\n      <g>\n       <use xlink:href=\"#m4f6bcc3c18\" x=\"93.762102\" y=\"290.25375\" style=\"fill: #555555; stroke: #555555; stroke-width: 0.8\"/>\n      </g>\n     </g>\n     <g id=\"text_1\">\n      <!-- 1 -->\n      <g style=\"fill: #555555\" transform=\"translate(90.580852 304.852187) scale(0.1 -0.1)\">\n       <defs>\n        <path id=\"DejaVuSans-31\" d=\"M 794 531 \nL 1825 531 \nL 1825 4091 \nL 703 3866 \nL 703 4441 \nL 1819 4666 \nL 2450 4666 \nL 2450 531 \nL 3481 531 \nL 3481 0 \nL 794 0 \nL 794 531 \nz\n\" transform=\"scale(0.015625)\"/>\n       </defs>\n       <use xlink:href=\"#DejaVuSans-31\"/>\n      </g>\n     </g>\n    </g>\n    <g id=\"xtick_2\">\n     <g id=\"line2d_3\">\n      <path d=\"M 256.089375 290.25375 \nL 256.089375 24.14175 \n\" clip-path=\"url(#pc3f064a940)\" style=\"fill: none; stroke: #ffffff; stroke-width: 0.8; stroke-linecap: square\"/>\n     </g>\n     <g id=\"line2d_4\">\n      <g>\n       <use xlink:href=\"#m4f6bcc3c18\" x=\"256.089375\" y=\"290.25375\" style=\"fill: #555555; stroke: #555555; stroke-width: 0.8\"/>\n      </g>\n     </g>\n     <g id=\"text_2\">\n      <!-- 2 -->\n      <g style=\"fill: #555555\" transform=\"translate(252.908125 304.852187) scale(0.1 -0.1)\">\n       <defs>\n        <path id=\"DejaVuSans-32\" d=\"M 1228 531 \nL 3431 531 \nL 3431 0 \nL 469 0 \nL 469 531 \nQ 828 903 1448 1529 \nQ 2069 2156 2228 2338 \nQ 2531 2678 2651 2914 \nQ 2772 3150 2772 3378 \nQ 2772 3750 2511 3984 \nQ 2250 4219 1831 4219 \nQ 1534 4219 1204 4116 \nQ 875 4013 500 3803 \nL 500 4441 \nQ 881 4594 1212 4672 \nQ 1544 4750 1819 4750 \nQ 2544 4750 2975 4387 \nQ 3406 4025 3406 3419 \nQ 3406 3131 3298 2873 \nQ 3191 2616 2906 2266 \nQ 2828 2175 2409 1742 \nQ 1991 1309 1228 531 \nz\n\" transform=\"scale(0.015625)\"/>\n       </defs>\n       <use xlink:href=\"#DejaVuSans-32\"/>\n      </g>\n     </g>\n    </g>\n    <g id=\"xtick_3\">\n     <g id=\"line2d_5\">\n      <path d=\"M 418.416648 290.25375 \nL 418.416648 24.14175 \n\" clip-path=\"url(#pc3f064a940)\" style=\"fill: none; stroke: #ffffff; stroke-width: 0.8; stroke-linecap: square\"/>\n     </g>\n     <g id=\"line2d_6\">\n      <g>\n       <use xlink:href=\"#m4f6bcc3c18\" x=\"418.416648\" y=\"290.25375\" style=\"fill: #555555; stroke: #555555; stroke-width: 0.8\"/>\n      </g>\n     </g>\n     <g id=\"text_3\">\n      <!-- 3 -->\n      <g style=\"fill: #555555\" transform=\"translate(415.235398 304.852187) scale(0.1 -0.1)\">\n       <defs>\n        <path id=\"DejaVuSans-33\" d=\"M 2597 2516 \nQ 3050 2419 3304 2112 \nQ 3559 1806 3559 1356 \nQ 3559 666 3084 287 \nQ 2609 -91 1734 -91 \nQ 1441 -91 1130 -33 \nQ 819 25 488 141 \nL 488 750 \nQ 750 597 1062 519 \nQ 1375 441 1716 441 \nQ 2309 441 2620 675 \nQ 2931 909 2931 1356 \nQ 2931 1769 2642 2001 \nQ 2353 2234 1838 2234 \nL 1294 2234 \nL 1294 2753 \nL 1863 2753 \nQ 2328 2753 2575 2939 \nQ 2822 3125 2822 3475 \nQ 2822 3834 2567 4026 \nQ 2313 4219 1838 4219 \nQ 1578 4219 1281 4162 \nQ 984 4106 628 3988 \nL 628 4550 \nQ 988 4650 1302 4700 \nQ 1616 4750 1894 4750 \nQ 2613 4750 3031 4423 \nQ 3450 4097 3450 3541 \nQ 3450 3153 3228 2886 \nQ 3006 2619 2597 2516 \nz\n\" transform=\"scale(0.015625)\"/>\n       </defs>\n       <use xlink:href=\"#DejaVuSans-33\"/>\n      </g>\n     </g>\n    </g>\n    <g id=\"text_4\">\n     <!-- Epoch # -->\n     <g style=\"fill: #555555\" transform=\"translate(230.781563 320.05) scale(0.12 -0.12)\">\n      <defs>\n       <path id=\"DejaVuSans-45\" d=\"M 628 4666 \nL 3578 4666 \nL 3578 4134 \nL 1259 4134 \nL 1259 2753 \nL 3481 2753 \nL 3481 2222 \nL 1259 2222 \nL 1259 531 \nL 3634 531 \nL 3634 0 \nL 628 0 \nL 628 4666 \nz\n\" transform=\"scale(0.015625)\"/>\n       <path id=\"DejaVuSans-70\" d=\"M 1159 525 \nL 1159 -1331 \nL 581 -1331 \nL 581 3500 \nL 1159 3500 \nL 1159 2969 \nQ 1341 3281 1617 3432 \nQ 1894 3584 2278 3584 \nQ 2916 3584 3314 3078 \nQ 3713 2572 3713 1747 \nQ 3713 922 3314 415 \nQ 2916 -91 2278 -91 \nQ 1894 -91 1617 61 \nQ 1341 213 1159 525 \nz\nM 3116 1747 \nQ 3116 2381 2855 2742 \nQ 2594 3103 2138 3103 \nQ 1681 3103 1420 2742 \nQ 1159 2381 1159 1747 \nQ 1159 1113 1420 752 \nQ 1681 391 2138 391 \nQ 2594 391 2855 752 \nQ 3116 1113 3116 1747 \nz\n\" transform=\"scale(0.015625)\"/>\n       <path id=\"DejaVuSans-6f\" d=\"M 1959 3097 \nQ 1497 3097 1228 2736 \nQ 959 2375 959 1747 \nQ 959 1119 1226 758 \nQ 1494 397 1959 397 \nQ 2419 397 2687 759 \nQ 2956 1122 2956 1747 \nQ 2956 2369 2687 2733 \nQ 2419 3097 1959 3097 \nz\nM 1959 3584 \nQ 2709 3584 3137 3096 \nQ 3566 2609 3566 1747 \nQ 3566 888 3137 398 \nQ 2709 -91 1959 -91 \nQ 1206 -91 779 398 \nQ 353 888 353 1747 \nQ 353 2609 779 3096 \nQ 1206 3584 1959 3584 \nz\n\" transform=\"scale(0.015625)\"/>\n       <path id=\"DejaVuSans-63\" d=\"M 3122 3366 \nL 3122 2828 \nQ 2878 2963 2633 3030 \nQ 2388 3097 2138 3097 \nQ 1578 3097 1268 2742 \nQ 959 2388 959 1747 \nQ 959 1106 1268 751 \nQ 1578 397 2138 397 \nQ 2388 397 2633 464 \nQ 2878 531 3122 666 \nL 3122 134 \nQ 2881 22 2623 -34 \nQ 2366 -91 2075 -91 \nQ 1284 -91 818 406 \nQ 353 903 353 1747 \nQ 353 2603 823 3093 \nQ 1294 3584 2113 3584 \nQ 2378 3584 2631 3529 \nQ 2884 3475 3122 3366 \nz\n\" transform=\"scale(0.015625)\"/>\n       <path id=\"DejaVuSans-68\" d=\"M 3513 2113 \nL 3513 0 \nL 2938 0 \nL 2938 2094 \nQ 2938 2591 2744 2837 \nQ 2550 3084 2163 3084 \nQ 1697 3084 1428 2787 \nQ 1159 2491 1159 1978 \nL 1159 0 \nL 581 0 \nL 581 4863 \nL 1159 4863 \nL 1159 2956 \nQ 1366 3272 1645 3428 \nQ 1925 3584 2291 3584 \nQ 2894 3584 3203 3211 \nQ 3513 2838 3513 2113 \nz\n\" transform=\"scale(0.015625)\"/>\n       <path id=\"DejaVuSans-20\" transform=\"scale(0.015625)\"/>\n       <path id=\"DejaVuSans-23\" d=\"M 3272 2816 \nL 2363 2816 \nL 2100 1772 \nL 3016 1772 \nL 3272 2816 \nz\nM 2803 4594 \nL 2478 3297 \nL 3391 3297 \nL 3719 4594 \nL 4219 4594 \nL 3897 3297 \nL 4872 3297 \nL 4872 2816 \nL 3775 2816 \nL 3519 1772 \nL 4513 1772 \nL 4513 1294 \nL 3397 1294 \nL 3072 0 \nL 2572 0 \nL 2894 1294 \nL 1978 1294 \nL 1656 0 \nL 1153 0 \nL 1478 1294 \nL 494 1294 \nL 494 1772 \nL 1594 1772 \nL 1856 2816 \nL 850 2816 \nL 850 3297 \nL 1978 3297 \nL 2297 4594 \nL 2803 4594 \nz\n\" transform=\"scale(0.015625)\"/>\n      </defs>\n      <use xlink:href=\"#DejaVuSans-45\"/>\n      <use xlink:href=\"#DejaVuSans-70\" x=\"63.183594\"/>\n      <use xlink:href=\"#DejaVuSans-6f\" x=\"126.660156\"/>\n      <use xlink:href=\"#DejaVuSans-63\" x=\"187.841797\"/>\n      <use xlink:href=\"#DejaVuSans-68\" x=\"242.822266\"/>\n      <use xlink:href=\"#DejaVuSans-20\" x=\"306.201172\"/>\n      <use xlink:href=\"#DejaVuSans-23\" x=\"337.988281\"/>\n     </g>\n    </g>\n   </g>\n   <g id=\"matplotlib.axis_2\">\n    <g id=\"ytick_1\">\n     <g id=\"line2d_7\">\n      <path d=\"M 77.529375 267.732633 \nL 434.649375 267.732633 \n\" clip-path=\"url(#pc3f064a940)\" style=\"fill: none; stroke: #ffffff; stroke-width: 0.8; stroke-linecap: square\"/>\n     </g>\n     <g id=\"line2d_8\">\n      <defs>\n       <path id=\"mf29afac003\" d=\"M 0 0 \nL -3.5 0 \n\" style=\"stroke: #555555; stroke-width: 0.8\"/>\n      </defs>\n      <g>\n       <use xlink:href=\"#mf29afac003\" x=\"77.529375\" y=\"267.732633\" style=\"fill: #555555; stroke: #555555; stroke-width: 0.8\"/>\n      </g>\n     </g>\n     <g id=\"text_5\">\n      <!-- 0.001315 -->\n      <g style=\"fill: #555555\" transform=\"translate(22.81375 271.531851) scale(0.1 -0.1)\">\n       <defs>\n        <path id=\"DejaVuSans-30\" d=\"M 2034 4250 \nQ 1547 4250 1301 3770 \nQ 1056 3291 1056 2328 \nQ 1056 1369 1301 889 \nQ 1547 409 2034 409 \nQ 2525 409 2770 889 \nQ 3016 1369 3016 2328 \nQ 3016 3291 2770 3770 \nQ 2525 4250 2034 4250 \nz\nM 2034 4750 \nQ 2819 4750 3233 4129 \nQ 3647 3509 3647 2328 \nQ 3647 1150 3233 529 \nQ 2819 -91 2034 -91 \nQ 1250 -91 836 529 \nQ 422 1150 422 2328 \nQ 422 3509 836 4129 \nQ 1250 4750 2034 4750 \nz\n\" transform=\"scale(0.015625)\"/>\n        <path id=\"DejaVuSans-2e\" d=\"M 684 794 \nL 1344 794 \nL 1344 0 \nL 684 0 \nL 684 794 \nz\n\" transform=\"scale(0.015625)\"/>\n        <path id=\"DejaVuSans-35\" d=\"M 691 4666 \nL 3169 4666 \nL 3169 4134 \nL 1269 4134 \nL 1269 2991 \nQ 1406 3038 1543 3061 \nQ 1681 3084 1819 3084 \nQ 2600 3084 3056 2656 \nQ 3513 2228 3513 1497 \nQ 3513 744 3044 326 \nQ 2575 -91 1722 -91 \nQ 1428 -91 1123 -41 \nQ 819 9 494 109 \nL 494 744 \nQ 775 591 1075 516 \nQ 1375 441 1709 441 \nQ 2250 441 2565 725 \nQ 2881 1009 2881 1497 \nQ 2881 1984 2565 2268 \nQ 2250 2553 1709 2553 \nQ 1456 2553 1204 2497 \nQ 953 2441 691 2322 \nL 691 4666 \nz\n\" transform=\"scale(0.015625)\"/>\n       </defs>\n       <use xlink:href=\"#DejaVuSans-30\"/>\n       <use xlink:href=\"#DejaVuSans-2e\" x=\"63.623047\"/>\n       <use xlink:href=\"#DejaVuSans-30\" x=\"95.410156\"/>\n       <use xlink:href=\"#DejaVuSans-30\" x=\"159.033203\"/>\n       <use xlink:href=\"#DejaVuSans-31\" x=\"222.65625\"/>\n       <use xlink:href=\"#DejaVuSans-33\" x=\"286.279297\"/>\n       <use xlink:href=\"#DejaVuSans-31\" x=\"349.902344\"/>\n       <use xlink:href=\"#DejaVuSans-35\" x=\"413.525391\"/>\n      </g>\n     </g>\n    </g>\n    <g id=\"ytick_2\">\n     <g id=\"line2d_9\">\n      <path d=\"M 77.529375 235.706012 \nL 434.649375 235.706012 \n\" clip-path=\"url(#pc3f064a940)\" style=\"fill: none; stroke: #ffffff; stroke-width: 0.8; stroke-linecap: square\"/>\n     </g>\n     <g id=\"line2d_10\">\n      <g>\n       <use xlink:href=\"#mf29afac003\" x=\"77.529375\" y=\"235.706012\" style=\"fill: #555555; stroke: #555555; stroke-width: 0.8\"/>\n      </g>\n     </g>\n     <g id=\"text_6\">\n      <!-- 0.001320 -->\n      <g style=\"fill: #555555\" transform=\"translate(22.81375 239.505231) scale(0.1 -0.1)\">\n       <use xlink:href=\"#DejaVuSans-30\"/>\n       <use xlink:href=\"#DejaVuSans-2e\" x=\"63.623047\"/>\n       <use xlink:href=\"#DejaVuSans-30\" x=\"95.410156\"/>\n       <use xlink:href=\"#DejaVuSans-30\" x=\"159.033203\"/>\n       <use xlink:href=\"#DejaVuSans-31\" x=\"222.65625\"/>\n       <use xlink:href=\"#DejaVuSans-33\" x=\"286.279297\"/>\n       <use xlink:href=\"#DejaVuSans-32\" x=\"349.902344\"/>\n       <use xlink:href=\"#DejaVuSans-30\" x=\"413.525391\"/>\n      </g>\n     </g>\n    </g>\n    <g id=\"ytick_3\">\n     <g id=\"line2d_11\">\n      <path d=\"M 77.529375 203.679392 \nL 434.649375 203.679392 \n\" clip-path=\"url(#pc3f064a940)\" style=\"fill: none; stroke: #ffffff; stroke-width: 0.8; stroke-linecap: square\"/>\n     </g>\n     <g id=\"line2d_12\">\n      <g>\n       <use xlink:href=\"#mf29afac003\" x=\"77.529375\" y=\"203.679392\" style=\"fill: #555555; stroke: #555555; stroke-width: 0.8\"/>\n      </g>\n     </g>\n     <g id=\"text_7\">\n      <!-- 0.001325 -->\n      <g style=\"fill: #555555\" transform=\"translate(22.81375 207.478611) scale(0.1 -0.1)\">\n       <use xlink:href=\"#DejaVuSans-30\"/>\n       <use xlink:href=\"#DejaVuSans-2e\" x=\"63.623047\"/>\n       <use xlink:href=\"#DejaVuSans-30\" x=\"95.410156\"/>\n       <use xlink:href=\"#DejaVuSans-30\" x=\"159.033203\"/>\n       <use xlink:href=\"#DejaVuSans-31\" x=\"222.65625\"/>\n       <use xlink:href=\"#DejaVuSans-33\" x=\"286.279297\"/>\n       <use xlink:href=\"#DejaVuSans-32\" x=\"349.902344\"/>\n       <use xlink:href=\"#DejaVuSans-35\" x=\"413.525391\"/>\n      </g>\n     </g>\n    </g>\n    <g id=\"ytick_4\">\n     <g id=\"line2d_13\">\n      <path d=\"M 77.529375 171.652771 \nL 434.649375 171.652771 \n\" clip-path=\"url(#pc3f064a940)\" style=\"fill: none; stroke: #ffffff; stroke-width: 0.8; stroke-linecap: square\"/>\n     </g>\n     <g id=\"line2d_14\">\n      <g>\n       <use xlink:href=\"#mf29afac003\" x=\"77.529375\" y=\"171.652771\" style=\"fill: #555555; stroke: #555555; stroke-width: 0.8\"/>\n      </g>\n     </g>\n     <g id=\"text_8\">\n      <!-- 0.001330 -->\n      <g style=\"fill: #555555\" transform=\"translate(22.81375 175.45199) scale(0.1 -0.1)\">\n       <use xlink:href=\"#DejaVuSans-30\"/>\n       <use xlink:href=\"#DejaVuSans-2e\" x=\"63.623047\"/>\n       <use xlink:href=\"#DejaVuSans-30\" x=\"95.410156\"/>\n       <use xlink:href=\"#DejaVuSans-30\" x=\"159.033203\"/>\n       <use xlink:href=\"#DejaVuSans-31\" x=\"222.65625\"/>\n       <use xlink:href=\"#DejaVuSans-33\" x=\"286.279297\"/>\n       <use xlink:href=\"#DejaVuSans-33\" x=\"349.902344\"/>\n       <use xlink:href=\"#DejaVuSans-30\" x=\"413.525391\"/>\n      </g>\n     </g>\n    </g>\n    <g id=\"ytick_5\">\n     <g id=\"line2d_15\">\n      <path d=\"M 77.529375 139.626151 \nL 434.649375 139.626151 \n\" clip-path=\"url(#pc3f064a940)\" style=\"fill: none; stroke: #ffffff; stroke-width: 0.8; stroke-linecap: square\"/>\n     </g>\n     <g id=\"line2d_16\">\n      <g>\n       <use xlink:href=\"#mf29afac003\" x=\"77.529375\" y=\"139.626151\" style=\"fill: #555555; stroke: #555555; stroke-width: 0.8\"/>\n      </g>\n     </g>\n     <g id=\"text_9\">\n      <!-- 0.001335 -->\n      <g style=\"fill: #555555\" transform=\"translate(22.81375 143.42537) scale(0.1 -0.1)\">\n       <use xlink:href=\"#DejaVuSans-30\"/>\n       <use xlink:href=\"#DejaVuSans-2e\" x=\"63.623047\"/>\n       <use xlink:href=\"#DejaVuSans-30\" x=\"95.410156\"/>\n       <use xlink:href=\"#DejaVuSans-30\" x=\"159.033203\"/>\n       <use xlink:href=\"#DejaVuSans-31\" x=\"222.65625\"/>\n       <use xlink:href=\"#DejaVuSans-33\" x=\"286.279297\"/>\n       <use xlink:href=\"#DejaVuSans-33\" x=\"349.902344\"/>\n       <use xlink:href=\"#DejaVuSans-35\" x=\"413.525391\"/>\n      </g>\n     </g>\n    </g>\n    <g id=\"ytick_6\">\n     <g id=\"line2d_17\">\n      <path d=\"M 77.529375 107.599531 \nL 434.649375 107.599531 \n\" clip-path=\"url(#pc3f064a940)\" style=\"fill: none; stroke: #ffffff; stroke-width: 0.8; stroke-linecap: square\"/>\n     </g>\n     <g id=\"line2d_18\">\n      <g>\n       <use xlink:href=\"#mf29afac003\" x=\"77.529375\" y=\"107.599531\" style=\"fill: #555555; stroke: #555555; stroke-width: 0.8\"/>\n      </g>\n     </g>\n     <g id=\"text_10\">\n      <!-- 0.001340 -->\n      <g style=\"fill: #555555\" transform=\"translate(22.81375 111.398749) scale(0.1 -0.1)\">\n       <defs>\n        <path id=\"DejaVuSans-34\" d=\"M 2419 4116 \nL 825 1625 \nL 2419 1625 \nL 2419 4116 \nz\nM 2253 4666 \nL 3047 4666 \nL 3047 1625 \nL 3713 1625 \nL 3713 1100 \nL 3047 1100 \nL 3047 0 \nL 2419 0 \nL 2419 1100 \nL 313 1100 \nL 313 1709 \nL 2253 4666 \nz\n\" transform=\"scale(0.015625)\"/>\n       </defs>\n       <use xlink:href=\"#DejaVuSans-30\"/>\n       <use xlink:href=\"#DejaVuSans-2e\" x=\"63.623047\"/>\n       <use xlink:href=\"#DejaVuSans-30\" x=\"95.410156\"/>\n       <use xlink:href=\"#DejaVuSans-30\" x=\"159.033203\"/>\n       <use xlink:href=\"#DejaVuSans-31\" x=\"222.65625\"/>\n       <use xlink:href=\"#DejaVuSans-33\" x=\"286.279297\"/>\n       <use xlink:href=\"#DejaVuSans-34\" x=\"349.902344\"/>\n       <use xlink:href=\"#DejaVuSans-30\" x=\"413.525391\"/>\n      </g>\n     </g>\n    </g>\n    <g id=\"ytick_7\">\n     <g id=\"line2d_19\">\n      <path d=\"M 77.529375 75.57291 \nL 434.649375 75.57291 \n\" clip-path=\"url(#pc3f064a940)\" style=\"fill: none; stroke: #ffffff; stroke-width: 0.8; stroke-linecap: square\"/>\n     </g>\n     <g id=\"line2d_20\">\n      <g>\n       <use xlink:href=\"#mf29afac003\" x=\"77.529375\" y=\"75.57291\" style=\"fill: #555555; stroke: #555555; stroke-width: 0.8\"/>\n      </g>\n     </g>\n     <g id=\"text_11\">\n      <!-- 0.001345 -->\n      <g style=\"fill: #555555\" transform=\"translate(22.81375 79.372129) scale(0.1 -0.1)\">\n       <use xlink:href=\"#DejaVuSans-30\"/>\n       <use xlink:href=\"#DejaVuSans-2e\" x=\"63.623047\"/>\n       <use xlink:href=\"#DejaVuSans-30\" x=\"95.410156\"/>\n       <use xlink:href=\"#DejaVuSans-30\" x=\"159.033203\"/>\n       <use xlink:href=\"#DejaVuSans-31\" x=\"222.65625\"/>\n       <use xlink:href=\"#DejaVuSans-33\" x=\"286.279297\"/>\n       <use xlink:href=\"#DejaVuSans-34\" x=\"349.902344\"/>\n       <use xlink:href=\"#DejaVuSans-35\" x=\"413.525391\"/>\n      </g>\n     </g>\n    </g>\n    <g id=\"ytick_8\">\n     <g id=\"line2d_21\">\n      <path d=\"M 77.529375 43.54629 \nL 434.649375 43.54629 \n\" clip-path=\"url(#pc3f064a940)\" style=\"fill: none; stroke: #ffffff; stroke-width: 0.8; stroke-linecap: square\"/>\n     </g>\n     <g id=\"line2d_22\">\n      <g>\n       <use xlink:href=\"#mf29afac003\" x=\"77.529375\" y=\"43.54629\" style=\"fill: #555555; stroke: #555555; stroke-width: 0.8\"/>\n      </g>\n     </g>\n     <g id=\"text_12\">\n      <!-- 0.001350 -->\n      <g style=\"fill: #555555\" transform=\"translate(22.81375 47.345509) scale(0.1 -0.1)\">\n       <use xlink:href=\"#DejaVuSans-30\"/>\n       <use xlink:href=\"#DejaVuSans-2e\" x=\"63.623047\"/>\n       <use xlink:href=\"#DejaVuSans-30\" x=\"95.410156\"/>\n       <use xlink:href=\"#DejaVuSans-30\" x=\"159.033203\"/>\n       <use xlink:href=\"#DejaVuSans-31\" x=\"222.65625\"/>\n       <use xlink:href=\"#DejaVuSans-33\" x=\"286.279297\"/>\n       <use xlink:href=\"#DejaVuSans-35\" x=\"349.902344\"/>\n       <use xlink:href=\"#DejaVuSans-30\" x=\"413.525391\"/>\n      </g>\n     </g>\n    </g>\n    <g id=\"text_13\">\n     <!-- Loss -->\n     <g style=\"fill: #555555\" transform=\"translate(16.318125 170.358375) rotate(-90) scale(0.12 -0.12)\">\n      <defs>\n       <path id=\"DejaVuSans-4c\" d=\"M 628 4666 \nL 1259 4666 \nL 1259 531 \nL 3531 531 \nL 3531 0 \nL 628 0 \nL 628 4666 \nz\n\" transform=\"scale(0.015625)\"/>\n       <path id=\"DejaVuSans-73\" d=\"M 2834 3397 \nL 2834 2853 \nQ 2591 2978 2328 3040 \nQ 2066 3103 1784 3103 \nQ 1356 3103 1142 2972 \nQ 928 2841 928 2578 \nQ 928 2378 1081 2264 \nQ 1234 2150 1697 2047 \nL 1894 2003 \nQ 2506 1872 2764 1633 \nQ 3022 1394 3022 966 \nQ 3022 478 2636 193 \nQ 2250 -91 1575 -91 \nQ 1294 -91 989 -36 \nQ 684 19 347 128 \nL 347 722 \nQ 666 556 975 473 \nQ 1284 391 1588 391 \nQ 1994 391 2212 530 \nQ 2431 669 2431 922 \nQ 2431 1156 2273 1281 \nQ 2116 1406 1581 1522 \nL 1381 1569 \nQ 847 1681 609 1914 \nQ 372 2147 372 2553 \nQ 372 3047 722 3315 \nQ 1072 3584 1716 3584 \nQ 2034 3584 2315 3537 \nQ 2597 3491 2834 3397 \nz\n\" transform=\"scale(0.015625)\"/>\n      </defs>\n      <use xlink:href=\"#DejaVuSans-4c\"/>\n      <use xlink:href=\"#DejaVuSans-6f\" x=\"53.962891\"/>\n      <use xlink:href=\"#DejaVuSans-73\" x=\"115.144531\"/>\n      <use xlink:href=\"#DejaVuSans-73\" x=\"167.244141\"/>\n     </g>\n    </g>\n   </g>\n   <g id=\"line2d_23\">\n    <path d=\"M 93.762102 36.23775 \nL 256.089375 278.15775 \nL 418.416648 278.15775 \n\" clip-path=\"url(#pc3f064a940)\" style=\"fill: none; stroke: #e24a33; stroke-width: 1.5; stroke-linecap: square\"/>\n   </g>\n   <g id=\"line2d_24\">\n    <path d=\"M 93.762102 262.663234 \nL 256.089375 262.663234 \nL 418.416648 262.663234 \n\" clip-path=\"url(#pc3f064a940)\" style=\"fill: none; stroke: #348abd; stroke-width: 1.5; stroke-linecap: square\"/>\n   </g>\n   <g id=\"patch_3\">\n    <path d=\"M 77.529375 290.25375 \nL 77.529375 24.14175 \n\" style=\"fill: none; stroke: #ffffff; stroke-linejoin: miter; stroke-linecap: square\"/>\n   </g>\n   <g id=\"patch_4\">\n    <path d=\"M 434.649375 290.25375 \nL 434.649375 24.14175 \n\" style=\"fill: none; stroke: #ffffff; stroke-linejoin: miter; stroke-linecap: square\"/>\n   </g>\n   <g id=\"patch_5\">\n    <path d=\"M 77.529375 290.25375 \nL 434.649375 290.25375 \n\" style=\"fill: none; stroke: #ffffff; stroke-linejoin: miter; stroke-linecap: square\"/>\n   </g>\n   <g id=\"patch_6\">\n    <path d=\"M 77.529375 24.14175 \nL 434.649375 24.14175 \n\" style=\"fill: none; stroke: #ffffff; stroke-linejoin: miter; stroke-linecap: square\"/>\n   </g>\n   <g id=\"text_14\">\n    <!-- Losses -->\n    <g transform=\"translate(232.115625 18.14175) scale(0.144 -0.144)\">\n     <defs>\n      <path id=\"DejaVuSans-65\" d=\"M 3597 1894 \nL 3597 1613 \nL 953 1613 \nQ 991 1019 1311 708 \nQ 1631 397 2203 397 \nQ 2534 397 2845 478 \nQ 3156 559 3463 722 \nL 3463 178 \nQ 3153 47 2828 -22 \nQ 2503 -91 2169 -91 \nQ 1331 -91 842 396 \nQ 353 884 353 1716 \nQ 353 2575 817 3079 \nQ 1281 3584 2069 3584 \nQ 2775 3584 3186 3129 \nQ 3597 2675 3597 1894 \nz\nM 3022 2063 \nQ 3016 2534 2758 2815 \nQ 2500 3097 2075 3097 \nQ 1594 3097 1305 2825 \nQ 1016 2553 972 2059 \nL 3022 2063 \nz\n\" transform=\"scale(0.015625)\"/>\n     </defs>\n     <use xlink:href=\"#DejaVuSans-4c\"/>\n     <use xlink:href=\"#DejaVuSans-6f\" x=\"53.962891\"/>\n     <use xlink:href=\"#DejaVuSans-73\" x=\"115.144531\"/>\n     <use xlink:href=\"#DejaVuSans-73\" x=\"167.244141\"/>\n     <use xlink:href=\"#DejaVuSans-65\" x=\"219.34375\"/>\n     <use xlink:href=\"#DejaVuSans-73\" x=\"280.867188\"/>\n    </g>\n   </g>\n   <g id=\"legend_1\">\n    <g id=\"patch_7\">\n     <path d=\"M 346.438438 61.498 \nL 427.649375 61.498 \nQ 429.649375 61.498 429.649375 59.498 \nL 429.649375 31.14175 \nQ 429.649375 29.14175 427.649375 29.14175 \nL 346.438438 29.14175 \nQ 344.438438 29.14175 344.438438 31.14175 \nL 344.438438 59.498 \nQ 344.438438 61.498 346.438438 61.498 \nz\n\" style=\"fill: #e5e5e5; opacity: 0.8; stroke: #cccccc; stroke-width: 0.5; stroke-linejoin: miter\"/>\n    </g>\n    <g id=\"line2d_25\">\n     <path d=\"M 348.438438 37.240187 \nL 358.438438 37.240187 \nL 368.438438 37.240187 \n\" style=\"fill: none; stroke: #e24a33; stroke-width: 1.5; stroke-linecap: square\"/>\n    </g>\n    <g id=\"text_15\">\n     <!-- Train Loss -->\n     <g transform=\"translate(376.438438 40.740187) scale(0.1 -0.1)\">\n      <defs>\n       <path id=\"DejaVuSans-54\" d=\"M -19 4666 \nL 3928 4666 \nL 3928 4134 \nL 2272 4134 \nL 2272 0 \nL 1638 0 \nL 1638 4134 \nL -19 4134 \nL -19 4666 \nz\n\" transform=\"scale(0.015625)\"/>\n       <path id=\"DejaVuSans-72\" d=\"M 2631 2963 \nQ 2534 3019 2420 3045 \nQ 2306 3072 2169 3072 \nQ 1681 3072 1420 2755 \nQ 1159 2438 1159 1844 \nL 1159 0 \nL 581 0 \nL 581 3500 \nL 1159 3500 \nL 1159 2956 \nQ 1341 3275 1631 3429 \nQ 1922 3584 2338 3584 \nQ 2397 3584 2469 3576 \nQ 2541 3569 2628 3553 \nL 2631 2963 \nz\n\" transform=\"scale(0.015625)\"/>\n       <path id=\"DejaVuSans-61\" d=\"M 2194 1759 \nQ 1497 1759 1228 1600 \nQ 959 1441 959 1056 \nQ 959 750 1161 570 \nQ 1363 391 1709 391 \nQ 2188 391 2477 730 \nQ 2766 1069 2766 1631 \nL 2766 1759 \nL 2194 1759 \nz\nM 3341 1997 \nL 3341 0 \nL 2766 0 \nL 2766 531 \nQ 2569 213 2275 61 \nQ 1981 -91 1556 -91 \nQ 1019 -91 701 211 \nQ 384 513 384 1019 \nQ 384 1609 779 1909 \nQ 1175 2209 1959 2209 \nL 2766 2209 \nL 2766 2266 \nQ 2766 2663 2505 2880 \nQ 2244 3097 1772 3097 \nQ 1472 3097 1187 3025 \nQ 903 2953 641 2809 \nL 641 3341 \nQ 956 3463 1253 3523 \nQ 1550 3584 1831 3584 \nQ 2591 3584 2966 3190 \nQ 3341 2797 3341 1997 \nz\n\" transform=\"scale(0.015625)\"/>\n       <path id=\"DejaVuSans-69\" d=\"M 603 3500 \nL 1178 3500 \nL 1178 0 \nL 603 0 \nL 603 3500 \nz\nM 603 4863 \nL 1178 4863 \nL 1178 4134 \nL 603 4134 \nL 603 4863 \nz\n\" transform=\"scale(0.015625)\"/>\n       <path id=\"DejaVuSans-6e\" d=\"M 3513 2113 \nL 3513 0 \nL 2938 0 \nL 2938 2094 \nQ 2938 2591 2744 2837 \nQ 2550 3084 2163 3084 \nQ 1697 3084 1428 2787 \nQ 1159 2491 1159 1978 \nL 1159 0 \nL 581 0 \nL 581 3500 \nL 1159 3500 \nL 1159 2956 \nQ 1366 3272 1645 3428 \nQ 1925 3584 2291 3584 \nQ 2894 3584 3203 3211 \nQ 3513 2838 3513 2113 \nz\n\" transform=\"scale(0.015625)\"/>\n      </defs>\n      <use xlink:href=\"#DejaVuSans-54\"/>\n      <use xlink:href=\"#DejaVuSans-72\" x=\"46.333984\"/>\n      <use xlink:href=\"#DejaVuSans-61\" x=\"87.447266\"/>\n      <use xlink:href=\"#DejaVuSans-69\" x=\"148.726562\"/>\n      <use xlink:href=\"#DejaVuSans-6e\" x=\"176.509766\"/>\n      <use xlink:href=\"#DejaVuSans-20\" x=\"239.888672\"/>\n      <use xlink:href=\"#DejaVuSans-4c\" x=\"271.675781\"/>\n      <use xlink:href=\"#DejaVuSans-6f\" x=\"325.638672\"/>\n      <use xlink:href=\"#DejaVuSans-73\" x=\"386.820312\"/>\n      <use xlink:href=\"#DejaVuSans-73\" x=\"438.919922\"/>\n     </g>\n    </g>\n    <g id=\"line2d_26\">\n     <path d=\"M 348.438438 51.918312 \nL 358.438438 51.918312 \nL 368.438438 51.918312 \n\" style=\"fill: none; stroke: #348abd; stroke-width: 1.5; stroke-linecap: square\"/>\n    </g>\n    <g id=\"text_16\">\n     <!-- Valid Loss -->\n     <g transform=\"translate(376.438438 55.418312) scale(0.1 -0.1)\">\n      <defs>\n       <path id=\"DejaVuSans-56\" d=\"M 1831 0 \nL 50 4666 \nL 709 4666 \nL 2188 738 \nL 3669 4666 \nL 4325 4666 \nL 2547 0 \nL 1831 0 \nz\n\" transform=\"scale(0.015625)\"/>\n       <path id=\"DejaVuSans-6c\" d=\"M 603 4863 \nL 1178 4863 \nL 1178 0 \nL 603 0 \nL 603 4863 \nz\n\" transform=\"scale(0.015625)\"/>\n       <path id=\"DejaVuSans-64\" d=\"M 2906 2969 \nL 2906 4863 \nL 3481 4863 \nL 3481 0 \nL 2906 0 \nL 2906 525 \nQ 2725 213 2448 61 \nQ 2172 -91 1784 -91 \nQ 1150 -91 751 415 \nQ 353 922 353 1747 \nQ 353 2572 751 3078 \nQ 1150 3584 1784 3584 \nQ 2172 3584 2448 3432 \nQ 2725 3281 2906 2969 \nz\nM 947 1747 \nQ 947 1113 1208 752 \nQ 1469 391 1925 391 \nQ 2381 391 2643 752 \nQ 2906 1113 2906 1747 \nQ 2906 2381 2643 2742 \nQ 2381 3103 1925 3103 \nQ 1469 3103 1208 2742 \nQ 947 2381 947 1747 \nz\n\" transform=\"scale(0.015625)\"/>\n      </defs>\n      <use xlink:href=\"#DejaVuSans-56\"/>\n      <use xlink:href=\"#DejaVuSans-61\" x=\"60.658203\"/>\n      <use xlink:href=\"#DejaVuSans-6c\" x=\"121.9375\"/>\n      <use xlink:href=\"#DejaVuSans-69\" x=\"149.720703\"/>\n      <use xlink:href=\"#DejaVuSans-64\" x=\"177.503906\"/>\n      <use xlink:href=\"#DejaVuSans-20\" x=\"240.980469\"/>\n      <use xlink:href=\"#DejaVuSans-4c\" x=\"272.767578\"/>\n      <use xlink:href=\"#DejaVuSans-6f\" x=\"326.730469\"/>\n      <use xlink:href=\"#DejaVuSans-73\" x=\"387.912109\"/>\n      <use xlink:href=\"#DejaVuSans-73\" x=\"440.011719\"/>\n     </g>\n    </g>\n   </g>\n  </g>\n </g>\n <defs>\n  <clipPath id=\"pc3f064a940\">\n   <rect x=\"77.529375\" y=\"24.14175\" width=\"357.12\" height=\"266.112\"/>\n  </clipPath>\n </defs>\n</svg>\n"
          },
          "metadata": {}
        }
      ],
      "source": [
        "# This plot will visualize the model's loss over the epochs it was trained for.\n",
        "epoch_ticks = range(1, n_epochs + 1)\n",
        "plt.plot(epoch_ticks, train_losses)\n",
        "plt.plot(epoch_ticks, valid_losses)\n",
        "plt.legend(['Train Loss', 'Valid Loss'])\n",
        "plt.title('Losses')\n",
        "plt.xlabel('Epoch #')\n",
        "plt.ylabel('Loss')\n",
        "plt.xticks(epoch_ticks)\n",
        "plt.show()"
      ]
    },
    {
      "cell_type": "markdown",
      "metadata": {
        "id": "f2V02KK6ZLQE"
      },
      "source": [
        "# 4.4. Understanding of the impact of layers and different parameters.\n",
        "\n",
        "  - In this section you will explore the impact of hidden layers, the number of neurons in each hidden layer, the learning rate and loss functions. We will produce the training and validation losses to compare the graphs of different combinations to build up a deeper understanding of how all these parameters can have an impact on the overall classification performance.\n",
        "\n",
        "  -  You are welcome to create your own number of hidden layers, experiment with it and observe the changes in the training and validation losses. In that case, don't forget to change the bow_model and FeedfowardTextClassifier class as well."
      ]
    },
    {
      "cell_type": "code",
      "execution_count": 41,
      "metadata": {
        "id": "1Ted2SscZ_B0",
        "colab": {
          "base_uri": "https://localhost:8080/"
        },
        "outputId": "c21faa03-5be2-4173-f38c-da94e676472c"
      },
      "outputs": [
        {
          "output_type": "stream",
          "name": "stdout",
          "text": [
            "training model for 0 combination of parameters.\n",
            "epoch #  1\ttrain_loss: 1.50e-03\tvalid_loss: 6.33e+01\n",
            "\n",
            "epoch #  2\ttrain_loss: 1.44e-03\tvalid_loss: 6.53e+01\n",
            "\n",
            "epoch #  3\ttrain_loss: 1.44e-03\tvalid_loss: 6.31e+01\n",
            "\n",
            "epoch #  4\ttrain_loss: 1.44e-03\tvalid_loss: 6.53e+01\n",
            "\n",
            "epoch #  5\ttrain_loss: 1.44e-03\tvalid_loss: 6.31e+01\n",
            "\n",
            "epoch #  6\ttrain_loss: 1.44e-03\tvalid_loss: 6.53e+01\n",
            "\n",
            "epoch #  7\ttrain_loss: 1.44e-03\tvalid_loss: 6.31e+01\n",
            "\n",
            "epoch #  8\ttrain_loss: 1.44e-03\tvalid_loss: 6.53e+01\n",
            "\n",
            "epoch #  9\ttrain_loss: 1.44e-03\tvalid_loss: 6.31e+01\n",
            "\n",
            "epoch # 10\ttrain_loss: 1.44e-03\tvalid_loss: 6.53e+01\n",
            "\n",
            "epoch # 11\ttrain_loss: 1.44e-03\tvalid_loss: 6.31e+01\n",
            "\n",
            "training model for 1 combination of parameters.\n",
            "epoch #  1\ttrain_loss: 1.06e-03\tvalid_loss: 4.71e+01\n",
            "\n",
            "epoch #  2\ttrain_loss: 9.73e-04\tvalid_loss: 4.67e+01\n",
            "\n",
            "epoch #  3\ttrain_loss: 9.64e-04\tvalid_loss: 4.65e+01\n",
            "\n",
            "epoch #  4\ttrain_loss: 9.59e-04\tvalid_loss: 4.64e+01\n",
            "\n",
            "epoch #  5\ttrain_loss: 9.55e-04\tvalid_loss: 4.63e+01\n",
            "\n",
            "epoch #  6\ttrain_loss: 9.52e-04\tvalid_loss: 4.64e+01\n",
            "\n",
            "epoch #  7\ttrain_loss: 9.50e-04\tvalid_loss: 4.62e+01\n",
            "\n",
            "epoch #  8\ttrain_loss: 9.47e-04\tvalid_loss: 4.63e+01\n",
            "\n",
            "epoch #  9\ttrain_loss: 9.46e-04\tvalid_loss: 4.62e+01\n",
            "\n",
            "epoch # 10\ttrain_loss: 9.44e-04\tvalid_loss: 4.63e+01\n",
            "\n",
            "epoch # 11\ttrain_loss: 9.42e-04\tvalid_loss: 4.63e+01\n",
            "\n",
            "training model for 2 combination of parameters.\n",
            "epoch #  1\ttrain_loss: 1.03e-03\tvalid_loss: 4.83e+01\n",
            "\n",
            "epoch #  2\ttrain_loss: 9.88e-04\tvalid_loss: 4.73e+01\n",
            "\n",
            "epoch #  3\ttrain_loss: 9.76e-04\tvalid_loss: 4.71e+01\n",
            "\n",
            "epoch #  4\ttrain_loss: 9.73e-04\tvalid_loss: 4.71e+01\n",
            "\n",
            "epoch #  5\ttrain_loss: 9.70e-04\tvalid_loss: 4.69e+01\n",
            "\n",
            "epoch #  6\ttrain_loss: 9.68e-04\tvalid_loss: 4.68e+01\n",
            "\n",
            "epoch #  7\ttrain_loss: 9.66e-04\tvalid_loss: 4.67e+01\n",
            "\n",
            "epoch #  8\ttrain_loss: 9.64e-04\tvalid_loss: 4.67e+01\n",
            "\n",
            "epoch #  9\ttrain_loss: 9.62e-04\tvalid_loss: 4.65e+01\n",
            "\n",
            "epoch # 10\ttrain_loss: 9.61e-04\tvalid_loss: 4.65e+01\n",
            "\n",
            "epoch # 11\ttrain_loss: 9.60e-04\tvalid_loss: 4.64e+01\n",
            "\n"
          ]
        }
      ],
      "source": [
        "# This exercise will take some time. Have patience.\n",
        "\n",
        "HIDDEN_1 = [64, 128, 128] # change your parameters here\n",
        "HIDDEN_2 = [128, 128, 128] # change your parameters here\n",
        "HIDDEN_3 = [128, 512, 64] # change your parameters here\n",
        "\n",
        "LEARNING__RATE = [0.1, 0.01, 0.001] # change your parameters here\n",
        "max_epochs =[10,10,10] # change your parameters here, you can keep the epocs same to comare the results for different set of experiments.\n",
        "\n",
        "criterion = nn.CrossEntropyLoss() # try out different loss functions here. read documentaion for more\n",
        "\n",
        "combination = 3\n",
        "results = []\n",
        "\n",
        "for i in range(combination) :\n",
        "  print(f'training model for {i} combination of parameters.')\n",
        "\n",
        "  HIDDEN1 = HIDDEN_1[i]\n",
        "  HIDDEN2 = HIDDEN_2[i]\n",
        "  HIDDEN3 = HIDDEN_3[i]\n",
        "  LEARNING_RATE = LEARNING__RATE[i]\n",
        "\n",
        "# Store results for each run\n",
        "\n",
        "  # Initialize the model with current parameters\n",
        "  bow_model = FeedfowardTextClassifier(\n",
        "      vocab_size=len(dataset.token2idx),\n",
        "      hidden1=HIDDEN1,\n",
        "      hidden2=HIDDEN1,\n",
        "      hidden3 = HIDDEN3,\n",
        "      hidden4 = HIDDEN3,\n",
        "      num_labels=2,\n",
        "      device=device,\n",
        "      batch_size=BATCH_SIZE,\n",
        "  )\n",
        "\n",
        "  # Convert learning_rate to float\n",
        "  learning_rate = float(LEARNING_RATE)\n",
        "\n",
        "  optimizer = optim.Adam(\n",
        "      filter(lambda p: p.requires_grad, bow_model.parameters()),\n",
        "      lr=learning_rate,\n",
        "  )\n",
        "  scheduler = CosineAnnealingLR(optimizer, 1)\n",
        "  def train_epoch(model, optimizer, train_loader, input_type='bow'):\n",
        "    model.train()\n",
        "    total_loss, total = 0, 0\n",
        "    for seq, bow, target, text in train_loader:\n",
        "        if input_type == 'bow':\n",
        "            inputs = bow\n",
        "\n",
        "        # Reset gradient\n",
        "        optimizer.zero_grad()\n",
        "\n",
        "        # Forward pass\n",
        "        output = model(inputs)\n",
        "\n",
        "        # Compute loss\n",
        "        loss = criterion(output, target)\n",
        "\n",
        "        # Perform gradient descent, backwards pass\n",
        "        loss.backward()\n",
        "\n",
        "        # Take a step in the right direction\n",
        "        optimizer.step()\n",
        "        scheduler.step()\n",
        "\n",
        "        # Record metrics\n",
        "        total_loss += loss.item()\n",
        "        total += len(target)\n",
        "\n",
        "    return total_loss / total\n",
        "\n",
        "\n",
        "  def validate_epoch(model, valid_loader, input_type='bow'):\n",
        "    model.eval()\n",
        "    total_loss, total = 0, 0\n",
        "    with torch.no_grad():\n",
        "        for seq, bow, target, text in valid_loader:\n",
        "            if input_type == 'bow':\n",
        "                inputs = bow\n",
        "\n",
        "            # Forward pass\n",
        "            output = model(inputs)\n",
        "\n",
        "            # Calculate how wrong the model is\n",
        "            loss = criterion(output, target)\n",
        "\n",
        "            # Record metrics\n",
        "            total_loss += loss.item()\n",
        "            total += len(target)\n",
        "\n",
        "    return total_loss\n",
        "\n",
        "  n_epochs = 0\n",
        "  train_losses, valid_losses = [], []\n",
        "  while n_epochs <= max_epochs[i]:\n",
        "      train_loss = train_epoch(bow_model, optimizer, train_loader, input_type='bow')\n",
        "      valid_loss = validate_epoch(bow_model, valid_loader, input_type='bow')\n",
        "\n",
        "      tqdm.write(\n",
        "          f'epoch #{n_epochs + 1:3d}\\ttrain_loss: {train_loss:.2e}\\tvalid_loss: {valid_loss:.2e}\\n',\n",
        "      )\n",
        "\n",
        "      train_losses.append(train_loss)\n",
        "      valid_losses.append(valid_loss)\n",
        "\n",
        "      n_epochs += 1\n",
        "\n",
        "  # Store the results for this run\n",
        "  result_entry = {\n",
        "      'combination': f' hidden1 = {HIDDEN1}, hidden2 = {HIDDEN2}, hidden3 = {HIDDEN3},\\n  learning_rate = {LEARNING_RATE}, and epoch = {max_epochs[i]}'  ,\n",
        "      'learning_rate': learning_rate,\n",
        "      'max_epochs': max_epochs,\n",
        "      'train_losses': train_losses,\n",
        "      'valid_losses': valid_losses,\n",
        "  }\n",
        "\n",
        "  results.append(result_entry)"
      ]
    },
    {
      "cell_type": "markdown",
      "metadata": {
        "id": "dE3ylZ4UmP71"
      },
      "source": [
        "You can also play with `MAX_VOCAB` parameter that set the number of unique and most frequent words to include in our vocabulary. If you do so, you need to re-run some code blocks from above. Try to find which parameter configuration leads to better classification performance."
      ]
    },
    {
      "cell_type": "markdown",
      "metadata": {
        "id": "pV6o4b2ZaC-X"
      },
      "source": [
        "### Here we will produce the graphs to compare the and understand the results."
      ]
    },
    {
      "cell_type": "code",
      "execution_count": 42,
      "metadata": {
        "id": "nX4LFaXTaDWN",
        "colab": {
          "base_uri": "https://localhost:8080/",
          "height": 1000
        },
        "outputId": "a3c19e9a-53a7-4e47-86c0-d68c705b8210"
      },
      "outputs": [
        {
          "output_type": "display_data",
          "data": {
            "text/plain": [
              "<Figure size 1000x500 with 1 Axes>"
            ],
            "image/svg+xml": "<?xml version=\"1.0\" encoding=\"utf-8\" standalone=\"no\"?>\n<!DOCTYPE svg PUBLIC \"-//W3C//DTD SVG 1.1//EN\"\n  \"http://www.w3.org/Graphics/SVG/1.1/DTD/svg11.dtd\">\n<svg xmlns:xlink=\"http://www.w3.org/1999/xlink\" width=\"711.48875pt\" height=\"351.478475pt\" viewBox=\"0 0 711.48875 351.478475\" xmlns=\"http://www.w3.org/2000/svg\" version=\"1.1\">\n <metadata>\n  <rdf:RDF xmlns:dc=\"http://purl.org/dc/elements/1.1/\" xmlns:cc=\"http://creativecommons.org/ns#\" xmlns:rdf=\"http://www.w3.org/1999/02/22-rdf-syntax-ns#\">\n   <cc:Work>\n    <dc:type rdf:resource=\"http://purl.org/dc/dcmitype/StillImage\"/>\n    <dc:date>2023-12-14T10:24:58.169490</dc:date>\n    <dc:format>image/svg+xml</dc:format>\n    <dc:creator>\n     <cc:Agent>\n      <dc:title>Matplotlib v3.7.1, https://matplotlib.org/</dc:title>\n     </cc:Agent>\n    </dc:creator>\n   </cc:Work>\n  </rdf:RDF>\n </metadata>\n <defs>\n  <style type=\"text/css\">*{stroke-linejoin: round; stroke-linecap: butt}</style>\n </defs>\n <g id=\"figure_1\">\n  <g id=\"patch_1\">\n   <path d=\"M 0 351.478475 \nL 711.48875 351.478475 \nL 711.48875 0 \nL 0 0 \nz\n\" style=\"fill: #ffffff\"/>\n  </g>\n  <g id=\"axes_1\">\n   <g id=\"patch_2\">\n    <path d=\"M 42.53875 311.9866 \nL 704.28875 311.9866 \nL 704.28875 40.2666 \nL 42.53875 40.2666 \nz\n\" style=\"fill: #e5e5e5\"/>\n   </g>\n   <g id=\"matplotlib.axis_1\">\n    <g id=\"xtick_1\">\n     <g id=\"line2d_1\">\n      <path d=\"M 72.618295 311.9866 \nL 72.618295 40.2666 \n\" clip-path=\"url(#pa3d1a7d4d4)\" style=\"fill: none; stroke: #ffffff; stroke-width: 0.8; stroke-linecap: square\"/>\n     </g>\n     <g id=\"line2d_2\">\n      <defs>\n       <path id=\"m31e0edaa57\" d=\"M 0 0 \nL 0 3.5 \n\" style=\"stroke: #555555; stroke-width: 0.8\"/>\n      </defs>\n      <g>\n       <use xlink:href=\"#m31e0edaa57\" x=\"72.618295\" y=\"311.9866\" style=\"fill: #555555; stroke: #555555; stroke-width: 0.8\"/>\n      </g>\n     </g>\n     <g id=\"text_1\">\n      <!-- 1 -->\n      <g style=\"fill: #555555\" transform=\"translate(69.437045 326.585037) scale(0.1 -0.1)\">\n       <defs>\n        <path id=\"DejaVuSans-31\" d=\"M 794 531 \nL 1825 531 \nL 1825 4091 \nL 703 3866 \nL 703 4441 \nL 1819 4666 \nL 2450 4666 \nL 2450 531 \nL 3481 531 \nL 3481 0 \nL 794 0 \nL 794 531 \nz\n\" transform=\"scale(0.015625)\"/>\n       </defs>\n       <use xlink:href=\"#DejaVuSans-31\"/>\n      </g>\n     </g>\n    </g>\n    <g id=\"xtick_2\">\n     <g id=\"line2d_3\">\n      <path d=\"M 132.777386 311.9866 \nL 132.777386 40.2666 \n\" clip-path=\"url(#pa3d1a7d4d4)\" style=\"fill: none; stroke: #ffffff; stroke-width: 0.8; stroke-linecap: square\"/>\n     </g>\n     <g id=\"line2d_4\">\n      <g>\n       <use xlink:href=\"#m31e0edaa57\" x=\"132.777386\" y=\"311.9866\" style=\"fill: #555555; stroke: #555555; stroke-width: 0.8\"/>\n      </g>\n     </g>\n     <g id=\"text_2\">\n      <!-- 2 -->\n      <g style=\"fill: #555555\" transform=\"translate(129.596136 326.585037) scale(0.1 -0.1)\">\n       <defs>\n        <path id=\"DejaVuSans-32\" d=\"M 1228 531 \nL 3431 531 \nL 3431 0 \nL 469 0 \nL 469 531 \nQ 828 903 1448 1529 \nQ 2069 2156 2228 2338 \nQ 2531 2678 2651 2914 \nQ 2772 3150 2772 3378 \nQ 2772 3750 2511 3984 \nQ 2250 4219 1831 4219 \nQ 1534 4219 1204 4116 \nQ 875 4013 500 3803 \nL 500 4441 \nQ 881 4594 1212 4672 \nQ 1544 4750 1819 4750 \nQ 2544 4750 2975 4387 \nQ 3406 4025 3406 3419 \nQ 3406 3131 3298 2873 \nQ 3191 2616 2906 2266 \nQ 2828 2175 2409 1742 \nQ 1991 1309 1228 531 \nz\n\" transform=\"scale(0.015625)\"/>\n       </defs>\n       <use xlink:href=\"#DejaVuSans-32\"/>\n      </g>\n     </g>\n    </g>\n    <g id=\"xtick_3\">\n     <g id=\"line2d_5\">\n      <path d=\"M 192.936477 311.9866 \nL 192.936477 40.2666 \n\" clip-path=\"url(#pa3d1a7d4d4)\" style=\"fill: none; stroke: #ffffff; stroke-width: 0.8; stroke-linecap: square\"/>\n     </g>\n     <g id=\"line2d_6\">\n      <g>\n       <use xlink:href=\"#m31e0edaa57\" x=\"192.936477\" y=\"311.9866\" style=\"fill: #555555; stroke: #555555; stroke-width: 0.8\"/>\n      </g>\n     </g>\n     <g id=\"text_3\">\n      <!-- 3 -->\n      <g style=\"fill: #555555\" transform=\"translate(189.755227 326.585037) scale(0.1 -0.1)\">\n       <defs>\n        <path id=\"DejaVuSans-33\" d=\"M 2597 2516 \nQ 3050 2419 3304 2112 \nQ 3559 1806 3559 1356 \nQ 3559 666 3084 287 \nQ 2609 -91 1734 -91 \nQ 1441 -91 1130 -33 \nQ 819 25 488 141 \nL 488 750 \nQ 750 597 1062 519 \nQ 1375 441 1716 441 \nQ 2309 441 2620 675 \nQ 2931 909 2931 1356 \nQ 2931 1769 2642 2001 \nQ 2353 2234 1838 2234 \nL 1294 2234 \nL 1294 2753 \nL 1863 2753 \nQ 2328 2753 2575 2939 \nQ 2822 3125 2822 3475 \nQ 2822 3834 2567 4026 \nQ 2313 4219 1838 4219 \nQ 1578 4219 1281 4162 \nQ 984 4106 628 3988 \nL 628 4550 \nQ 988 4650 1302 4700 \nQ 1616 4750 1894 4750 \nQ 2613 4750 3031 4423 \nQ 3450 4097 3450 3541 \nQ 3450 3153 3228 2886 \nQ 3006 2619 2597 2516 \nz\n\" transform=\"scale(0.015625)\"/>\n       </defs>\n       <use xlink:href=\"#DejaVuSans-33\"/>\n      </g>\n     </g>\n    </g>\n    <g id=\"xtick_4\">\n     <g id=\"line2d_7\">\n      <path d=\"M 253.095568 311.9866 \nL 253.095568 40.2666 \n\" clip-path=\"url(#pa3d1a7d4d4)\" style=\"fill: none; stroke: #ffffff; stroke-width: 0.8; stroke-linecap: square\"/>\n     </g>\n     <g id=\"line2d_8\">\n      <g>\n       <use xlink:href=\"#m31e0edaa57\" x=\"253.095568\" y=\"311.9866\" style=\"fill: #555555; stroke: #555555; stroke-width: 0.8\"/>\n      </g>\n     </g>\n     <g id=\"text_4\">\n      <!-- 4 -->\n      <g style=\"fill: #555555\" transform=\"translate(249.914318 326.585037) scale(0.1 -0.1)\">\n       <defs>\n        <path id=\"DejaVuSans-34\" d=\"M 2419 4116 \nL 825 1625 \nL 2419 1625 \nL 2419 4116 \nz\nM 2253 4666 \nL 3047 4666 \nL 3047 1625 \nL 3713 1625 \nL 3713 1100 \nL 3047 1100 \nL 3047 0 \nL 2419 0 \nL 2419 1100 \nL 313 1100 \nL 313 1709 \nL 2253 4666 \nz\n\" transform=\"scale(0.015625)\"/>\n       </defs>\n       <use xlink:href=\"#DejaVuSans-34\"/>\n      </g>\n     </g>\n    </g>\n    <g id=\"xtick_5\">\n     <g id=\"line2d_9\">\n      <path d=\"M 313.254659 311.9866 \nL 313.254659 40.2666 \n\" clip-path=\"url(#pa3d1a7d4d4)\" style=\"fill: none; stroke: #ffffff; stroke-width: 0.8; stroke-linecap: square\"/>\n     </g>\n     <g id=\"line2d_10\">\n      <g>\n       <use xlink:href=\"#m31e0edaa57\" x=\"313.254659\" y=\"311.9866\" style=\"fill: #555555; stroke: #555555; stroke-width: 0.8\"/>\n      </g>\n     </g>\n     <g id=\"text_5\">\n      <!-- 5 -->\n      <g style=\"fill: #555555\" transform=\"translate(310.073409 326.585037) scale(0.1 -0.1)\">\n       <defs>\n        <path id=\"DejaVuSans-35\" d=\"M 691 4666 \nL 3169 4666 \nL 3169 4134 \nL 1269 4134 \nL 1269 2991 \nQ 1406 3038 1543 3061 \nQ 1681 3084 1819 3084 \nQ 2600 3084 3056 2656 \nQ 3513 2228 3513 1497 \nQ 3513 744 3044 326 \nQ 2575 -91 1722 -91 \nQ 1428 -91 1123 -41 \nQ 819 9 494 109 \nL 494 744 \nQ 775 591 1075 516 \nQ 1375 441 1709 441 \nQ 2250 441 2565 725 \nQ 2881 1009 2881 1497 \nQ 2881 1984 2565 2268 \nQ 2250 2553 1709 2553 \nQ 1456 2553 1204 2497 \nQ 953 2441 691 2322 \nL 691 4666 \nz\n\" transform=\"scale(0.015625)\"/>\n       </defs>\n       <use xlink:href=\"#DejaVuSans-35\"/>\n      </g>\n     </g>\n    </g>\n    <g id=\"xtick_6\">\n     <g id=\"line2d_11\">\n      <path d=\"M 373.41375 311.9866 \nL 373.41375 40.2666 \n\" clip-path=\"url(#pa3d1a7d4d4)\" style=\"fill: none; stroke: #ffffff; stroke-width: 0.8; stroke-linecap: square\"/>\n     </g>\n     <g id=\"line2d_12\">\n      <g>\n       <use xlink:href=\"#m31e0edaa57\" x=\"373.41375\" y=\"311.9866\" style=\"fill: #555555; stroke: #555555; stroke-width: 0.8\"/>\n      </g>\n     </g>\n     <g id=\"text_6\">\n      <!-- 6 -->\n      <g style=\"fill: #555555\" transform=\"translate(370.2325 326.585037) scale(0.1 -0.1)\">\n       <defs>\n        <path id=\"DejaVuSans-36\" d=\"M 2113 2584 \nQ 1688 2584 1439 2293 \nQ 1191 2003 1191 1497 \nQ 1191 994 1439 701 \nQ 1688 409 2113 409 \nQ 2538 409 2786 701 \nQ 3034 994 3034 1497 \nQ 3034 2003 2786 2293 \nQ 2538 2584 2113 2584 \nz\nM 3366 4563 \nL 3366 3988 \nQ 3128 4100 2886 4159 \nQ 2644 4219 2406 4219 \nQ 1781 4219 1451 3797 \nQ 1122 3375 1075 2522 \nQ 1259 2794 1537 2939 \nQ 1816 3084 2150 3084 \nQ 2853 3084 3261 2657 \nQ 3669 2231 3669 1497 \nQ 3669 778 3244 343 \nQ 2819 -91 2113 -91 \nQ 1303 -91 875 529 \nQ 447 1150 447 2328 \nQ 447 3434 972 4092 \nQ 1497 4750 2381 4750 \nQ 2619 4750 2861 4703 \nQ 3103 4656 3366 4563 \nz\n\" transform=\"scale(0.015625)\"/>\n       </defs>\n       <use xlink:href=\"#DejaVuSans-36\"/>\n      </g>\n     </g>\n    </g>\n    <g id=\"xtick_7\">\n     <g id=\"line2d_13\">\n      <path d=\"M 433.572841 311.9866 \nL 433.572841 40.2666 \n\" clip-path=\"url(#pa3d1a7d4d4)\" style=\"fill: none; stroke: #ffffff; stroke-width: 0.8; stroke-linecap: square\"/>\n     </g>\n     <g id=\"line2d_14\">\n      <g>\n       <use xlink:href=\"#m31e0edaa57\" x=\"433.572841\" y=\"311.9866\" style=\"fill: #555555; stroke: #555555; stroke-width: 0.8\"/>\n      </g>\n     </g>\n     <g id=\"text_7\">\n      <!-- 7 -->\n      <g style=\"fill: #555555\" transform=\"translate(430.391591 326.585037) scale(0.1 -0.1)\">\n       <defs>\n        <path id=\"DejaVuSans-37\" d=\"M 525 4666 \nL 3525 4666 \nL 3525 4397 \nL 1831 0 \nL 1172 0 \nL 2766 4134 \nL 525 4134 \nL 525 4666 \nz\n\" transform=\"scale(0.015625)\"/>\n       </defs>\n       <use xlink:href=\"#DejaVuSans-37\"/>\n      </g>\n     </g>\n    </g>\n    <g id=\"xtick_8\">\n     <g id=\"line2d_15\">\n      <path d=\"M 493.731932 311.9866 \nL 493.731932 40.2666 \n\" clip-path=\"url(#pa3d1a7d4d4)\" style=\"fill: none; stroke: #ffffff; stroke-width: 0.8; stroke-linecap: square\"/>\n     </g>\n     <g id=\"line2d_16\">\n      <g>\n       <use xlink:href=\"#m31e0edaa57\" x=\"493.731932\" y=\"311.9866\" style=\"fill: #555555; stroke: #555555; stroke-width: 0.8\"/>\n      </g>\n     </g>\n     <g id=\"text_8\">\n      <!-- 8 -->\n      <g style=\"fill: #555555\" transform=\"translate(490.550682 326.585037) scale(0.1 -0.1)\">\n       <defs>\n        <path id=\"DejaVuSans-38\" d=\"M 2034 2216 \nQ 1584 2216 1326 1975 \nQ 1069 1734 1069 1313 \nQ 1069 891 1326 650 \nQ 1584 409 2034 409 \nQ 2484 409 2743 651 \nQ 3003 894 3003 1313 \nQ 3003 1734 2745 1975 \nQ 2488 2216 2034 2216 \nz\nM 1403 2484 \nQ 997 2584 770 2862 \nQ 544 3141 544 3541 \nQ 544 4100 942 4425 \nQ 1341 4750 2034 4750 \nQ 2731 4750 3128 4425 \nQ 3525 4100 3525 3541 \nQ 3525 3141 3298 2862 \nQ 3072 2584 2669 2484 \nQ 3125 2378 3379 2068 \nQ 3634 1759 3634 1313 \nQ 3634 634 3220 271 \nQ 2806 -91 2034 -91 \nQ 1263 -91 848 271 \nQ 434 634 434 1313 \nQ 434 1759 690 2068 \nQ 947 2378 1403 2484 \nz\nM 1172 3481 \nQ 1172 3119 1398 2916 \nQ 1625 2713 2034 2713 \nQ 2441 2713 2670 2916 \nQ 2900 3119 2900 3481 \nQ 2900 3844 2670 4047 \nQ 2441 4250 2034 4250 \nQ 1625 4250 1398 4047 \nQ 1172 3844 1172 3481 \nz\n\" transform=\"scale(0.015625)\"/>\n       </defs>\n       <use xlink:href=\"#DejaVuSans-38\"/>\n      </g>\n     </g>\n    </g>\n    <g id=\"xtick_9\">\n     <g id=\"line2d_17\">\n      <path d=\"M 553.891023 311.9866 \nL 553.891023 40.2666 \n\" clip-path=\"url(#pa3d1a7d4d4)\" style=\"fill: none; stroke: #ffffff; stroke-width: 0.8; stroke-linecap: square\"/>\n     </g>\n     <g id=\"line2d_18\">\n      <g>\n       <use xlink:href=\"#m31e0edaa57\" x=\"553.891023\" y=\"311.9866\" style=\"fill: #555555; stroke: #555555; stroke-width: 0.8\"/>\n      </g>\n     </g>\n     <g id=\"text_9\">\n      <!-- 9 -->\n      <g style=\"fill: #555555\" transform=\"translate(550.709773 326.585037) scale(0.1 -0.1)\">\n       <defs>\n        <path id=\"DejaVuSans-39\" d=\"M 703 97 \nL 703 672 \nQ 941 559 1184 500 \nQ 1428 441 1663 441 \nQ 2288 441 2617 861 \nQ 2947 1281 2994 2138 \nQ 2813 1869 2534 1725 \nQ 2256 1581 1919 1581 \nQ 1219 1581 811 2004 \nQ 403 2428 403 3163 \nQ 403 3881 828 4315 \nQ 1253 4750 1959 4750 \nQ 2769 4750 3195 4129 \nQ 3622 3509 3622 2328 \nQ 3622 1225 3098 567 \nQ 2575 -91 1691 -91 \nQ 1453 -91 1209 -44 \nQ 966 3 703 97 \nz\nM 1959 2075 \nQ 2384 2075 2632 2365 \nQ 2881 2656 2881 3163 \nQ 2881 3666 2632 3958 \nQ 2384 4250 1959 4250 \nQ 1534 4250 1286 3958 \nQ 1038 3666 1038 3163 \nQ 1038 2656 1286 2365 \nQ 1534 2075 1959 2075 \nz\n\" transform=\"scale(0.015625)\"/>\n       </defs>\n       <use xlink:href=\"#DejaVuSans-39\"/>\n      </g>\n     </g>\n    </g>\n    <g id=\"xtick_10\">\n     <g id=\"line2d_19\">\n      <path d=\"M 614.050114 311.9866 \nL 614.050114 40.2666 \n\" clip-path=\"url(#pa3d1a7d4d4)\" style=\"fill: none; stroke: #ffffff; stroke-width: 0.8; stroke-linecap: square\"/>\n     </g>\n     <g id=\"line2d_20\">\n      <g>\n       <use xlink:href=\"#m31e0edaa57\" x=\"614.050114\" y=\"311.9866\" style=\"fill: #555555; stroke: #555555; stroke-width: 0.8\"/>\n      </g>\n     </g>\n     <g id=\"text_10\">\n      <!-- 10 -->\n      <g style=\"fill: #555555\" transform=\"translate(607.687614 326.585037) scale(0.1 -0.1)\">\n       <defs>\n        <path id=\"DejaVuSans-30\" d=\"M 2034 4250 \nQ 1547 4250 1301 3770 \nQ 1056 3291 1056 2328 \nQ 1056 1369 1301 889 \nQ 1547 409 2034 409 \nQ 2525 409 2770 889 \nQ 3016 1369 3016 2328 \nQ 3016 3291 2770 3770 \nQ 2525 4250 2034 4250 \nz\nM 2034 4750 \nQ 2819 4750 3233 4129 \nQ 3647 3509 3647 2328 \nQ 3647 1150 3233 529 \nQ 2819 -91 2034 -91 \nQ 1250 -91 836 529 \nQ 422 1150 422 2328 \nQ 422 3509 836 4129 \nQ 1250 4750 2034 4750 \nz\n\" transform=\"scale(0.015625)\"/>\n       </defs>\n       <use xlink:href=\"#DejaVuSans-31\"/>\n       <use xlink:href=\"#DejaVuSans-30\" x=\"63.623047\"/>\n      </g>\n     </g>\n    </g>\n    <g id=\"xtick_11\">\n     <g id=\"line2d_21\">\n      <path d=\"M 674.209205 311.9866 \nL 674.209205 40.2666 \n\" clip-path=\"url(#pa3d1a7d4d4)\" style=\"fill: none; stroke: #ffffff; stroke-width: 0.8; stroke-linecap: square\"/>\n     </g>\n     <g id=\"line2d_22\">\n      <g>\n       <use xlink:href=\"#m31e0edaa57\" x=\"674.209205\" y=\"311.9866\" style=\"fill: #555555; stroke: #555555; stroke-width: 0.8\"/>\n      </g>\n     </g>\n     <g id=\"text_11\">\n      <!-- 11 -->\n      <g style=\"fill: #555555\" transform=\"translate(667.846705 326.585037) scale(0.1 -0.1)\">\n       <use xlink:href=\"#DejaVuSans-31\"/>\n       <use xlink:href=\"#DejaVuSans-31\" x=\"63.623047\"/>\n      </g>\n     </g>\n    </g>\n    <g id=\"text_12\">\n     <!-- Epoch -->\n     <g style=\"fill: #555555\" transform=\"translate(355.040625 341.78285) scale(0.12 -0.12)\">\n      <defs>\n       <path id=\"DejaVuSans-45\" d=\"M 628 4666 \nL 3578 4666 \nL 3578 4134 \nL 1259 4134 \nL 1259 2753 \nL 3481 2753 \nL 3481 2222 \nL 1259 2222 \nL 1259 531 \nL 3634 531 \nL 3634 0 \nL 628 0 \nL 628 4666 \nz\n\" transform=\"scale(0.015625)\"/>\n       <path id=\"DejaVuSans-70\" d=\"M 1159 525 \nL 1159 -1331 \nL 581 -1331 \nL 581 3500 \nL 1159 3500 \nL 1159 2969 \nQ 1341 3281 1617 3432 \nQ 1894 3584 2278 3584 \nQ 2916 3584 3314 3078 \nQ 3713 2572 3713 1747 \nQ 3713 922 3314 415 \nQ 2916 -91 2278 -91 \nQ 1894 -91 1617 61 \nQ 1341 213 1159 525 \nz\nM 3116 1747 \nQ 3116 2381 2855 2742 \nQ 2594 3103 2138 3103 \nQ 1681 3103 1420 2742 \nQ 1159 2381 1159 1747 \nQ 1159 1113 1420 752 \nQ 1681 391 2138 391 \nQ 2594 391 2855 752 \nQ 3116 1113 3116 1747 \nz\n\" transform=\"scale(0.015625)\"/>\n       <path id=\"DejaVuSans-6f\" d=\"M 1959 3097 \nQ 1497 3097 1228 2736 \nQ 959 2375 959 1747 \nQ 959 1119 1226 758 \nQ 1494 397 1959 397 \nQ 2419 397 2687 759 \nQ 2956 1122 2956 1747 \nQ 2956 2369 2687 2733 \nQ 2419 3097 1959 3097 \nz\nM 1959 3584 \nQ 2709 3584 3137 3096 \nQ 3566 2609 3566 1747 \nQ 3566 888 3137 398 \nQ 2709 -91 1959 -91 \nQ 1206 -91 779 398 \nQ 353 888 353 1747 \nQ 353 2609 779 3096 \nQ 1206 3584 1959 3584 \nz\n\" transform=\"scale(0.015625)\"/>\n       <path id=\"DejaVuSans-63\" d=\"M 3122 3366 \nL 3122 2828 \nQ 2878 2963 2633 3030 \nQ 2388 3097 2138 3097 \nQ 1578 3097 1268 2742 \nQ 959 2388 959 1747 \nQ 959 1106 1268 751 \nQ 1578 397 2138 397 \nQ 2388 397 2633 464 \nQ 2878 531 3122 666 \nL 3122 134 \nQ 2881 22 2623 -34 \nQ 2366 -91 2075 -91 \nQ 1284 -91 818 406 \nQ 353 903 353 1747 \nQ 353 2603 823 3093 \nQ 1294 3584 2113 3584 \nQ 2378 3584 2631 3529 \nQ 2884 3475 3122 3366 \nz\n\" transform=\"scale(0.015625)\"/>\n       <path id=\"DejaVuSans-68\" d=\"M 3513 2113 \nL 3513 0 \nL 2938 0 \nL 2938 2094 \nQ 2938 2591 2744 2837 \nQ 2550 3084 2163 3084 \nQ 1697 3084 1428 2787 \nQ 1159 2491 1159 1978 \nL 1159 0 \nL 581 0 \nL 581 4863 \nL 1159 4863 \nL 1159 2956 \nQ 1366 3272 1645 3428 \nQ 1925 3584 2291 3584 \nQ 2894 3584 3203 3211 \nQ 3513 2838 3513 2113 \nz\n\" transform=\"scale(0.015625)\"/>\n      </defs>\n      <use xlink:href=\"#DejaVuSans-45\"/>\n      <use xlink:href=\"#DejaVuSans-70\" x=\"63.183594\"/>\n      <use xlink:href=\"#DejaVuSans-6f\" x=\"126.660156\"/>\n      <use xlink:href=\"#DejaVuSans-63\" x=\"187.841797\"/>\n      <use xlink:href=\"#DejaVuSans-68\" x=\"242.822266\"/>\n     </g>\n    </g>\n   </g>\n   <g id=\"matplotlib.axis_2\">\n    <g id=\"ytick_1\">\n     <g id=\"line2d_23\">\n      <path d=\"M 42.53875 299.64115 \nL 704.28875 299.64115 \n\" clip-path=\"url(#pa3d1a7d4d4)\" style=\"fill: none; stroke: #ffffff; stroke-width: 0.8; stroke-linecap: square\"/>\n     </g>\n     <g id=\"line2d_24\">\n      <defs>\n       <path id=\"mdae1d3fb94\" d=\"M 0 0 \nL -3.5 0 \n\" style=\"stroke: #555555; stroke-width: 0.8\"/>\n      </defs>\n      <g>\n       <use xlink:href=\"#mdae1d3fb94\" x=\"42.53875\" y=\"299.64115\" style=\"fill: #555555; stroke: #555555; stroke-width: 0.8\"/>\n      </g>\n     </g>\n     <g id=\"text_13\">\n      <!-- 0 -->\n      <g style=\"fill: #555555\" transform=\"translate(29.17625 303.440368) scale(0.1 -0.1)\">\n       <use xlink:href=\"#DejaVuSans-30\"/>\n      </g>\n     </g>\n    </g>\n    <g id=\"ytick_2\">\n     <g id=\"line2d_25\">\n      <path d=\"M 42.53875 261.790648 \nL 704.28875 261.790648 \n\" clip-path=\"url(#pa3d1a7d4d4)\" style=\"fill: none; stroke: #ffffff; stroke-width: 0.8; stroke-linecap: square\"/>\n     </g>\n     <g id=\"line2d_26\">\n      <g>\n       <use xlink:href=\"#mdae1d3fb94\" x=\"42.53875\" y=\"261.790648\" style=\"fill: #555555; stroke: #555555; stroke-width: 0.8\"/>\n      </g>\n     </g>\n     <g id=\"text_14\">\n      <!-- 10 -->\n      <g style=\"fill: #555555\" transform=\"translate(22.81375 265.589867) scale(0.1 -0.1)\">\n       <use xlink:href=\"#DejaVuSans-31\"/>\n       <use xlink:href=\"#DejaVuSans-30\" x=\"63.623047\"/>\n      </g>\n     </g>\n    </g>\n    <g id=\"ytick_3\">\n     <g id=\"line2d_27\">\n      <path d=\"M 42.53875 223.940146 \nL 704.28875 223.940146 \n\" clip-path=\"url(#pa3d1a7d4d4)\" style=\"fill: none; stroke: #ffffff; stroke-width: 0.8; stroke-linecap: square\"/>\n     </g>\n     <g id=\"line2d_28\">\n      <g>\n       <use xlink:href=\"#mdae1d3fb94\" x=\"42.53875\" y=\"223.940146\" style=\"fill: #555555; stroke: #555555; stroke-width: 0.8\"/>\n      </g>\n     </g>\n     <g id=\"text_15\">\n      <!-- 20 -->\n      <g style=\"fill: #555555\" transform=\"translate(22.81375 227.739365) scale(0.1 -0.1)\">\n       <use xlink:href=\"#DejaVuSans-32\"/>\n       <use xlink:href=\"#DejaVuSans-30\" x=\"63.623047\"/>\n      </g>\n     </g>\n    </g>\n    <g id=\"ytick_4\">\n     <g id=\"line2d_29\">\n      <path d=\"M 42.53875 186.089644 \nL 704.28875 186.089644 \n\" clip-path=\"url(#pa3d1a7d4d4)\" style=\"fill: none; stroke: #ffffff; stroke-width: 0.8; stroke-linecap: square\"/>\n     </g>\n     <g id=\"line2d_30\">\n      <g>\n       <use xlink:href=\"#mdae1d3fb94\" x=\"42.53875\" y=\"186.089644\" style=\"fill: #555555; stroke: #555555; stroke-width: 0.8\"/>\n      </g>\n     </g>\n     <g id=\"text_16\">\n      <!-- 30 -->\n      <g style=\"fill: #555555\" transform=\"translate(22.81375 189.888863) scale(0.1 -0.1)\">\n       <use xlink:href=\"#DejaVuSans-33\"/>\n       <use xlink:href=\"#DejaVuSans-30\" x=\"63.623047\"/>\n      </g>\n     </g>\n    </g>\n    <g id=\"ytick_5\">\n     <g id=\"line2d_31\">\n      <path d=\"M 42.53875 148.239143 \nL 704.28875 148.239143 \n\" clip-path=\"url(#pa3d1a7d4d4)\" style=\"fill: none; stroke: #ffffff; stroke-width: 0.8; stroke-linecap: square\"/>\n     </g>\n     <g id=\"line2d_32\">\n      <g>\n       <use xlink:href=\"#mdae1d3fb94\" x=\"42.53875\" y=\"148.239143\" style=\"fill: #555555; stroke: #555555; stroke-width: 0.8\"/>\n      </g>\n     </g>\n     <g id=\"text_17\">\n      <!-- 40 -->\n      <g style=\"fill: #555555\" transform=\"translate(22.81375 152.038361) scale(0.1 -0.1)\">\n       <use xlink:href=\"#DejaVuSans-34\"/>\n       <use xlink:href=\"#DejaVuSans-30\" x=\"63.623047\"/>\n      </g>\n     </g>\n    </g>\n    <g id=\"ytick_6\">\n     <g id=\"line2d_33\">\n      <path d=\"M 42.53875 110.388641 \nL 704.28875 110.388641 \n\" clip-path=\"url(#pa3d1a7d4d4)\" style=\"fill: none; stroke: #ffffff; stroke-width: 0.8; stroke-linecap: square\"/>\n     </g>\n     <g id=\"line2d_34\">\n      <g>\n       <use xlink:href=\"#mdae1d3fb94\" x=\"42.53875\" y=\"110.388641\" style=\"fill: #555555; stroke: #555555; stroke-width: 0.8\"/>\n      </g>\n     </g>\n     <g id=\"text_18\">\n      <!-- 50 -->\n      <g style=\"fill: #555555\" transform=\"translate(22.81375 114.18786) scale(0.1 -0.1)\">\n       <use xlink:href=\"#DejaVuSans-35\"/>\n       <use xlink:href=\"#DejaVuSans-30\" x=\"63.623047\"/>\n      </g>\n     </g>\n    </g>\n    <g id=\"ytick_7\">\n     <g id=\"line2d_35\">\n      <path d=\"M 42.53875 72.538139 \nL 704.28875 72.538139 \n\" clip-path=\"url(#pa3d1a7d4d4)\" style=\"fill: none; stroke: #ffffff; stroke-width: 0.8; stroke-linecap: square\"/>\n     </g>\n     <g id=\"line2d_36\">\n      <g>\n       <use xlink:href=\"#mdae1d3fb94\" x=\"42.53875\" y=\"72.538139\" style=\"fill: #555555; stroke: #555555; stroke-width: 0.8\"/>\n      </g>\n     </g>\n     <g id=\"text_19\">\n      <!-- 60 -->\n      <g style=\"fill: #555555\" transform=\"translate(22.81375 76.337358) scale(0.1 -0.1)\">\n       <use xlink:href=\"#DejaVuSans-36\"/>\n       <use xlink:href=\"#DejaVuSans-30\" x=\"63.623047\"/>\n      </g>\n     </g>\n    </g>\n    <g id=\"text_20\">\n     <!-- Loss -->\n     <g style=\"fill: #555555\" transform=\"translate(16.318125 189.287225) rotate(-90) scale(0.12 -0.12)\">\n      <defs>\n       <path id=\"DejaVuSans-4c\" d=\"M 628 4666 \nL 1259 4666 \nL 1259 531 \nL 3531 531 \nL 3531 0 \nL 628 0 \nL 628 4666 \nz\n\" transform=\"scale(0.015625)\"/>\n       <path id=\"DejaVuSans-73\" d=\"M 2834 3397 \nL 2834 2853 \nQ 2591 2978 2328 3040 \nQ 2066 3103 1784 3103 \nQ 1356 3103 1142 2972 \nQ 928 2841 928 2578 \nQ 928 2378 1081 2264 \nQ 1234 2150 1697 2047 \nL 1894 2003 \nQ 2506 1872 2764 1633 \nQ 3022 1394 3022 966 \nQ 3022 478 2636 193 \nQ 2250 -91 1575 -91 \nQ 1294 -91 989 -36 \nQ 684 19 347 128 \nL 347 722 \nQ 666 556 975 473 \nQ 1284 391 1588 391 \nQ 1994 391 2212 530 \nQ 2431 669 2431 922 \nQ 2431 1156 2273 1281 \nQ 2116 1406 1581 1522 \nL 1381 1569 \nQ 847 1681 609 1914 \nQ 372 2147 372 2553 \nQ 372 3047 722 3315 \nQ 1072 3584 1716 3584 \nQ 2034 3584 2315 3537 \nQ 2597 3491 2834 3397 \nz\n\" transform=\"scale(0.015625)\"/>\n      </defs>\n      <use xlink:href=\"#DejaVuSans-4c\"/>\n      <use xlink:href=\"#DejaVuSans-6f\" x=\"53.962891\"/>\n      <use xlink:href=\"#DejaVuSans-73\" x=\"115.144531\"/>\n      <use xlink:href=\"#DejaVuSans-73\" x=\"167.244141\"/>\n     </g>\n    </g>\n   </g>\n   <g id=\"line2d_37\">\n    <path d=\"M 72.618295 299.635482 \nL 132.777386 299.635691 \nL 192.936477 299.635689 \nL 253.095568 299.635691 \nL 313.254659 299.635689 \nL 373.41375 299.635691 \nL 433.572841 299.635689 \nL 493.731932 299.635691 \nL 553.891023 299.635689 \nL 614.050114 299.635691 \nL 674.209205 299.635689 \n\" clip-path=\"url(#pa3d1a7d4d4)\" style=\"fill: none; stroke: #e24a33; stroke-width: 1.5; stroke-linecap: square\"/>\n   </g>\n   <g id=\"line2d_38\">\n    <path d=\"M 72.618295 60.224146 \nL 132.777386 52.625475 \nL 192.936477 60.780022 \nL 253.095568 52.618555 \nL 313.254659 60.802008 \nL 373.41375 52.617509 \nL 433.572841 60.809032 \nL 493.731932 52.617751 \nL 553.891023 60.803145 \nL 614.050114 52.617726 \nL 674.209205 60.814131 \n\" clip-path=\"url(#pa3d1a7d4d4)\" style=\"fill: none; stroke: #348abd; stroke-width: 1.5; stroke-linecap: square\"/>\n   </g>\n   <g id=\"patch_3\">\n    <path d=\"M 42.53875 311.9866 \nL 42.53875 40.2666 \n\" style=\"fill: none; stroke: #ffffff; stroke-linejoin: miter; stroke-linecap: square\"/>\n   </g>\n   <g id=\"patch_4\">\n    <path d=\"M 704.28875 311.9866 \nL 704.28875 40.2666 \n\" style=\"fill: none; stroke: #ffffff; stroke-linejoin: miter; stroke-linecap: square\"/>\n   </g>\n   <g id=\"patch_5\">\n    <path d=\"M 42.53875 311.9866 \nL 704.28875 311.9866 \n\" style=\"fill: none; stroke: #ffffff; stroke-linejoin: miter; stroke-linecap: square\"/>\n   </g>\n   <g id=\"patch_6\">\n    <path d=\"M 42.53875 40.2666 \nL 704.28875 40.2666 \n\" style=\"fill: none; stroke: #ffffff; stroke-linejoin: miter; stroke-linecap: square\"/>\n   </g>\n   <g id=\"text_21\">\n    <!-- Validation Losses for  hidden1 = 64, hidden2 = 128, hidden3 = 128, -->\n    <g transform=\"translate(127.075875 18.14175) scale(0.144 -0.144)\">\n     <defs>\n      <path id=\"DejaVuSans-56\" d=\"M 1831 0 \nL 50 4666 \nL 709 4666 \nL 2188 738 \nL 3669 4666 \nL 4325 4666 \nL 2547 0 \nL 1831 0 \nz\n\" transform=\"scale(0.015625)\"/>\n      <path id=\"DejaVuSans-61\" d=\"M 2194 1759 \nQ 1497 1759 1228 1600 \nQ 959 1441 959 1056 \nQ 959 750 1161 570 \nQ 1363 391 1709 391 \nQ 2188 391 2477 730 \nQ 2766 1069 2766 1631 \nL 2766 1759 \nL 2194 1759 \nz\nM 3341 1997 \nL 3341 0 \nL 2766 0 \nL 2766 531 \nQ 2569 213 2275 61 \nQ 1981 -91 1556 -91 \nQ 1019 -91 701 211 \nQ 384 513 384 1019 \nQ 384 1609 779 1909 \nQ 1175 2209 1959 2209 \nL 2766 2209 \nL 2766 2266 \nQ 2766 2663 2505 2880 \nQ 2244 3097 1772 3097 \nQ 1472 3097 1187 3025 \nQ 903 2953 641 2809 \nL 641 3341 \nQ 956 3463 1253 3523 \nQ 1550 3584 1831 3584 \nQ 2591 3584 2966 3190 \nQ 3341 2797 3341 1997 \nz\n\" transform=\"scale(0.015625)\"/>\n      <path id=\"DejaVuSans-6c\" d=\"M 603 4863 \nL 1178 4863 \nL 1178 0 \nL 603 0 \nL 603 4863 \nz\n\" transform=\"scale(0.015625)\"/>\n      <path id=\"DejaVuSans-69\" d=\"M 603 3500 \nL 1178 3500 \nL 1178 0 \nL 603 0 \nL 603 3500 \nz\nM 603 4863 \nL 1178 4863 \nL 1178 4134 \nL 603 4134 \nL 603 4863 \nz\n\" transform=\"scale(0.015625)\"/>\n      <path id=\"DejaVuSans-64\" d=\"M 2906 2969 \nL 2906 4863 \nL 3481 4863 \nL 3481 0 \nL 2906 0 \nL 2906 525 \nQ 2725 213 2448 61 \nQ 2172 -91 1784 -91 \nQ 1150 -91 751 415 \nQ 353 922 353 1747 \nQ 353 2572 751 3078 \nQ 1150 3584 1784 3584 \nQ 2172 3584 2448 3432 \nQ 2725 3281 2906 2969 \nz\nM 947 1747 \nQ 947 1113 1208 752 \nQ 1469 391 1925 391 \nQ 2381 391 2643 752 \nQ 2906 1113 2906 1747 \nQ 2906 2381 2643 2742 \nQ 2381 3103 1925 3103 \nQ 1469 3103 1208 2742 \nQ 947 2381 947 1747 \nz\n\" transform=\"scale(0.015625)\"/>\n      <path id=\"DejaVuSans-74\" d=\"M 1172 4494 \nL 1172 3500 \nL 2356 3500 \nL 2356 3053 \nL 1172 3053 \nL 1172 1153 \nQ 1172 725 1289 603 \nQ 1406 481 1766 481 \nL 2356 481 \nL 2356 0 \nL 1766 0 \nQ 1100 0 847 248 \nQ 594 497 594 1153 \nL 594 3053 \nL 172 3053 \nL 172 3500 \nL 594 3500 \nL 594 4494 \nL 1172 4494 \nz\n\" transform=\"scale(0.015625)\"/>\n      <path id=\"DejaVuSans-6e\" d=\"M 3513 2113 \nL 3513 0 \nL 2938 0 \nL 2938 2094 \nQ 2938 2591 2744 2837 \nQ 2550 3084 2163 3084 \nQ 1697 3084 1428 2787 \nQ 1159 2491 1159 1978 \nL 1159 0 \nL 581 0 \nL 581 3500 \nL 1159 3500 \nL 1159 2956 \nQ 1366 3272 1645 3428 \nQ 1925 3584 2291 3584 \nQ 2894 3584 3203 3211 \nQ 3513 2838 3513 2113 \nz\n\" transform=\"scale(0.015625)\"/>\n      <path id=\"DejaVuSans-20\" transform=\"scale(0.015625)\"/>\n      <path id=\"DejaVuSans-65\" d=\"M 3597 1894 \nL 3597 1613 \nL 953 1613 \nQ 991 1019 1311 708 \nQ 1631 397 2203 397 \nQ 2534 397 2845 478 \nQ 3156 559 3463 722 \nL 3463 178 \nQ 3153 47 2828 -22 \nQ 2503 -91 2169 -91 \nQ 1331 -91 842 396 \nQ 353 884 353 1716 \nQ 353 2575 817 3079 \nQ 1281 3584 2069 3584 \nQ 2775 3584 3186 3129 \nQ 3597 2675 3597 1894 \nz\nM 3022 2063 \nQ 3016 2534 2758 2815 \nQ 2500 3097 2075 3097 \nQ 1594 3097 1305 2825 \nQ 1016 2553 972 2059 \nL 3022 2063 \nz\n\" transform=\"scale(0.015625)\"/>\n      <path id=\"DejaVuSans-66\" d=\"M 2375 4863 \nL 2375 4384 \nL 1825 4384 \nQ 1516 4384 1395 4259 \nQ 1275 4134 1275 3809 \nL 1275 3500 \nL 2222 3500 \nL 2222 3053 \nL 1275 3053 \nL 1275 0 \nL 697 0 \nL 697 3053 \nL 147 3053 \nL 147 3500 \nL 697 3500 \nL 697 3744 \nQ 697 4328 969 4595 \nQ 1241 4863 1831 4863 \nL 2375 4863 \nz\n\" transform=\"scale(0.015625)\"/>\n      <path id=\"DejaVuSans-72\" d=\"M 2631 2963 \nQ 2534 3019 2420 3045 \nQ 2306 3072 2169 3072 \nQ 1681 3072 1420 2755 \nQ 1159 2438 1159 1844 \nL 1159 0 \nL 581 0 \nL 581 3500 \nL 1159 3500 \nL 1159 2956 \nQ 1341 3275 1631 3429 \nQ 1922 3584 2338 3584 \nQ 2397 3584 2469 3576 \nQ 2541 3569 2628 3553 \nL 2631 2963 \nz\n\" transform=\"scale(0.015625)\"/>\n      <path id=\"DejaVuSans-3d\" d=\"M 678 2906 \nL 4684 2906 \nL 4684 2381 \nL 678 2381 \nL 678 2906 \nz\nM 678 1631 \nL 4684 1631 \nL 4684 1100 \nL 678 1100 \nL 678 1631 \nz\n\" transform=\"scale(0.015625)\"/>\n      <path id=\"DejaVuSans-2c\" d=\"M 750 794 \nL 1409 794 \nL 1409 256 \nL 897 -744 \nL 494 -744 \nL 750 256 \nL 750 794 \nz\n\" transform=\"scale(0.015625)\"/>\n     </defs>\n     <use xlink:href=\"#DejaVuSans-56\"/>\n     <use xlink:href=\"#DejaVuSans-61\" x=\"60.658203\"/>\n     <use xlink:href=\"#DejaVuSans-6c\" x=\"121.9375\"/>\n     <use xlink:href=\"#DejaVuSans-69\" x=\"149.720703\"/>\n     <use xlink:href=\"#DejaVuSans-64\" x=\"177.503906\"/>\n     <use xlink:href=\"#DejaVuSans-61\" x=\"240.980469\"/>\n     <use xlink:href=\"#DejaVuSans-74\" x=\"302.259766\"/>\n     <use xlink:href=\"#DejaVuSans-69\" x=\"341.46875\"/>\n     <use xlink:href=\"#DejaVuSans-6f\" x=\"369.251953\"/>\n     <use xlink:href=\"#DejaVuSans-6e\" x=\"430.433594\"/>\n     <use xlink:href=\"#DejaVuSans-20\" x=\"493.8125\"/>\n     <use xlink:href=\"#DejaVuSans-4c\" x=\"525.599609\"/>\n     <use xlink:href=\"#DejaVuSans-6f\" x=\"579.5625\"/>\n     <use xlink:href=\"#DejaVuSans-73\" x=\"640.744141\"/>\n     <use xlink:href=\"#DejaVuSans-73\" x=\"692.84375\"/>\n     <use xlink:href=\"#DejaVuSans-65\" x=\"744.943359\"/>\n     <use xlink:href=\"#DejaVuSans-73\" x=\"806.466797\"/>\n     <use xlink:href=\"#DejaVuSans-20\" x=\"858.566406\"/>\n     <use xlink:href=\"#DejaVuSans-66\" x=\"890.353516\"/>\n     <use xlink:href=\"#DejaVuSans-6f\" x=\"925.558594\"/>\n     <use xlink:href=\"#DejaVuSans-72\" x=\"986.740234\"/>\n     <use xlink:href=\"#DejaVuSans-20\" x=\"1027.853516\"/>\n     <use xlink:href=\"#DejaVuSans-20\" x=\"1059.640625\"/>\n     <use xlink:href=\"#DejaVuSans-68\" x=\"1091.427734\"/>\n     <use xlink:href=\"#DejaVuSans-69\" x=\"1154.806641\"/>\n     <use xlink:href=\"#DejaVuSans-64\" x=\"1182.589844\"/>\n     <use xlink:href=\"#DejaVuSans-64\" x=\"1246.066406\"/>\n     <use xlink:href=\"#DejaVuSans-65\" x=\"1309.542969\"/>\n     <use xlink:href=\"#DejaVuSans-6e\" x=\"1371.066406\"/>\n     <use xlink:href=\"#DejaVuSans-31\" x=\"1434.445312\"/>\n     <use xlink:href=\"#DejaVuSans-20\" x=\"1498.068359\"/>\n     <use xlink:href=\"#DejaVuSans-3d\" x=\"1529.855469\"/>\n     <use xlink:href=\"#DejaVuSans-20\" x=\"1613.644531\"/>\n     <use xlink:href=\"#DejaVuSans-36\" x=\"1645.431641\"/>\n     <use xlink:href=\"#DejaVuSans-34\" x=\"1709.054688\"/>\n     <use xlink:href=\"#DejaVuSans-2c\" x=\"1772.677734\"/>\n     <use xlink:href=\"#DejaVuSans-20\" x=\"1804.464844\"/>\n     <use xlink:href=\"#DejaVuSans-68\" x=\"1836.251953\"/>\n     <use xlink:href=\"#DejaVuSans-69\" x=\"1899.630859\"/>\n     <use xlink:href=\"#DejaVuSans-64\" x=\"1927.414062\"/>\n     <use xlink:href=\"#DejaVuSans-64\" x=\"1990.890625\"/>\n     <use xlink:href=\"#DejaVuSans-65\" x=\"2054.367188\"/>\n     <use xlink:href=\"#DejaVuSans-6e\" x=\"2115.890625\"/>\n     <use xlink:href=\"#DejaVuSans-32\" x=\"2179.269531\"/>\n     <use xlink:href=\"#DejaVuSans-20\" x=\"2242.892578\"/>\n     <use xlink:href=\"#DejaVuSans-3d\" x=\"2274.679688\"/>\n     <use xlink:href=\"#DejaVuSans-20\" x=\"2358.46875\"/>\n     <use xlink:href=\"#DejaVuSans-31\" x=\"2390.255859\"/>\n     <use xlink:href=\"#DejaVuSans-32\" x=\"2453.878906\"/>\n     <use xlink:href=\"#DejaVuSans-38\" x=\"2517.501953\"/>\n     <use xlink:href=\"#DejaVuSans-2c\" x=\"2581.125\"/>\n     <use xlink:href=\"#DejaVuSans-20\" x=\"2612.912109\"/>\n     <use xlink:href=\"#DejaVuSans-68\" x=\"2644.699219\"/>\n     <use xlink:href=\"#DejaVuSans-69\" x=\"2708.078125\"/>\n     <use xlink:href=\"#DejaVuSans-64\" x=\"2735.861328\"/>\n     <use xlink:href=\"#DejaVuSans-64\" x=\"2799.337891\"/>\n     <use xlink:href=\"#DejaVuSans-65\" x=\"2862.814453\"/>\n     <use xlink:href=\"#DejaVuSans-6e\" x=\"2924.337891\"/>\n     <use xlink:href=\"#DejaVuSans-33\" x=\"2987.716797\"/>\n     <use xlink:href=\"#DejaVuSans-20\" x=\"3051.339844\"/>\n     <use xlink:href=\"#DejaVuSans-3d\" x=\"3083.126953\"/>\n     <use xlink:href=\"#DejaVuSans-20\" x=\"3166.916016\"/>\n     <use xlink:href=\"#DejaVuSans-31\" x=\"3198.703125\"/>\n     <use xlink:href=\"#DejaVuSans-32\" x=\"3262.326172\"/>\n     <use xlink:href=\"#DejaVuSans-38\" x=\"3325.949219\"/>\n     <use xlink:href=\"#DejaVuSans-2c\" x=\"3389.572266\"/>\n    </g>\n    <!--   learning_rate = 0.1, and epoch = 10 -->\n    <g transform=\"translate(237.067125 34.2666) scale(0.144 -0.144)\">\n     <defs>\n      <path id=\"DejaVuSans-67\" d=\"M 2906 1791 \nQ 2906 2416 2648 2759 \nQ 2391 3103 1925 3103 \nQ 1463 3103 1205 2759 \nQ 947 2416 947 1791 \nQ 947 1169 1205 825 \nQ 1463 481 1925 481 \nQ 2391 481 2648 825 \nQ 2906 1169 2906 1791 \nz\nM 3481 434 \nQ 3481 -459 3084 -895 \nQ 2688 -1331 1869 -1331 \nQ 1566 -1331 1297 -1286 \nQ 1028 -1241 775 -1147 \nL 775 -588 \nQ 1028 -725 1275 -790 \nQ 1522 -856 1778 -856 \nQ 2344 -856 2625 -561 \nQ 2906 -266 2906 331 \nL 2906 616 \nQ 2728 306 2450 153 \nQ 2172 0 1784 0 \nQ 1141 0 747 490 \nQ 353 981 353 1791 \nQ 353 2603 747 3093 \nQ 1141 3584 1784 3584 \nQ 2172 3584 2450 3431 \nQ 2728 3278 2906 2969 \nL 2906 3500 \nL 3481 3500 \nL 3481 434 \nz\n\" transform=\"scale(0.015625)\"/>\n      <path id=\"DejaVuSans-5f\" d=\"M 3263 -1063 \nL 3263 -1509 \nL -63 -1509 \nL -63 -1063 \nL 3263 -1063 \nz\n\" transform=\"scale(0.015625)\"/>\n      <path id=\"DejaVuSans-2e\" d=\"M 684 794 \nL 1344 794 \nL 1344 0 \nL 684 0 \nL 684 794 \nz\n\" transform=\"scale(0.015625)\"/>\n     </defs>\n     <use xlink:href=\"#DejaVuSans-20\"/>\n     <use xlink:href=\"#DejaVuSans-20\" x=\"31.787109\"/>\n     <use xlink:href=\"#DejaVuSans-6c\" x=\"63.574219\"/>\n     <use xlink:href=\"#DejaVuSans-65\" x=\"91.357422\"/>\n     <use xlink:href=\"#DejaVuSans-61\" x=\"152.880859\"/>\n     <use xlink:href=\"#DejaVuSans-72\" x=\"214.160156\"/>\n     <use xlink:href=\"#DejaVuSans-6e\" x=\"253.523438\"/>\n     <use xlink:href=\"#DejaVuSans-69\" x=\"316.902344\"/>\n     <use xlink:href=\"#DejaVuSans-6e\" x=\"344.685547\"/>\n     <use xlink:href=\"#DejaVuSans-67\" x=\"408.064453\"/>\n     <use xlink:href=\"#DejaVuSans-5f\" x=\"471.541016\"/>\n     <use xlink:href=\"#DejaVuSans-72\" x=\"521.541016\"/>\n     <use xlink:href=\"#DejaVuSans-61\" x=\"562.654297\"/>\n     <use xlink:href=\"#DejaVuSans-74\" x=\"623.933594\"/>\n     <use xlink:href=\"#DejaVuSans-65\" x=\"663.142578\"/>\n     <use xlink:href=\"#DejaVuSans-20\" x=\"724.666016\"/>\n     <use xlink:href=\"#DejaVuSans-3d\" x=\"756.453125\"/>\n     <use xlink:href=\"#DejaVuSans-20\" x=\"840.242188\"/>\n     <use xlink:href=\"#DejaVuSans-30\" x=\"872.029297\"/>\n     <use xlink:href=\"#DejaVuSans-2e\" x=\"935.652344\"/>\n     <use xlink:href=\"#DejaVuSans-31\" x=\"967.439453\"/>\n     <use xlink:href=\"#DejaVuSans-2c\" x=\"1031.0625\"/>\n     <use xlink:href=\"#DejaVuSans-20\" x=\"1062.849609\"/>\n     <use xlink:href=\"#DejaVuSans-61\" x=\"1094.636719\"/>\n     <use xlink:href=\"#DejaVuSans-6e\" x=\"1155.916016\"/>\n     <use xlink:href=\"#DejaVuSans-64\" x=\"1219.294922\"/>\n     <use xlink:href=\"#DejaVuSans-20\" x=\"1282.771484\"/>\n     <use xlink:href=\"#DejaVuSans-65\" x=\"1314.558594\"/>\n     <use xlink:href=\"#DejaVuSans-70\" x=\"1376.082031\"/>\n     <use xlink:href=\"#DejaVuSans-6f\" x=\"1439.558594\"/>\n     <use xlink:href=\"#DejaVuSans-63\" x=\"1500.740234\"/>\n     <use xlink:href=\"#DejaVuSans-68\" x=\"1555.720703\"/>\n     <use xlink:href=\"#DejaVuSans-20\" x=\"1619.099609\"/>\n     <use xlink:href=\"#DejaVuSans-3d\" x=\"1650.886719\"/>\n     <use xlink:href=\"#DejaVuSans-20\" x=\"1734.675781\"/>\n     <use xlink:href=\"#DejaVuSans-31\" x=\"1766.462891\"/>\n     <use xlink:href=\"#DejaVuSans-30\" x=\"1830.085938\"/>\n    </g>\n   </g>\n   <g id=\"legend_1\">\n    <g id=\"patch_7\">\n     <path d=\"M 616.077813 192.304725 \nL 697.28875 192.304725 \nQ 699.28875 192.304725 699.28875 190.304725 \nL 699.28875 161.948475 \nQ 699.28875 159.948475 697.28875 159.948475 \nL 616.077813 159.948475 \nQ 614.077813 159.948475 614.077813 161.948475 \nL 614.077813 190.304725 \nQ 614.077813 192.304725 616.077813 192.304725 \nz\n\" style=\"fill: #e5e5e5; opacity: 0.8; stroke: #cccccc; stroke-width: 0.5; stroke-linejoin: miter\"/>\n    </g>\n    <g id=\"line2d_39\">\n     <path d=\"M 618.077813 168.046912 \nL 628.077813 168.046912 \nL 638.077813 168.046912 \n\" style=\"fill: none; stroke: #e24a33; stroke-width: 1.5; stroke-linecap: square\"/>\n    </g>\n    <g id=\"text_22\">\n     <!-- Train Loss -->\n     <g transform=\"translate(646.077813 171.546912) scale(0.1 -0.1)\">\n      <defs>\n       <path id=\"DejaVuSans-54\" d=\"M -19 4666 \nL 3928 4666 \nL 3928 4134 \nL 2272 4134 \nL 2272 0 \nL 1638 0 \nL 1638 4134 \nL -19 4134 \nL -19 4666 \nz\n\" transform=\"scale(0.015625)\"/>\n      </defs>\n      <use xlink:href=\"#DejaVuSans-54\"/>\n      <use xlink:href=\"#DejaVuSans-72\" x=\"46.333984\"/>\n      <use xlink:href=\"#DejaVuSans-61\" x=\"87.447266\"/>\n      <use xlink:href=\"#DejaVuSans-69\" x=\"148.726562\"/>\n      <use xlink:href=\"#DejaVuSans-6e\" x=\"176.509766\"/>\n      <use xlink:href=\"#DejaVuSans-20\" x=\"239.888672\"/>\n      <use xlink:href=\"#DejaVuSans-4c\" x=\"271.675781\"/>\n      <use xlink:href=\"#DejaVuSans-6f\" x=\"325.638672\"/>\n      <use xlink:href=\"#DejaVuSans-73\" x=\"386.820312\"/>\n      <use xlink:href=\"#DejaVuSans-73\" x=\"438.919922\"/>\n     </g>\n    </g>\n    <g id=\"line2d_40\">\n     <path d=\"M 618.077813 182.725037 \nL 628.077813 182.725037 \nL 638.077813 182.725037 \n\" style=\"fill: none; stroke: #348abd; stroke-width: 1.5; stroke-linecap: square\"/>\n    </g>\n    <g id=\"text_23\">\n     <!-- Valid Loss -->\n     <g transform=\"translate(646.077813 186.225037) scale(0.1 -0.1)\">\n      <use xlink:href=\"#DejaVuSans-56\"/>\n      <use xlink:href=\"#DejaVuSans-61\" x=\"60.658203\"/>\n      <use xlink:href=\"#DejaVuSans-6c\" x=\"121.9375\"/>\n      <use xlink:href=\"#DejaVuSans-69\" x=\"149.720703\"/>\n      <use xlink:href=\"#DejaVuSans-64\" x=\"177.503906\"/>\n      <use xlink:href=\"#DejaVuSans-20\" x=\"240.980469\"/>\n      <use xlink:href=\"#DejaVuSans-4c\" x=\"272.767578\"/>\n      <use xlink:href=\"#DejaVuSans-6f\" x=\"326.730469\"/>\n      <use xlink:href=\"#DejaVuSans-73\" x=\"387.912109\"/>\n      <use xlink:href=\"#DejaVuSans-73\" x=\"440.011719\"/>\n     </g>\n    </g>\n   </g>\n  </g>\n </g>\n <defs>\n  <clipPath id=\"pa3d1a7d4d4\">\n   <rect x=\"42.53875\" y=\"40.2666\" width=\"661.75\" height=\"271.72\"/>\n  </clipPath>\n </defs>\n</svg>\n"
          },
          "metadata": {}
        },
        {
          "output_type": "display_data",
          "data": {
            "text/plain": [
              "<Figure size 1000x500 with 1 Axes>"
            ],
            "image/svg+xml": "<?xml version=\"1.0\" encoding=\"utf-8\" standalone=\"no\"?>\n<!DOCTYPE svg PUBLIC \"-//W3C//DTD SVG 1.1//EN\"\n  \"http://www.w3.org/Graphics/SVG/1.1/DTD/svg11.dtd\">\n<svg xmlns:xlink=\"http://www.w3.org/1999/xlink\" width=\"711.48875pt\" height=\"351.478475pt\" viewBox=\"0 0 711.48875 351.478475\" xmlns=\"http://www.w3.org/2000/svg\" version=\"1.1\">\n <metadata>\n  <rdf:RDF xmlns:dc=\"http://purl.org/dc/elements/1.1/\" xmlns:cc=\"http://creativecommons.org/ns#\" xmlns:rdf=\"http://www.w3.org/1999/02/22-rdf-syntax-ns#\">\n   <cc:Work>\n    <dc:type rdf:resource=\"http://purl.org/dc/dcmitype/StillImage\"/>\n    <dc:date>2023-12-14T10:24:58.404956</dc:date>\n    <dc:format>image/svg+xml</dc:format>\n    <dc:creator>\n     <cc:Agent>\n      <dc:title>Matplotlib v3.7.1, https://matplotlib.org/</dc:title>\n     </cc:Agent>\n    </dc:creator>\n   </cc:Work>\n  </rdf:RDF>\n </metadata>\n <defs>\n  <style type=\"text/css\">*{stroke-linejoin: round; stroke-linecap: butt}</style>\n </defs>\n <g id=\"figure_1\">\n  <g id=\"patch_1\">\n   <path d=\"M 0 351.478475 \nL 711.48875 351.478475 \nL 711.48875 0 \nL 0 0 \nz\n\" style=\"fill: #ffffff\"/>\n  </g>\n  <g id=\"axes_1\">\n   <g id=\"patch_2\">\n    <path d=\"M 42.53875 311.9866 \nL 704.28875 311.9866 \nL 704.28875 40.2666 \nL 42.53875 40.2666 \nz\n\" style=\"fill: #e5e5e5\"/>\n   </g>\n   <g id=\"matplotlib.axis_1\">\n    <g id=\"xtick_1\">\n     <g id=\"line2d_1\">\n      <path d=\"M 72.618295 311.9866 \nL 72.618295 40.2666 \n\" clip-path=\"url(#p5c8b1715d8)\" style=\"fill: none; stroke: #ffffff; stroke-width: 0.8; stroke-linecap: square\"/>\n     </g>\n     <g id=\"line2d_2\">\n      <defs>\n       <path id=\"m7df43ff084\" d=\"M 0 0 \nL 0 3.5 \n\" style=\"stroke: #555555; stroke-width: 0.8\"/>\n      </defs>\n      <g>\n       <use xlink:href=\"#m7df43ff084\" x=\"72.618295\" y=\"311.9866\" style=\"fill: #555555; stroke: #555555; stroke-width: 0.8\"/>\n      </g>\n     </g>\n     <g id=\"text_1\">\n      <!-- 1 -->\n      <g style=\"fill: #555555\" transform=\"translate(69.437045 326.585037) scale(0.1 -0.1)\">\n       <defs>\n        <path id=\"DejaVuSans-31\" d=\"M 794 531 \nL 1825 531 \nL 1825 4091 \nL 703 3866 \nL 703 4441 \nL 1819 4666 \nL 2450 4666 \nL 2450 531 \nL 3481 531 \nL 3481 0 \nL 794 0 \nL 794 531 \nz\n\" transform=\"scale(0.015625)\"/>\n       </defs>\n       <use xlink:href=\"#DejaVuSans-31\"/>\n      </g>\n     </g>\n    </g>\n    <g id=\"xtick_2\">\n     <g id=\"line2d_3\">\n      <path d=\"M 132.777386 311.9866 \nL 132.777386 40.2666 \n\" clip-path=\"url(#p5c8b1715d8)\" style=\"fill: none; stroke: #ffffff; stroke-width: 0.8; stroke-linecap: square\"/>\n     </g>\n     <g id=\"line2d_4\">\n      <g>\n       <use xlink:href=\"#m7df43ff084\" x=\"132.777386\" y=\"311.9866\" style=\"fill: #555555; stroke: #555555; stroke-width: 0.8\"/>\n      </g>\n     </g>\n     <g id=\"text_2\">\n      <!-- 2 -->\n      <g style=\"fill: #555555\" transform=\"translate(129.596136 326.585037) scale(0.1 -0.1)\">\n       <defs>\n        <path id=\"DejaVuSans-32\" d=\"M 1228 531 \nL 3431 531 \nL 3431 0 \nL 469 0 \nL 469 531 \nQ 828 903 1448 1529 \nQ 2069 2156 2228 2338 \nQ 2531 2678 2651 2914 \nQ 2772 3150 2772 3378 \nQ 2772 3750 2511 3984 \nQ 2250 4219 1831 4219 \nQ 1534 4219 1204 4116 \nQ 875 4013 500 3803 \nL 500 4441 \nQ 881 4594 1212 4672 \nQ 1544 4750 1819 4750 \nQ 2544 4750 2975 4387 \nQ 3406 4025 3406 3419 \nQ 3406 3131 3298 2873 \nQ 3191 2616 2906 2266 \nQ 2828 2175 2409 1742 \nQ 1991 1309 1228 531 \nz\n\" transform=\"scale(0.015625)\"/>\n       </defs>\n       <use xlink:href=\"#DejaVuSans-32\"/>\n      </g>\n     </g>\n    </g>\n    <g id=\"xtick_3\">\n     <g id=\"line2d_5\">\n      <path d=\"M 192.936477 311.9866 \nL 192.936477 40.2666 \n\" clip-path=\"url(#p5c8b1715d8)\" style=\"fill: none; stroke: #ffffff; stroke-width: 0.8; stroke-linecap: square\"/>\n     </g>\n     <g id=\"line2d_6\">\n      <g>\n       <use xlink:href=\"#m7df43ff084\" x=\"192.936477\" y=\"311.9866\" style=\"fill: #555555; stroke: #555555; stroke-width: 0.8\"/>\n      </g>\n     </g>\n     <g id=\"text_3\">\n      <!-- 3 -->\n      <g style=\"fill: #555555\" transform=\"translate(189.755227 326.585037) scale(0.1 -0.1)\">\n       <defs>\n        <path id=\"DejaVuSans-33\" d=\"M 2597 2516 \nQ 3050 2419 3304 2112 \nQ 3559 1806 3559 1356 \nQ 3559 666 3084 287 \nQ 2609 -91 1734 -91 \nQ 1441 -91 1130 -33 \nQ 819 25 488 141 \nL 488 750 \nQ 750 597 1062 519 \nQ 1375 441 1716 441 \nQ 2309 441 2620 675 \nQ 2931 909 2931 1356 \nQ 2931 1769 2642 2001 \nQ 2353 2234 1838 2234 \nL 1294 2234 \nL 1294 2753 \nL 1863 2753 \nQ 2328 2753 2575 2939 \nQ 2822 3125 2822 3475 \nQ 2822 3834 2567 4026 \nQ 2313 4219 1838 4219 \nQ 1578 4219 1281 4162 \nQ 984 4106 628 3988 \nL 628 4550 \nQ 988 4650 1302 4700 \nQ 1616 4750 1894 4750 \nQ 2613 4750 3031 4423 \nQ 3450 4097 3450 3541 \nQ 3450 3153 3228 2886 \nQ 3006 2619 2597 2516 \nz\n\" transform=\"scale(0.015625)\"/>\n       </defs>\n       <use xlink:href=\"#DejaVuSans-33\"/>\n      </g>\n     </g>\n    </g>\n    <g id=\"xtick_4\">\n     <g id=\"line2d_7\">\n      <path d=\"M 253.095568 311.9866 \nL 253.095568 40.2666 \n\" clip-path=\"url(#p5c8b1715d8)\" style=\"fill: none; stroke: #ffffff; stroke-width: 0.8; stroke-linecap: square\"/>\n     </g>\n     <g id=\"line2d_8\">\n      <g>\n       <use xlink:href=\"#m7df43ff084\" x=\"253.095568\" y=\"311.9866\" style=\"fill: #555555; stroke: #555555; stroke-width: 0.8\"/>\n      </g>\n     </g>\n     <g id=\"text_4\">\n      <!-- 4 -->\n      <g style=\"fill: #555555\" transform=\"translate(249.914318 326.585037) scale(0.1 -0.1)\">\n       <defs>\n        <path id=\"DejaVuSans-34\" d=\"M 2419 4116 \nL 825 1625 \nL 2419 1625 \nL 2419 4116 \nz\nM 2253 4666 \nL 3047 4666 \nL 3047 1625 \nL 3713 1625 \nL 3713 1100 \nL 3047 1100 \nL 3047 0 \nL 2419 0 \nL 2419 1100 \nL 313 1100 \nL 313 1709 \nL 2253 4666 \nz\n\" transform=\"scale(0.015625)\"/>\n       </defs>\n       <use xlink:href=\"#DejaVuSans-34\"/>\n      </g>\n     </g>\n    </g>\n    <g id=\"xtick_5\">\n     <g id=\"line2d_9\">\n      <path d=\"M 313.254659 311.9866 \nL 313.254659 40.2666 \n\" clip-path=\"url(#p5c8b1715d8)\" style=\"fill: none; stroke: #ffffff; stroke-width: 0.8; stroke-linecap: square\"/>\n     </g>\n     <g id=\"line2d_10\">\n      <g>\n       <use xlink:href=\"#m7df43ff084\" x=\"313.254659\" y=\"311.9866\" style=\"fill: #555555; stroke: #555555; stroke-width: 0.8\"/>\n      </g>\n     </g>\n     <g id=\"text_5\">\n      <!-- 5 -->\n      <g style=\"fill: #555555\" transform=\"translate(310.073409 326.585037) scale(0.1 -0.1)\">\n       <defs>\n        <path id=\"DejaVuSans-35\" d=\"M 691 4666 \nL 3169 4666 \nL 3169 4134 \nL 1269 4134 \nL 1269 2991 \nQ 1406 3038 1543 3061 \nQ 1681 3084 1819 3084 \nQ 2600 3084 3056 2656 \nQ 3513 2228 3513 1497 \nQ 3513 744 3044 326 \nQ 2575 -91 1722 -91 \nQ 1428 -91 1123 -41 \nQ 819 9 494 109 \nL 494 744 \nQ 775 591 1075 516 \nQ 1375 441 1709 441 \nQ 2250 441 2565 725 \nQ 2881 1009 2881 1497 \nQ 2881 1984 2565 2268 \nQ 2250 2553 1709 2553 \nQ 1456 2553 1204 2497 \nQ 953 2441 691 2322 \nL 691 4666 \nz\n\" transform=\"scale(0.015625)\"/>\n       </defs>\n       <use xlink:href=\"#DejaVuSans-35\"/>\n      </g>\n     </g>\n    </g>\n    <g id=\"xtick_6\">\n     <g id=\"line2d_11\">\n      <path d=\"M 373.41375 311.9866 \nL 373.41375 40.2666 \n\" clip-path=\"url(#p5c8b1715d8)\" style=\"fill: none; stroke: #ffffff; stroke-width: 0.8; stroke-linecap: square\"/>\n     </g>\n     <g id=\"line2d_12\">\n      <g>\n       <use xlink:href=\"#m7df43ff084\" x=\"373.41375\" y=\"311.9866\" style=\"fill: #555555; stroke: #555555; stroke-width: 0.8\"/>\n      </g>\n     </g>\n     <g id=\"text_6\">\n      <!-- 6 -->\n      <g style=\"fill: #555555\" transform=\"translate(370.2325 326.585037) scale(0.1 -0.1)\">\n       <defs>\n        <path id=\"DejaVuSans-36\" d=\"M 2113 2584 \nQ 1688 2584 1439 2293 \nQ 1191 2003 1191 1497 \nQ 1191 994 1439 701 \nQ 1688 409 2113 409 \nQ 2538 409 2786 701 \nQ 3034 994 3034 1497 \nQ 3034 2003 2786 2293 \nQ 2538 2584 2113 2584 \nz\nM 3366 4563 \nL 3366 3988 \nQ 3128 4100 2886 4159 \nQ 2644 4219 2406 4219 \nQ 1781 4219 1451 3797 \nQ 1122 3375 1075 2522 \nQ 1259 2794 1537 2939 \nQ 1816 3084 2150 3084 \nQ 2853 3084 3261 2657 \nQ 3669 2231 3669 1497 \nQ 3669 778 3244 343 \nQ 2819 -91 2113 -91 \nQ 1303 -91 875 529 \nQ 447 1150 447 2328 \nQ 447 3434 972 4092 \nQ 1497 4750 2381 4750 \nQ 2619 4750 2861 4703 \nQ 3103 4656 3366 4563 \nz\n\" transform=\"scale(0.015625)\"/>\n       </defs>\n       <use xlink:href=\"#DejaVuSans-36\"/>\n      </g>\n     </g>\n    </g>\n    <g id=\"xtick_7\">\n     <g id=\"line2d_13\">\n      <path d=\"M 433.572841 311.9866 \nL 433.572841 40.2666 \n\" clip-path=\"url(#p5c8b1715d8)\" style=\"fill: none; stroke: #ffffff; stroke-width: 0.8; stroke-linecap: square\"/>\n     </g>\n     <g id=\"line2d_14\">\n      <g>\n       <use xlink:href=\"#m7df43ff084\" x=\"433.572841\" y=\"311.9866\" style=\"fill: #555555; stroke: #555555; stroke-width: 0.8\"/>\n      </g>\n     </g>\n     <g id=\"text_7\">\n      <!-- 7 -->\n      <g style=\"fill: #555555\" transform=\"translate(430.391591 326.585037) scale(0.1 -0.1)\">\n       <defs>\n        <path id=\"DejaVuSans-37\" d=\"M 525 4666 \nL 3525 4666 \nL 3525 4397 \nL 1831 0 \nL 1172 0 \nL 2766 4134 \nL 525 4134 \nL 525 4666 \nz\n\" transform=\"scale(0.015625)\"/>\n       </defs>\n       <use xlink:href=\"#DejaVuSans-37\"/>\n      </g>\n     </g>\n    </g>\n    <g id=\"xtick_8\">\n     <g id=\"line2d_15\">\n      <path d=\"M 493.731932 311.9866 \nL 493.731932 40.2666 \n\" clip-path=\"url(#p5c8b1715d8)\" style=\"fill: none; stroke: #ffffff; stroke-width: 0.8; stroke-linecap: square\"/>\n     </g>\n     <g id=\"line2d_16\">\n      <g>\n       <use xlink:href=\"#m7df43ff084\" x=\"493.731932\" y=\"311.9866\" style=\"fill: #555555; stroke: #555555; stroke-width: 0.8\"/>\n      </g>\n     </g>\n     <g id=\"text_8\">\n      <!-- 8 -->\n      <g style=\"fill: #555555\" transform=\"translate(490.550682 326.585037) scale(0.1 -0.1)\">\n       <defs>\n        <path id=\"DejaVuSans-38\" d=\"M 2034 2216 \nQ 1584 2216 1326 1975 \nQ 1069 1734 1069 1313 \nQ 1069 891 1326 650 \nQ 1584 409 2034 409 \nQ 2484 409 2743 651 \nQ 3003 894 3003 1313 \nQ 3003 1734 2745 1975 \nQ 2488 2216 2034 2216 \nz\nM 1403 2484 \nQ 997 2584 770 2862 \nQ 544 3141 544 3541 \nQ 544 4100 942 4425 \nQ 1341 4750 2034 4750 \nQ 2731 4750 3128 4425 \nQ 3525 4100 3525 3541 \nQ 3525 3141 3298 2862 \nQ 3072 2584 2669 2484 \nQ 3125 2378 3379 2068 \nQ 3634 1759 3634 1313 \nQ 3634 634 3220 271 \nQ 2806 -91 2034 -91 \nQ 1263 -91 848 271 \nQ 434 634 434 1313 \nQ 434 1759 690 2068 \nQ 947 2378 1403 2484 \nz\nM 1172 3481 \nQ 1172 3119 1398 2916 \nQ 1625 2713 2034 2713 \nQ 2441 2713 2670 2916 \nQ 2900 3119 2900 3481 \nQ 2900 3844 2670 4047 \nQ 2441 4250 2034 4250 \nQ 1625 4250 1398 4047 \nQ 1172 3844 1172 3481 \nz\n\" transform=\"scale(0.015625)\"/>\n       </defs>\n       <use xlink:href=\"#DejaVuSans-38\"/>\n      </g>\n     </g>\n    </g>\n    <g id=\"xtick_9\">\n     <g id=\"line2d_17\">\n      <path d=\"M 553.891023 311.9866 \nL 553.891023 40.2666 \n\" clip-path=\"url(#p5c8b1715d8)\" style=\"fill: none; stroke: #ffffff; stroke-width: 0.8; stroke-linecap: square\"/>\n     </g>\n     <g id=\"line2d_18\">\n      <g>\n       <use xlink:href=\"#m7df43ff084\" x=\"553.891023\" y=\"311.9866\" style=\"fill: #555555; stroke: #555555; stroke-width: 0.8\"/>\n      </g>\n     </g>\n     <g id=\"text_9\">\n      <!-- 9 -->\n      <g style=\"fill: #555555\" transform=\"translate(550.709773 326.585037) scale(0.1 -0.1)\">\n       <defs>\n        <path id=\"DejaVuSans-39\" d=\"M 703 97 \nL 703 672 \nQ 941 559 1184 500 \nQ 1428 441 1663 441 \nQ 2288 441 2617 861 \nQ 2947 1281 2994 2138 \nQ 2813 1869 2534 1725 \nQ 2256 1581 1919 1581 \nQ 1219 1581 811 2004 \nQ 403 2428 403 3163 \nQ 403 3881 828 4315 \nQ 1253 4750 1959 4750 \nQ 2769 4750 3195 4129 \nQ 3622 3509 3622 2328 \nQ 3622 1225 3098 567 \nQ 2575 -91 1691 -91 \nQ 1453 -91 1209 -44 \nQ 966 3 703 97 \nz\nM 1959 2075 \nQ 2384 2075 2632 2365 \nQ 2881 2656 2881 3163 \nQ 2881 3666 2632 3958 \nQ 2384 4250 1959 4250 \nQ 1534 4250 1286 3958 \nQ 1038 3666 1038 3163 \nQ 1038 2656 1286 2365 \nQ 1534 2075 1959 2075 \nz\n\" transform=\"scale(0.015625)\"/>\n       </defs>\n       <use xlink:href=\"#DejaVuSans-39\"/>\n      </g>\n     </g>\n    </g>\n    <g id=\"xtick_10\">\n     <g id=\"line2d_19\">\n      <path d=\"M 614.050114 311.9866 \nL 614.050114 40.2666 \n\" clip-path=\"url(#p5c8b1715d8)\" style=\"fill: none; stroke: #ffffff; stroke-width: 0.8; stroke-linecap: square\"/>\n     </g>\n     <g id=\"line2d_20\">\n      <g>\n       <use xlink:href=\"#m7df43ff084\" x=\"614.050114\" y=\"311.9866\" style=\"fill: #555555; stroke: #555555; stroke-width: 0.8\"/>\n      </g>\n     </g>\n     <g id=\"text_10\">\n      <!-- 10 -->\n      <g style=\"fill: #555555\" transform=\"translate(607.687614 326.585037) scale(0.1 -0.1)\">\n       <defs>\n        <path id=\"DejaVuSans-30\" d=\"M 2034 4250 \nQ 1547 4250 1301 3770 \nQ 1056 3291 1056 2328 \nQ 1056 1369 1301 889 \nQ 1547 409 2034 409 \nQ 2525 409 2770 889 \nQ 3016 1369 3016 2328 \nQ 3016 3291 2770 3770 \nQ 2525 4250 2034 4250 \nz\nM 2034 4750 \nQ 2819 4750 3233 4129 \nQ 3647 3509 3647 2328 \nQ 3647 1150 3233 529 \nQ 2819 -91 2034 -91 \nQ 1250 -91 836 529 \nQ 422 1150 422 2328 \nQ 422 3509 836 4129 \nQ 1250 4750 2034 4750 \nz\n\" transform=\"scale(0.015625)\"/>\n       </defs>\n       <use xlink:href=\"#DejaVuSans-31\"/>\n       <use xlink:href=\"#DejaVuSans-30\" x=\"63.623047\"/>\n      </g>\n     </g>\n    </g>\n    <g id=\"xtick_11\">\n     <g id=\"line2d_21\">\n      <path d=\"M 674.209205 311.9866 \nL 674.209205 40.2666 \n\" clip-path=\"url(#p5c8b1715d8)\" style=\"fill: none; stroke: #ffffff; stroke-width: 0.8; stroke-linecap: square\"/>\n     </g>\n     <g id=\"line2d_22\">\n      <g>\n       <use xlink:href=\"#m7df43ff084\" x=\"674.209205\" y=\"311.9866\" style=\"fill: #555555; stroke: #555555; stroke-width: 0.8\"/>\n      </g>\n     </g>\n     <g id=\"text_11\">\n      <!-- 11 -->\n      <g style=\"fill: #555555\" transform=\"translate(667.846705 326.585037) scale(0.1 -0.1)\">\n       <use xlink:href=\"#DejaVuSans-31\"/>\n       <use xlink:href=\"#DejaVuSans-31\" x=\"63.623047\"/>\n      </g>\n     </g>\n    </g>\n    <g id=\"text_12\">\n     <!-- Epoch -->\n     <g style=\"fill: #555555\" transform=\"translate(355.040625 341.78285) scale(0.12 -0.12)\">\n      <defs>\n       <path id=\"DejaVuSans-45\" d=\"M 628 4666 \nL 3578 4666 \nL 3578 4134 \nL 1259 4134 \nL 1259 2753 \nL 3481 2753 \nL 3481 2222 \nL 1259 2222 \nL 1259 531 \nL 3634 531 \nL 3634 0 \nL 628 0 \nL 628 4666 \nz\n\" transform=\"scale(0.015625)\"/>\n       <path id=\"DejaVuSans-70\" d=\"M 1159 525 \nL 1159 -1331 \nL 581 -1331 \nL 581 3500 \nL 1159 3500 \nL 1159 2969 \nQ 1341 3281 1617 3432 \nQ 1894 3584 2278 3584 \nQ 2916 3584 3314 3078 \nQ 3713 2572 3713 1747 \nQ 3713 922 3314 415 \nQ 2916 -91 2278 -91 \nQ 1894 -91 1617 61 \nQ 1341 213 1159 525 \nz\nM 3116 1747 \nQ 3116 2381 2855 2742 \nQ 2594 3103 2138 3103 \nQ 1681 3103 1420 2742 \nQ 1159 2381 1159 1747 \nQ 1159 1113 1420 752 \nQ 1681 391 2138 391 \nQ 2594 391 2855 752 \nQ 3116 1113 3116 1747 \nz\n\" transform=\"scale(0.015625)\"/>\n       <path id=\"DejaVuSans-6f\" d=\"M 1959 3097 \nQ 1497 3097 1228 2736 \nQ 959 2375 959 1747 \nQ 959 1119 1226 758 \nQ 1494 397 1959 397 \nQ 2419 397 2687 759 \nQ 2956 1122 2956 1747 \nQ 2956 2369 2687 2733 \nQ 2419 3097 1959 3097 \nz\nM 1959 3584 \nQ 2709 3584 3137 3096 \nQ 3566 2609 3566 1747 \nQ 3566 888 3137 398 \nQ 2709 -91 1959 -91 \nQ 1206 -91 779 398 \nQ 353 888 353 1747 \nQ 353 2609 779 3096 \nQ 1206 3584 1959 3584 \nz\n\" transform=\"scale(0.015625)\"/>\n       <path id=\"DejaVuSans-63\" d=\"M 3122 3366 \nL 3122 2828 \nQ 2878 2963 2633 3030 \nQ 2388 3097 2138 3097 \nQ 1578 3097 1268 2742 \nQ 959 2388 959 1747 \nQ 959 1106 1268 751 \nQ 1578 397 2138 397 \nQ 2388 397 2633 464 \nQ 2878 531 3122 666 \nL 3122 134 \nQ 2881 22 2623 -34 \nQ 2366 -91 2075 -91 \nQ 1284 -91 818 406 \nQ 353 903 353 1747 \nQ 353 2603 823 3093 \nQ 1294 3584 2113 3584 \nQ 2378 3584 2631 3529 \nQ 2884 3475 3122 3366 \nz\n\" transform=\"scale(0.015625)\"/>\n       <path id=\"DejaVuSans-68\" d=\"M 3513 2113 \nL 3513 0 \nL 2938 0 \nL 2938 2094 \nQ 2938 2591 2744 2837 \nQ 2550 3084 2163 3084 \nQ 1697 3084 1428 2787 \nQ 1159 2491 1159 1978 \nL 1159 0 \nL 581 0 \nL 581 4863 \nL 1159 4863 \nL 1159 2956 \nQ 1366 3272 1645 3428 \nQ 1925 3584 2291 3584 \nQ 2894 3584 3203 3211 \nQ 3513 2838 3513 2113 \nz\n\" transform=\"scale(0.015625)\"/>\n      </defs>\n      <use xlink:href=\"#DejaVuSans-45\"/>\n      <use xlink:href=\"#DejaVuSans-70\" x=\"63.183594\"/>\n      <use xlink:href=\"#DejaVuSans-6f\" x=\"126.660156\"/>\n      <use xlink:href=\"#DejaVuSans-63\" x=\"187.841797\"/>\n      <use xlink:href=\"#DejaVuSans-68\" x=\"242.822266\"/>\n     </g>\n    </g>\n   </g>\n   <g id=\"matplotlib.axis_2\">\n    <g id=\"ytick_1\">\n     <g id=\"line2d_23\">\n      <path d=\"M 42.53875 299.640634 \nL 704.28875 299.640634 \n\" clip-path=\"url(#p5c8b1715d8)\" style=\"fill: none; stroke: #ffffff; stroke-width: 0.8; stroke-linecap: square\"/>\n     </g>\n     <g id=\"line2d_24\">\n      <defs>\n       <path id=\"m9ac7a14eec\" d=\"M 0 0 \nL -3.5 0 \n\" style=\"stroke: #555555; stroke-width: 0.8\"/>\n      </defs>\n      <g>\n       <use xlink:href=\"#m9ac7a14eec\" x=\"42.53875\" y=\"299.640634\" style=\"fill: #555555; stroke: #555555; stroke-width: 0.8\"/>\n      </g>\n     </g>\n     <g id=\"text_13\">\n      <!-- 0 -->\n      <g style=\"fill: #555555\" transform=\"translate(29.17625 303.439852) scale(0.1 -0.1)\">\n       <use xlink:href=\"#DejaVuSans-30\"/>\n      </g>\n     </g>\n    </g>\n    <g id=\"ytick_2\">\n     <g id=\"line2d_25\">\n      <path d=\"M 42.53875 247.17125 \nL 704.28875 247.17125 \n\" clip-path=\"url(#p5c8b1715d8)\" style=\"fill: none; stroke: #ffffff; stroke-width: 0.8; stroke-linecap: square\"/>\n     </g>\n     <g id=\"line2d_26\">\n      <g>\n       <use xlink:href=\"#m9ac7a14eec\" x=\"42.53875\" y=\"247.17125\" style=\"fill: #555555; stroke: #555555; stroke-width: 0.8\"/>\n      </g>\n     </g>\n     <g id=\"text_14\">\n      <!-- 10 -->\n      <g style=\"fill: #555555\" transform=\"translate(22.81375 250.970469) scale(0.1 -0.1)\">\n       <use xlink:href=\"#DejaVuSans-31\"/>\n       <use xlink:href=\"#DejaVuSans-30\" x=\"63.623047\"/>\n      </g>\n     </g>\n    </g>\n    <g id=\"ytick_3\">\n     <g id=\"line2d_27\">\n      <path d=\"M 42.53875 194.701867 \nL 704.28875 194.701867 \n\" clip-path=\"url(#p5c8b1715d8)\" style=\"fill: none; stroke: #ffffff; stroke-width: 0.8; stroke-linecap: square\"/>\n     </g>\n     <g id=\"line2d_28\">\n      <g>\n       <use xlink:href=\"#m9ac7a14eec\" x=\"42.53875\" y=\"194.701867\" style=\"fill: #555555; stroke: #555555; stroke-width: 0.8\"/>\n      </g>\n     </g>\n     <g id=\"text_15\">\n      <!-- 20 -->\n      <g style=\"fill: #555555\" transform=\"translate(22.81375 198.501086) scale(0.1 -0.1)\">\n       <use xlink:href=\"#DejaVuSans-32\"/>\n       <use xlink:href=\"#DejaVuSans-30\" x=\"63.623047\"/>\n      </g>\n     </g>\n    </g>\n    <g id=\"ytick_4\">\n     <g id=\"line2d_29\">\n      <path d=\"M 42.53875 142.232484 \nL 704.28875 142.232484 \n\" clip-path=\"url(#p5c8b1715d8)\" style=\"fill: none; stroke: #ffffff; stroke-width: 0.8; stroke-linecap: square\"/>\n     </g>\n     <g id=\"line2d_30\">\n      <g>\n       <use xlink:href=\"#m9ac7a14eec\" x=\"42.53875\" y=\"142.232484\" style=\"fill: #555555; stroke: #555555; stroke-width: 0.8\"/>\n      </g>\n     </g>\n     <g id=\"text_16\">\n      <!-- 30 -->\n      <g style=\"fill: #555555\" transform=\"translate(22.81375 146.031703) scale(0.1 -0.1)\">\n       <use xlink:href=\"#DejaVuSans-33\"/>\n       <use xlink:href=\"#DejaVuSans-30\" x=\"63.623047\"/>\n      </g>\n     </g>\n    </g>\n    <g id=\"ytick_5\">\n     <g id=\"line2d_31\">\n      <path d=\"M 42.53875 89.763101 \nL 704.28875 89.763101 \n\" clip-path=\"url(#p5c8b1715d8)\" style=\"fill: none; stroke: #ffffff; stroke-width: 0.8; stroke-linecap: square\"/>\n     </g>\n     <g id=\"line2d_32\">\n      <g>\n       <use xlink:href=\"#m9ac7a14eec\" x=\"42.53875\" y=\"89.763101\" style=\"fill: #555555; stroke: #555555; stroke-width: 0.8\"/>\n      </g>\n     </g>\n     <g id=\"text_17\">\n      <!-- 40 -->\n      <g style=\"fill: #555555\" transform=\"translate(22.81375 93.562319) scale(0.1 -0.1)\">\n       <use xlink:href=\"#DejaVuSans-34\"/>\n       <use xlink:href=\"#DejaVuSans-30\" x=\"63.623047\"/>\n      </g>\n     </g>\n    </g>\n    <g id=\"text_18\">\n     <!-- Loss -->\n     <g style=\"fill: #555555\" transform=\"translate(16.318125 189.287225) rotate(-90) scale(0.12 -0.12)\">\n      <defs>\n       <path id=\"DejaVuSans-4c\" d=\"M 628 4666 \nL 1259 4666 \nL 1259 531 \nL 3531 531 \nL 3531 0 \nL 628 0 \nL 628 4666 \nz\n\" transform=\"scale(0.015625)\"/>\n       <path id=\"DejaVuSans-73\" d=\"M 2834 3397 \nL 2834 2853 \nQ 2591 2978 2328 3040 \nQ 2066 3103 1784 3103 \nQ 1356 3103 1142 2972 \nQ 928 2841 928 2578 \nQ 928 2378 1081 2264 \nQ 1234 2150 1697 2047 \nL 1894 2003 \nQ 2506 1872 2764 1633 \nQ 3022 1394 3022 966 \nQ 3022 478 2636 193 \nQ 2250 -91 1575 -91 \nQ 1294 -91 989 -36 \nQ 684 19 347 128 \nL 347 722 \nQ 666 556 975 473 \nQ 1284 391 1588 391 \nQ 1994 391 2212 530 \nQ 2431 669 2431 922 \nQ 2431 1156 2273 1281 \nQ 2116 1406 1581 1522 \nL 1381 1569 \nQ 847 1681 609 1914 \nQ 372 2147 372 2553 \nQ 372 3047 722 3315 \nQ 1072 3584 1716 3584 \nQ 2034 3584 2315 3537 \nQ 2597 3491 2834 3397 \nz\n\" transform=\"scale(0.015625)\"/>\n      </defs>\n      <use xlink:href=\"#DejaVuSans-4c\"/>\n      <use xlink:href=\"#DejaVuSans-6f\" x=\"53.962891\"/>\n      <use xlink:href=\"#DejaVuSans-73\" x=\"115.144531\"/>\n      <use xlink:href=\"#DejaVuSans-73\" x=\"167.244141\"/>\n     </g>\n    </g>\n   </g>\n   <g id=\"line2d_33\">\n    <path d=\"M 72.618295 299.635072 \nL 132.777386 299.635526 \nL 192.936477 299.635577 \nL 253.095568 299.635603 \nL 313.254659 299.635623 \nL 373.41375 299.635637 \nL 433.572841 299.635651 \nL 493.731932 299.635663 \nL 553.891023 299.635672 \nL 614.050114 299.635682 \nL 674.209205 299.635691 \n\" clip-path=\"url(#p5c8b1715d8)\" style=\"fill: none; stroke: #e24a33; stroke-width: 1.5; stroke-linecap: square\"/>\n   </g>\n   <g id=\"line2d_34\">\n    <path d=\"M 72.618295 52.617509 \nL 132.777386 54.870632 \nL 192.936477 55.535365 \nL 253.095568 56.056808 \nL 313.254659 56.5026 \nL 373.41375 56.425923 \nL 433.572841 57.288092 \nL 493.731932 56.962773 \nL 553.891023 57.154383 \nL 614.050114 56.84207 \nL 674.209205 56.950433 \n\" clip-path=\"url(#p5c8b1715d8)\" style=\"fill: none; stroke: #348abd; stroke-width: 1.5; stroke-linecap: square\"/>\n   </g>\n   <g id=\"patch_3\">\n    <path d=\"M 42.53875 311.9866 \nL 42.53875 40.2666 \n\" style=\"fill: none; stroke: #ffffff; stroke-linejoin: miter; stroke-linecap: square\"/>\n   </g>\n   <g id=\"patch_4\">\n    <path d=\"M 704.28875 311.9866 \nL 704.28875 40.2666 \n\" style=\"fill: none; stroke: #ffffff; stroke-linejoin: miter; stroke-linecap: square\"/>\n   </g>\n   <g id=\"patch_5\">\n    <path d=\"M 42.53875 311.9866 \nL 704.28875 311.9866 \n\" style=\"fill: none; stroke: #ffffff; stroke-linejoin: miter; stroke-linecap: square\"/>\n   </g>\n   <g id=\"patch_6\">\n    <path d=\"M 42.53875 40.2666 \nL 704.28875 40.2666 \n\" style=\"fill: none; stroke: #ffffff; stroke-linejoin: miter; stroke-linecap: square\"/>\n   </g>\n   <g id=\"text_19\">\n    <!-- Validation Losses for  hidden1 = 128, hidden2 = 128, hidden3 = 512, -->\n    <g transform=\"translate(122.494875 18.14175) scale(0.144 -0.144)\">\n     <defs>\n      <path id=\"DejaVuSans-56\" d=\"M 1831 0 \nL 50 4666 \nL 709 4666 \nL 2188 738 \nL 3669 4666 \nL 4325 4666 \nL 2547 0 \nL 1831 0 \nz\n\" transform=\"scale(0.015625)\"/>\n      <path id=\"DejaVuSans-61\" d=\"M 2194 1759 \nQ 1497 1759 1228 1600 \nQ 959 1441 959 1056 \nQ 959 750 1161 570 \nQ 1363 391 1709 391 \nQ 2188 391 2477 730 \nQ 2766 1069 2766 1631 \nL 2766 1759 \nL 2194 1759 \nz\nM 3341 1997 \nL 3341 0 \nL 2766 0 \nL 2766 531 \nQ 2569 213 2275 61 \nQ 1981 -91 1556 -91 \nQ 1019 -91 701 211 \nQ 384 513 384 1019 \nQ 384 1609 779 1909 \nQ 1175 2209 1959 2209 \nL 2766 2209 \nL 2766 2266 \nQ 2766 2663 2505 2880 \nQ 2244 3097 1772 3097 \nQ 1472 3097 1187 3025 \nQ 903 2953 641 2809 \nL 641 3341 \nQ 956 3463 1253 3523 \nQ 1550 3584 1831 3584 \nQ 2591 3584 2966 3190 \nQ 3341 2797 3341 1997 \nz\n\" transform=\"scale(0.015625)\"/>\n      <path id=\"DejaVuSans-6c\" d=\"M 603 4863 \nL 1178 4863 \nL 1178 0 \nL 603 0 \nL 603 4863 \nz\n\" transform=\"scale(0.015625)\"/>\n      <path id=\"DejaVuSans-69\" d=\"M 603 3500 \nL 1178 3500 \nL 1178 0 \nL 603 0 \nL 603 3500 \nz\nM 603 4863 \nL 1178 4863 \nL 1178 4134 \nL 603 4134 \nL 603 4863 \nz\n\" transform=\"scale(0.015625)\"/>\n      <path id=\"DejaVuSans-64\" d=\"M 2906 2969 \nL 2906 4863 \nL 3481 4863 \nL 3481 0 \nL 2906 0 \nL 2906 525 \nQ 2725 213 2448 61 \nQ 2172 -91 1784 -91 \nQ 1150 -91 751 415 \nQ 353 922 353 1747 \nQ 353 2572 751 3078 \nQ 1150 3584 1784 3584 \nQ 2172 3584 2448 3432 \nQ 2725 3281 2906 2969 \nz\nM 947 1747 \nQ 947 1113 1208 752 \nQ 1469 391 1925 391 \nQ 2381 391 2643 752 \nQ 2906 1113 2906 1747 \nQ 2906 2381 2643 2742 \nQ 2381 3103 1925 3103 \nQ 1469 3103 1208 2742 \nQ 947 2381 947 1747 \nz\n\" transform=\"scale(0.015625)\"/>\n      <path id=\"DejaVuSans-74\" d=\"M 1172 4494 \nL 1172 3500 \nL 2356 3500 \nL 2356 3053 \nL 1172 3053 \nL 1172 1153 \nQ 1172 725 1289 603 \nQ 1406 481 1766 481 \nL 2356 481 \nL 2356 0 \nL 1766 0 \nQ 1100 0 847 248 \nQ 594 497 594 1153 \nL 594 3053 \nL 172 3053 \nL 172 3500 \nL 594 3500 \nL 594 4494 \nL 1172 4494 \nz\n\" transform=\"scale(0.015625)\"/>\n      <path id=\"DejaVuSans-6e\" d=\"M 3513 2113 \nL 3513 0 \nL 2938 0 \nL 2938 2094 \nQ 2938 2591 2744 2837 \nQ 2550 3084 2163 3084 \nQ 1697 3084 1428 2787 \nQ 1159 2491 1159 1978 \nL 1159 0 \nL 581 0 \nL 581 3500 \nL 1159 3500 \nL 1159 2956 \nQ 1366 3272 1645 3428 \nQ 1925 3584 2291 3584 \nQ 2894 3584 3203 3211 \nQ 3513 2838 3513 2113 \nz\n\" transform=\"scale(0.015625)\"/>\n      <path id=\"DejaVuSans-20\" transform=\"scale(0.015625)\"/>\n      <path id=\"DejaVuSans-65\" d=\"M 3597 1894 \nL 3597 1613 \nL 953 1613 \nQ 991 1019 1311 708 \nQ 1631 397 2203 397 \nQ 2534 397 2845 478 \nQ 3156 559 3463 722 \nL 3463 178 \nQ 3153 47 2828 -22 \nQ 2503 -91 2169 -91 \nQ 1331 -91 842 396 \nQ 353 884 353 1716 \nQ 353 2575 817 3079 \nQ 1281 3584 2069 3584 \nQ 2775 3584 3186 3129 \nQ 3597 2675 3597 1894 \nz\nM 3022 2063 \nQ 3016 2534 2758 2815 \nQ 2500 3097 2075 3097 \nQ 1594 3097 1305 2825 \nQ 1016 2553 972 2059 \nL 3022 2063 \nz\n\" transform=\"scale(0.015625)\"/>\n      <path id=\"DejaVuSans-66\" d=\"M 2375 4863 \nL 2375 4384 \nL 1825 4384 \nQ 1516 4384 1395 4259 \nQ 1275 4134 1275 3809 \nL 1275 3500 \nL 2222 3500 \nL 2222 3053 \nL 1275 3053 \nL 1275 0 \nL 697 0 \nL 697 3053 \nL 147 3053 \nL 147 3500 \nL 697 3500 \nL 697 3744 \nQ 697 4328 969 4595 \nQ 1241 4863 1831 4863 \nL 2375 4863 \nz\n\" transform=\"scale(0.015625)\"/>\n      <path id=\"DejaVuSans-72\" d=\"M 2631 2963 \nQ 2534 3019 2420 3045 \nQ 2306 3072 2169 3072 \nQ 1681 3072 1420 2755 \nQ 1159 2438 1159 1844 \nL 1159 0 \nL 581 0 \nL 581 3500 \nL 1159 3500 \nL 1159 2956 \nQ 1341 3275 1631 3429 \nQ 1922 3584 2338 3584 \nQ 2397 3584 2469 3576 \nQ 2541 3569 2628 3553 \nL 2631 2963 \nz\n\" transform=\"scale(0.015625)\"/>\n      <path id=\"DejaVuSans-3d\" d=\"M 678 2906 \nL 4684 2906 \nL 4684 2381 \nL 678 2381 \nL 678 2906 \nz\nM 678 1631 \nL 4684 1631 \nL 4684 1100 \nL 678 1100 \nL 678 1631 \nz\n\" transform=\"scale(0.015625)\"/>\n      <path id=\"DejaVuSans-2c\" d=\"M 750 794 \nL 1409 794 \nL 1409 256 \nL 897 -744 \nL 494 -744 \nL 750 256 \nL 750 794 \nz\n\" transform=\"scale(0.015625)\"/>\n     </defs>\n     <use xlink:href=\"#DejaVuSans-56\"/>\n     <use xlink:href=\"#DejaVuSans-61\" x=\"60.658203\"/>\n     <use xlink:href=\"#DejaVuSans-6c\" x=\"121.9375\"/>\n     <use xlink:href=\"#DejaVuSans-69\" x=\"149.720703\"/>\n     <use xlink:href=\"#DejaVuSans-64\" x=\"177.503906\"/>\n     <use xlink:href=\"#DejaVuSans-61\" x=\"240.980469\"/>\n     <use xlink:href=\"#DejaVuSans-74\" x=\"302.259766\"/>\n     <use xlink:href=\"#DejaVuSans-69\" x=\"341.46875\"/>\n     <use xlink:href=\"#DejaVuSans-6f\" x=\"369.251953\"/>\n     <use xlink:href=\"#DejaVuSans-6e\" x=\"430.433594\"/>\n     <use xlink:href=\"#DejaVuSans-20\" x=\"493.8125\"/>\n     <use xlink:href=\"#DejaVuSans-4c\" x=\"525.599609\"/>\n     <use xlink:href=\"#DejaVuSans-6f\" x=\"579.5625\"/>\n     <use xlink:href=\"#DejaVuSans-73\" x=\"640.744141\"/>\n     <use xlink:href=\"#DejaVuSans-73\" x=\"692.84375\"/>\n     <use xlink:href=\"#DejaVuSans-65\" x=\"744.943359\"/>\n     <use xlink:href=\"#DejaVuSans-73\" x=\"806.466797\"/>\n     <use xlink:href=\"#DejaVuSans-20\" x=\"858.566406\"/>\n     <use xlink:href=\"#DejaVuSans-66\" x=\"890.353516\"/>\n     <use xlink:href=\"#DejaVuSans-6f\" x=\"925.558594\"/>\n     <use xlink:href=\"#DejaVuSans-72\" x=\"986.740234\"/>\n     <use xlink:href=\"#DejaVuSans-20\" x=\"1027.853516\"/>\n     <use xlink:href=\"#DejaVuSans-20\" x=\"1059.640625\"/>\n     <use xlink:href=\"#DejaVuSans-68\" x=\"1091.427734\"/>\n     <use xlink:href=\"#DejaVuSans-69\" x=\"1154.806641\"/>\n     <use xlink:href=\"#DejaVuSans-64\" x=\"1182.589844\"/>\n     <use xlink:href=\"#DejaVuSans-64\" x=\"1246.066406\"/>\n     <use xlink:href=\"#DejaVuSans-65\" x=\"1309.542969\"/>\n     <use xlink:href=\"#DejaVuSans-6e\" x=\"1371.066406\"/>\n     <use xlink:href=\"#DejaVuSans-31\" x=\"1434.445312\"/>\n     <use xlink:href=\"#DejaVuSans-20\" x=\"1498.068359\"/>\n     <use xlink:href=\"#DejaVuSans-3d\" x=\"1529.855469\"/>\n     <use xlink:href=\"#DejaVuSans-20\" x=\"1613.644531\"/>\n     <use xlink:href=\"#DejaVuSans-31\" x=\"1645.431641\"/>\n     <use xlink:href=\"#DejaVuSans-32\" x=\"1709.054688\"/>\n     <use xlink:href=\"#DejaVuSans-38\" x=\"1772.677734\"/>\n     <use xlink:href=\"#DejaVuSans-2c\" x=\"1836.300781\"/>\n     <use xlink:href=\"#DejaVuSans-20\" x=\"1868.087891\"/>\n     <use xlink:href=\"#DejaVuSans-68\" x=\"1899.875\"/>\n     <use xlink:href=\"#DejaVuSans-69\" x=\"1963.253906\"/>\n     <use xlink:href=\"#DejaVuSans-64\" x=\"1991.037109\"/>\n     <use xlink:href=\"#DejaVuSans-64\" x=\"2054.513672\"/>\n     <use xlink:href=\"#DejaVuSans-65\" x=\"2117.990234\"/>\n     <use xlink:href=\"#DejaVuSans-6e\" x=\"2179.513672\"/>\n     <use xlink:href=\"#DejaVuSans-32\" x=\"2242.892578\"/>\n     <use xlink:href=\"#DejaVuSans-20\" x=\"2306.515625\"/>\n     <use xlink:href=\"#DejaVuSans-3d\" x=\"2338.302734\"/>\n     <use xlink:href=\"#DejaVuSans-20\" x=\"2422.091797\"/>\n     <use xlink:href=\"#DejaVuSans-31\" x=\"2453.878906\"/>\n     <use xlink:href=\"#DejaVuSans-32\" x=\"2517.501953\"/>\n     <use xlink:href=\"#DejaVuSans-38\" x=\"2581.125\"/>\n     <use xlink:href=\"#DejaVuSans-2c\" x=\"2644.748047\"/>\n     <use xlink:href=\"#DejaVuSans-20\" x=\"2676.535156\"/>\n     <use xlink:href=\"#DejaVuSans-68\" x=\"2708.322266\"/>\n     <use xlink:href=\"#DejaVuSans-69\" x=\"2771.701172\"/>\n     <use xlink:href=\"#DejaVuSans-64\" x=\"2799.484375\"/>\n     <use xlink:href=\"#DejaVuSans-64\" x=\"2862.960938\"/>\n     <use xlink:href=\"#DejaVuSans-65\" x=\"2926.4375\"/>\n     <use xlink:href=\"#DejaVuSans-6e\" x=\"2987.960938\"/>\n     <use xlink:href=\"#DejaVuSans-33\" x=\"3051.339844\"/>\n     <use xlink:href=\"#DejaVuSans-20\" x=\"3114.962891\"/>\n     <use xlink:href=\"#DejaVuSans-3d\" x=\"3146.75\"/>\n     <use xlink:href=\"#DejaVuSans-20\" x=\"3230.539062\"/>\n     <use xlink:href=\"#DejaVuSans-35\" x=\"3262.326172\"/>\n     <use xlink:href=\"#DejaVuSans-31\" x=\"3325.949219\"/>\n     <use xlink:href=\"#DejaVuSans-32\" x=\"3389.572266\"/>\n     <use xlink:href=\"#DejaVuSans-2c\" x=\"3453.195312\"/>\n    </g>\n    <!--   learning_rate = 0.01, and epoch = 10 -->\n    <g transform=\"translate(232.486125 34.2666) scale(0.144 -0.144)\">\n     <defs>\n      <path id=\"DejaVuSans-67\" d=\"M 2906 1791 \nQ 2906 2416 2648 2759 \nQ 2391 3103 1925 3103 \nQ 1463 3103 1205 2759 \nQ 947 2416 947 1791 \nQ 947 1169 1205 825 \nQ 1463 481 1925 481 \nQ 2391 481 2648 825 \nQ 2906 1169 2906 1791 \nz\nM 3481 434 \nQ 3481 -459 3084 -895 \nQ 2688 -1331 1869 -1331 \nQ 1566 -1331 1297 -1286 \nQ 1028 -1241 775 -1147 \nL 775 -588 \nQ 1028 -725 1275 -790 \nQ 1522 -856 1778 -856 \nQ 2344 -856 2625 -561 \nQ 2906 -266 2906 331 \nL 2906 616 \nQ 2728 306 2450 153 \nQ 2172 0 1784 0 \nQ 1141 0 747 490 \nQ 353 981 353 1791 \nQ 353 2603 747 3093 \nQ 1141 3584 1784 3584 \nQ 2172 3584 2450 3431 \nQ 2728 3278 2906 2969 \nL 2906 3500 \nL 3481 3500 \nL 3481 434 \nz\n\" transform=\"scale(0.015625)\"/>\n      <path id=\"DejaVuSans-5f\" d=\"M 3263 -1063 \nL 3263 -1509 \nL -63 -1509 \nL -63 -1063 \nL 3263 -1063 \nz\n\" transform=\"scale(0.015625)\"/>\n      <path id=\"DejaVuSans-2e\" d=\"M 684 794 \nL 1344 794 \nL 1344 0 \nL 684 0 \nL 684 794 \nz\n\" transform=\"scale(0.015625)\"/>\n     </defs>\n     <use xlink:href=\"#DejaVuSans-20\"/>\n     <use xlink:href=\"#DejaVuSans-20\" x=\"31.787109\"/>\n     <use xlink:href=\"#DejaVuSans-6c\" x=\"63.574219\"/>\n     <use xlink:href=\"#DejaVuSans-65\" x=\"91.357422\"/>\n     <use xlink:href=\"#DejaVuSans-61\" x=\"152.880859\"/>\n     <use xlink:href=\"#DejaVuSans-72\" x=\"214.160156\"/>\n     <use xlink:href=\"#DejaVuSans-6e\" x=\"253.523438\"/>\n     <use xlink:href=\"#DejaVuSans-69\" x=\"316.902344\"/>\n     <use xlink:href=\"#DejaVuSans-6e\" x=\"344.685547\"/>\n     <use xlink:href=\"#DejaVuSans-67\" x=\"408.064453\"/>\n     <use xlink:href=\"#DejaVuSans-5f\" x=\"471.541016\"/>\n     <use xlink:href=\"#DejaVuSans-72\" x=\"521.541016\"/>\n     <use xlink:href=\"#DejaVuSans-61\" x=\"562.654297\"/>\n     <use xlink:href=\"#DejaVuSans-74\" x=\"623.933594\"/>\n     <use xlink:href=\"#DejaVuSans-65\" x=\"663.142578\"/>\n     <use xlink:href=\"#DejaVuSans-20\" x=\"724.666016\"/>\n     <use xlink:href=\"#DejaVuSans-3d\" x=\"756.453125\"/>\n     <use xlink:href=\"#DejaVuSans-20\" x=\"840.242188\"/>\n     <use xlink:href=\"#DejaVuSans-30\" x=\"872.029297\"/>\n     <use xlink:href=\"#DejaVuSans-2e\" x=\"935.652344\"/>\n     <use xlink:href=\"#DejaVuSans-30\" x=\"967.439453\"/>\n     <use xlink:href=\"#DejaVuSans-31\" x=\"1031.0625\"/>\n     <use xlink:href=\"#DejaVuSans-2c\" x=\"1094.685547\"/>\n     <use xlink:href=\"#DejaVuSans-20\" x=\"1126.472656\"/>\n     <use xlink:href=\"#DejaVuSans-61\" x=\"1158.259766\"/>\n     <use xlink:href=\"#DejaVuSans-6e\" x=\"1219.539062\"/>\n     <use xlink:href=\"#DejaVuSans-64\" x=\"1282.917969\"/>\n     <use xlink:href=\"#DejaVuSans-20\" x=\"1346.394531\"/>\n     <use xlink:href=\"#DejaVuSans-65\" x=\"1378.181641\"/>\n     <use xlink:href=\"#DejaVuSans-70\" x=\"1439.705078\"/>\n     <use xlink:href=\"#DejaVuSans-6f\" x=\"1503.181641\"/>\n     <use xlink:href=\"#DejaVuSans-63\" x=\"1564.363281\"/>\n     <use xlink:href=\"#DejaVuSans-68\" x=\"1619.34375\"/>\n     <use xlink:href=\"#DejaVuSans-20\" x=\"1682.722656\"/>\n     <use xlink:href=\"#DejaVuSans-3d\" x=\"1714.509766\"/>\n     <use xlink:href=\"#DejaVuSans-20\" x=\"1798.298828\"/>\n     <use xlink:href=\"#DejaVuSans-31\" x=\"1830.085938\"/>\n     <use xlink:href=\"#DejaVuSans-30\" x=\"1893.708984\"/>\n    </g>\n   </g>\n   <g id=\"legend_1\">\n    <g id=\"patch_7\">\n     <path d=\"M 616.077813 192.304725 \nL 697.28875 192.304725 \nQ 699.28875 192.304725 699.28875 190.304725 \nL 699.28875 161.948475 \nQ 699.28875 159.948475 697.28875 159.948475 \nL 616.077813 159.948475 \nQ 614.077813 159.948475 614.077813 161.948475 \nL 614.077813 190.304725 \nQ 614.077813 192.304725 616.077813 192.304725 \nz\n\" style=\"fill: #e5e5e5; opacity: 0.8; stroke: #cccccc; stroke-width: 0.5; stroke-linejoin: miter\"/>\n    </g>\n    <g id=\"line2d_35\">\n     <path d=\"M 618.077813 168.046912 \nL 628.077813 168.046912 \nL 638.077813 168.046912 \n\" style=\"fill: none; stroke: #e24a33; stroke-width: 1.5; stroke-linecap: square\"/>\n    </g>\n    <g id=\"text_20\">\n     <!-- Train Loss -->\n     <g transform=\"translate(646.077813 171.546912) scale(0.1 -0.1)\">\n      <defs>\n       <path id=\"DejaVuSans-54\" d=\"M -19 4666 \nL 3928 4666 \nL 3928 4134 \nL 2272 4134 \nL 2272 0 \nL 1638 0 \nL 1638 4134 \nL -19 4134 \nL -19 4666 \nz\n\" transform=\"scale(0.015625)\"/>\n      </defs>\n      <use xlink:href=\"#DejaVuSans-54\"/>\n      <use xlink:href=\"#DejaVuSans-72\" x=\"46.333984\"/>\n      <use xlink:href=\"#DejaVuSans-61\" x=\"87.447266\"/>\n      <use xlink:href=\"#DejaVuSans-69\" x=\"148.726562\"/>\n      <use xlink:href=\"#DejaVuSans-6e\" x=\"176.509766\"/>\n      <use xlink:href=\"#DejaVuSans-20\" x=\"239.888672\"/>\n      <use xlink:href=\"#DejaVuSans-4c\" x=\"271.675781\"/>\n      <use xlink:href=\"#DejaVuSans-6f\" x=\"325.638672\"/>\n      <use xlink:href=\"#DejaVuSans-73\" x=\"386.820312\"/>\n      <use xlink:href=\"#DejaVuSans-73\" x=\"438.919922\"/>\n     </g>\n    </g>\n    <g id=\"line2d_36\">\n     <path d=\"M 618.077813 182.725037 \nL 628.077813 182.725037 \nL 638.077813 182.725037 \n\" style=\"fill: none; stroke: #348abd; stroke-width: 1.5; stroke-linecap: square\"/>\n    </g>\n    <g id=\"text_21\">\n     <!-- Valid Loss -->\n     <g transform=\"translate(646.077813 186.225037) scale(0.1 -0.1)\">\n      <use xlink:href=\"#DejaVuSans-56\"/>\n      <use xlink:href=\"#DejaVuSans-61\" x=\"60.658203\"/>\n      <use xlink:href=\"#DejaVuSans-6c\" x=\"121.9375\"/>\n      <use xlink:href=\"#DejaVuSans-69\" x=\"149.720703\"/>\n      <use xlink:href=\"#DejaVuSans-64\" x=\"177.503906\"/>\n      <use xlink:href=\"#DejaVuSans-20\" x=\"240.980469\"/>\n      <use xlink:href=\"#DejaVuSans-4c\" x=\"272.767578\"/>\n      <use xlink:href=\"#DejaVuSans-6f\" x=\"326.730469\"/>\n      <use xlink:href=\"#DejaVuSans-73\" x=\"387.912109\"/>\n      <use xlink:href=\"#DejaVuSans-73\" x=\"440.011719\"/>\n     </g>\n    </g>\n   </g>\n  </g>\n </g>\n <defs>\n  <clipPath id=\"p5c8b1715d8\">\n   <rect x=\"42.53875\" y=\"40.2666\" width=\"661.75\" height=\"271.72\"/>\n  </clipPath>\n </defs>\n</svg>\n"
          },
          "metadata": {}
        },
        {
          "output_type": "display_data",
          "data": {
            "text/plain": [
              "<Figure size 1000x500 with 1 Axes>"
            ],
            "image/svg+xml": "<?xml version=\"1.0\" encoding=\"utf-8\" standalone=\"no\"?>\n<!DOCTYPE svg PUBLIC \"-//W3C//DTD SVG 1.1//EN\"\n  \"http://www.w3.org/Graphics/SVG/1.1/DTD/svg11.dtd\">\n<svg xmlns:xlink=\"http://www.w3.org/1999/xlink\" width=\"711.48875pt\" height=\"351.478475pt\" viewBox=\"0 0 711.48875 351.478475\" xmlns=\"http://www.w3.org/2000/svg\" version=\"1.1\">\n <metadata>\n  <rdf:RDF xmlns:dc=\"http://purl.org/dc/elements/1.1/\" xmlns:cc=\"http://creativecommons.org/ns#\" xmlns:rdf=\"http://www.w3.org/1999/02/22-rdf-syntax-ns#\">\n   <cc:Work>\n    <dc:type rdf:resource=\"http://purl.org/dc/dcmitype/StillImage\"/>\n    <dc:date>2023-12-14T10:24:58.660081</dc:date>\n    <dc:format>image/svg+xml</dc:format>\n    <dc:creator>\n     <cc:Agent>\n      <dc:title>Matplotlib v3.7.1, https://matplotlib.org/</dc:title>\n     </cc:Agent>\n    </dc:creator>\n   </cc:Work>\n  </rdf:RDF>\n </metadata>\n <defs>\n  <style type=\"text/css\">*{stroke-linejoin: round; stroke-linecap: butt}</style>\n </defs>\n <g id=\"figure_1\">\n  <g id=\"patch_1\">\n   <path d=\"M 0 351.478475 \nL 711.48875 351.478475 \nL 711.48875 0 \nL 0 0 \nz\n\" style=\"fill: #ffffff\"/>\n  </g>\n  <g id=\"axes_1\">\n   <g id=\"patch_2\">\n    <path d=\"M 42.53875 311.9866 \nL 704.28875 311.9866 \nL 704.28875 40.2666 \nL 42.53875 40.2666 \nz\n\" style=\"fill: #e5e5e5\"/>\n   </g>\n   <g id=\"matplotlib.axis_1\">\n    <g id=\"xtick_1\">\n     <g id=\"line2d_1\">\n      <path d=\"M 72.618295 311.9866 \nL 72.618295 40.2666 \n\" clip-path=\"url(#p007bd169d5)\" style=\"fill: none; stroke: #ffffff; stroke-width: 0.8; stroke-linecap: square\"/>\n     </g>\n     <g id=\"line2d_2\">\n      <defs>\n       <path id=\"m5f0bfdaa39\" d=\"M 0 0 \nL 0 3.5 \n\" style=\"stroke: #555555; stroke-width: 0.8\"/>\n      </defs>\n      <g>\n       <use xlink:href=\"#m5f0bfdaa39\" x=\"72.618295\" y=\"311.9866\" style=\"fill: #555555; stroke: #555555; stroke-width: 0.8\"/>\n      </g>\n     </g>\n     <g id=\"text_1\">\n      <!-- 1 -->\n      <g style=\"fill: #555555\" transform=\"translate(69.437045 326.585037) scale(0.1 -0.1)\">\n       <defs>\n        <path id=\"DejaVuSans-31\" d=\"M 794 531 \nL 1825 531 \nL 1825 4091 \nL 703 3866 \nL 703 4441 \nL 1819 4666 \nL 2450 4666 \nL 2450 531 \nL 3481 531 \nL 3481 0 \nL 794 0 \nL 794 531 \nz\n\" transform=\"scale(0.015625)\"/>\n       </defs>\n       <use xlink:href=\"#DejaVuSans-31\"/>\n      </g>\n     </g>\n    </g>\n    <g id=\"xtick_2\">\n     <g id=\"line2d_3\">\n      <path d=\"M 132.777386 311.9866 \nL 132.777386 40.2666 \n\" clip-path=\"url(#p007bd169d5)\" style=\"fill: none; stroke: #ffffff; stroke-width: 0.8; stroke-linecap: square\"/>\n     </g>\n     <g id=\"line2d_4\">\n      <g>\n       <use xlink:href=\"#m5f0bfdaa39\" x=\"132.777386\" y=\"311.9866\" style=\"fill: #555555; stroke: #555555; stroke-width: 0.8\"/>\n      </g>\n     </g>\n     <g id=\"text_2\">\n      <!-- 2 -->\n      <g style=\"fill: #555555\" transform=\"translate(129.596136 326.585037) scale(0.1 -0.1)\">\n       <defs>\n        <path id=\"DejaVuSans-32\" d=\"M 1228 531 \nL 3431 531 \nL 3431 0 \nL 469 0 \nL 469 531 \nQ 828 903 1448 1529 \nQ 2069 2156 2228 2338 \nQ 2531 2678 2651 2914 \nQ 2772 3150 2772 3378 \nQ 2772 3750 2511 3984 \nQ 2250 4219 1831 4219 \nQ 1534 4219 1204 4116 \nQ 875 4013 500 3803 \nL 500 4441 \nQ 881 4594 1212 4672 \nQ 1544 4750 1819 4750 \nQ 2544 4750 2975 4387 \nQ 3406 4025 3406 3419 \nQ 3406 3131 3298 2873 \nQ 3191 2616 2906 2266 \nQ 2828 2175 2409 1742 \nQ 1991 1309 1228 531 \nz\n\" transform=\"scale(0.015625)\"/>\n       </defs>\n       <use xlink:href=\"#DejaVuSans-32\"/>\n      </g>\n     </g>\n    </g>\n    <g id=\"xtick_3\">\n     <g id=\"line2d_5\">\n      <path d=\"M 192.936477 311.9866 \nL 192.936477 40.2666 \n\" clip-path=\"url(#p007bd169d5)\" style=\"fill: none; stroke: #ffffff; stroke-width: 0.8; stroke-linecap: square\"/>\n     </g>\n     <g id=\"line2d_6\">\n      <g>\n       <use xlink:href=\"#m5f0bfdaa39\" x=\"192.936477\" y=\"311.9866\" style=\"fill: #555555; stroke: #555555; stroke-width: 0.8\"/>\n      </g>\n     </g>\n     <g id=\"text_3\">\n      <!-- 3 -->\n      <g style=\"fill: #555555\" transform=\"translate(189.755227 326.585037) scale(0.1 -0.1)\">\n       <defs>\n        <path id=\"DejaVuSans-33\" d=\"M 2597 2516 \nQ 3050 2419 3304 2112 \nQ 3559 1806 3559 1356 \nQ 3559 666 3084 287 \nQ 2609 -91 1734 -91 \nQ 1441 -91 1130 -33 \nQ 819 25 488 141 \nL 488 750 \nQ 750 597 1062 519 \nQ 1375 441 1716 441 \nQ 2309 441 2620 675 \nQ 2931 909 2931 1356 \nQ 2931 1769 2642 2001 \nQ 2353 2234 1838 2234 \nL 1294 2234 \nL 1294 2753 \nL 1863 2753 \nQ 2328 2753 2575 2939 \nQ 2822 3125 2822 3475 \nQ 2822 3834 2567 4026 \nQ 2313 4219 1838 4219 \nQ 1578 4219 1281 4162 \nQ 984 4106 628 3988 \nL 628 4550 \nQ 988 4650 1302 4700 \nQ 1616 4750 1894 4750 \nQ 2613 4750 3031 4423 \nQ 3450 4097 3450 3541 \nQ 3450 3153 3228 2886 \nQ 3006 2619 2597 2516 \nz\n\" transform=\"scale(0.015625)\"/>\n       </defs>\n       <use xlink:href=\"#DejaVuSans-33\"/>\n      </g>\n     </g>\n    </g>\n    <g id=\"xtick_4\">\n     <g id=\"line2d_7\">\n      <path d=\"M 253.095568 311.9866 \nL 253.095568 40.2666 \n\" clip-path=\"url(#p007bd169d5)\" style=\"fill: none; stroke: #ffffff; stroke-width: 0.8; stroke-linecap: square\"/>\n     </g>\n     <g id=\"line2d_8\">\n      <g>\n       <use xlink:href=\"#m5f0bfdaa39\" x=\"253.095568\" y=\"311.9866\" style=\"fill: #555555; stroke: #555555; stroke-width: 0.8\"/>\n      </g>\n     </g>\n     <g id=\"text_4\">\n      <!-- 4 -->\n      <g style=\"fill: #555555\" transform=\"translate(249.914318 326.585037) scale(0.1 -0.1)\">\n       <defs>\n        <path id=\"DejaVuSans-34\" d=\"M 2419 4116 \nL 825 1625 \nL 2419 1625 \nL 2419 4116 \nz\nM 2253 4666 \nL 3047 4666 \nL 3047 1625 \nL 3713 1625 \nL 3713 1100 \nL 3047 1100 \nL 3047 0 \nL 2419 0 \nL 2419 1100 \nL 313 1100 \nL 313 1709 \nL 2253 4666 \nz\n\" transform=\"scale(0.015625)\"/>\n       </defs>\n       <use xlink:href=\"#DejaVuSans-34\"/>\n      </g>\n     </g>\n    </g>\n    <g id=\"xtick_5\">\n     <g id=\"line2d_9\">\n      <path d=\"M 313.254659 311.9866 \nL 313.254659 40.2666 \n\" clip-path=\"url(#p007bd169d5)\" style=\"fill: none; stroke: #ffffff; stroke-width: 0.8; stroke-linecap: square\"/>\n     </g>\n     <g id=\"line2d_10\">\n      <g>\n       <use xlink:href=\"#m5f0bfdaa39\" x=\"313.254659\" y=\"311.9866\" style=\"fill: #555555; stroke: #555555; stroke-width: 0.8\"/>\n      </g>\n     </g>\n     <g id=\"text_5\">\n      <!-- 5 -->\n      <g style=\"fill: #555555\" transform=\"translate(310.073409 326.585037) scale(0.1 -0.1)\">\n       <defs>\n        <path id=\"DejaVuSans-35\" d=\"M 691 4666 \nL 3169 4666 \nL 3169 4134 \nL 1269 4134 \nL 1269 2991 \nQ 1406 3038 1543 3061 \nQ 1681 3084 1819 3084 \nQ 2600 3084 3056 2656 \nQ 3513 2228 3513 1497 \nQ 3513 744 3044 326 \nQ 2575 -91 1722 -91 \nQ 1428 -91 1123 -41 \nQ 819 9 494 109 \nL 494 744 \nQ 775 591 1075 516 \nQ 1375 441 1709 441 \nQ 2250 441 2565 725 \nQ 2881 1009 2881 1497 \nQ 2881 1984 2565 2268 \nQ 2250 2553 1709 2553 \nQ 1456 2553 1204 2497 \nQ 953 2441 691 2322 \nL 691 4666 \nz\n\" transform=\"scale(0.015625)\"/>\n       </defs>\n       <use xlink:href=\"#DejaVuSans-35\"/>\n      </g>\n     </g>\n    </g>\n    <g id=\"xtick_6\">\n     <g id=\"line2d_11\">\n      <path d=\"M 373.41375 311.9866 \nL 373.41375 40.2666 \n\" clip-path=\"url(#p007bd169d5)\" style=\"fill: none; stroke: #ffffff; stroke-width: 0.8; stroke-linecap: square\"/>\n     </g>\n     <g id=\"line2d_12\">\n      <g>\n       <use xlink:href=\"#m5f0bfdaa39\" x=\"373.41375\" y=\"311.9866\" style=\"fill: #555555; stroke: #555555; stroke-width: 0.8\"/>\n      </g>\n     </g>\n     <g id=\"text_6\">\n      <!-- 6 -->\n      <g style=\"fill: #555555\" transform=\"translate(370.2325 326.585037) scale(0.1 -0.1)\">\n       <defs>\n        <path id=\"DejaVuSans-36\" d=\"M 2113 2584 \nQ 1688 2584 1439 2293 \nQ 1191 2003 1191 1497 \nQ 1191 994 1439 701 \nQ 1688 409 2113 409 \nQ 2538 409 2786 701 \nQ 3034 994 3034 1497 \nQ 3034 2003 2786 2293 \nQ 2538 2584 2113 2584 \nz\nM 3366 4563 \nL 3366 3988 \nQ 3128 4100 2886 4159 \nQ 2644 4219 2406 4219 \nQ 1781 4219 1451 3797 \nQ 1122 3375 1075 2522 \nQ 1259 2794 1537 2939 \nQ 1816 3084 2150 3084 \nQ 2853 3084 3261 2657 \nQ 3669 2231 3669 1497 \nQ 3669 778 3244 343 \nQ 2819 -91 2113 -91 \nQ 1303 -91 875 529 \nQ 447 1150 447 2328 \nQ 447 3434 972 4092 \nQ 1497 4750 2381 4750 \nQ 2619 4750 2861 4703 \nQ 3103 4656 3366 4563 \nz\n\" transform=\"scale(0.015625)\"/>\n       </defs>\n       <use xlink:href=\"#DejaVuSans-36\"/>\n      </g>\n     </g>\n    </g>\n    <g id=\"xtick_7\">\n     <g id=\"line2d_13\">\n      <path d=\"M 433.572841 311.9866 \nL 433.572841 40.2666 \n\" clip-path=\"url(#p007bd169d5)\" style=\"fill: none; stroke: #ffffff; stroke-width: 0.8; stroke-linecap: square\"/>\n     </g>\n     <g id=\"line2d_14\">\n      <g>\n       <use xlink:href=\"#m5f0bfdaa39\" x=\"433.572841\" y=\"311.9866\" style=\"fill: #555555; stroke: #555555; stroke-width: 0.8\"/>\n      </g>\n     </g>\n     <g id=\"text_7\">\n      <!-- 7 -->\n      <g style=\"fill: #555555\" transform=\"translate(430.391591 326.585037) scale(0.1 -0.1)\">\n       <defs>\n        <path id=\"DejaVuSans-37\" d=\"M 525 4666 \nL 3525 4666 \nL 3525 4397 \nL 1831 0 \nL 1172 0 \nL 2766 4134 \nL 525 4134 \nL 525 4666 \nz\n\" transform=\"scale(0.015625)\"/>\n       </defs>\n       <use xlink:href=\"#DejaVuSans-37\"/>\n      </g>\n     </g>\n    </g>\n    <g id=\"xtick_8\">\n     <g id=\"line2d_15\">\n      <path d=\"M 493.731932 311.9866 \nL 493.731932 40.2666 \n\" clip-path=\"url(#p007bd169d5)\" style=\"fill: none; stroke: #ffffff; stroke-width: 0.8; stroke-linecap: square\"/>\n     </g>\n     <g id=\"line2d_16\">\n      <g>\n       <use xlink:href=\"#m5f0bfdaa39\" x=\"493.731932\" y=\"311.9866\" style=\"fill: #555555; stroke: #555555; stroke-width: 0.8\"/>\n      </g>\n     </g>\n     <g id=\"text_8\">\n      <!-- 8 -->\n      <g style=\"fill: #555555\" transform=\"translate(490.550682 326.585037) scale(0.1 -0.1)\">\n       <defs>\n        <path id=\"DejaVuSans-38\" d=\"M 2034 2216 \nQ 1584 2216 1326 1975 \nQ 1069 1734 1069 1313 \nQ 1069 891 1326 650 \nQ 1584 409 2034 409 \nQ 2484 409 2743 651 \nQ 3003 894 3003 1313 \nQ 3003 1734 2745 1975 \nQ 2488 2216 2034 2216 \nz\nM 1403 2484 \nQ 997 2584 770 2862 \nQ 544 3141 544 3541 \nQ 544 4100 942 4425 \nQ 1341 4750 2034 4750 \nQ 2731 4750 3128 4425 \nQ 3525 4100 3525 3541 \nQ 3525 3141 3298 2862 \nQ 3072 2584 2669 2484 \nQ 3125 2378 3379 2068 \nQ 3634 1759 3634 1313 \nQ 3634 634 3220 271 \nQ 2806 -91 2034 -91 \nQ 1263 -91 848 271 \nQ 434 634 434 1313 \nQ 434 1759 690 2068 \nQ 947 2378 1403 2484 \nz\nM 1172 3481 \nQ 1172 3119 1398 2916 \nQ 1625 2713 2034 2713 \nQ 2441 2713 2670 2916 \nQ 2900 3119 2900 3481 \nQ 2900 3844 2670 4047 \nQ 2441 4250 2034 4250 \nQ 1625 4250 1398 4047 \nQ 1172 3844 1172 3481 \nz\n\" transform=\"scale(0.015625)\"/>\n       </defs>\n       <use xlink:href=\"#DejaVuSans-38\"/>\n      </g>\n     </g>\n    </g>\n    <g id=\"xtick_9\">\n     <g id=\"line2d_17\">\n      <path d=\"M 553.891023 311.9866 \nL 553.891023 40.2666 \n\" clip-path=\"url(#p007bd169d5)\" style=\"fill: none; stroke: #ffffff; stroke-width: 0.8; stroke-linecap: square\"/>\n     </g>\n     <g id=\"line2d_18\">\n      <g>\n       <use xlink:href=\"#m5f0bfdaa39\" x=\"553.891023\" y=\"311.9866\" style=\"fill: #555555; stroke: #555555; stroke-width: 0.8\"/>\n      </g>\n     </g>\n     <g id=\"text_9\">\n      <!-- 9 -->\n      <g style=\"fill: #555555\" transform=\"translate(550.709773 326.585037) scale(0.1 -0.1)\">\n       <defs>\n        <path id=\"DejaVuSans-39\" d=\"M 703 97 \nL 703 672 \nQ 941 559 1184 500 \nQ 1428 441 1663 441 \nQ 2288 441 2617 861 \nQ 2947 1281 2994 2138 \nQ 2813 1869 2534 1725 \nQ 2256 1581 1919 1581 \nQ 1219 1581 811 2004 \nQ 403 2428 403 3163 \nQ 403 3881 828 4315 \nQ 1253 4750 1959 4750 \nQ 2769 4750 3195 4129 \nQ 3622 3509 3622 2328 \nQ 3622 1225 3098 567 \nQ 2575 -91 1691 -91 \nQ 1453 -91 1209 -44 \nQ 966 3 703 97 \nz\nM 1959 2075 \nQ 2384 2075 2632 2365 \nQ 2881 2656 2881 3163 \nQ 2881 3666 2632 3958 \nQ 2384 4250 1959 4250 \nQ 1534 4250 1286 3958 \nQ 1038 3666 1038 3163 \nQ 1038 2656 1286 2365 \nQ 1534 2075 1959 2075 \nz\n\" transform=\"scale(0.015625)\"/>\n       </defs>\n       <use xlink:href=\"#DejaVuSans-39\"/>\n      </g>\n     </g>\n    </g>\n    <g id=\"xtick_10\">\n     <g id=\"line2d_19\">\n      <path d=\"M 614.050114 311.9866 \nL 614.050114 40.2666 \n\" clip-path=\"url(#p007bd169d5)\" style=\"fill: none; stroke: #ffffff; stroke-width: 0.8; stroke-linecap: square\"/>\n     </g>\n     <g id=\"line2d_20\">\n      <g>\n       <use xlink:href=\"#m5f0bfdaa39\" x=\"614.050114\" y=\"311.9866\" style=\"fill: #555555; stroke: #555555; stroke-width: 0.8\"/>\n      </g>\n     </g>\n     <g id=\"text_10\">\n      <!-- 10 -->\n      <g style=\"fill: #555555\" transform=\"translate(607.687614 326.585037) scale(0.1 -0.1)\">\n       <defs>\n        <path id=\"DejaVuSans-30\" d=\"M 2034 4250 \nQ 1547 4250 1301 3770 \nQ 1056 3291 1056 2328 \nQ 1056 1369 1301 889 \nQ 1547 409 2034 409 \nQ 2525 409 2770 889 \nQ 3016 1369 3016 2328 \nQ 3016 3291 2770 3770 \nQ 2525 4250 2034 4250 \nz\nM 2034 4750 \nQ 2819 4750 3233 4129 \nQ 3647 3509 3647 2328 \nQ 3647 1150 3233 529 \nQ 2819 -91 2034 -91 \nQ 1250 -91 836 529 \nQ 422 1150 422 2328 \nQ 422 3509 836 4129 \nQ 1250 4750 2034 4750 \nz\n\" transform=\"scale(0.015625)\"/>\n       </defs>\n       <use xlink:href=\"#DejaVuSans-31\"/>\n       <use xlink:href=\"#DejaVuSans-30\" x=\"63.623047\"/>\n      </g>\n     </g>\n    </g>\n    <g id=\"xtick_11\">\n     <g id=\"line2d_21\">\n      <path d=\"M 674.209205 311.9866 \nL 674.209205 40.2666 \n\" clip-path=\"url(#p007bd169d5)\" style=\"fill: none; stroke: #ffffff; stroke-width: 0.8; stroke-linecap: square\"/>\n     </g>\n     <g id=\"line2d_22\">\n      <g>\n       <use xlink:href=\"#m5f0bfdaa39\" x=\"674.209205\" y=\"311.9866\" style=\"fill: #555555; stroke: #555555; stroke-width: 0.8\"/>\n      </g>\n     </g>\n     <g id=\"text_11\">\n      <!-- 11 -->\n      <g style=\"fill: #555555\" transform=\"translate(667.846705 326.585037) scale(0.1 -0.1)\">\n       <use xlink:href=\"#DejaVuSans-31\"/>\n       <use xlink:href=\"#DejaVuSans-31\" x=\"63.623047\"/>\n      </g>\n     </g>\n    </g>\n    <g id=\"text_12\">\n     <!-- Epoch -->\n     <g style=\"fill: #555555\" transform=\"translate(355.040625 341.78285) scale(0.12 -0.12)\">\n      <defs>\n       <path id=\"DejaVuSans-45\" d=\"M 628 4666 \nL 3578 4666 \nL 3578 4134 \nL 1259 4134 \nL 1259 2753 \nL 3481 2753 \nL 3481 2222 \nL 1259 2222 \nL 1259 531 \nL 3634 531 \nL 3634 0 \nL 628 0 \nL 628 4666 \nz\n\" transform=\"scale(0.015625)\"/>\n       <path id=\"DejaVuSans-70\" d=\"M 1159 525 \nL 1159 -1331 \nL 581 -1331 \nL 581 3500 \nL 1159 3500 \nL 1159 2969 \nQ 1341 3281 1617 3432 \nQ 1894 3584 2278 3584 \nQ 2916 3584 3314 3078 \nQ 3713 2572 3713 1747 \nQ 3713 922 3314 415 \nQ 2916 -91 2278 -91 \nQ 1894 -91 1617 61 \nQ 1341 213 1159 525 \nz\nM 3116 1747 \nQ 3116 2381 2855 2742 \nQ 2594 3103 2138 3103 \nQ 1681 3103 1420 2742 \nQ 1159 2381 1159 1747 \nQ 1159 1113 1420 752 \nQ 1681 391 2138 391 \nQ 2594 391 2855 752 \nQ 3116 1113 3116 1747 \nz\n\" transform=\"scale(0.015625)\"/>\n       <path id=\"DejaVuSans-6f\" d=\"M 1959 3097 \nQ 1497 3097 1228 2736 \nQ 959 2375 959 1747 \nQ 959 1119 1226 758 \nQ 1494 397 1959 397 \nQ 2419 397 2687 759 \nQ 2956 1122 2956 1747 \nQ 2956 2369 2687 2733 \nQ 2419 3097 1959 3097 \nz\nM 1959 3584 \nQ 2709 3584 3137 3096 \nQ 3566 2609 3566 1747 \nQ 3566 888 3137 398 \nQ 2709 -91 1959 -91 \nQ 1206 -91 779 398 \nQ 353 888 353 1747 \nQ 353 2609 779 3096 \nQ 1206 3584 1959 3584 \nz\n\" transform=\"scale(0.015625)\"/>\n       <path id=\"DejaVuSans-63\" d=\"M 3122 3366 \nL 3122 2828 \nQ 2878 2963 2633 3030 \nQ 2388 3097 2138 3097 \nQ 1578 3097 1268 2742 \nQ 959 2388 959 1747 \nQ 959 1106 1268 751 \nQ 1578 397 2138 397 \nQ 2388 397 2633 464 \nQ 2878 531 3122 666 \nL 3122 134 \nQ 2881 22 2623 -34 \nQ 2366 -91 2075 -91 \nQ 1284 -91 818 406 \nQ 353 903 353 1747 \nQ 353 2603 823 3093 \nQ 1294 3584 2113 3584 \nQ 2378 3584 2631 3529 \nQ 2884 3475 3122 3366 \nz\n\" transform=\"scale(0.015625)\"/>\n       <path id=\"DejaVuSans-68\" d=\"M 3513 2113 \nL 3513 0 \nL 2938 0 \nL 2938 2094 \nQ 2938 2591 2744 2837 \nQ 2550 3084 2163 3084 \nQ 1697 3084 1428 2787 \nQ 1159 2491 1159 1978 \nL 1159 0 \nL 581 0 \nL 581 4863 \nL 1159 4863 \nL 1159 2956 \nQ 1366 3272 1645 3428 \nQ 1925 3584 2291 3584 \nQ 2894 3584 3203 3211 \nQ 3513 2838 3513 2113 \nz\n\" transform=\"scale(0.015625)\"/>\n      </defs>\n      <use xlink:href=\"#DejaVuSans-45\"/>\n      <use xlink:href=\"#DejaVuSans-70\" x=\"63.183594\"/>\n      <use xlink:href=\"#DejaVuSans-6f\" x=\"126.660156\"/>\n      <use xlink:href=\"#DejaVuSans-63\" x=\"187.841797\"/>\n      <use xlink:href=\"#DejaVuSans-68\" x=\"242.822266\"/>\n     </g>\n    </g>\n   </g>\n   <g id=\"matplotlib.axis_2\">\n    <g id=\"ytick_1\">\n     <g id=\"line2d_23\">\n      <path d=\"M 42.53875 299.640598 \nL 704.28875 299.640598 \n\" clip-path=\"url(#p007bd169d5)\" style=\"fill: none; stroke: #ffffff; stroke-width: 0.8; stroke-linecap: square\"/>\n     </g>\n     <g id=\"line2d_24\">\n      <defs>\n       <path id=\"m23a3891ce4\" d=\"M 0 0 \nL -3.5 0 \n\" style=\"stroke: #555555; stroke-width: 0.8\"/>\n      </defs>\n      <g>\n       <use xlink:href=\"#m23a3891ce4\" x=\"42.53875\" y=\"299.640598\" style=\"fill: #555555; stroke: #555555; stroke-width: 0.8\"/>\n      </g>\n     </g>\n     <g id=\"text_13\">\n      <!-- 0 -->\n      <g style=\"fill: #555555\" transform=\"translate(29.17625 303.439817) scale(0.1 -0.1)\">\n       <use xlink:href=\"#DejaVuSans-30\"/>\n      </g>\n     </g>\n    </g>\n    <g id=\"ytick_2\">\n     <g id=\"line2d_25\">\n      <path d=\"M 42.53875 248.497032 \nL 704.28875 248.497032 \n\" clip-path=\"url(#p007bd169d5)\" style=\"fill: none; stroke: #ffffff; stroke-width: 0.8; stroke-linecap: square\"/>\n     </g>\n     <g id=\"line2d_26\">\n      <g>\n       <use xlink:href=\"#m23a3891ce4\" x=\"42.53875\" y=\"248.497032\" style=\"fill: #555555; stroke: #555555; stroke-width: 0.8\"/>\n      </g>\n     </g>\n     <g id=\"text_14\">\n      <!-- 10 -->\n      <g style=\"fill: #555555\" transform=\"translate(22.81375 252.296251) scale(0.1 -0.1)\">\n       <use xlink:href=\"#DejaVuSans-31\"/>\n       <use xlink:href=\"#DejaVuSans-30\" x=\"63.623047\"/>\n      </g>\n     </g>\n    </g>\n    <g id=\"ytick_3\">\n     <g id=\"line2d_27\">\n      <path d=\"M 42.53875 197.353466 \nL 704.28875 197.353466 \n\" clip-path=\"url(#p007bd169d5)\" style=\"fill: none; stroke: #ffffff; stroke-width: 0.8; stroke-linecap: square\"/>\n     </g>\n     <g id=\"line2d_28\">\n      <g>\n       <use xlink:href=\"#m23a3891ce4\" x=\"42.53875\" y=\"197.353466\" style=\"fill: #555555; stroke: #555555; stroke-width: 0.8\"/>\n      </g>\n     </g>\n     <g id=\"text_15\">\n      <!-- 20 -->\n      <g style=\"fill: #555555\" transform=\"translate(22.81375 201.152685) scale(0.1 -0.1)\">\n       <use xlink:href=\"#DejaVuSans-32\"/>\n       <use xlink:href=\"#DejaVuSans-30\" x=\"63.623047\"/>\n      </g>\n     </g>\n    </g>\n    <g id=\"ytick_4\">\n     <g id=\"line2d_29\">\n      <path d=\"M 42.53875 146.2099 \nL 704.28875 146.2099 \n\" clip-path=\"url(#p007bd169d5)\" style=\"fill: none; stroke: #ffffff; stroke-width: 0.8; stroke-linecap: square\"/>\n     </g>\n     <g id=\"line2d_30\">\n      <g>\n       <use xlink:href=\"#m23a3891ce4\" x=\"42.53875\" y=\"146.2099\" style=\"fill: #555555; stroke: #555555; stroke-width: 0.8\"/>\n      </g>\n     </g>\n     <g id=\"text_16\">\n      <!-- 30 -->\n      <g style=\"fill: #555555\" transform=\"translate(22.81375 150.009119) scale(0.1 -0.1)\">\n       <use xlink:href=\"#DejaVuSans-33\"/>\n       <use xlink:href=\"#DejaVuSans-30\" x=\"63.623047\"/>\n      </g>\n     </g>\n    </g>\n    <g id=\"ytick_5\">\n     <g id=\"line2d_31\">\n      <path d=\"M 42.53875 95.066334 \nL 704.28875 95.066334 \n\" clip-path=\"url(#p007bd169d5)\" style=\"fill: none; stroke: #ffffff; stroke-width: 0.8; stroke-linecap: square\"/>\n     </g>\n     <g id=\"line2d_32\">\n      <g>\n       <use xlink:href=\"#m23a3891ce4\" x=\"42.53875\" y=\"95.066334\" style=\"fill: #555555; stroke: #555555; stroke-width: 0.8\"/>\n      </g>\n     </g>\n     <g id=\"text_17\">\n      <!-- 40 -->\n      <g style=\"fill: #555555\" transform=\"translate(22.81375 98.865553) scale(0.1 -0.1)\">\n       <use xlink:href=\"#DejaVuSans-34\"/>\n       <use xlink:href=\"#DejaVuSans-30\" x=\"63.623047\"/>\n      </g>\n     </g>\n    </g>\n    <g id=\"ytick_6\">\n     <g id=\"line2d_33\">\n      <path d=\"M 42.53875 43.922768 \nL 704.28875 43.922768 \n\" clip-path=\"url(#p007bd169d5)\" style=\"fill: none; stroke: #ffffff; stroke-width: 0.8; stroke-linecap: square\"/>\n     </g>\n     <g id=\"line2d_34\">\n      <g>\n       <use xlink:href=\"#m23a3891ce4\" x=\"42.53875\" y=\"43.922768\" style=\"fill: #555555; stroke: #555555; stroke-width: 0.8\"/>\n      </g>\n     </g>\n     <g id=\"text_18\">\n      <!-- 50 -->\n      <g style=\"fill: #555555\" transform=\"translate(22.81375 47.721987) scale(0.1 -0.1)\">\n       <use xlink:href=\"#DejaVuSans-35\"/>\n       <use xlink:href=\"#DejaVuSans-30\" x=\"63.623047\"/>\n      </g>\n     </g>\n    </g>\n    <g id=\"text_19\">\n     <!-- Loss -->\n     <g style=\"fill: #555555\" transform=\"translate(16.318125 189.287225) rotate(-90) scale(0.12 -0.12)\">\n      <defs>\n       <path id=\"DejaVuSans-4c\" d=\"M 628 4666 \nL 1259 4666 \nL 1259 531 \nL 3531 531 \nL 3531 0 \nL 628 0 \nL 628 4666 \nz\n\" transform=\"scale(0.015625)\"/>\n       <path id=\"DejaVuSans-73\" d=\"M 2834 3397 \nL 2834 2853 \nQ 2591 2978 2328 3040 \nQ 2066 3103 1784 3103 \nQ 1356 3103 1142 2972 \nQ 928 2841 928 2578 \nQ 928 2378 1081 2264 \nQ 1234 2150 1697 2047 \nL 1894 2003 \nQ 2506 1872 2764 1633 \nQ 3022 1394 3022 966 \nQ 3022 478 2636 193 \nQ 2250 -91 1575 -91 \nQ 1294 -91 989 -36 \nQ 684 19 347 128 \nL 347 722 \nQ 666 556 975 473 \nQ 1284 391 1588 391 \nQ 1994 391 2212 530 \nQ 2431 669 2431 922 \nQ 2431 1156 2273 1281 \nQ 2116 1406 1581 1522 \nL 1381 1569 \nQ 847 1681 609 1914 \nQ 372 2147 372 2553 \nQ 372 3047 722 3315 \nQ 1072 3584 1716 3584 \nQ 2034 3584 2315 3537 \nQ 2597 3491 2834 3397 \nz\n\" transform=\"scale(0.015625)\"/>\n      </defs>\n      <use xlink:href=\"#DejaVuSans-4c\"/>\n      <use xlink:href=\"#DejaVuSans-6f\" x=\"53.962891\"/>\n      <use xlink:href=\"#DejaVuSans-73\" x=\"115.144531\"/>\n      <use xlink:href=\"#DejaVuSans-73\" x=\"167.244141\"/>\n     </g>\n    </g>\n   </g>\n   <g id=\"line2d_35\">\n    <path d=\"M 72.618295 299.635332 \nL 132.777386 299.635547 \nL 192.936477 299.635609 \nL 253.095568 299.635621 \nL 313.254659 299.635635 \nL 373.41375 299.635649 \nL 433.572841 299.635659 \nL 493.731932 299.635667 \nL 553.891023 299.635678 \nL 614.050114 299.635685 \nL 674.209205 299.635691 \n\" clip-path=\"url(#p007bd169d5)\" style=\"fill: none; stroke: #e24a33; stroke-width: 1.5; stroke-linecap: square\"/>\n   </g>\n   <g id=\"line2d_36\">\n    <path d=\"M 72.618295 52.617509 \nL 132.777386 57.691018 \nL 192.936477 58.773328 \nL 253.095568 58.948065 \nL 313.254659 59.957782 \nL 373.41375 60.169891 \nL 433.572841 60.995604 \nL 493.731932 61.021731 \nL 553.891023 61.735063 \nL 614.050114 61.59624 \nL 674.209205 62.163965 \n\" clip-path=\"url(#p007bd169d5)\" style=\"fill: none; stroke: #348abd; stroke-width: 1.5; stroke-linecap: square\"/>\n   </g>\n   <g id=\"patch_3\">\n    <path d=\"M 42.53875 311.9866 \nL 42.53875 40.2666 \n\" style=\"fill: none; stroke: #ffffff; stroke-linejoin: miter; stroke-linecap: square\"/>\n   </g>\n   <g id=\"patch_4\">\n    <path d=\"M 704.28875 311.9866 \nL 704.28875 40.2666 \n\" style=\"fill: none; stroke: #ffffff; stroke-linejoin: miter; stroke-linecap: square\"/>\n   </g>\n   <g id=\"patch_5\">\n    <path d=\"M 42.53875 311.9866 \nL 704.28875 311.9866 \n\" style=\"fill: none; stroke: #ffffff; stroke-linejoin: miter; stroke-linecap: square\"/>\n   </g>\n   <g id=\"patch_6\">\n    <path d=\"M 42.53875 40.2666 \nL 704.28875 40.2666 \n\" style=\"fill: none; stroke: #ffffff; stroke-linejoin: miter; stroke-linecap: square\"/>\n   </g>\n   <g id=\"text_20\">\n    <!-- Validation Losses for  hidden1 = 128, hidden2 = 128, hidden3 = 64, -->\n    <g transform=\"translate(127.075875 18.14175) scale(0.144 -0.144)\">\n     <defs>\n      <path id=\"DejaVuSans-56\" d=\"M 1831 0 \nL 50 4666 \nL 709 4666 \nL 2188 738 \nL 3669 4666 \nL 4325 4666 \nL 2547 0 \nL 1831 0 \nz\n\" transform=\"scale(0.015625)\"/>\n      <path id=\"DejaVuSans-61\" d=\"M 2194 1759 \nQ 1497 1759 1228 1600 \nQ 959 1441 959 1056 \nQ 959 750 1161 570 \nQ 1363 391 1709 391 \nQ 2188 391 2477 730 \nQ 2766 1069 2766 1631 \nL 2766 1759 \nL 2194 1759 \nz\nM 3341 1997 \nL 3341 0 \nL 2766 0 \nL 2766 531 \nQ 2569 213 2275 61 \nQ 1981 -91 1556 -91 \nQ 1019 -91 701 211 \nQ 384 513 384 1019 \nQ 384 1609 779 1909 \nQ 1175 2209 1959 2209 \nL 2766 2209 \nL 2766 2266 \nQ 2766 2663 2505 2880 \nQ 2244 3097 1772 3097 \nQ 1472 3097 1187 3025 \nQ 903 2953 641 2809 \nL 641 3341 \nQ 956 3463 1253 3523 \nQ 1550 3584 1831 3584 \nQ 2591 3584 2966 3190 \nQ 3341 2797 3341 1997 \nz\n\" transform=\"scale(0.015625)\"/>\n      <path id=\"DejaVuSans-6c\" d=\"M 603 4863 \nL 1178 4863 \nL 1178 0 \nL 603 0 \nL 603 4863 \nz\n\" transform=\"scale(0.015625)\"/>\n      <path id=\"DejaVuSans-69\" d=\"M 603 3500 \nL 1178 3500 \nL 1178 0 \nL 603 0 \nL 603 3500 \nz\nM 603 4863 \nL 1178 4863 \nL 1178 4134 \nL 603 4134 \nL 603 4863 \nz\n\" transform=\"scale(0.015625)\"/>\n      <path id=\"DejaVuSans-64\" d=\"M 2906 2969 \nL 2906 4863 \nL 3481 4863 \nL 3481 0 \nL 2906 0 \nL 2906 525 \nQ 2725 213 2448 61 \nQ 2172 -91 1784 -91 \nQ 1150 -91 751 415 \nQ 353 922 353 1747 \nQ 353 2572 751 3078 \nQ 1150 3584 1784 3584 \nQ 2172 3584 2448 3432 \nQ 2725 3281 2906 2969 \nz\nM 947 1747 \nQ 947 1113 1208 752 \nQ 1469 391 1925 391 \nQ 2381 391 2643 752 \nQ 2906 1113 2906 1747 \nQ 2906 2381 2643 2742 \nQ 2381 3103 1925 3103 \nQ 1469 3103 1208 2742 \nQ 947 2381 947 1747 \nz\n\" transform=\"scale(0.015625)\"/>\n      <path id=\"DejaVuSans-74\" d=\"M 1172 4494 \nL 1172 3500 \nL 2356 3500 \nL 2356 3053 \nL 1172 3053 \nL 1172 1153 \nQ 1172 725 1289 603 \nQ 1406 481 1766 481 \nL 2356 481 \nL 2356 0 \nL 1766 0 \nQ 1100 0 847 248 \nQ 594 497 594 1153 \nL 594 3053 \nL 172 3053 \nL 172 3500 \nL 594 3500 \nL 594 4494 \nL 1172 4494 \nz\n\" transform=\"scale(0.015625)\"/>\n      <path id=\"DejaVuSans-6e\" d=\"M 3513 2113 \nL 3513 0 \nL 2938 0 \nL 2938 2094 \nQ 2938 2591 2744 2837 \nQ 2550 3084 2163 3084 \nQ 1697 3084 1428 2787 \nQ 1159 2491 1159 1978 \nL 1159 0 \nL 581 0 \nL 581 3500 \nL 1159 3500 \nL 1159 2956 \nQ 1366 3272 1645 3428 \nQ 1925 3584 2291 3584 \nQ 2894 3584 3203 3211 \nQ 3513 2838 3513 2113 \nz\n\" transform=\"scale(0.015625)\"/>\n      <path id=\"DejaVuSans-20\" transform=\"scale(0.015625)\"/>\n      <path id=\"DejaVuSans-65\" d=\"M 3597 1894 \nL 3597 1613 \nL 953 1613 \nQ 991 1019 1311 708 \nQ 1631 397 2203 397 \nQ 2534 397 2845 478 \nQ 3156 559 3463 722 \nL 3463 178 \nQ 3153 47 2828 -22 \nQ 2503 -91 2169 -91 \nQ 1331 -91 842 396 \nQ 353 884 353 1716 \nQ 353 2575 817 3079 \nQ 1281 3584 2069 3584 \nQ 2775 3584 3186 3129 \nQ 3597 2675 3597 1894 \nz\nM 3022 2063 \nQ 3016 2534 2758 2815 \nQ 2500 3097 2075 3097 \nQ 1594 3097 1305 2825 \nQ 1016 2553 972 2059 \nL 3022 2063 \nz\n\" transform=\"scale(0.015625)\"/>\n      <path id=\"DejaVuSans-66\" d=\"M 2375 4863 \nL 2375 4384 \nL 1825 4384 \nQ 1516 4384 1395 4259 \nQ 1275 4134 1275 3809 \nL 1275 3500 \nL 2222 3500 \nL 2222 3053 \nL 1275 3053 \nL 1275 0 \nL 697 0 \nL 697 3053 \nL 147 3053 \nL 147 3500 \nL 697 3500 \nL 697 3744 \nQ 697 4328 969 4595 \nQ 1241 4863 1831 4863 \nL 2375 4863 \nz\n\" transform=\"scale(0.015625)\"/>\n      <path id=\"DejaVuSans-72\" d=\"M 2631 2963 \nQ 2534 3019 2420 3045 \nQ 2306 3072 2169 3072 \nQ 1681 3072 1420 2755 \nQ 1159 2438 1159 1844 \nL 1159 0 \nL 581 0 \nL 581 3500 \nL 1159 3500 \nL 1159 2956 \nQ 1341 3275 1631 3429 \nQ 1922 3584 2338 3584 \nQ 2397 3584 2469 3576 \nQ 2541 3569 2628 3553 \nL 2631 2963 \nz\n\" transform=\"scale(0.015625)\"/>\n      <path id=\"DejaVuSans-3d\" d=\"M 678 2906 \nL 4684 2906 \nL 4684 2381 \nL 678 2381 \nL 678 2906 \nz\nM 678 1631 \nL 4684 1631 \nL 4684 1100 \nL 678 1100 \nL 678 1631 \nz\n\" transform=\"scale(0.015625)\"/>\n      <path id=\"DejaVuSans-2c\" d=\"M 750 794 \nL 1409 794 \nL 1409 256 \nL 897 -744 \nL 494 -744 \nL 750 256 \nL 750 794 \nz\n\" transform=\"scale(0.015625)\"/>\n     </defs>\n     <use xlink:href=\"#DejaVuSans-56\"/>\n     <use xlink:href=\"#DejaVuSans-61\" x=\"60.658203\"/>\n     <use xlink:href=\"#DejaVuSans-6c\" x=\"121.9375\"/>\n     <use xlink:href=\"#DejaVuSans-69\" x=\"149.720703\"/>\n     <use xlink:href=\"#DejaVuSans-64\" x=\"177.503906\"/>\n     <use xlink:href=\"#DejaVuSans-61\" x=\"240.980469\"/>\n     <use xlink:href=\"#DejaVuSans-74\" x=\"302.259766\"/>\n     <use xlink:href=\"#DejaVuSans-69\" x=\"341.46875\"/>\n     <use xlink:href=\"#DejaVuSans-6f\" x=\"369.251953\"/>\n     <use xlink:href=\"#DejaVuSans-6e\" x=\"430.433594\"/>\n     <use xlink:href=\"#DejaVuSans-20\" x=\"493.8125\"/>\n     <use xlink:href=\"#DejaVuSans-4c\" x=\"525.599609\"/>\n     <use xlink:href=\"#DejaVuSans-6f\" x=\"579.5625\"/>\n     <use xlink:href=\"#DejaVuSans-73\" x=\"640.744141\"/>\n     <use xlink:href=\"#DejaVuSans-73\" x=\"692.84375\"/>\n     <use xlink:href=\"#DejaVuSans-65\" x=\"744.943359\"/>\n     <use xlink:href=\"#DejaVuSans-73\" x=\"806.466797\"/>\n     <use xlink:href=\"#DejaVuSans-20\" x=\"858.566406\"/>\n     <use xlink:href=\"#DejaVuSans-66\" x=\"890.353516\"/>\n     <use xlink:href=\"#DejaVuSans-6f\" x=\"925.558594\"/>\n     <use xlink:href=\"#DejaVuSans-72\" x=\"986.740234\"/>\n     <use xlink:href=\"#DejaVuSans-20\" x=\"1027.853516\"/>\n     <use xlink:href=\"#DejaVuSans-20\" x=\"1059.640625\"/>\n     <use xlink:href=\"#DejaVuSans-68\" x=\"1091.427734\"/>\n     <use xlink:href=\"#DejaVuSans-69\" x=\"1154.806641\"/>\n     <use xlink:href=\"#DejaVuSans-64\" x=\"1182.589844\"/>\n     <use xlink:href=\"#DejaVuSans-64\" x=\"1246.066406\"/>\n     <use xlink:href=\"#DejaVuSans-65\" x=\"1309.542969\"/>\n     <use xlink:href=\"#DejaVuSans-6e\" x=\"1371.066406\"/>\n     <use xlink:href=\"#DejaVuSans-31\" x=\"1434.445312\"/>\n     <use xlink:href=\"#DejaVuSans-20\" x=\"1498.068359\"/>\n     <use xlink:href=\"#DejaVuSans-3d\" x=\"1529.855469\"/>\n     <use xlink:href=\"#DejaVuSans-20\" x=\"1613.644531\"/>\n     <use xlink:href=\"#DejaVuSans-31\" x=\"1645.431641\"/>\n     <use xlink:href=\"#DejaVuSans-32\" x=\"1709.054688\"/>\n     <use xlink:href=\"#DejaVuSans-38\" x=\"1772.677734\"/>\n     <use xlink:href=\"#DejaVuSans-2c\" x=\"1836.300781\"/>\n     <use xlink:href=\"#DejaVuSans-20\" x=\"1868.087891\"/>\n     <use xlink:href=\"#DejaVuSans-68\" x=\"1899.875\"/>\n     <use xlink:href=\"#DejaVuSans-69\" x=\"1963.253906\"/>\n     <use xlink:href=\"#DejaVuSans-64\" x=\"1991.037109\"/>\n     <use xlink:href=\"#DejaVuSans-64\" x=\"2054.513672\"/>\n     <use xlink:href=\"#DejaVuSans-65\" x=\"2117.990234\"/>\n     <use xlink:href=\"#DejaVuSans-6e\" x=\"2179.513672\"/>\n     <use xlink:href=\"#DejaVuSans-32\" x=\"2242.892578\"/>\n     <use xlink:href=\"#DejaVuSans-20\" x=\"2306.515625\"/>\n     <use xlink:href=\"#DejaVuSans-3d\" x=\"2338.302734\"/>\n     <use xlink:href=\"#DejaVuSans-20\" x=\"2422.091797\"/>\n     <use xlink:href=\"#DejaVuSans-31\" x=\"2453.878906\"/>\n     <use xlink:href=\"#DejaVuSans-32\" x=\"2517.501953\"/>\n     <use xlink:href=\"#DejaVuSans-38\" x=\"2581.125\"/>\n     <use xlink:href=\"#DejaVuSans-2c\" x=\"2644.748047\"/>\n     <use xlink:href=\"#DejaVuSans-20\" x=\"2676.535156\"/>\n     <use xlink:href=\"#DejaVuSans-68\" x=\"2708.322266\"/>\n     <use xlink:href=\"#DejaVuSans-69\" x=\"2771.701172\"/>\n     <use xlink:href=\"#DejaVuSans-64\" x=\"2799.484375\"/>\n     <use xlink:href=\"#DejaVuSans-64\" x=\"2862.960938\"/>\n     <use xlink:href=\"#DejaVuSans-65\" x=\"2926.4375\"/>\n     <use xlink:href=\"#DejaVuSans-6e\" x=\"2987.960938\"/>\n     <use xlink:href=\"#DejaVuSans-33\" x=\"3051.339844\"/>\n     <use xlink:href=\"#DejaVuSans-20\" x=\"3114.962891\"/>\n     <use xlink:href=\"#DejaVuSans-3d\" x=\"3146.75\"/>\n     <use xlink:href=\"#DejaVuSans-20\" x=\"3230.539062\"/>\n     <use xlink:href=\"#DejaVuSans-36\" x=\"3262.326172\"/>\n     <use xlink:href=\"#DejaVuSans-34\" x=\"3325.949219\"/>\n     <use xlink:href=\"#DejaVuSans-2c\" x=\"3389.572266\"/>\n    </g>\n    <!--   learning_rate = 0.001, and epoch = 10 -->\n    <g transform=\"translate(227.905125 34.2666) scale(0.144 -0.144)\">\n     <defs>\n      <path id=\"DejaVuSans-67\" d=\"M 2906 1791 \nQ 2906 2416 2648 2759 \nQ 2391 3103 1925 3103 \nQ 1463 3103 1205 2759 \nQ 947 2416 947 1791 \nQ 947 1169 1205 825 \nQ 1463 481 1925 481 \nQ 2391 481 2648 825 \nQ 2906 1169 2906 1791 \nz\nM 3481 434 \nQ 3481 -459 3084 -895 \nQ 2688 -1331 1869 -1331 \nQ 1566 -1331 1297 -1286 \nQ 1028 -1241 775 -1147 \nL 775 -588 \nQ 1028 -725 1275 -790 \nQ 1522 -856 1778 -856 \nQ 2344 -856 2625 -561 \nQ 2906 -266 2906 331 \nL 2906 616 \nQ 2728 306 2450 153 \nQ 2172 0 1784 0 \nQ 1141 0 747 490 \nQ 353 981 353 1791 \nQ 353 2603 747 3093 \nQ 1141 3584 1784 3584 \nQ 2172 3584 2450 3431 \nQ 2728 3278 2906 2969 \nL 2906 3500 \nL 3481 3500 \nL 3481 434 \nz\n\" transform=\"scale(0.015625)\"/>\n      <path id=\"DejaVuSans-5f\" d=\"M 3263 -1063 \nL 3263 -1509 \nL -63 -1509 \nL -63 -1063 \nL 3263 -1063 \nz\n\" transform=\"scale(0.015625)\"/>\n      <path id=\"DejaVuSans-2e\" d=\"M 684 794 \nL 1344 794 \nL 1344 0 \nL 684 0 \nL 684 794 \nz\n\" transform=\"scale(0.015625)\"/>\n     </defs>\n     <use xlink:href=\"#DejaVuSans-20\"/>\n     <use xlink:href=\"#DejaVuSans-20\" x=\"31.787109\"/>\n     <use xlink:href=\"#DejaVuSans-6c\" x=\"63.574219\"/>\n     <use xlink:href=\"#DejaVuSans-65\" x=\"91.357422\"/>\n     <use xlink:href=\"#DejaVuSans-61\" x=\"152.880859\"/>\n     <use xlink:href=\"#DejaVuSans-72\" x=\"214.160156\"/>\n     <use xlink:href=\"#DejaVuSans-6e\" x=\"253.523438\"/>\n     <use xlink:href=\"#DejaVuSans-69\" x=\"316.902344\"/>\n     <use xlink:href=\"#DejaVuSans-6e\" x=\"344.685547\"/>\n     <use xlink:href=\"#DejaVuSans-67\" x=\"408.064453\"/>\n     <use xlink:href=\"#DejaVuSans-5f\" x=\"471.541016\"/>\n     <use xlink:href=\"#DejaVuSans-72\" x=\"521.541016\"/>\n     <use xlink:href=\"#DejaVuSans-61\" x=\"562.654297\"/>\n     <use xlink:href=\"#DejaVuSans-74\" x=\"623.933594\"/>\n     <use xlink:href=\"#DejaVuSans-65\" x=\"663.142578\"/>\n     <use xlink:href=\"#DejaVuSans-20\" x=\"724.666016\"/>\n     <use xlink:href=\"#DejaVuSans-3d\" x=\"756.453125\"/>\n     <use xlink:href=\"#DejaVuSans-20\" x=\"840.242188\"/>\n     <use xlink:href=\"#DejaVuSans-30\" x=\"872.029297\"/>\n     <use xlink:href=\"#DejaVuSans-2e\" x=\"935.652344\"/>\n     <use xlink:href=\"#DejaVuSans-30\" x=\"967.439453\"/>\n     <use xlink:href=\"#DejaVuSans-30\" x=\"1031.0625\"/>\n     <use xlink:href=\"#DejaVuSans-31\" x=\"1094.685547\"/>\n     <use xlink:href=\"#DejaVuSans-2c\" x=\"1158.308594\"/>\n     <use xlink:href=\"#DejaVuSans-20\" x=\"1190.095703\"/>\n     <use xlink:href=\"#DejaVuSans-61\" x=\"1221.882812\"/>\n     <use xlink:href=\"#DejaVuSans-6e\" x=\"1283.162109\"/>\n     <use xlink:href=\"#DejaVuSans-64\" x=\"1346.541016\"/>\n     <use xlink:href=\"#DejaVuSans-20\" x=\"1410.017578\"/>\n     <use xlink:href=\"#DejaVuSans-65\" x=\"1441.804688\"/>\n     <use xlink:href=\"#DejaVuSans-70\" x=\"1503.328125\"/>\n     <use xlink:href=\"#DejaVuSans-6f\" x=\"1566.804688\"/>\n     <use xlink:href=\"#DejaVuSans-63\" x=\"1627.986328\"/>\n     <use xlink:href=\"#DejaVuSans-68\" x=\"1682.966797\"/>\n     <use xlink:href=\"#DejaVuSans-20\" x=\"1746.345703\"/>\n     <use xlink:href=\"#DejaVuSans-3d\" x=\"1778.132812\"/>\n     <use xlink:href=\"#DejaVuSans-20\" x=\"1861.921875\"/>\n     <use xlink:href=\"#DejaVuSans-31\" x=\"1893.708984\"/>\n     <use xlink:href=\"#DejaVuSans-30\" x=\"1957.332031\"/>\n    </g>\n   </g>\n   <g id=\"legend_1\">\n    <g id=\"patch_7\">\n     <path d=\"M 616.077813 192.304725 \nL 697.28875 192.304725 \nQ 699.28875 192.304725 699.28875 190.304725 \nL 699.28875 161.948475 \nQ 699.28875 159.948475 697.28875 159.948475 \nL 616.077813 159.948475 \nQ 614.077813 159.948475 614.077813 161.948475 \nL 614.077813 190.304725 \nQ 614.077813 192.304725 616.077813 192.304725 \nz\n\" style=\"fill: #e5e5e5; opacity: 0.8; stroke: #cccccc; stroke-width: 0.5; stroke-linejoin: miter\"/>\n    </g>\n    <g id=\"line2d_37\">\n     <path d=\"M 618.077813 168.046912 \nL 628.077813 168.046912 \nL 638.077813 168.046912 \n\" style=\"fill: none; stroke: #e24a33; stroke-width: 1.5; stroke-linecap: square\"/>\n    </g>\n    <g id=\"text_21\">\n     <!-- Train Loss -->\n     <g transform=\"translate(646.077813 171.546912) scale(0.1 -0.1)\">\n      <defs>\n       <path id=\"DejaVuSans-54\" d=\"M -19 4666 \nL 3928 4666 \nL 3928 4134 \nL 2272 4134 \nL 2272 0 \nL 1638 0 \nL 1638 4134 \nL -19 4134 \nL -19 4666 \nz\n\" transform=\"scale(0.015625)\"/>\n      </defs>\n      <use xlink:href=\"#DejaVuSans-54\"/>\n      <use xlink:href=\"#DejaVuSans-72\" x=\"46.333984\"/>\n      <use xlink:href=\"#DejaVuSans-61\" x=\"87.447266\"/>\n      <use xlink:href=\"#DejaVuSans-69\" x=\"148.726562\"/>\n      <use xlink:href=\"#DejaVuSans-6e\" x=\"176.509766\"/>\n      <use xlink:href=\"#DejaVuSans-20\" x=\"239.888672\"/>\n      <use xlink:href=\"#DejaVuSans-4c\" x=\"271.675781\"/>\n      <use xlink:href=\"#DejaVuSans-6f\" x=\"325.638672\"/>\n      <use xlink:href=\"#DejaVuSans-73\" x=\"386.820312\"/>\n      <use xlink:href=\"#DejaVuSans-73\" x=\"438.919922\"/>\n     </g>\n    </g>\n    <g id=\"line2d_38\">\n     <path d=\"M 618.077813 182.725037 \nL 628.077813 182.725037 \nL 638.077813 182.725037 \n\" style=\"fill: none; stroke: #348abd; stroke-width: 1.5; stroke-linecap: square\"/>\n    </g>\n    <g id=\"text_22\">\n     <!-- Valid Loss -->\n     <g transform=\"translate(646.077813 186.225037) scale(0.1 -0.1)\">\n      <use xlink:href=\"#DejaVuSans-56\"/>\n      <use xlink:href=\"#DejaVuSans-61\" x=\"60.658203\"/>\n      <use xlink:href=\"#DejaVuSans-6c\" x=\"121.9375\"/>\n      <use xlink:href=\"#DejaVuSans-69\" x=\"149.720703\"/>\n      <use xlink:href=\"#DejaVuSans-64\" x=\"177.503906\"/>\n      <use xlink:href=\"#DejaVuSans-20\" x=\"240.980469\"/>\n      <use xlink:href=\"#DejaVuSans-4c\" x=\"272.767578\"/>\n      <use xlink:href=\"#DejaVuSans-6f\" x=\"326.730469\"/>\n      <use xlink:href=\"#DejaVuSans-73\" x=\"387.912109\"/>\n      <use xlink:href=\"#DejaVuSans-73\" x=\"440.011719\"/>\n     </g>\n    </g>\n   </g>\n  </g>\n </g>\n <defs>\n  <clipPath id=\"p007bd169d5\">\n   <rect x=\"42.53875\" y=\"40.2666\" width=\"661.75\" height=\"271.72\"/>\n  </clipPath>\n </defs>\n</svg>\n"
          },
          "metadata": {}
        }
      ],
      "source": [
        "for i, result in enumerate(results):\n",
        "    # Extract relevant information\n",
        "    combination = result['combination']\n",
        "    learning_rate = result['learning_rate']\n",
        "    max_epochs = result['max_epochs']\n",
        "    train_losses = result['train_losses']\n",
        "    valid_losses = result['valid_losses']\n",
        "\n",
        "    plt.figure(figsize=(10, 5))\n",
        "\n",
        "    # Plot training losses\n",
        "    plt.plot(range(1, len(train_losses) + 1), train_losses, label='Train Loss')\n",
        "    plt.title(f'Training Losses for {combination}')\n",
        "    plt.plot(range(1, len(train_losses) + 1), valid_losses, label='Valid Loss')\n",
        "    plt.title(f'Validation Losses for {combination}')\n",
        "    plt.xticks(range(1, len(train_losses) + 1))\n",
        "    plt.xlabel('Epoch')\n",
        "    plt.ylabel('Loss')\n",
        "    plt.legend()\n",
        "\n",
        "    plt.tight_layout()\n",
        "    plt.show()"
      ]
    },
    {
      "cell_type": "markdown",
      "metadata": {
        "id": "gxopnY_V1e5B"
      },
      "source": [
        "### Explain the differences you see in the produced plots from your experiment. (3 Point)\n",
        "  - What does training loss mean? (0.5 point)\n",
        "  - What does validation loss mean? (0.5 point)\n",
        "  - How does adding hidden layers impact the results? (0 point)\n",
        "  - How do different parameters in each hidden layer impact the result? (0 point)\n",
        "  - How can you evaluate a model from this training and validation graphs? Describe it in your own words. (0.5 point)\n",
        "  - Can you give some intuitive explanations of overfitting and underfitting based on the graphs you produced? (0.5)\n",
        "  - How does a very small and very large learning rate impact the training and\n",
        "   validation loss? (1 point)"
      ]
    },
    {
      "cell_type": "markdown",
      "metadata": {
        "id": "3LRz5FPR2AlS"
      },
      "source": [
        "\n",
        " **Your answers go here:**\n",
        "1.   Train loss means the difference betweenn predicted and expected values, prediciton is made using the training dataset. It indicates how good model learned over training data.\n",
        "2.   Validation loss is a difference betweenn predicted and expected values, prediciton is made using the validation dataset. Shows how good the model performs on new unseen data.\n",
        "3. There is a trade off between bias and variance, which means that train loss should not be perfect(model should not be too complexe) in the same time it should not be too high(model should not do too many mistakes). Therefore we have to look for a golden middle between train and validation losses.\n",
        "4. If the training loss is high, it means that the bias is high (the model underfitted the data). If the validation loss is high, it means that variance is too big and the model overfitted the data\n",
        "5. When the learning rate is to high there is also a chance that the validation loss will start increasing at some point, so called overshooting of local minimum can happen. Also the model can be very unstable. When the learning rate is too low there is also a risk of being stuck in local optima, and the convergence to minimum in general would go very slow (train and validation losses would not change much during each iteration)"
      ]
    },
    {
      "cell_type": "markdown",
      "metadata": {
        "id": "0hmGZdPhGUyO"
      },
      "source": [
        "# 5. Check Performance of BoW Model"
      ]
    },
    {
      "cell_type": "markdown",
      "metadata": {
        "id": "eC9W6wf__uQe"
      },
      "source": [
        "<h1>Exercise 5.1</h1> (2 Points)<br> Calculate `precision`, `recall` and `f1-score` for each of the classes. As you learned in the lecture, those are common measures to define the quality of our classifier.\n",
        "\n",
        "![](https://upload.wikimedia.org/wikipedia/commons/2/26/Precisionrecall.svg)"
      ]
    },
    {
      "cell_type": "code",
      "execution_count": 43,
      "metadata": {
        "id": "oyUgARIFGRtQ",
        "colab": {
          "base_uri": "https://localhost:8080/"
        },
        "outputId": "97272776-288a-44b8-e8d2-69c87791e046"
      },
      "outputs": [
        {
          "output_type": "stream",
          "name": "stdout",
          "text": [
            "              precision    recall  f1-score   support\n",
            "\n",
            "           0       0.68      0.75      0.72     20363\n",
            "           1       0.80      0.74      0.77     27575\n",
            "\n",
            "    accuracy                           0.75     47938\n",
            "   macro avg       0.74      0.75      0.74     47938\n",
            "weighted avg       0.75      0.75      0.75     47938\n",
            "\n"
          ]
        }
      ],
      "source": [
        "bow_model.eval()\n",
        "test_accuracy, n_examples = 0, 0\n",
        "y_true, y_pred = [], []\n",
        "input_type = 'bow'\n",
        "\n",
        "with torch.no_grad():\n",
        "    for seq, bow, target, text in test_loader:\n",
        "        inputs = bow\n",
        "        probs = bow_model(inputs)\n",
        "\n",
        "        probs = probs.detach().cpu().numpy()\n",
        "        predictions = np.argmax(probs, axis=1)\n",
        "        target = target.cpu().numpy()\n",
        "\n",
        "        y_true.extend(predictions)\n",
        "        y_pred.extend(target)\n",
        "\n",
        "print(classification_report(y_true, y_pred))"
      ]
    },
    {
      "cell_type": "markdown",
      "metadata": {
        "id": "SdUah0AkIOdq"
      },
      "source": [
        "**Let's check a few examples!**\n",
        "\n",
        "Checking them might help understand, what might still go wrong."
      ]
    },
    {
      "cell_type": "code",
      "execution_count": 44,
      "metadata": {
        "id": "sr0faB2WIe-M"
      },
      "outputs": [],
      "source": [
        "flatten = lambda x: [sublst for lst in x for sublst in lst]\n",
        "seq_lst, bow_lst, target_lst, text_lst = zip(*test_loader)\n",
        "seq_lst, bow_lst, target_lst, text_lst = map(flatten, [seq_lst, bow_lst, target_lst, text_lst])\n",
        "test_examples = list(zip(seq_lst, bow_lst, target_lst, text_lst))\n",
        "\n",
        "def print_random_prediction(model, n=4, input_type='bow'):\n",
        "    # prints prediction made by the model and the true value for n items.\n",
        "    to_emoji = lambda x: '😄' if x else '😡'\n",
        "    model.eval()\n",
        "    rows = []\n",
        "    for i in range(n):\n",
        "        with torch.no_grad():\n",
        "            seq, bow, target, text = random.choice(test_examples)\n",
        "            target = target.item()\n",
        "\n",
        "            inputs = bow\n",
        "            probs = model([inputs])\n",
        "\n",
        "            probs = probs.detach().cpu().numpy()\n",
        "            prediction = np.argmax(probs, axis=1)[0]\n",
        "\n",
        "            predicted = to_emoji(prediction)\n",
        "            actual = to_emoji(target)\n",
        "\n",
        "            row = f\"\"\"\n",
        "            <tr>\n",
        "            <td>{i+1}&nbsp;</td>\n",
        "            <td>{text}&nbsp;</td>\n",
        "            <td>{predicted}&nbsp;</td>\n",
        "            <td>{actual}&nbsp;</td>\n",
        "            </tr>\n",
        "            \"\"\"\n",
        "            rows.append(row)\n",
        "\n",
        "    rows_joined = '\\n'.join(rows)\n",
        "    table = f\"\"\"\n",
        "    <table>\n",
        "    <tbody>\n",
        "    <tr>\n",
        "    <td><b>Number</b>&nbsp;</td>\n",
        "    <td><b>Review</b>&nbsp;</td>\n",
        "    <td><b>Predicted</b>&nbsp;</td>\n",
        "    <td><b>Actual</b>&nbsp;</td>\n",
        "    </tr>{rows_joined}\n",
        "    </tbody>\n",
        "    </table>\n",
        "    \"\"\"\n",
        "    display(HTML(table))"
      ]
    },
    {
      "cell_type": "code",
      "execution_count": 45,
      "metadata": {
        "id": "HPZKONRaIu_U",
        "colab": {
          "base_uri": "https://localhost:8080/",
          "height": 459
        },
        "outputId": "b4b52ad5-850e-4742-f8dd-4f88fcba2555"
      },
      "outputs": [
        {
          "output_type": "display_data",
          "data": {
            "text/plain": [
              "<IPython.core.display.HTML object>"
            ],
            "text/html": [
              "\n",
              "    <table>\n",
              "    <tbody>\n",
              "    <tr>\n",
              "    <td><b>Number</b>&nbsp;</td>\n",
              "    <td><b>Review</b>&nbsp;</td>\n",
              "    <td><b>Predicted</b>&nbsp;</td>\n",
              "    <td><b>Actual</b>&nbsp;</td>\n",
              "    </tr>\n",
              "            <tr>\n",
              "            <td>1&nbsp;</td>\n",
              "            <td>bored at the airport.....nooo ipod &nbsp;</td>\n",
              "            <td>😡&nbsp;</td>\n",
              "            <td>😡&nbsp;</td>\n",
              "            </tr>\n",
              "            \n",
              "\n",
              "            <tr>\n",
              "            <td>2&nbsp;</td>\n",
              "            <td>@Venus30  *hugs* have you any asprin? Call the doctor if it gets worse.&nbsp;</td>\n",
              "            <td>😄&nbsp;</td>\n",
              "            <td>😡&nbsp;</td>\n",
              "            </tr>\n",
              "            \n",
              "\n",
              "            <tr>\n",
              "            <td>3&nbsp;</td>\n",
              "            <td>It's too hot to have a computer on your lap... &nbsp;</td>\n",
              "            <td>😡&nbsp;</td>\n",
              "            <td>😡&nbsp;</td>\n",
              "            </tr>\n",
              "            \n",
              "\n",
              "            <tr>\n",
              "            <td>4&nbsp;</td>\n",
              "            <td>Great morning with hubby...off to read &nbsp;</td>\n",
              "            <td>😄&nbsp;</td>\n",
              "            <td>😄&nbsp;</td>\n",
              "            </tr>\n",
              "            \n",
              "\n",
              "            <tr>\n",
              "            <td>5&nbsp;</td>\n",
              "            <td>@stephenfry sure we can &nbsp;</td>\n",
              "            <td>😄&nbsp;</td>\n",
              "            <td>😄&nbsp;</td>\n",
              "            </tr>\n",
              "            \n",
              "\n",
              "            <tr>\n",
              "            <td>6&nbsp;</td>\n",
              "            <td>cant sleep  ughhhhhh&nbsp;</td>\n",
              "            <td>😡&nbsp;</td>\n",
              "            <td>😡&nbsp;</td>\n",
              "            </tr>\n",
              "            \n",
              "\n",
              "            <tr>\n",
              "            <td>7&nbsp;</td>\n",
              "            <td>boy is it hotttt outside &nbsp;</td>\n",
              "            <td>😄&nbsp;</td>\n",
              "            <td>😄&nbsp;</td>\n",
              "            </tr>\n",
              "            \n",
              "\n",
              "            <tr>\n",
              "            <td>8&nbsp;</td>\n",
              "            <td>@marcapitman It's right up there with your rabid avatar! &nbsp;</td>\n",
              "            <td>😄&nbsp;</td>\n",
              "            <td>😄&nbsp;</td>\n",
              "            </tr>\n",
              "            \n",
              "\n",
              "            <tr>\n",
              "            <td>9&nbsp;</td>\n",
              "            <td>@GiulianaRancic TLC destroyed their lives... as we all sat on our couches and watched. &nbsp;</td>\n",
              "            <td>😄&nbsp;</td>\n",
              "            <td>😡&nbsp;</td>\n",
              "            </tr>\n",
              "            \n",
              "\n",
              "            <tr>\n",
              "            <td>10&nbsp;</td>\n",
              "            <td>@starlinex  awe im sorry... I hope your day gets better&nbsp;</td>\n",
              "            <td>😡&nbsp;</td>\n",
              "            <td>😡&nbsp;</td>\n",
              "            </tr>\n",
              "            \n",
              "\n",
              "            <tr>\n",
              "            <td>11&nbsp;</td>\n",
              "            <td>@SamuelJHextall wanna make out ? you know ur absolutely friggin adorable,  and that smile you do in ur pictures, take my breath away &nbsp;</td>\n",
              "            <td>😄&nbsp;</td>\n",
              "            <td>😄&nbsp;</td>\n",
              "            </tr>\n",
              "            \n",
              "\n",
              "            <tr>\n",
              "            <td>12&nbsp;</td>\n",
              "            <td>@annepeters booooo. kenz took the beast so my mom has control of the saturn &nbsp;</td>\n",
              "            <td>😄&nbsp;</td>\n",
              "            <td>😡&nbsp;</td>\n",
              "            </tr>\n",
              "            \n",
              "\n",
              "            <tr>\n",
              "            <td>13&nbsp;</td>\n",
              "            <td>i hate biochemistry.. and thats what iam stuck with in my project..   shahdeeeep.. come help me out!&nbsp;</td>\n",
              "            <td>😡&nbsp;</td>\n",
              "            <td>😡&nbsp;</td>\n",
              "            </tr>\n",
              "            \n",
              "\n",
              "            <tr>\n",
              "            <td>14&nbsp;</td>\n",
              "            <td>@Ali_Sweeney I'm sure u did fine ..  I hope u have an awesome day at work &nbsp;</td>\n",
              "            <td>😄&nbsp;</td>\n",
              "            <td>😄&nbsp;</td>\n",
              "            </tr>\n",
              "            \n",
              "\n",
              "            <tr>\n",
              "            <td>15&nbsp;</td>\n",
              "            <td>@brandystrippers my vote just put you in front of Oprah &nbsp;</td>\n",
              "            <td>😄&nbsp;</td>\n",
              "            <td>😄&nbsp;</td>\n",
              "            </tr>\n",
              "            \n",
              "\n",
              "            <tr>\n",
              "            <td>16&nbsp;</td>\n",
              "            <td>http://bit.ly/28FNh  ROFL, totally brightened up my Monday &nbsp;</td>\n",
              "            <td>😄&nbsp;</td>\n",
              "            <td>😄&nbsp;</td>\n",
              "            </tr>\n",
              "            \n",
              "\n",
              "            <tr>\n",
              "            <td>17&nbsp;</td>\n",
              "            <td>@TYFO that app is so fun, but I tried using it in a real situation last night and it kept crashing my phone &nbsp;</td>\n",
              "            <td>😄&nbsp;</td>\n",
              "            <td>😡&nbsp;</td>\n",
              "            </tr>\n",
              "            \n",
              "\n",
              "            <tr>\n",
              "            <td>18&nbsp;</td>\n",
              "            <td>@jennettemccurdy I heard @DavidArchie kept comlipenting you during his NY show this week. On stage and during interview/mag sessions &nbsp;</td>\n",
              "            <td>😄&nbsp;</td>\n",
              "            <td>😄&nbsp;</td>\n",
              "            </tr>\n",
              "            \n",
              "\n",
              "            <tr>\n",
              "            <td>19&nbsp;</td>\n",
              "            <td>@Karimx To Be Honest I am so down I just want to leave Toronto for a while just nice get away would be great &nbsp;</td>\n",
              "            <td>😄&nbsp;</td>\n",
              "            <td>😄&nbsp;</td>\n",
              "            </tr>\n",
              "            \n",
              "\n",
              "            <tr>\n",
              "            <td>20&nbsp;</td>\n",
              "            <td>@losangelista Oh, that ring is pretty...I had to quickly leave that site.  I need to pay bills first.  &nbsp;</td>\n",
              "            <td>😡&nbsp;</td>\n",
              "            <td>😄&nbsp;</td>\n",
              "            </tr>\n",
              "            \n",
              "    </tbody>\n",
              "    </table>\n",
              "    "
            ]
          },
          "metadata": {}
        }
      ],
      "source": [
        "print_random_prediction(bow_model, n=20, input_type='bow')"
      ]
    },
    {
      "cell_type": "markdown",
      "metadata": {
        "id": "ngBtgXms0oJJ"
      },
      "source": [
        "### Final task: Using the formula, calculate **precision**, **recall** and **f1-score** for the above 20 random predictions. <br> (1.5 points)"
      ]
    },
    {
      "cell_type": "markdown",
      "metadata": {
        "id": "8RFpE4nb0yZz"
      },
      "source": [
        "**Your answer goes here.**\n",
        "Precision = True positive / (True positive + False positive)\n",
        "\n",
        "Precision = 10 / (10 + 4) = 0.71\n",
        "\n",
        "\n",
        "> Indented block\n",
        "\n",
        "\n",
        "Recall = True positive / (True positive + False negative)\n",
        "\n",
        "Recall = 10 / (10 + 1) = 0.9\n",
        "\n",
        "> Indented block\n",
        "\n",
        "F1-score = 2*(Precision*Recall) / (Precision+Recall)\n",
        "\n",
        "F1-score = 2 * (0.71*0.9) / (0.71+0.9) = 0.79"
      ]
    },
    {
      "cell_type": "markdown",
      "source": [],
      "metadata": {
        "id": "IBnKNSAF-Eo7"
      }
    },
    {
      "cell_type": "markdown",
      "metadata": {
        "id": "jnuPGzZWAXHY"
      },
      "source": [
        "You are done, we hope that you learned something practical in this homework! 🎄\n"
      ]
    }
  ],
  "metadata": {
    "colab": {
      "provenance": []
    },
    "kernelspec": {
      "display_name": "Python 3",
      "name": "python3"
    },
    "language_info": {
      "codemirror_mode": {
        "name": "ipython",
        "version": 3
      },
      "file_extension": ".py",
      "mimetype": "text/x-python",
      "name": "python",
      "nbconvert_exporter": "python",
      "pygments_lexer": "ipython3",
      "version": "3.7.6"
    }
  },
  "nbformat": 4,
  "nbformat_minor": 0
}