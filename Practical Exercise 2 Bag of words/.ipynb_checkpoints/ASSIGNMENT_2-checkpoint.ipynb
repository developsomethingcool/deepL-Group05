{
 "cells": [
  {
   "cell_type": "markdown",
   "metadata": {
    "id": "KthJSHkGQR7Z"
   },
   "source": [
    "# Bag of Words Text Classification\n",
    "\n",
    "In this assignment we will build a simple Bag of Words (BoW) text classifier using PyTorch. The classifier is trained on a Twitter dataset (with given labels) and is supposed to identify if the sentiment in individual tweets is *positive* or *negative*.\n",
    "\n",
    "\n",
    "## Concepts covered in this assignment\n",
    "1. NLP text pre-processing\n",
    "2. Split of training, validation and testing datasets\n",
    "3. Build a simple feed-forward neural net classifier using PyTorch\n",
    "4. Training the model"
   ]
  },
  {
   "cell_type": "markdown",
   "metadata": {
    "id": "3v_ulv3NvQbA"
   },
   "source": [
    "As always, we start with some imports...\n",
    "\n",
    "\n"
   ]
  },
  {
   "cell_type": "code",
   "execution_count": 81,
   "metadata": {},
   "outputs": [
    {
     "name": "stdout",
     "output_type": "stream",
     "text": [
      "Requirement already satisfied: googledrivedownloader in c:\\users\\pomet\\anaconda3\\lib\\site-packages (0.4)\n",
      "Requirement already satisfied: torch in c:\\users\\pomet\\anaconda3\\lib\\site-packages (1.13.1)\n",
      "Requirement already satisfied: typing-extensions in c:\\users\\pomet\\anaconda3\\lib\\site-packages (from torch) (4.4.0)\n"
     ]
    }
   ],
   "source": [
    "!pip install googledrivedownloader \n",
    "!pip install torch"
   ]
  },
  {
   "cell_type": "code",
   "execution_count": 82,
   "metadata": {
    "id": "_8cUAJPMQR7g"
   },
   "outputs": [
    {
     "name": "stderr",
     "output_type": "stream",
     "text": [
      "[nltk_data] Downloading package omw-1.4 to\n",
      "[nltk_data]     C:\\Users\\pomet\\AppData\\Roaming\\nltk_data...\n",
      "[nltk_data]   Package omw-1.4 is already up-to-date!\n",
      "[nltk_data] Downloading package stopwords to\n",
      "[nltk_data]     C:\\Users\\pomet\\AppData\\Roaming\\nltk_data...\n",
      "[nltk_data]   Package stopwords is already up-to-date!\n",
      "[nltk_data] Downloading package wordnet to\n",
      "[nltk_data]     C:\\Users\\pomet\\AppData\\Roaming\\nltk_data...\n",
      "[nltk_data]   Package wordnet is already up-to-date!\n"
     ]
    },
    {
     "data": {
      "text/plain": [
       "device(type='cpu')"
      ]
     },
     "execution_count": 82,
     "metadata": {},
     "output_type": "execute_result"
    }
   ],
   "source": [
    "import random\n",
    "import re # regular expression\n",
    "from collections import Counter\n",
    "from functools import partial\n",
    "from pathlib import Path\n",
    "\n",
    "import matplotlib.pyplot as plt\n",
    "import numpy as np\n",
    "import pandas as pd\n",
    "import google_drive_downloader\n",
    "from google_drive_downloader import GoogleDriveDownloader as gdd\n",
    "from IPython.core.display import display, HTML\n",
    "from sklearn.metrics import classification_report\n",
    "from tqdm import tqdm, tqdm_notebook # show progress bar\n",
    "\n",
    "# PyTorch modules\n",
    "import torch\n",
    "import torch.nn as nn\n",
    "import torch.nn.functional as F\n",
    "from torch import optim\n",
    "from torch.optim.lr_scheduler import CosineAnnealingLR\n",
    "from torch.utils.data import Dataset, DataLoader\n",
    "from torch.utils.data.dataset import random_split\n",
    "\n",
    "# nltk text processors\n",
    "import nltk\n",
    "from nltk.corpus import stopwords\n",
    "from nltk.tokenize import wordpunct_tokenize\n",
    "from nltk.stem import WordNetLemmatizer\n",
    "from nltk.corpus import wordnet\n",
    "\n",
    "nltk.download('omw-1.4')\n",
    "nltk.download('stopwords')\n",
    "nltk.download('wordnet')\n",
    "\n",
    "%matplotlib inline\n",
    "%config InlineBackend.figure_formats = ['svg']\n",
    "plt.style.use('ggplot')\n",
    "tqdm.pandas()\n",
    "\n",
    "device = torch.device('cuda' if torch.cuda.is_available() else 'cpu')\n",
    "device"
   ]
  },
  {
   "cell_type": "markdown",
   "metadata": {
    "id": "dv50uF2AGHCq"
   },
   "source": [
    "Next, we load our dataset."
   ]
  },
  {
   "cell_type": "code",
   "execution_count": 83,
   "metadata": {
    "id": "j8-WlORVQR7n"
   },
   "outputs": [],
   "source": [
    "DATA_PATH = 'data/twitter_reviews.csv'\n",
    "if not Path(DATA_PATH).is_file():\n",
    "    gdd.download_file_from_google_drive(\n",
    "        file_id='13OLqDXOBAO9fjD9Shz8iTeev3ZaNHaTC',\n",
    "        dest_path=DATA_PATH,\n",
    "    )\n",
    "\n",
    "df = pd.read_csv(DATA_PATH)"
   ]
  },
  {
   "cell_type": "markdown",
   "metadata": {
    "id": "YJmd3NNtQR7s"
   },
   "source": [
    "**Let's see what we are working with...**"
   ]
  },
  {
   "cell_type": "code",
   "execution_count": 84,
   "metadata": {
    "id": "FnsKvqrXQR7t"
   },
   "outputs": [
    {
     "name": "stdout",
     "output_type": "stream",
     "text": [
      "Shape of the dataset\n",
      "(1000000, 3)\n"
     ]
    }
   ],
   "source": [
    "print('Shape of the dataset' )\n",
    "print(df.shape)"
   ]
  },
  {
   "cell_type": "markdown",
   "metadata": {
    "id": "0Frm2s8TwMFV"
   },
   "source": [
    "Below is a sample set of five random tweets and their classifications. The classifications are labeled \"1\" for positive and \"0\" for negative tweets."
   ]
  },
  {
   "cell_type": "code",
   "execution_count": 85,
   "metadata": {
    "id": "eLGr_1fKOCqN"
   },
   "outputs": [
    {
     "data": {
      "text/html": [
       "<div>\n",
       "<style scoped>\n",
       "    .dataframe tbody tr th:only-of-type {\n",
       "        vertical-align: middle;\n",
       "    }\n",
       "\n",
       "    .dataframe tbody tr th {\n",
       "        vertical-align: top;\n",
       "    }\n",
       "\n",
       "    .dataframe thead th {\n",
       "        text-align: right;\n",
       "    }\n",
       "</style>\n",
       "<table border=\"1\" class=\"dataframe\">\n",
       "  <thead>\n",
       "    <tr style=\"text-align: right;\">\n",
       "      <th></th>\n",
       "      <th>Unnamed: 0</th>\n",
       "      <th>tweet</th>\n",
       "      <th>label</th>\n",
       "    </tr>\n",
       "  </thead>\n",
       "  <tbody>\n",
       "    <tr>\n",
       "      <th>747447</th>\n",
       "      <td>747447</td>\n",
       "      <td>Hanging out in my room, listening to Joni Mitc...</td>\n",
       "      <td>1</td>\n",
       "    </tr>\n",
       "    <tr>\n",
       "      <th>240315</th>\n",
       "      <td>240315</td>\n",
       "      <td>@Honey468 I'm a bit tired cuz yesterday I went...</td>\n",
       "      <td>1</td>\n",
       "    </tr>\n",
       "    <tr>\n",
       "      <th>149747</th>\n",
       "      <td>149747</td>\n",
       "      <td>@erob1 Gah! I forgot today was your first day!...</td>\n",
       "      <td>0</td>\n",
       "    </tr>\n",
       "    <tr>\n",
       "      <th>864914</th>\n",
       "      <td>864914</td>\n",
       "      <td>I think I'm allergic to work. The sneezing sta...</td>\n",
       "      <td>1</td>\n",
       "    </tr>\n",
       "    <tr>\n",
       "      <th>105520</th>\n",
       "      <td>105520</td>\n",
       "      <td>@Danibindustries idk what song that is.  but i...</td>\n",
       "      <td>0</td>\n",
       "    </tr>\n",
       "  </tbody>\n",
       "</table>\n",
       "</div>"
      ],
      "text/plain": [
       "        Unnamed: 0                                              tweet  label\n",
       "747447      747447  Hanging out in my room, listening to Joni Mitc...      1\n",
       "240315      240315  @Honey468 I'm a bit tired cuz yesterday I went...      1\n",
       "149747      149747  @erob1 Gah! I forgot today was your first day!...      0\n",
       "864914      864914  I think I'm allergic to work. The sneezing sta...      1\n",
       "105520      105520  @Danibindustries idk what song that is.  but i...      0"
      ]
     },
     "execution_count": 85,
     "metadata": {},
     "output_type": "execute_result"
    }
   ],
   "source": [
    "df.sample(5)"
   ]
  },
  {
   "cell_type": "markdown",
   "metadata": {
    "id": "8sm1IAVGOUFQ"
   },
   "source": [
    "Let's see the distribution of positive and negative tweets. This is the data our classifier will be trained on later."
   ]
  },
  {
   "cell_type": "code",
   "execution_count": 86,
   "metadata": {
    "id": "12HSdQoG78Qr"
   },
   "outputs": [
    {
     "data": {
      "image/svg+xml": [
       "<?xml version=\"1.0\" encoding=\"utf-8\" standalone=\"no\"?>\r\n",
       "<!DOCTYPE svg PUBLIC \"-//W3C//DTD SVG 1.1//EN\"\r\n",
       "  \"http://www.w3.org/Graphics/SVG/1.1/DTD/svg11.dtd\">\r\n",
       "<!-- Created with matplotlib (https://matplotlib.org/) -->\r\n",
       "<svg height=\"265.459875pt\" version=\"1.1\" viewBox=\"0 0 409.98875 265.459875\" width=\"409.98875pt\" xmlns=\"http://www.w3.org/2000/svg\" xmlns:xlink=\"http://www.w3.org/1999/xlink\">\r\n",
       " <defs>\r\n",
       "  <style type=\"text/css\">\r\n",
       "*{stroke-linecap:butt;stroke-linejoin:round;}\r\n",
       "  </style>\r\n",
       " </defs>\r\n",
       " <g id=\"figure_1\">\r\n",
       "  <g id=\"patch_1\">\r\n",
       "   <path d=\"M 0 265.459875 \r\n",
       "L 409.98875 265.459875 \r\n",
       "L 409.98875 0 \r\n",
       "L 0 0 \r\n",
       "z\r\n",
       "\" style=\"fill:#ffffff;\"/>\r\n",
       "  </g>\r\n",
       "  <g id=\"axes_1\">\r\n",
       "   <g id=\"patch_2\">\r\n",
       "    <path d=\"M 67.98875 241.58175 \r\n",
       "L 402.78875 241.58175 \r\n",
       "L 402.78875 24.14175 \r\n",
       "L 67.98875 24.14175 \r\n",
       "z\r\n",
       "\" style=\"fill:#e5e5e5;\"/>\r\n",
       "   </g>\r\n",
       "   <g id=\"matplotlib.axis_1\">\r\n",
       "    <g id=\"xtick_1\">\r\n",
       "     <g id=\"line2d_1\">\r\n",
       "      <path clip-path=\"url(#p6a2af3feee)\" d=\"M 83.206932 241.58175 \r\n",
       "L 83.206932 24.14175 \r\n",
       "\" style=\"fill:none;stroke:#ffffff;stroke-linecap:square;stroke-width:0.8;\"/>\r\n",
       "     </g>\r\n",
       "     <g id=\"line2d_2\">\r\n",
       "      <defs>\r\n",
       "       <path d=\"M 0 0 \r\n",
       "L 0 3.5 \r\n",
       "\" id=\"m24768ae452\" style=\"stroke:#555555;stroke-width:0.8;\"/>\r\n",
       "      </defs>\r\n",
       "      <g>\r\n",
       "       <use style=\"fill:#555555;stroke:#555555;stroke-width:0.8;\" x=\"83.206932\" xlink:href=\"#m24768ae452\" y=\"241.58175\"/>\r\n",
       "      </g>\r\n",
       "     </g>\r\n",
       "     <g id=\"text_1\">\r\n",
       "      <!-- 0.0 -->\r\n",
       "      <defs>\r\n",
       "       <path d=\"M 31.78125 66.40625 \r\n",
       "Q 24.171875 66.40625 20.328125 58.90625 \r\n",
       "Q 16.5 51.421875 16.5 36.375 \r\n",
       "Q 16.5 21.390625 20.328125 13.890625 \r\n",
       "Q 24.171875 6.390625 31.78125 6.390625 \r\n",
       "Q 39.453125 6.390625 43.28125 13.890625 \r\n",
       "Q 47.125 21.390625 47.125 36.375 \r\n",
       "Q 47.125 51.421875 43.28125 58.90625 \r\n",
       "Q 39.453125 66.40625 31.78125 66.40625 \r\n",
       "z\r\n",
       "M 31.78125 74.21875 \r\n",
       "Q 44.046875 74.21875 50.515625 64.515625 \r\n",
       "Q 56.984375 54.828125 56.984375 36.375 \r\n",
       "Q 56.984375 17.96875 50.515625 8.265625 \r\n",
       "Q 44.046875 -1.421875 31.78125 -1.421875 \r\n",
       "Q 19.53125 -1.421875 13.0625 8.265625 \r\n",
       "Q 6.59375 17.96875 6.59375 36.375 \r\n",
       "Q 6.59375 54.828125 13.0625 64.515625 \r\n",
       "Q 19.53125 74.21875 31.78125 74.21875 \r\n",
       "z\r\n",
       "\" id=\"DejaVuSans-48\"/>\r\n",
       "       <path d=\"M 10.6875 12.40625 \r\n",
       "L 21 12.40625 \r\n",
       "L 21 0 \r\n",
       "L 10.6875 0 \r\n",
       "z\r\n",
       "\" id=\"DejaVuSans-46\"/>\r\n",
       "      </defs>\r\n",
       "      <g style=\"fill:#555555;\" transform=\"translate(75.255369 256.180187)scale(0.1 -0.1)\">\r\n",
       "       <use xlink:href=\"#DejaVuSans-48\"/>\r\n",
       "       <use x=\"63.623047\" xlink:href=\"#DejaVuSans-46\"/>\r\n",
       "       <use x=\"95.410156\" xlink:href=\"#DejaVuSans-48\"/>\r\n",
       "      </g>\r\n",
       "     </g>\r\n",
       "    </g>\r\n",
       "    <g id=\"xtick_2\">\r\n",
       "     <g id=\"line2d_3\">\r\n",
       "      <path clip-path=\"url(#p6a2af3feee)\" d=\"M 144.079659 241.58175 \r\n",
       "L 144.079659 24.14175 \r\n",
       "\" style=\"fill:none;stroke:#ffffff;stroke-linecap:square;stroke-width:0.8;\"/>\r\n",
       "     </g>\r\n",
       "     <g id=\"line2d_4\">\r\n",
       "      <g>\r\n",
       "       <use style=\"fill:#555555;stroke:#555555;stroke-width:0.8;\" x=\"144.079659\" xlink:href=\"#m24768ae452\" y=\"241.58175\"/>\r\n",
       "      </g>\r\n",
       "     </g>\r\n",
       "     <g id=\"text_2\">\r\n",
       "      <!-- 0.2 -->\r\n",
       "      <defs>\r\n",
       "       <path d=\"M 19.1875 8.296875 \r\n",
       "L 53.609375 8.296875 \r\n",
       "L 53.609375 0 \r\n",
       "L 7.328125 0 \r\n",
       "L 7.328125 8.296875 \r\n",
       "Q 12.9375 14.109375 22.625 23.890625 \r\n",
       "Q 32.328125 33.6875 34.8125 36.53125 \r\n",
       "Q 39.546875 41.84375 41.421875 45.53125 \r\n",
       "Q 43.3125 49.21875 43.3125 52.78125 \r\n",
       "Q 43.3125 58.59375 39.234375 62.25 \r\n",
       "Q 35.15625 65.921875 28.609375 65.921875 \r\n",
       "Q 23.96875 65.921875 18.8125 64.3125 \r\n",
       "Q 13.671875 62.703125 7.8125 59.421875 \r\n",
       "L 7.8125 69.390625 \r\n",
       "Q 13.765625 71.78125 18.9375 73 \r\n",
       "Q 24.125 74.21875 28.421875 74.21875 \r\n",
       "Q 39.75 74.21875 46.484375 68.546875 \r\n",
       "Q 53.21875 62.890625 53.21875 53.421875 \r\n",
       "Q 53.21875 48.921875 51.53125 44.890625 \r\n",
       "Q 49.859375 40.875 45.40625 35.40625 \r\n",
       "Q 44.1875 33.984375 37.640625 27.21875 \r\n",
       "Q 31.109375 20.453125 19.1875 8.296875 \r\n",
       "z\r\n",
       "\" id=\"DejaVuSans-50\"/>\r\n",
       "      </defs>\r\n",
       "      <g style=\"fill:#555555;\" transform=\"translate(136.128097 256.180187)scale(0.1 -0.1)\">\r\n",
       "       <use xlink:href=\"#DejaVuSans-48\"/>\r\n",
       "       <use x=\"63.623047\" xlink:href=\"#DejaVuSans-46\"/>\r\n",
       "       <use x=\"95.410156\" xlink:href=\"#DejaVuSans-50\"/>\r\n",
       "      </g>\r\n",
       "     </g>\r\n",
       "    </g>\r\n",
       "    <g id=\"xtick_3\">\r\n",
       "     <g id=\"line2d_5\">\r\n",
       "      <path clip-path=\"url(#p6a2af3feee)\" d=\"M 204.952386 241.58175 \r\n",
       "L 204.952386 24.14175 \r\n",
       "\" style=\"fill:none;stroke:#ffffff;stroke-linecap:square;stroke-width:0.8;\"/>\r\n",
       "     </g>\r\n",
       "     <g id=\"line2d_6\">\r\n",
       "      <g>\r\n",
       "       <use style=\"fill:#555555;stroke:#555555;stroke-width:0.8;\" x=\"204.952386\" xlink:href=\"#m24768ae452\" y=\"241.58175\"/>\r\n",
       "      </g>\r\n",
       "     </g>\r\n",
       "     <g id=\"text_3\">\r\n",
       "      <!-- 0.4 -->\r\n",
       "      <defs>\r\n",
       "       <path d=\"M 37.796875 64.3125 \r\n",
       "L 12.890625 25.390625 \r\n",
       "L 37.796875 25.390625 \r\n",
       "z\r\n",
       "M 35.203125 72.90625 \r\n",
       "L 47.609375 72.90625 \r\n",
       "L 47.609375 25.390625 \r\n",
       "L 58.015625 25.390625 \r\n",
       "L 58.015625 17.1875 \r\n",
       "L 47.609375 17.1875 \r\n",
       "L 47.609375 0 \r\n",
       "L 37.796875 0 \r\n",
       "L 37.796875 17.1875 \r\n",
       "L 4.890625 17.1875 \r\n",
       "L 4.890625 26.703125 \r\n",
       "z\r\n",
       "\" id=\"DejaVuSans-52\"/>\r\n",
       "      </defs>\r\n",
       "      <g style=\"fill:#555555;\" transform=\"translate(197.000824 256.180187)scale(0.1 -0.1)\">\r\n",
       "       <use xlink:href=\"#DejaVuSans-48\"/>\r\n",
       "       <use x=\"63.623047\" xlink:href=\"#DejaVuSans-46\"/>\r\n",
       "       <use x=\"95.410156\" xlink:href=\"#DejaVuSans-52\"/>\r\n",
       "      </g>\r\n",
       "     </g>\r\n",
       "    </g>\r\n",
       "    <g id=\"xtick_4\">\r\n",
       "     <g id=\"line2d_7\">\r\n",
       "      <path clip-path=\"url(#p6a2af3feee)\" d=\"M 265.825114 241.58175 \r\n",
       "L 265.825114 24.14175 \r\n",
       "\" style=\"fill:none;stroke:#ffffff;stroke-linecap:square;stroke-width:0.8;\"/>\r\n",
       "     </g>\r\n",
       "     <g id=\"line2d_8\">\r\n",
       "      <g>\r\n",
       "       <use style=\"fill:#555555;stroke:#555555;stroke-width:0.8;\" x=\"265.825114\" xlink:href=\"#m24768ae452\" y=\"241.58175\"/>\r\n",
       "      </g>\r\n",
       "     </g>\r\n",
       "     <g id=\"text_4\">\r\n",
       "      <!-- 0.6 -->\r\n",
       "      <defs>\r\n",
       "       <path d=\"M 33.015625 40.375 \r\n",
       "Q 26.375 40.375 22.484375 35.828125 \r\n",
       "Q 18.609375 31.296875 18.609375 23.390625 \r\n",
       "Q 18.609375 15.53125 22.484375 10.953125 \r\n",
       "Q 26.375 6.390625 33.015625 6.390625 \r\n",
       "Q 39.65625 6.390625 43.53125 10.953125 \r\n",
       "Q 47.40625 15.53125 47.40625 23.390625 \r\n",
       "Q 47.40625 31.296875 43.53125 35.828125 \r\n",
       "Q 39.65625 40.375 33.015625 40.375 \r\n",
       "z\r\n",
       "M 52.59375 71.296875 \r\n",
       "L 52.59375 62.3125 \r\n",
       "Q 48.875 64.0625 45.09375 64.984375 \r\n",
       "Q 41.3125 65.921875 37.59375 65.921875 \r\n",
       "Q 27.828125 65.921875 22.671875 59.328125 \r\n",
       "Q 17.53125 52.734375 16.796875 39.40625 \r\n",
       "Q 19.671875 43.65625 24.015625 45.921875 \r\n",
       "Q 28.375 48.1875 33.59375 48.1875 \r\n",
       "Q 44.578125 48.1875 50.953125 41.515625 \r\n",
       "Q 57.328125 34.859375 57.328125 23.390625 \r\n",
       "Q 57.328125 12.15625 50.6875 5.359375 \r\n",
       "Q 44.046875 -1.421875 33.015625 -1.421875 \r\n",
       "Q 20.359375 -1.421875 13.671875 8.265625 \r\n",
       "Q 6.984375 17.96875 6.984375 36.375 \r\n",
       "Q 6.984375 53.65625 15.1875 63.9375 \r\n",
       "Q 23.390625 74.21875 37.203125 74.21875 \r\n",
       "Q 40.921875 74.21875 44.703125 73.484375 \r\n",
       "Q 48.484375 72.75 52.59375 71.296875 \r\n",
       "z\r\n",
       "\" id=\"DejaVuSans-54\"/>\r\n",
       "      </defs>\r\n",
       "      <g style=\"fill:#555555;\" transform=\"translate(257.873551 256.180187)scale(0.1 -0.1)\">\r\n",
       "       <use xlink:href=\"#DejaVuSans-48\"/>\r\n",
       "       <use x=\"63.623047\" xlink:href=\"#DejaVuSans-46\"/>\r\n",
       "       <use x=\"95.410156\" xlink:href=\"#DejaVuSans-54\"/>\r\n",
       "      </g>\r\n",
       "     </g>\r\n",
       "    </g>\r\n",
       "    <g id=\"xtick_5\">\r\n",
       "     <g id=\"line2d_9\">\r\n",
       "      <path clip-path=\"url(#p6a2af3feee)\" d=\"M 326.697841 241.58175 \r\n",
       "L 326.697841 24.14175 \r\n",
       "\" style=\"fill:none;stroke:#ffffff;stroke-linecap:square;stroke-width:0.8;\"/>\r\n",
       "     </g>\r\n",
       "     <g id=\"line2d_10\">\r\n",
       "      <g>\r\n",
       "       <use style=\"fill:#555555;stroke:#555555;stroke-width:0.8;\" x=\"326.697841\" xlink:href=\"#m24768ae452\" y=\"241.58175\"/>\r\n",
       "      </g>\r\n",
       "     </g>\r\n",
       "     <g id=\"text_5\">\r\n",
       "      <!-- 0.8 -->\r\n",
       "      <defs>\r\n",
       "       <path d=\"M 31.78125 34.625 \r\n",
       "Q 24.75 34.625 20.71875 30.859375 \r\n",
       "Q 16.703125 27.09375 16.703125 20.515625 \r\n",
       "Q 16.703125 13.921875 20.71875 10.15625 \r\n",
       "Q 24.75 6.390625 31.78125 6.390625 \r\n",
       "Q 38.8125 6.390625 42.859375 10.171875 \r\n",
       "Q 46.921875 13.96875 46.921875 20.515625 \r\n",
       "Q 46.921875 27.09375 42.890625 30.859375 \r\n",
       "Q 38.875 34.625 31.78125 34.625 \r\n",
       "z\r\n",
       "M 21.921875 38.8125 \r\n",
       "Q 15.578125 40.375 12.03125 44.71875 \r\n",
       "Q 8.5 49.078125 8.5 55.328125 \r\n",
       "Q 8.5 64.0625 14.71875 69.140625 \r\n",
       "Q 20.953125 74.21875 31.78125 74.21875 \r\n",
       "Q 42.671875 74.21875 48.875 69.140625 \r\n",
       "Q 55.078125 64.0625 55.078125 55.328125 \r\n",
       "Q 55.078125 49.078125 51.53125 44.71875 \r\n",
       "Q 48 40.375 41.703125 38.8125 \r\n",
       "Q 48.828125 37.15625 52.796875 32.3125 \r\n",
       "Q 56.78125 27.484375 56.78125 20.515625 \r\n",
       "Q 56.78125 9.90625 50.3125 4.234375 \r\n",
       "Q 43.84375 -1.421875 31.78125 -1.421875 \r\n",
       "Q 19.734375 -1.421875 13.25 4.234375 \r\n",
       "Q 6.78125 9.90625 6.78125 20.515625 \r\n",
       "Q 6.78125 27.484375 10.78125 32.3125 \r\n",
       "Q 14.796875 37.15625 21.921875 38.8125 \r\n",
       "z\r\n",
       "M 18.3125 54.390625 \r\n",
       "Q 18.3125 48.734375 21.84375 45.5625 \r\n",
       "Q 25.390625 42.390625 31.78125 42.390625 \r\n",
       "Q 38.140625 42.390625 41.71875 45.5625 \r\n",
       "Q 45.3125 48.734375 45.3125 54.390625 \r\n",
       "Q 45.3125 60.0625 41.71875 63.234375 \r\n",
       "Q 38.140625 66.40625 31.78125 66.40625 \r\n",
       "Q 25.390625 66.40625 21.84375 63.234375 \r\n",
       "Q 18.3125 60.0625 18.3125 54.390625 \r\n",
       "z\r\n",
       "\" id=\"DejaVuSans-56\"/>\r\n",
       "      </defs>\r\n",
       "      <g style=\"fill:#555555;\" transform=\"translate(318.746278 256.180187)scale(0.1 -0.1)\">\r\n",
       "       <use xlink:href=\"#DejaVuSans-48\"/>\r\n",
       "       <use x=\"63.623047\" xlink:href=\"#DejaVuSans-46\"/>\r\n",
       "       <use x=\"95.410156\" xlink:href=\"#DejaVuSans-56\"/>\r\n",
       "      </g>\r\n",
       "     </g>\r\n",
       "    </g>\r\n",
       "    <g id=\"xtick_6\">\r\n",
       "     <g id=\"line2d_11\">\r\n",
       "      <path clip-path=\"url(#p6a2af3feee)\" d=\"M 387.570568 241.58175 \r\n",
       "L 387.570568 24.14175 \r\n",
       "\" style=\"fill:none;stroke:#ffffff;stroke-linecap:square;stroke-width:0.8;\"/>\r\n",
       "     </g>\r\n",
       "     <g id=\"line2d_12\">\r\n",
       "      <g>\r\n",
       "       <use style=\"fill:#555555;stroke:#555555;stroke-width:0.8;\" x=\"387.570568\" xlink:href=\"#m24768ae452\" y=\"241.58175\"/>\r\n",
       "      </g>\r\n",
       "     </g>\r\n",
       "     <g id=\"text_6\">\r\n",
       "      <!-- 1.0 -->\r\n",
       "      <defs>\r\n",
       "       <path d=\"M 12.40625 8.296875 \r\n",
       "L 28.515625 8.296875 \r\n",
       "L 28.515625 63.921875 \r\n",
       "L 10.984375 60.40625 \r\n",
       "L 10.984375 69.390625 \r\n",
       "L 28.421875 72.90625 \r\n",
       "L 38.28125 72.90625 \r\n",
       "L 38.28125 8.296875 \r\n",
       "L 54.390625 8.296875 \r\n",
       "L 54.390625 0 \r\n",
       "L 12.40625 0 \r\n",
       "z\r\n",
       "\" id=\"DejaVuSans-49\"/>\r\n",
       "      </defs>\r\n",
       "      <g style=\"fill:#555555;\" transform=\"translate(379.619006 256.180187)scale(0.1 -0.1)\">\r\n",
       "       <use xlink:href=\"#DejaVuSans-49\"/>\r\n",
       "       <use x=\"63.623047\" xlink:href=\"#DejaVuSans-46\"/>\r\n",
       "       <use x=\"95.410156\" xlink:href=\"#DejaVuSans-48\"/>\r\n",
       "      </g>\r\n",
       "     </g>\r\n",
       "    </g>\r\n",
       "   </g>\r\n",
       "   <g id=\"matplotlib.axis_2\">\r\n",
       "    <g id=\"ytick_1\">\r\n",
       "     <g id=\"line2d_13\">\r\n",
       "      <path clip-path=\"url(#p6a2af3feee)\" d=\"M 67.98875 241.58175 \r\n",
       "L 402.78875 241.58175 \r\n",
       "\" style=\"fill:none;stroke:#ffffff;stroke-linecap:square;stroke-width:0.8;\"/>\r\n",
       "     </g>\r\n",
       "     <g id=\"line2d_14\">\r\n",
       "      <defs>\r\n",
       "       <path d=\"M 0 0 \r\n",
       "L -3.5 0 \r\n",
       "\" id=\"m2e2c4dfcd2\" style=\"stroke:#555555;stroke-width:0.8;\"/>\r\n",
       "      </defs>\r\n",
       "      <g>\r\n",
       "       <use style=\"fill:#555555;stroke:#555555;stroke-width:0.8;\" x=\"67.98875\" xlink:href=\"#m2e2c4dfcd2\" y=\"241.58175\"/>\r\n",
       "      </g>\r\n",
       "     </g>\r\n",
       "     <g id=\"text_7\">\r\n",
       "      <!-- 0 -->\r\n",
       "      <g style=\"fill:#555555;\" transform=\"translate(54.62625 245.380969)scale(0.1 -0.1)\">\r\n",
       "       <use xlink:href=\"#DejaVuSans-48\"/>\r\n",
       "      </g>\r\n",
       "     </g>\r\n",
       "    </g>\r\n",
       "    <g id=\"ytick_2\">\r\n",
       "     <g id=\"line2d_15\">\r\n",
       "      <path clip-path=\"url(#p6a2af3feee)\" d=\"M 67.98875 202.608539 \r\n",
       "L 402.78875 202.608539 \r\n",
       "\" style=\"fill:none;stroke:#ffffff;stroke-linecap:square;stroke-width:0.8;\"/>\r\n",
       "     </g>\r\n",
       "     <g id=\"line2d_16\">\r\n",
       "      <g>\r\n",
       "       <use style=\"fill:#555555;stroke:#555555;stroke-width:0.8;\" x=\"67.98875\" xlink:href=\"#m2e2c4dfcd2\" y=\"202.608539\"/>\r\n",
       "      </g>\r\n",
       "     </g>\r\n",
       "     <g id=\"text_8\">\r\n",
       "      <!-- 100000 -->\r\n",
       "      <g style=\"fill:#555555;\" transform=\"translate(22.81375 206.407758)scale(0.1 -0.1)\">\r\n",
       "       <use xlink:href=\"#DejaVuSans-49\"/>\r\n",
       "       <use x=\"63.623047\" xlink:href=\"#DejaVuSans-48\"/>\r\n",
       "       <use x=\"127.246094\" xlink:href=\"#DejaVuSans-48\"/>\r\n",
       "       <use x=\"190.869141\" xlink:href=\"#DejaVuSans-48\"/>\r\n",
       "       <use x=\"254.492188\" xlink:href=\"#DejaVuSans-48\"/>\r\n",
       "       <use x=\"318.115234\" xlink:href=\"#DejaVuSans-48\"/>\r\n",
       "      </g>\r\n",
       "     </g>\r\n",
       "    </g>\r\n",
       "    <g id=\"ytick_3\">\r\n",
       "     <g id=\"line2d_17\">\r\n",
       "      <path clip-path=\"url(#p6a2af3feee)\" d=\"M 67.98875 163.635328 \r\n",
       "L 402.78875 163.635328 \r\n",
       "\" style=\"fill:none;stroke:#ffffff;stroke-linecap:square;stroke-width:0.8;\"/>\r\n",
       "     </g>\r\n",
       "     <g id=\"line2d_18\">\r\n",
       "      <g>\r\n",
       "       <use style=\"fill:#555555;stroke:#555555;stroke-width:0.8;\" x=\"67.98875\" xlink:href=\"#m2e2c4dfcd2\" y=\"163.635328\"/>\r\n",
       "      </g>\r\n",
       "     </g>\r\n",
       "     <g id=\"text_9\">\r\n",
       "      <!-- 200000 -->\r\n",
       "      <g style=\"fill:#555555;\" transform=\"translate(22.81375 167.434547)scale(0.1 -0.1)\">\r\n",
       "       <use xlink:href=\"#DejaVuSans-50\"/>\r\n",
       "       <use x=\"63.623047\" xlink:href=\"#DejaVuSans-48\"/>\r\n",
       "       <use x=\"127.246094\" xlink:href=\"#DejaVuSans-48\"/>\r\n",
       "       <use x=\"190.869141\" xlink:href=\"#DejaVuSans-48\"/>\r\n",
       "       <use x=\"254.492188\" xlink:href=\"#DejaVuSans-48\"/>\r\n",
       "       <use x=\"318.115234\" xlink:href=\"#DejaVuSans-48\"/>\r\n",
       "      </g>\r\n",
       "     </g>\r\n",
       "    </g>\r\n",
       "    <g id=\"ytick_4\">\r\n",
       "     <g id=\"line2d_19\">\r\n",
       "      <path clip-path=\"url(#p6a2af3feee)\" d=\"M 67.98875 124.662118 \r\n",
       "L 402.78875 124.662118 \r\n",
       "\" style=\"fill:none;stroke:#ffffff;stroke-linecap:square;stroke-width:0.8;\"/>\r\n",
       "     </g>\r\n",
       "     <g id=\"line2d_20\">\r\n",
       "      <g>\r\n",
       "       <use style=\"fill:#555555;stroke:#555555;stroke-width:0.8;\" x=\"67.98875\" xlink:href=\"#m2e2c4dfcd2\" y=\"124.662118\"/>\r\n",
       "      </g>\r\n",
       "     </g>\r\n",
       "     <g id=\"text_10\">\r\n",
       "      <!-- 300000 -->\r\n",
       "      <defs>\r\n",
       "       <path d=\"M 40.578125 39.3125 \r\n",
       "Q 47.65625 37.796875 51.625 33 \r\n",
       "Q 55.609375 28.21875 55.609375 21.1875 \r\n",
       "Q 55.609375 10.40625 48.1875 4.484375 \r\n",
       "Q 40.765625 -1.421875 27.09375 -1.421875 \r\n",
       "Q 22.515625 -1.421875 17.65625 -0.515625 \r\n",
       "Q 12.796875 0.390625 7.625 2.203125 \r\n",
       "L 7.625 11.71875 \r\n",
       "Q 11.71875 9.328125 16.59375 8.109375 \r\n",
       "Q 21.484375 6.890625 26.8125 6.890625 \r\n",
       "Q 36.078125 6.890625 40.9375 10.546875 \r\n",
       "Q 45.796875 14.203125 45.796875 21.1875 \r\n",
       "Q 45.796875 27.640625 41.28125 31.265625 \r\n",
       "Q 36.765625 34.90625 28.71875 34.90625 \r\n",
       "L 20.21875 34.90625 \r\n",
       "L 20.21875 43.015625 \r\n",
       "L 29.109375 43.015625 \r\n",
       "Q 36.375 43.015625 40.234375 45.921875 \r\n",
       "Q 44.09375 48.828125 44.09375 54.296875 \r\n",
       "Q 44.09375 59.90625 40.109375 62.90625 \r\n",
       "Q 36.140625 65.921875 28.71875 65.921875 \r\n",
       "Q 24.65625 65.921875 20.015625 65.03125 \r\n",
       "Q 15.375 64.15625 9.8125 62.3125 \r\n",
       "L 9.8125 71.09375 \r\n",
       "Q 15.4375 72.65625 20.34375 73.4375 \r\n",
       "Q 25.25 74.21875 29.59375 74.21875 \r\n",
       "Q 40.828125 74.21875 47.359375 69.109375 \r\n",
       "Q 53.90625 64.015625 53.90625 55.328125 \r\n",
       "Q 53.90625 49.265625 50.4375 45.09375 \r\n",
       "Q 46.96875 40.921875 40.578125 39.3125 \r\n",
       "z\r\n",
       "\" id=\"DejaVuSans-51\"/>\r\n",
       "      </defs>\r\n",
       "      <g style=\"fill:#555555;\" transform=\"translate(22.81375 128.461336)scale(0.1 -0.1)\">\r\n",
       "       <use xlink:href=\"#DejaVuSans-51\"/>\r\n",
       "       <use x=\"63.623047\" xlink:href=\"#DejaVuSans-48\"/>\r\n",
       "       <use x=\"127.246094\" xlink:href=\"#DejaVuSans-48\"/>\r\n",
       "       <use x=\"190.869141\" xlink:href=\"#DejaVuSans-48\"/>\r\n",
       "       <use x=\"254.492188\" xlink:href=\"#DejaVuSans-48\"/>\r\n",
       "       <use x=\"318.115234\" xlink:href=\"#DejaVuSans-48\"/>\r\n",
       "      </g>\r\n",
       "     </g>\r\n",
       "    </g>\r\n",
       "    <g id=\"ytick_5\">\r\n",
       "     <g id=\"line2d_21\">\r\n",
       "      <path clip-path=\"url(#p6a2af3feee)\" d=\"M 67.98875 85.688907 \r\n",
       "L 402.78875 85.688907 \r\n",
       "\" style=\"fill:none;stroke:#ffffff;stroke-linecap:square;stroke-width:0.8;\"/>\r\n",
       "     </g>\r\n",
       "     <g id=\"line2d_22\">\r\n",
       "      <g>\r\n",
       "       <use style=\"fill:#555555;stroke:#555555;stroke-width:0.8;\" x=\"67.98875\" xlink:href=\"#m2e2c4dfcd2\" y=\"85.688907\"/>\r\n",
       "      </g>\r\n",
       "     </g>\r\n",
       "     <g id=\"text_11\">\r\n",
       "      <!-- 400000 -->\r\n",
       "      <g style=\"fill:#555555;\" transform=\"translate(22.81375 89.488126)scale(0.1 -0.1)\">\r\n",
       "       <use xlink:href=\"#DejaVuSans-52\"/>\r\n",
       "       <use x=\"63.623047\" xlink:href=\"#DejaVuSans-48\"/>\r\n",
       "       <use x=\"127.246094\" xlink:href=\"#DejaVuSans-48\"/>\r\n",
       "       <use x=\"190.869141\" xlink:href=\"#DejaVuSans-48\"/>\r\n",
       "       <use x=\"254.492188\" xlink:href=\"#DejaVuSans-48\"/>\r\n",
       "       <use x=\"318.115234\" xlink:href=\"#DejaVuSans-48\"/>\r\n",
       "      </g>\r\n",
       "     </g>\r\n",
       "    </g>\r\n",
       "    <g id=\"ytick_6\">\r\n",
       "     <g id=\"line2d_23\">\r\n",
       "      <path clip-path=\"url(#p6a2af3feee)\" d=\"M 67.98875 46.715696 \r\n",
       "L 402.78875 46.715696 \r\n",
       "\" style=\"fill:none;stroke:#ffffff;stroke-linecap:square;stroke-width:0.8;\"/>\r\n",
       "     </g>\r\n",
       "     <g id=\"line2d_24\">\r\n",
       "      <g>\r\n",
       "       <use style=\"fill:#555555;stroke:#555555;stroke-width:0.8;\" x=\"67.98875\" xlink:href=\"#m2e2c4dfcd2\" y=\"46.715696\"/>\r\n",
       "      </g>\r\n",
       "     </g>\r\n",
       "     <g id=\"text_12\">\r\n",
       "      <!-- 500000 -->\r\n",
       "      <defs>\r\n",
       "       <path d=\"M 10.796875 72.90625 \r\n",
       "L 49.515625 72.90625 \r\n",
       "L 49.515625 64.59375 \r\n",
       "L 19.828125 64.59375 \r\n",
       "L 19.828125 46.734375 \r\n",
       "Q 21.96875 47.46875 24.109375 47.828125 \r\n",
       "Q 26.265625 48.1875 28.421875 48.1875 \r\n",
       "Q 40.625 48.1875 47.75 41.5 \r\n",
       "Q 54.890625 34.8125 54.890625 23.390625 \r\n",
       "Q 54.890625 11.625 47.5625 5.09375 \r\n",
       "Q 40.234375 -1.421875 26.90625 -1.421875 \r\n",
       "Q 22.3125 -1.421875 17.546875 -0.640625 \r\n",
       "Q 12.796875 0.140625 7.71875 1.703125 \r\n",
       "L 7.71875 11.625 \r\n",
       "Q 12.109375 9.234375 16.796875 8.0625 \r\n",
       "Q 21.484375 6.890625 26.703125 6.890625 \r\n",
       "Q 35.15625 6.890625 40.078125 11.328125 \r\n",
       "Q 45.015625 15.765625 45.015625 23.390625 \r\n",
       "Q 45.015625 31 40.078125 35.4375 \r\n",
       "Q 35.15625 39.890625 26.703125 39.890625 \r\n",
       "Q 22.75 39.890625 18.8125 39.015625 \r\n",
       "Q 14.890625 38.140625 10.796875 36.28125 \r\n",
       "z\r\n",
       "\" id=\"DejaVuSans-53\"/>\r\n",
       "      </defs>\r\n",
       "      <g style=\"fill:#555555;\" transform=\"translate(22.81375 50.514915)scale(0.1 -0.1)\">\r\n",
       "       <use xlink:href=\"#DejaVuSans-53\"/>\r\n",
       "       <use x=\"63.623047\" xlink:href=\"#DejaVuSans-48\"/>\r\n",
       "       <use x=\"127.246094\" xlink:href=\"#DejaVuSans-48\"/>\r\n",
       "       <use x=\"190.869141\" xlink:href=\"#DejaVuSans-48\"/>\r\n",
       "       <use x=\"254.492188\" xlink:href=\"#DejaVuSans-48\"/>\r\n",
       "       <use x=\"318.115234\" xlink:href=\"#DejaVuSans-48\"/>\r\n",
       "      </g>\r\n",
       "     </g>\r\n",
       "    </g>\r\n",
       "    <g id=\"text_13\">\r\n",
       "     <!-- Frequency -->\r\n",
       "     <defs>\r\n",
       "      <path d=\"M 9.8125 72.90625 \r\n",
       "L 51.703125 72.90625 \r\n",
       "L 51.703125 64.59375 \r\n",
       "L 19.671875 64.59375 \r\n",
       "L 19.671875 43.109375 \r\n",
       "L 48.578125 43.109375 \r\n",
       "L 48.578125 34.8125 \r\n",
       "L 19.671875 34.8125 \r\n",
       "L 19.671875 0 \r\n",
       "L 9.8125 0 \r\n",
       "z\r\n",
       "\" id=\"DejaVuSans-70\"/>\r\n",
       "      <path d=\"M 41.109375 46.296875 \r\n",
       "Q 39.59375 47.171875 37.8125 47.578125 \r\n",
       "Q 36.03125 48 33.890625 48 \r\n",
       "Q 26.265625 48 22.1875 43.046875 \r\n",
       "Q 18.109375 38.09375 18.109375 28.8125 \r\n",
       "L 18.109375 0 \r\n",
       "L 9.078125 0 \r\n",
       "L 9.078125 54.6875 \r\n",
       "L 18.109375 54.6875 \r\n",
       "L 18.109375 46.1875 \r\n",
       "Q 20.953125 51.171875 25.484375 53.578125 \r\n",
       "Q 30.03125 56 36.53125 56 \r\n",
       "Q 37.453125 56 38.578125 55.875 \r\n",
       "Q 39.703125 55.765625 41.0625 55.515625 \r\n",
       "z\r\n",
       "\" id=\"DejaVuSans-114\"/>\r\n",
       "      <path d=\"M 56.203125 29.59375 \r\n",
       "L 56.203125 25.203125 \r\n",
       "L 14.890625 25.203125 \r\n",
       "Q 15.484375 15.921875 20.484375 11.0625 \r\n",
       "Q 25.484375 6.203125 34.421875 6.203125 \r\n",
       "Q 39.59375 6.203125 44.453125 7.46875 \r\n",
       "Q 49.3125 8.734375 54.109375 11.28125 \r\n",
       "L 54.109375 2.78125 \r\n",
       "Q 49.265625 0.734375 44.1875 -0.34375 \r\n",
       "Q 39.109375 -1.421875 33.890625 -1.421875 \r\n",
       "Q 20.796875 -1.421875 13.15625 6.1875 \r\n",
       "Q 5.515625 13.8125 5.515625 26.8125 \r\n",
       "Q 5.515625 40.234375 12.765625 48.109375 \r\n",
       "Q 20.015625 56 32.328125 56 \r\n",
       "Q 43.359375 56 49.78125 48.890625 \r\n",
       "Q 56.203125 41.796875 56.203125 29.59375 \r\n",
       "z\r\n",
       "M 47.21875 32.234375 \r\n",
       "Q 47.125 39.59375 43.09375 43.984375 \r\n",
       "Q 39.0625 48.390625 32.421875 48.390625 \r\n",
       "Q 24.90625 48.390625 20.390625 44.140625 \r\n",
       "Q 15.875 39.890625 15.1875 32.171875 \r\n",
       "z\r\n",
       "\" id=\"DejaVuSans-101\"/>\r\n",
       "      <path d=\"M 14.796875 27.296875 \r\n",
       "Q 14.796875 17.390625 18.875 11.75 \r\n",
       "Q 22.953125 6.109375 30.078125 6.109375 \r\n",
       "Q 37.203125 6.109375 41.296875 11.75 \r\n",
       "Q 45.40625 17.390625 45.40625 27.296875 \r\n",
       "Q 45.40625 37.203125 41.296875 42.84375 \r\n",
       "Q 37.203125 48.484375 30.078125 48.484375 \r\n",
       "Q 22.953125 48.484375 18.875 42.84375 \r\n",
       "Q 14.796875 37.203125 14.796875 27.296875 \r\n",
       "z\r\n",
       "M 45.40625 8.203125 \r\n",
       "Q 42.578125 3.328125 38.25 0.953125 \r\n",
       "Q 33.9375 -1.421875 27.875 -1.421875 \r\n",
       "Q 17.96875 -1.421875 11.734375 6.484375 \r\n",
       "Q 5.515625 14.40625 5.515625 27.296875 \r\n",
       "Q 5.515625 40.1875 11.734375 48.09375 \r\n",
       "Q 17.96875 56 27.875 56 \r\n",
       "Q 33.9375 56 38.25 53.625 \r\n",
       "Q 42.578125 51.265625 45.40625 46.390625 \r\n",
       "L 45.40625 54.6875 \r\n",
       "L 54.390625 54.6875 \r\n",
       "L 54.390625 -20.796875 \r\n",
       "L 45.40625 -20.796875 \r\n",
       "z\r\n",
       "\" id=\"DejaVuSans-113\"/>\r\n",
       "      <path d=\"M 8.5 21.578125 \r\n",
       "L 8.5 54.6875 \r\n",
       "L 17.484375 54.6875 \r\n",
       "L 17.484375 21.921875 \r\n",
       "Q 17.484375 14.15625 20.5 10.265625 \r\n",
       "Q 23.53125 6.390625 29.59375 6.390625 \r\n",
       "Q 36.859375 6.390625 41.078125 11.03125 \r\n",
       "Q 45.3125 15.671875 45.3125 23.6875 \r\n",
       "L 45.3125 54.6875 \r\n",
       "L 54.296875 54.6875 \r\n",
       "L 54.296875 0 \r\n",
       "L 45.3125 0 \r\n",
       "L 45.3125 8.40625 \r\n",
       "Q 42.046875 3.421875 37.71875 1 \r\n",
       "Q 33.40625 -1.421875 27.6875 -1.421875 \r\n",
       "Q 18.265625 -1.421875 13.375 4.4375 \r\n",
       "Q 8.5 10.296875 8.5 21.578125 \r\n",
       "z\r\n",
       "M 31.109375 56 \r\n",
       "z\r\n",
       "\" id=\"DejaVuSans-117\"/>\r\n",
       "      <path d=\"M 54.890625 33.015625 \r\n",
       "L 54.890625 0 \r\n",
       "L 45.90625 0 \r\n",
       "L 45.90625 32.71875 \r\n",
       "Q 45.90625 40.484375 42.875 44.328125 \r\n",
       "Q 39.84375 48.1875 33.796875 48.1875 \r\n",
       "Q 26.515625 48.1875 22.3125 43.546875 \r\n",
       "Q 18.109375 38.921875 18.109375 30.90625 \r\n",
       "L 18.109375 0 \r\n",
       "L 9.078125 0 \r\n",
       "L 9.078125 54.6875 \r\n",
       "L 18.109375 54.6875 \r\n",
       "L 18.109375 46.1875 \r\n",
       "Q 21.34375 51.125 25.703125 53.5625 \r\n",
       "Q 30.078125 56 35.796875 56 \r\n",
       "Q 45.21875 56 50.046875 50.171875 \r\n",
       "Q 54.890625 44.34375 54.890625 33.015625 \r\n",
       "z\r\n",
       "\" id=\"DejaVuSans-110\"/>\r\n",
       "      <path d=\"M 48.78125 52.59375 \r\n",
       "L 48.78125 44.1875 \r\n",
       "Q 44.96875 46.296875 41.140625 47.34375 \r\n",
       "Q 37.3125 48.390625 33.40625 48.390625 \r\n",
       "Q 24.65625 48.390625 19.8125 42.84375 \r\n",
       "Q 14.984375 37.3125 14.984375 27.296875 \r\n",
       "Q 14.984375 17.28125 19.8125 11.734375 \r\n",
       "Q 24.65625 6.203125 33.40625 6.203125 \r\n",
       "Q 37.3125 6.203125 41.140625 7.25 \r\n",
       "Q 44.96875 8.296875 48.78125 10.40625 \r\n",
       "L 48.78125 2.09375 \r\n",
       "Q 45.015625 0.34375 40.984375 -0.53125 \r\n",
       "Q 36.96875 -1.421875 32.421875 -1.421875 \r\n",
       "Q 20.0625 -1.421875 12.78125 6.34375 \r\n",
       "Q 5.515625 14.109375 5.515625 27.296875 \r\n",
       "Q 5.515625 40.671875 12.859375 48.328125 \r\n",
       "Q 20.21875 56 33.015625 56 \r\n",
       "Q 37.15625 56 41.109375 55.140625 \r\n",
       "Q 45.0625 54.296875 48.78125 52.59375 \r\n",
       "z\r\n",
       "\" id=\"DejaVuSans-99\"/>\r\n",
       "      <path d=\"M 32.171875 -5.078125 \r\n",
       "Q 28.375 -14.84375 24.75 -17.8125 \r\n",
       "Q 21.140625 -20.796875 15.09375 -20.796875 \r\n",
       "L 7.90625 -20.796875 \r\n",
       "L 7.90625 -13.28125 \r\n",
       "L 13.1875 -13.28125 \r\n",
       "Q 16.890625 -13.28125 18.9375 -11.515625 \r\n",
       "Q 21 -9.765625 23.484375 -3.21875 \r\n",
       "L 25.09375 0.875 \r\n",
       "L 2.984375 54.6875 \r\n",
       "L 12.5 54.6875 \r\n",
       "L 29.59375 11.921875 \r\n",
       "L 46.6875 54.6875 \r\n",
       "L 56.203125 54.6875 \r\n",
       "z\r\n",
       "\" id=\"DejaVuSans-121\"/>\r\n",
       "     </defs>\r\n",
       "     <g style=\"fill:#555555;\" transform=\"translate(16.318125 164.418937)rotate(-90)scale(0.12 -0.12)\">\r\n",
       "      <use xlink:href=\"#DejaVuSans-70\"/>\r\n",
       "      <use x=\"57.410156\" xlink:href=\"#DejaVuSans-114\"/>\r\n",
       "      <use x=\"98.492188\" xlink:href=\"#DejaVuSans-101\"/>\r\n",
       "      <use x=\"160.015625\" xlink:href=\"#DejaVuSans-113\"/>\r\n",
       "      <use x=\"223.492188\" xlink:href=\"#DejaVuSans-117\"/>\r\n",
       "      <use x=\"286.871094\" xlink:href=\"#DejaVuSans-101\"/>\r\n",
       "      <use x=\"348.394531\" xlink:href=\"#DejaVuSans-110\"/>\r\n",
       "      <use x=\"411.773438\" xlink:href=\"#DejaVuSans-99\"/>\r\n",
       "      <use x=\"466.753906\" xlink:href=\"#DejaVuSans-121\"/>\r\n",
       "     </g>\r\n",
       "    </g>\r\n",
       "   </g>\r\n",
       "   <g id=\"patch_3\">\r\n",
       "    <path clip-path=\"url(#p6a2af3feee)\" d=\"M 83.206932 241.58175 \r\n",
       "L 98.425114 241.58175 \r\n",
       "L 98.425114 58.935357 \r\n",
       "L 83.206932 58.935357 \r\n",
       "z\r\n",
       "\" style=\"fill:#e24a33;\"/>\r\n",
       "   </g>\r\n",
       "   <g id=\"patch_4\">\r\n",
       "    <path clip-path=\"url(#p6a2af3feee)\" d=\"M 98.425114 241.58175 \r\n",
       "L 113.643295 241.58175 \r\n",
       "L 113.643295 241.58175 \r\n",
       "L 98.425114 241.58175 \r\n",
       "z\r\n",
       "\" style=\"fill:#e24a33;\"/>\r\n",
       "   </g>\r\n",
       "   <g id=\"patch_5\">\r\n",
       "    <path clip-path=\"url(#p6a2af3feee)\" d=\"M 113.643295 241.58175 \r\n",
       "L 128.861477 241.58175 \r\n",
       "L 128.861477 241.58175 \r\n",
       "L 113.643295 241.58175 \r\n",
       "z\r\n",
       "\" style=\"fill:#e24a33;\"/>\r\n",
       "   </g>\r\n",
       "   <g id=\"patch_6\">\r\n",
       "    <path clip-path=\"url(#p6a2af3feee)\" d=\"M 128.861477 241.58175 \r\n",
       "L 144.079659 241.58175 \r\n",
       "L 144.079659 241.58175 \r\n",
       "L 128.861477 241.58175 \r\n",
       "z\r\n",
       "\" style=\"fill:#e24a33;\"/>\r\n",
       "   </g>\r\n",
       "   <g id=\"patch_7\">\r\n",
       "    <path clip-path=\"url(#p6a2af3feee)\" d=\"M 144.079659 241.58175 \r\n",
       "L 159.297841 241.58175 \r\n",
       "L 159.297841 241.58175 \r\n",
       "L 144.079659 241.58175 \r\n",
       "z\r\n",
       "\" style=\"fill:#e24a33;\"/>\r\n",
       "   </g>\r\n",
       "   <g id=\"patch_8\">\r\n",
       "    <path clip-path=\"url(#p6a2af3feee)\" d=\"M 159.297841 241.58175 \r\n",
       "L 174.516023 241.58175 \r\n",
       "L 174.516023 241.58175 \r\n",
       "L 159.297841 241.58175 \r\n",
       "z\r\n",
       "\" style=\"fill:#e24a33;\"/>\r\n",
       "   </g>\r\n",
       "   <g id=\"patch_9\">\r\n",
       "    <path clip-path=\"url(#p6a2af3feee)\" d=\"M 174.516023 241.58175 \r\n",
       "L 189.734205 241.58175 \r\n",
       "L 189.734205 241.58175 \r\n",
       "L 174.516023 241.58175 \r\n",
       "z\r\n",
       "\" style=\"fill:#e24a33;\"/>\r\n",
       "   </g>\r\n",
       "   <g id=\"patch_10\">\r\n",
       "    <path clip-path=\"url(#p6a2af3feee)\" d=\"M 189.734205 241.58175 \r\n",
       "L 204.952386 241.58175 \r\n",
       "L 204.952386 241.58175 \r\n",
       "L 189.734205 241.58175 \r\n",
       "z\r\n",
       "\" style=\"fill:#e24a33;\"/>\r\n",
       "   </g>\r\n",
       "   <g id=\"patch_11\">\r\n",
       "    <path clip-path=\"url(#p6a2af3feee)\" d=\"M 204.952386 241.58175 \r\n",
       "L 220.170568 241.58175 \r\n",
       "L 220.170568 241.58175 \r\n",
       "L 204.952386 241.58175 \r\n",
       "z\r\n",
       "\" style=\"fill:#e24a33;\"/>\r\n",
       "   </g>\r\n",
       "   <g id=\"patch_12\">\r\n",
       "    <path clip-path=\"url(#p6a2af3feee)\" d=\"M 220.170568 241.58175 \r\n",
       "L 235.38875 241.58175 \r\n",
       "L 235.38875 241.58175 \r\n",
       "L 220.170568 241.58175 \r\n",
       "z\r\n",
       "\" style=\"fill:#e24a33;\"/>\r\n",
       "   </g>\r\n",
       "   <g id=\"patch_13\">\r\n",
       "    <path clip-path=\"url(#p6a2af3feee)\" d=\"M 235.38875 241.58175 \r\n",
       "L 250.606932 241.58175 \r\n",
       "L 250.606932 241.58175 \r\n",
       "L 235.38875 241.58175 \r\n",
       "z\r\n",
       "\" style=\"fill:#e24a33;\"/>\r\n",
       "   </g>\r\n",
       "   <g id=\"patch_14\">\r\n",
       "    <path clip-path=\"url(#p6a2af3feee)\" d=\"M 250.606932 241.58175 \r\n",
       "L 265.825114 241.58175 \r\n",
       "L 265.825114 241.58175 \r\n",
       "L 250.606932 241.58175 \r\n",
       "z\r\n",
       "\" style=\"fill:#e24a33;\"/>\r\n",
       "   </g>\r\n",
       "   <g id=\"patch_15\">\r\n",
       "    <path clip-path=\"url(#p6a2af3feee)\" d=\"M 265.825114 241.58175 \r\n",
       "L 281.043295 241.58175 \r\n",
       "L 281.043295 241.58175 \r\n",
       "L 265.825114 241.58175 \r\n",
       "z\r\n",
       "\" style=\"fill:#e24a33;\"/>\r\n",
       "   </g>\r\n",
       "   <g id=\"patch_16\">\r\n",
       "    <path clip-path=\"url(#p6a2af3feee)\" d=\"M 281.043295 241.58175 \r\n",
       "L 296.261477 241.58175 \r\n",
       "L 296.261477 241.58175 \r\n",
       "L 281.043295 241.58175 \r\n",
       "z\r\n",
       "\" style=\"fill:#e24a33;\"/>\r\n",
       "   </g>\r\n",
       "   <g id=\"patch_17\">\r\n",
       "    <path clip-path=\"url(#p6a2af3feee)\" d=\"M 296.261477 241.58175 \r\n",
       "L 311.479659 241.58175 \r\n",
       "L 311.479659 241.58175 \r\n",
       "L 296.261477 241.58175 \r\n",
       "z\r\n",
       "\" style=\"fill:#e24a33;\"/>\r\n",
       "   </g>\r\n",
       "   <g id=\"patch_18\">\r\n",
       "    <path clip-path=\"url(#p6a2af3feee)\" d=\"M 311.479659 241.58175 \r\n",
       "L 326.697841 241.58175 \r\n",
       "L 326.697841 241.58175 \r\n",
       "L 311.479659 241.58175 \r\n",
       "z\r\n",
       "\" style=\"fill:#e24a33;\"/>\r\n",
       "   </g>\r\n",
       "   <g id=\"patch_19\">\r\n",
       "    <path clip-path=\"url(#p6a2af3feee)\" d=\"M 326.697841 241.58175 \r\n",
       "L 341.916023 241.58175 \r\n",
       "L 341.916023 241.58175 \r\n",
       "L 326.697841 241.58175 \r\n",
       "z\r\n",
       "\" style=\"fill:#e24a33;\"/>\r\n",
       "   </g>\r\n",
       "   <g id=\"patch_20\">\r\n",
       "    <path clip-path=\"url(#p6a2af3feee)\" d=\"M 341.916023 241.58175 \r\n",
       "L 357.134205 241.58175 \r\n",
       "L 357.134205 241.58175 \r\n",
       "L 341.916023 241.58175 \r\n",
       "z\r\n",
       "\" style=\"fill:#e24a33;\"/>\r\n",
       "   </g>\r\n",
       "   <g id=\"patch_21\">\r\n",
       "    <path clip-path=\"url(#p6a2af3feee)\" d=\"M 357.134205 241.58175 \r\n",
       "L 372.352386 241.58175 \r\n",
       "L 372.352386 241.58175 \r\n",
       "L 357.134205 241.58175 \r\n",
       "z\r\n",
       "\" style=\"fill:#e24a33;\"/>\r\n",
       "   </g>\r\n",
       "   <g id=\"patch_22\">\r\n",
       "    <path clip-path=\"url(#p6a2af3feee)\" d=\"M 372.352386 241.58175 \r\n",
       "L 387.570568 241.58175 \r\n",
       "L 387.570568 34.496036 \r\n",
       "L 372.352386 34.496036 \r\n",
       "z\r\n",
       "\" style=\"fill:#e24a33;\"/>\r\n",
       "   </g>\r\n",
       "   <g id=\"patch_23\">\r\n",
       "    <path d=\"M 67.98875 241.58175 \r\n",
       "L 67.98875 24.14175 \r\n",
       "\" style=\"fill:none;stroke:#ffffff;stroke-linecap:square;stroke-linejoin:miter;\"/>\r\n",
       "   </g>\r\n",
       "   <g id=\"patch_24\">\r\n",
       "    <path d=\"M 67.98875 241.58175 \r\n",
       "L 402.78875 241.58175 \r\n",
       "\" style=\"fill:none;stroke:#ffffff;stroke-linecap:square;stroke-linejoin:miter;\"/>\r\n",
       "   </g>\r\n",
       "   <g id=\"text_14\">\r\n",
       "    <!-- label, positive = 1 and negative = 0 -->\r\n",
       "    <defs>\r\n",
       "     <path d=\"M 9.421875 75.984375 \r\n",
       "L 18.40625 75.984375 \r\n",
       "L 18.40625 0 \r\n",
       "L 9.421875 0 \r\n",
       "z\r\n",
       "\" id=\"DejaVuSans-108\"/>\r\n",
       "     <path d=\"M 34.28125 27.484375 \r\n",
       "Q 23.390625 27.484375 19.1875 25 \r\n",
       "Q 14.984375 22.515625 14.984375 16.5 \r\n",
       "Q 14.984375 11.71875 18.140625 8.90625 \r\n",
       "Q 21.296875 6.109375 26.703125 6.109375 \r\n",
       "Q 34.1875 6.109375 38.703125 11.40625 \r\n",
       "Q 43.21875 16.703125 43.21875 25.484375 \r\n",
       "L 43.21875 27.484375 \r\n",
       "z\r\n",
       "M 52.203125 31.203125 \r\n",
       "L 52.203125 0 \r\n",
       "L 43.21875 0 \r\n",
       "L 43.21875 8.296875 \r\n",
       "Q 40.140625 3.328125 35.546875 0.953125 \r\n",
       "Q 30.953125 -1.421875 24.3125 -1.421875 \r\n",
       "Q 15.921875 -1.421875 10.953125 3.296875 \r\n",
       "Q 6 8.015625 6 15.921875 \r\n",
       "Q 6 25.140625 12.171875 29.828125 \r\n",
       "Q 18.359375 34.515625 30.609375 34.515625 \r\n",
       "L 43.21875 34.515625 \r\n",
       "L 43.21875 35.40625 \r\n",
       "Q 43.21875 41.609375 39.140625 45 \r\n",
       "Q 35.0625 48.390625 27.6875 48.390625 \r\n",
       "Q 23 48.390625 18.546875 47.265625 \r\n",
       "Q 14.109375 46.140625 10.015625 43.890625 \r\n",
       "L 10.015625 52.203125 \r\n",
       "Q 14.9375 54.109375 19.578125 55.046875 \r\n",
       "Q 24.21875 56 28.609375 56 \r\n",
       "Q 40.484375 56 46.34375 49.84375 \r\n",
       "Q 52.203125 43.703125 52.203125 31.203125 \r\n",
       "z\r\n",
       "\" id=\"DejaVuSans-97\"/>\r\n",
       "     <path d=\"M 48.6875 27.296875 \r\n",
       "Q 48.6875 37.203125 44.609375 42.84375 \r\n",
       "Q 40.53125 48.484375 33.40625 48.484375 \r\n",
       "Q 26.265625 48.484375 22.1875 42.84375 \r\n",
       "Q 18.109375 37.203125 18.109375 27.296875 \r\n",
       "Q 18.109375 17.390625 22.1875 11.75 \r\n",
       "Q 26.265625 6.109375 33.40625 6.109375 \r\n",
       "Q 40.53125 6.109375 44.609375 11.75 \r\n",
       "Q 48.6875 17.390625 48.6875 27.296875 \r\n",
       "z\r\n",
       "M 18.109375 46.390625 \r\n",
       "Q 20.953125 51.265625 25.265625 53.625 \r\n",
       "Q 29.59375 56 35.59375 56 \r\n",
       "Q 45.5625 56 51.78125 48.09375 \r\n",
       "Q 58.015625 40.1875 58.015625 27.296875 \r\n",
       "Q 58.015625 14.40625 51.78125 6.484375 \r\n",
       "Q 45.5625 -1.421875 35.59375 -1.421875 \r\n",
       "Q 29.59375 -1.421875 25.265625 0.953125 \r\n",
       "Q 20.953125 3.328125 18.109375 8.203125 \r\n",
       "L 18.109375 0 \r\n",
       "L 9.078125 0 \r\n",
       "L 9.078125 75.984375 \r\n",
       "L 18.109375 75.984375 \r\n",
       "z\r\n",
       "\" id=\"DejaVuSans-98\"/>\r\n",
       "     <path d=\"M 11.71875 12.40625 \r\n",
       "L 22.015625 12.40625 \r\n",
       "L 22.015625 4 \r\n",
       "L 14.015625 -11.625 \r\n",
       "L 7.71875 -11.625 \r\n",
       "L 11.71875 4 \r\n",
       "z\r\n",
       "\" id=\"DejaVuSans-44\"/>\r\n",
       "     <path id=\"DejaVuSans-32\"/>\r\n",
       "     <path d=\"M 18.109375 8.203125 \r\n",
       "L 18.109375 -20.796875 \r\n",
       "L 9.078125 -20.796875 \r\n",
       "L 9.078125 54.6875 \r\n",
       "L 18.109375 54.6875 \r\n",
       "L 18.109375 46.390625 \r\n",
       "Q 20.953125 51.265625 25.265625 53.625 \r\n",
       "Q 29.59375 56 35.59375 56 \r\n",
       "Q 45.5625 56 51.78125 48.09375 \r\n",
       "Q 58.015625 40.1875 58.015625 27.296875 \r\n",
       "Q 58.015625 14.40625 51.78125 6.484375 \r\n",
       "Q 45.5625 -1.421875 35.59375 -1.421875 \r\n",
       "Q 29.59375 -1.421875 25.265625 0.953125 \r\n",
       "Q 20.953125 3.328125 18.109375 8.203125 \r\n",
       "z\r\n",
       "M 48.6875 27.296875 \r\n",
       "Q 48.6875 37.203125 44.609375 42.84375 \r\n",
       "Q 40.53125 48.484375 33.40625 48.484375 \r\n",
       "Q 26.265625 48.484375 22.1875 42.84375 \r\n",
       "Q 18.109375 37.203125 18.109375 27.296875 \r\n",
       "Q 18.109375 17.390625 22.1875 11.75 \r\n",
       "Q 26.265625 6.109375 33.40625 6.109375 \r\n",
       "Q 40.53125 6.109375 44.609375 11.75 \r\n",
       "Q 48.6875 17.390625 48.6875 27.296875 \r\n",
       "z\r\n",
       "\" id=\"DejaVuSans-112\"/>\r\n",
       "     <path d=\"M 30.609375 48.390625 \r\n",
       "Q 23.390625 48.390625 19.1875 42.75 \r\n",
       "Q 14.984375 37.109375 14.984375 27.296875 \r\n",
       "Q 14.984375 17.484375 19.15625 11.84375 \r\n",
       "Q 23.34375 6.203125 30.609375 6.203125 \r\n",
       "Q 37.796875 6.203125 41.984375 11.859375 \r\n",
       "Q 46.1875 17.53125 46.1875 27.296875 \r\n",
       "Q 46.1875 37.015625 41.984375 42.703125 \r\n",
       "Q 37.796875 48.390625 30.609375 48.390625 \r\n",
       "z\r\n",
       "M 30.609375 56 \r\n",
       "Q 42.328125 56 49.015625 48.375 \r\n",
       "Q 55.71875 40.765625 55.71875 27.296875 \r\n",
       "Q 55.71875 13.875 49.015625 6.21875 \r\n",
       "Q 42.328125 -1.421875 30.609375 -1.421875 \r\n",
       "Q 18.84375 -1.421875 12.171875 6.21875 \r\n",
       "Q 5.515625 13.875 5.515625 27.296875 \r\n",
       "Q 5.515625 40.765625 12.171875 48.375 \r\n",
       "Q 18.84375 56 30.609375 56 \r\n",
       "z\r\n",
       "\" id=\"DejaVuSans-111\"/>\r\n",
       "     <path d=\"M 44.28125 53.078125 \r\n",
       "L 44.28125 44.578125 \r\n",
       "Q 40.484375 46.53125 36.375 47.5 \r\n",
       "Q 32.28125 48.484375 27.875 48.484375 \r\n",
       "Q 21.1875 48.484375 17.84375 46.4375 \r\n",
       "Q 14.5 44.390625 14.5 40.28125 \r\n",
       "Q 14.5 37.15625 16.890625 35.375 \r\n",
       "Q 19.28125 33.59375 26.515625 31.984375 \r\n",
       "L 29.59375 31.296875 \r\n",
       "Q 39.15625 29.25 43.1875 25.515625 \r\n",
       "Q 47.21875 21.78125 47.21875 15.09375 \r\n",
       "Q 47.21875 7.46875 41.1875 3.015625 \r\n",
       "Q 35.15625 -1.421875 24.609375 -1.421875 \r\n",
       "Q 20.21875 -1.421875 15.453125 -0.5625 \r\n",
       "Q 10.6875 0.296875 5.421875 2 \r\n",
       "L 5.421875 11.28125 \r\n",
       "Q 10.40625 8.6875 15.234375 7.390625 \r\n",
       "Q 20.0625 6.109375 24.8125 6.109375 \r\n",
       "Q 31.15625 6.109375 34.5625 8.28125 \r\n",
       "Q 37.984375 10.453125 37.984375 14.40625 \r\n",
       "Q 37.984375 18.0625 35.515625 20.015625 \r\n",
       "Q 33.0625 21.96875 24.703125 23.78125 \r\n",
       "L 21.578125 24.515625 \r\n",
       "Q 13.234375 26.265625 9.515625 29.90625 \r\n",
       "Q 5.8125 33.546875 5.8125 39.890625 \r\n",
       "Q 5.8125 47.609375 11.28125 51.796875 \r\n",
       "Q 16.75 56 26.8125 56 \r\n",
       "Q 31.78125 56 36.171875 55.265625 \r\n",
       "Q 40.578125 54.546875 44.28125 53.078125 \r\n",
       "z\r\n",
       "\" id=\"DejaVuSans-115\"/>\r\n",
       "     <path d=\"M 9.421875 54.6875 \r\n",
       "L 18.40625 54.6875 \r\n",
       "L 18.40625 0 \r\n",
       "L 9.421875 0 \r\n",
       "z\r\n",
       "M 9.421875 75.984375 \r\n",
       "L 18.40625 75.984375 \r\n",
       "L 18.40625 64.59375 \r\n",
       "L 9.421875 64.59375 \r\n",
       "z\r\n",
       "\" id=\"DejaVuSans-105\"/>\r\n",
       "     <path d=\"M 18.3125 70.21875 \r\n",
       "L 18.3125 54.6875 \r\n",
       "L 36.8125 54.6875 \r\n",
       "L 36.8125 47.703125 \r\n",
       "L 18.3125 47.703125 \r\n",
       "L 18.3125 18.015625 \r\n",
       "Q 18.3125 11.328125 20.140625 9.421875 \r\n",
       "Q 21.96875 7.515625 27.59375 7.515625 \r\n",
       "L 36.8125 7.515625 \r\n",
       "L 36.8125 0 \r\n",
       "L 27.59375 0 \r\n",
       "Q 17.1875 0 13.234375 3.875 \r\n",
       "Q 9.28125 7.765625 9.28125 18.015625 \r\n",
       "L 9.28125 47.703125 \r\n",
       "L 2.6875 47.703125 \r\n",
       "L 2.6875 54.6875 \r\n",
       "L 9.28125 54.6875 \r\n",
       "L 9.28125 70.21875 \r\n",
       "z\r\n",
       "\" id=\"DejaVuSans-116\"/>\r\n",
       "     <path d=\"M 2.984375 54.6875 \r\n",
       "L 12.5 54.6875 \r\n",
       "L 29.59375 8.796875 \r\n",
       "L 46.6875 54.6875 \r\n",
       "L 56.203125 54.6875 \r\n",
       "L 35.6875 0 \r\n",
       "L 23.484375 0 \r\n",
       "z\r\n",
       "\" id=\"DejaVuSans-118\"/>\r\n",
       "     <path d=\"M 10.59375 45.40625 \r\n",
       "L 73.1875 45.40625 \r\n",
       "L 73.1875 37.203125 \r\n",
       "L 10.59375 37.203125 \r\n",
       "z\r\n",
       "M 10.59375 25.484375 \r\n",
       "L 73.1875 25.484375 \r\n",
       "L 73.1875 17.1875 \r\n",
       "L 10.59375 17.1875 \r\n",
       "z\r\n",
       "\" id=\"DejaVuSans-61\"/>\r\n",
       "     <path d=\"M 45.40625 46.390625 \r\n",
       "L 45.40625 75.984375 \r\n",
       "L 54.390625 75.984375 \r\n",
       "L 54.390625 0 \r\n",
       "L 45.40625 0 \r\n",
       "L 45.40625 8.203125 \r\n",
       "Q 42.578125 3.328125 38.25 0.953125 \r\n",
       "Q 33.9375 -1.421875 27.875 -1.421875 \r\n",
       "Q 17.96875 -1.421875 11.734375 6.484375 \r\n",
       "Q 5.515625 14.40625 5.515625 27.296875 \r\n",
       "Q 5.515625 40.1875 11.734375 48.09375 \r\n",
       "Q 17.96875 56 27.875 56 \r\n",
       "Q 33.9375 56 38.25 53.625 \r\n",
       "Q 42.578125 51.265625 45.40625 46.390625 \r\n",
       "z\r\n",
       "M 14.796875 27.296875 \r\n",
       "Q 14.796875 17.390625 18.875 11.75 \r\n",
       "Q 22.953125 6.109375 30.078125 6.109375 \r\n",
       "Q 37.203125 6.109375 41.296875 11.75 \r\n",
       "Q 45.40625 17.390625 45.40625 27.296875 \r\n",
       "Q 45.40625 37.203125 41.296875 42.84375 \r\n",
       "Q 37.203125 48.484375 30.078125 48.484375 \r\n",
       "Q 22.953125 48.484375 18.875 42.84375 \r\n",
       "Q 14.796875 37.203125 14.796875 27.296875 \r\n",
       "z\r\n",
       "\" id=\"DejaVuSans-100\"/>\r\n",
       "     <path d=\"M 45.40625 27.984375 \r\n",
       "Q 45.40625 37.75 41.375 43.109375 \r\n",
       "Q 37.359375 48.484375 30.078125 48.484375 \r\n",
       "Q 22.859375 48.484375 18.828125 43.109375 \r\n",
       "Q 14.796875 37.75 14.796875 27.984375 \r\n",
       "Q 14.796875 18.265625 18.828125 12.890625 \r\n",
       "Q 22.859375 7.515625 30.078125 7.515625 \r\n",
       "Q 37.359375 7.515625 41.375 12.890625 \r\n",
       "Q 45.40625 18.265625 45.40625 27.984375 \r\n",
       "z\r\n",
       "M 54.390625 6.78125 \r\n",
       "Q 54.390625 -7.171875 48.1875 -13.984375 \r\n",
       "Q 42 -20.796875 29.203125 -20.796875 \r\n",
       "Q 24.46875 -20.796875 20.265625 -20.09375 \r\n",
       "Q 16.0625 -19.390625 12.109375 -17.921875 \r\n",
       "L 12.109375 -9.1875 \r\n",
       "Q 16.0625 -11.328125 19.921875 -12.34375 \r\n",
       "Q 23.78125 -13.375 27.78125 -13.375 \r\n",
       "Q 36.625 -13.375 41.015625 -8.765625 \r\n",
       "Q 45.40625 -4.15625 45.40625 5.171875 \r\n",
       "L 45.40625 9.625 \r\n",
       "Q 42.625 4.78125 38.28125 2.390625 \r\n",
       "Q 33.9375 0 27.875 0 \r\n",
       "Q 17.828125 0 11.671875 7.65625 \r\n",
       "Q 5.515625 15.328125 5.515625 27.984375 \r\n",
       "Q 5.515625 40.671875 11.671875 48.328125 \r\n",
       "Q 17.828125 56 27.875 56 \r\n",
       "Q 33.9375 56 38.28125 53.609375 \r\n",
       "Q 42.625 51.21875 45.40625 46.390625 \r\n",
       "L 45.40625 54.6875 \r\n",
       "L 54.390625 54.6875 \r\n",
       "z\r\n",
       "\" id=\"DejaVuSans-103\"/>\r\n",
       "    </defs>\r\n",
       "    <g transform=\"translate(105.161 18.14175)scale(0.144 -0.144)\">\r\n",
       "     <use xlink:href=\"#DejaVuSans-108\"/>\r\n",
       "     <use x=\"27.783203\" xlink:href=\"#DejaVuSans-97\"/>\r\n",
       "     <use x=\"89.0625\" xlink:href=\"#DejaVuSans-98\"/>\r\n",
       "     <use x=\"152.539062\" xlink:href=\"#DejaVuSans-101\"/>\r\n",
       "     <use x=\"214.0625\" xlink:href=\"#DejaVuSans-108\"/>\r\n",
       "     <use x=\"241.845703\" xlink:href=\"#DejaVuSans-44\"/>\r\n",
       "     <use x=\"273.632812\" xlink:href=\"#DejaVuSans-32\"/>\r\n",
       "     <use x=\"305.419922\" xlink:href=\"#DejaVuSans-112\"/>\r\n",
       "     <use x=\"368.896484\" xlink:href=\"#DejaVuSans-111\"/>\r\n",
       "     <use x=\"430.078125\" xlink:href=\"#DejaVuSans-115\"/>\r\n",
       "     <use x=\"482.177734\" xlink:href=\"#DejaVuSans-105\"/>\r\n",
       "     <use x=\"509.960938\" xlink:href=\"#DejaVuSans-116\"/>\r\n",
       "     <use x=\"549.169922\" xlink:href=\"#DejaVuSans-105\"/>\r\n",
       "     <use x=\"576.953125\" xlink:href=\"#DejaVuSans-118\"/>\r\n",
       "     <use x=\"636.132812\" xlink:href=\"#DejaVuSans-101\"/>\r\n",
       "     <use x=\"697.65625\" xlink:href=\"#DejaVuSans-32\"/>\r\n",
       "     <use x=\"729.443359\" xlink:href=\"#DejaVuSans-61\"/>\r\n",
       "     <use x=\"813.232422\" xlink:href=\"#DejaVuSans-32\"/>\r\n",
       "     <use x=\"845.019531\" xlink:href=\"#DejaVuSans-49\"/>\r\n",
       "     <use x=\"908.642578\" xlink:href=\"#DejaVuSans-32\"/>\r\n",
       "     <use x=\"940.429688\" xlink:href=\"#DejaVuSans-97\"/>\r\n",
       "     <use x=\"1001.708984\" xlink:href=\"#DejaVuSans-110\"/>\r\n",
       "     <use x=\"1065.087891\" xlink:href=\"#DejaVuSans-100\"/>\r\n",
       "     <use x=\"1128.564453\" xlink:href=\"#DejaVuSans-32\"/>\r\n",
       "     <use x=\"1160.351562\" xlink:href=\"#DejaVuSans-110\"/>\r\n",
       "     <use x=\"1223.730469\" xlink:href=\"#DejaVuSans-101\"/>\r\n",
       "     <use x=\"1285.253906\" xlink:href=\"#DejaVuSans-103\"/>\r\n",
       "     <use x=\"1348.730469\" xlink:href=\"#DejaVuSans-97\"/>\r\n",
       "     <use x=\"1410.009766\" xlink:href=\"#DejaVuSans-116\"/>\r\n",
       "     <use x=\"1449.21875\" xlink:href=\"#DejaVuSans-105\"/>\r\n",
       "     <use x=\"1477.001953\" xlink:href=\"#DejaVuSans-118\"/>\r\n",
       "     <use x=\"1536.181641\" xlink:href=\"#DejaVuSans-101\"/>\r\n",
       "     <use x=\"1597.705078\" xlink:href=\"#DejaVuSans-32\"/>\r\n",
       "     <use x=\"1629.492188\" xlink:href=\"#DejaVuSans-61\"/>\r\n",
       "     <use x=\"1713.28125\" xlink:href=\"#DejaVuSans-32\"/>\r\n",
       "     <use x=\"1745.068359\" xlink:href=\"#DejaVuSans-48\"/>\r\n",
       "    </g>\r\n",
       "   </g>\r\n",
       "  </g>\r\n",
       " </g>\r\n",
       " <defs>\r\n",
       "  <clipPath id=\"p6a2af3feee\">\r\n",
       "   <rect height=\"217.44\" width=\"334.8\" x=\"67.98875\" y=\"24.14175\"/>\r\n",
       "  </clipPath>\r\n",
       " </defs>\r\n",
       "</svg>\r\n"
      ],
      "text/plain": [
       "<Figure size 432x288 with 1 Axes>"
      ]
     },
     "metadata": {},
     "output_type": "display_data"
    }
   ],
   "source": [
    "df['label'].plot(kind='hist', bins=20, title='label, positive = 1 and negative = 0')\n",
    "#plt.gca().spines[['top', 'right',]].set_visible(False)\n",
    "\n",
    "# Access the current axes using plt.gca() and set the visibility for each spine\n",
    "ax = plt.gca()\n",
    "ax.spines['top'].set_visible(False)\n",
    "ax.spines['right'].set_visible(False)\n",
    "\n",
    "# Show the plot\n",
    "plt.show()"
   ]
  },
  {
   "cell_type": "markdown",
   "metadata": {
    "id": "KduLVeteOjay"
   },
   "source": [
    "How about looking at specific examples for each class?"
   ]
  },
  {
   "cell_type": "code",
   "execution_count": 87,
   "metadata": {
    "id": "oTM2IdHRQR7y"
   },
   "outputs": [
    {
     "name": "stdout",
     "output_type": "stream",
     "text": [
      "Example negative tweet:\n",
      "  David must be hospitalized for five days end of July (palatine tonsils). I will probably never see Katie in concert.  \n",
      "\n",
      "Example positive tweet:\n",
      "*sigh*  sweet dreams guys...... \n",
      "\n"
     ]
    }
   ],
   "source": [
    "print('Example negative tweet:')\n",
    "print(df.loc[55,].tweet, '\\n')\n",
    "print('Example positive tweet:')\n",
    "print(df.loc[12456,].tweet, '\\n')"
   ]
  },
  {
   "cell_type": "markdown",
   "metadata": {
    "id": "WW9vhjy-O0ge"
   },
   "source": [
    "Looking at your data before starting to code will help you in the process for example when encountering errors, when the training does not improve, or when you simply want to understand your results in the end. Remember: a good DL model is only as good as the data we feed it with!"
   ]
  },
  {
   "cell_type": "markdown",
   "metadata": {
    "id": "kajOXwKjQR71"
   },
   "source": [
    "# 1. Preprocessing\n",
    "(2.5 Points - 0.5 for each subtask)<br>\n",
    "\n",
    "As in the last assignment, we need to transform our data before training our classifier on it. We are interested to do the following preprocessing steps:\n",
    "* Replace weird characters\n",
    "* Lowercase\n",
    "* Tokenize\n",
    "* Stemming & Lemmatize\n",
    "* Remove stopwords"
   ]
  },
  {
   "cell_type": "markdown",
   "metadata": {
    "id": "NEAMiSRUQR71"
   },
   "source": [
    "**Let's see how to pre-process these steps one by one. Below we constructed a simple test tweet.**"
   ]
  },
  {
   "cell_type": "code",
   "execution_count": 88,
   "metadata": {
    "id": "bd4I86AdQR72"
   },
   "outputs": [],
   "source": [
    "test_corpus = '''Curtain drops at the #Crown Uptown after 32 years http://www.kansas.com/news/featured/story/860875.html'''"
   ]
  },
  {
   "cell_type": "markdown",
   "metadata": {
    "id": "PLcnJGQQo8kj"
   },
   "source": [
    "<h1>Exercise 1.1</h1>\n",
    "Write a function `special_and_lower` that removes special characters and puts the text lowercase. If you wonder what a special character is, check [here](https://www.computerhope.com/jargon/s/specchar.htm)\n"
   ]
  },
  {
   "cell_type": "code",
   "execution_count": 89,
   "metadata": {
    "id": "__qLl57RQR74"
   },
   "outputs": [
    {
     "name": "stdout",
     "output_type": "stream",
     "text": [
      "curtain drops at the crown uptown after 32 years httpwwwkansascomnewsfeaturedstory860875html\n"
     ]
    }
   ],
   "source": [
    "# Your answer goes here\n",
    "def special_and_lower(test_corpus):\n",
    "    \"\"\"\n",
    "    Remove special characters and convert text to lowercase.\n",
    "    \"\"\"\n",
    "    # Remove special characters using regex\n",
    "    processed_text = re.sub(r'[^a-zA-Z0-9\\s]', '', test_corpus)\n",
    "\n",
    "    # Convert to lowercase\n",
    "    processed_text = processed_text.lower()\n",
    "\n",
    "    return processed_text\n",
    "\n",
    "\n",
    "test_corpus = special_and_lower(test_corpus)\n",
    "print(test_corpus)"
   ]
  },
  {
   "cell_type": "markdown",
   "metadata": {
    "id": "A7qx11yEpxg6"
   },
   "source": [
    "<h1>Exercise 1.2</h1>Write a function `tokenize_text` that creates a list of tokens from the input text. Use your own implementation here."
   ]
  },
  {
   "cell_type": "code",
   "execution_count": 90,
   "metadata": {
    "id": "wEXzzABQQR78"
   },
   "outputs": [
    {
     "name": "stdout",
     "output_type": "stream",
     "text": [
      "['curtain', 'drops', 'at', 'the', 'crown', 'uptown', 'after', 'years']\n"
     ]
    }
   ],
   "source": [
    "# Your answer goes here\n",
    "def tokenize_text(test_corpus):\n",
    "    # Tokenize sentences using NLTK\n",
    "    sentences_strings_ted  = nltk.tokenize.sent_tokenize(test_corpus)\n",
    "\n",
    "    # Word Tokenization and Preprocessing\n",
    "    tokens = []  # List to store all tokens in the text\n",
    "\n",
    "    # Loop through each sentence\n",
    "    for sentence in sentences_strings_ted:\n",
    "        # Word Tokenization\n",
    "        words = nltk.tokenize.word_tokenize(sentence)\n",
    "\n",
    "        # Remove Non-Letter Characters and Lowercasing\n",
    "        words = [word.lower() for word in words if word.isalpha()]\n",
    "\n",
    "        # Extend the tokens list with the words in the current sentence\n",
    "        tokens.extend(words)\n",
    "\n",
    "    return tokens\n",
    "    \n",
    "test_corpus = tokenize_text(test_corpus)\n",
    "print(test_corpus)"
   ]
  },
  {
   "cell_type": "code",
   "execution_count": 91,
   "metadata": {},
   "outputs": [
    {
     "name": "stdout",
     "output_type": "stream",
     "text": [
      "['in', 'the', 'realm', 'of', 'artificial', 'intelligence', 'transformer', 'networks', 'a', 'groundbreaking', 'architecture', 'introduced', 'by', 'vaswani', 'et', 'al', 'in', 'their', 'seminal', 'paper', 'is', 'all', 'you', 'need', 'have', 'revolutionized', 'natural', 'language', 'processing', 'enabling', 'parallelized', 'and', 'efficient', 'learning', 'through', 'mechanisms', 'making', 'them', 'pivotal', 'in', 'various', 'applications', 'such', 'as', 'machine', 'translation', 'sentiment', 'analysis', 'and', 'text', 'generation', 'showcasing', 'the', 'power', 'of', 'computations', 'in', 'capturing', 'complex', 'contextual', 'relationships', 'within', 'vast', 'datasets']\n"
     ]
    }
   ],
   "source": [
    "txt = \"In the realm of artificial intelligence, transformer networks, a groundbreaking architecture introduced by Vaswani et al. in their seminal paper 'Attention is All You Need,' have revolutionized natural language processing, enabling parallelized and efficient learning through self-attention mechanisms, making them pivotal in various applications such as machine translation, sentiment analysis, and text generation, showcasing the power of attention-driven computations in capturing complex contextual relationships within vast datasets.\"\n",
    "print(tokenize_text(txt))"
   ]
  },
  {
   "cell_type": "markdown",
   "metadata": {
    "id": "0HX3sCwXp_D_"
   },
   "source": [
    "<h1>Exercise 1.3</h1>\n",
    "\n",
    "Using  **WordNetLemmatizer** , write a function `lemmatize_text` that lemmatizes the text. Lemmatization, which is the process of grouping inflected forms together as a single base form, is a text normalization that is used in pre-processing. Please lemmatize first nouns and then verbs. For more information regarding *WordNetLemmatizer*, please check [here](https://www.nltk.org/_modules/nltk/stem/wordnet.html):\n"
   ]
  },
  {
   "cell_type": "code",
   "execution_count": 116,
   "metadata": {
    "id": "yiNcDaSdQR7_"
   },
   "outputs": [
    {
     "name": "stdout",
     "output_type": "stream",
     "text": [
      "['curtain', 'drop', 'crown', 'uptown', 'years']\n"
     ]
    }
   ],
   "source": [
    "# Your answer goes here\n",
    "def lemmatize_text(test_corpus, lemmatizer):\n",
    "    #lemmatizer = WordNetLemmatizer()\n",
    "    lemmatized_words = []\n",
    "    for word in test_corpus:\n",
    "        lemmatized_words.append(lemmatizer.lemmatize(word, pos=wordnet.VERB))\n",
    "    return lemmatized_words\n",
    "\n",
    "test_corpus = lemmatize_text(test_corpus, WordNetLemmatizer())\n",
    "print(test_corpus)"
   ]
  },
  {
   "cell_type": "code",
   "execution_count": 93,
   "metadata": {},
   "outputs": [
    {
     "name": "stdout",
     "output_type": "stream",
     "text": [
      "['In', 'the', 'realm', 'of', 'artificial', 'intelligence', ',', 'transformer', 'network', ',', 'a', 'groundbreaking', 'architecture', 'introduce', 'by', 'Vaswani', 'et', 'al', '.', 'in', 'their', 'seminal', 'paper', \"'Attention\", 'be', 'All', 'You', 'Need', ',', \"'\", 'have', 'revolutionize', 'natural', 'language', 'process', ',', 'enable', 'parallelize', 'and', 'efficient', 'learn', 'through', 'self-attention', 'mechanisms', ',', 'make', 'them', 'pivotal', 'in', 'various', 'applications', 'such', 'as', 'machine', 'translation', ',', 'sentiment', 'analysis', ',', 'and', 'text', 'generation', ',', 'showcasing', 'the', 'power', 'of', 'attention-driven', 'computations', 'in', 'capture', 'complex', 'contextual', 'relationships', 'within', 'vast', 'datasets', '.']\n"
     ]
    }
   ],
   "source": [
    "txt = nltk.tokenize.word_tokenize(\"In the realm of artificial intelligence, transformer networks, a groundbreaking architecture introduced by Vaswani et al. in their seminal paper 'Attention is All You Need,' have revolutionized natural language processing, enabling parallelized and efficient learning through self-attention mechanisms, making them pivotal in various applications such as machine translation, sentiment analysis, and text generation, showcasing the power of attention-driven computations in capturing complex contextual relationships within vast datasets.\")\n",
    "print(lemmatize_text(txt))"
   ]
  },
  {
   "cell_type": "markdown",
   "metadata": {
    "id": "goU2DbZoqSm-"
   },
   "source": [
    "<h1>Exercise 1.4 </h1>Write a function `replace_numbers` that replaces any standalone number with the special token \" < NUM > \" (without the spaces). For instance, \"42\" must be replaced by the token but \"42h\" not.\n"
   ]
  },
  {
   "cell_type": "code",
   "execution_count": 94,
   "metadata": {
    "id": "--w6TAk1QR8E"
   },
   "outputs": [
    {
     "name": "stdout",
     "output_type": "stream",
     "text": [
      "['curtain', 'drop', 'at', 'the', 'crown', 'uptown', 'after', 'years']\n"
     ]
    }
   ],
   "source": [
    "# Your answer goes here\n",
    "def replace_numbers(test_corpus):\n",
    "    attern = re.compile(r'\\b\\d+\\b')\n",
    "    processed_text = []\n",
    "    for word in test_corpus:\n",
    "        processed_text.append(pattern.sub('<NUM>', word))\n",
    "    \n",
    "    return processed_text\n",
    "    \n",
    "test_corpus = replace_numbers(test_corpus)\n",
    "print(test_corpus)\n"
   ]
  },
  {
   "cell_type": "code",
   "execution_count": 95,
   "metadata": {},
   "outputs": [
    {
     "name": "stdout",
     "output_type": "stream",
     "text": [
      "In the realm of <NUM> artificial intelligence, transformer networks, a groundbreaking architecture introduced by Vaswani et al. in their seminal paper 'Attention is All You Need,' have revolutionized natural language processing, enabling parallelized and efficient learning through self-attention mechanisms, making them pivotal in various applications such as machine translation, sentiment analysis, and text generation, showcasing the power of attention-driven computations in capturing complex contextual relationships within vast datasets.\n"
     ]
    }
   ],
   "source": [
    "pattern = re.compile(r'\\b\\d+\\b')\n",
    "processed_text = pattern.sub('<NUM>', \"In the realm of 54 artificial intelligence, transformer networks, a groundbreaking architecture introduced by Vaswani et al. in their seminal paper 'Attention is All You Need,' have revolutionized natural language processing, enabling parallelized and efficient learning through self-attention mechanisms, making them pivotal in various applications such as machine translation, sentiment analysis, and text generation, showcasing the power of attention-driven computations in capturing complex contextual relationships within vast datasets.\")\n",
    "print(processed_text)"
   ]
  },
  {
   "cell_type": "markdown",
   "metadata": {
    "id": "ucsZrwA0rdIO"
   },
   "source": [
    "<h1>Exercise 1.5</h1>We want to remove redundant words that are very common in all the texts (like \"a\" or \"to\"). As you learned previously, these words are called stopwords and do not contain any meaning, that is relevant for our task.\n",
    "Write a function \"remove_stopwords\" that removes stopwords using the stopwords imported from NLTK (check on top)."
   ]
  },
  {
   "cell_type": "code",
   "execution_count": 114,
   "metadata": {
    "id": "h7PBL2lIQR8I"
   },
   "outputs": [
    {
     "name": "stdout",
     "output_type": "stream",
     "text": [
      "['curtain', 'drop', 'crown', 'uptown', 'years']\n"
     ]
    }
   ],
   "source": [
    "# Your answer goes here\n",
    "def remove_stopwords(test_corpus, stop_words):\n",
    "    # Create a set of English stopwords\n",
    "    #stop_words = set(stopwords.words('english'))\n",
    "\n",
    "    # Filter out stopwords from the list of tokens\n",
    "    filtered_sentence = [word for word in test_corpus if not word in stop_words]\n",
    "    return filtered_sentence\n",
    "    \n",
    "test_corpus = remove_stopwords(test_corpus, set(stopwords.words('english')))\n",
    "print(test_corpus)"
   ]
  },
  {
   "cell_type": "markdown",
   "metadata": {
    "id": "uXzZMB5BPoAw"
   },
   "source": [
    "# 2. Building a Vocabulary\n",
    "\n",
    "Next we want to create some sort of represention for our tokens. As you encountered in the lecture, one way of doing this is by representing words by unique values and store them in a vocabulary. You will learn later why such a representation (or embedding) is not very efficient for larger text corpora. For the task at hand it is sufficient however."
   ]
  },
  {
   "cell_type": "markdown",
   "metadata": {
    "id": "091YxPUFruN0"
   },
   "source": [
    "<h1>Exercise 2.1</h1> (2 Points)<br> Define the function `build_vocab` which receives as input `clean_tokens` and returns `vocab`, which is a python dictionary with words as keys and unique integer indices as values.\n",
    "\n"
   ]
  },
  {
   "cell_type": "code",
   "execution_count": 97,
   "metadata": {
    "id": "9t4Mc4pxQR8P"
   },
   "outputs": [
    {
     "name": "stdout",
     "output_type": "stream",
     "text": [
      "{'curtain': 1, 'drop': 1, 'crown': 1, 'uptown': 1, 'years': 1}\n"
     ]
    }
   ],
   "source": [
    "def build_vocab(clean_tokens):\n",
    "    vocab = {}\n",
    "    for word in clean_tokens:\n",
    "        if word not in vocab:\n",
    "            vocab[word] = 0\n",
    "        vocab[word] = vocab[word] + 1\n",
    "    return vocab\n",
    "\n",
    "#print(build_vocab([test_corpus]))\n",
    "print(build_vocab(test_corpus))"
   ]
  },
  {
   "cell_type": "markdown",
   "metadata": {
    "id": "Vy2zLY1CsqeT"
   },
   "source": [
    "<h1>Exercise 2.2 </h1>(2 Points)<br> Define the function `build_index2token` which receives as input `vocab` (the output of the previously defined function `build_vocab`) and returns `index2token`, which is a python dictionary with unique integer indices as keys and  words as values. Make sure that the indices assigned to the words are exactly the same as in `vocab`.\n"
   ]
  },
  {
   "cell_type": "code",
   "execution_count": 111,
   "metadata": {
    "id": "rQw7-4YFQR8S"
   },
   "outputs": [
    {
     "name": "stdout",
     "output_type": "stream",
     "text": [
      "{1: 'years'}\n"
     ]
    }
   ],
   "source": [
    "def build_index2token(vocab):\n",
    "    index2token = {}\n",
    "    for key, value in vocab.items():\n",
    "        index2token[value] = key\n",
    "    return index2token\n",
    "\n",
    "#print(build_index2token(build_vocab([test_corpus])))\n",
    "print(build_index2token(build_vocab(test_corpus)))"
   ]
  },
  {
   "cell_type": "markdown",
   "metadata": {
    "id": "jCw9LKDKQR8W"
   },
   "source": [
    "**Let's package the pre-processing steps together into one function to later apply it to our dataset.**<br>\n",
    "(1 Point)\n",
    "\n"
   ]
  },
  {
   "cell_type": "code",
   "execution_count": 118,
   "metadata": {
    "id": "GHCoa8R_QR8W"
   },
   "outputs": [],
   "source": [
    "def tokenize(text, stop_words, lemmatizer):\n",
    "\n",
    "    # Complete this function by sending the data (text) through each of the functions you built above (special_and_lower, tokenize_text, replace_numbers, remove_stopwords, lemmatize text).\n",
    "    # Think carefully about a sensible order!\n",
    "    processed_text = special_and_lower(text)\n",
    "    tokens = tokenize_text(processed_text)\n",
    "    tokens = replace_numbers(tokens)\n",
    "    tokens = remove_stopwords(tokens, stop_words)\n",
    "    tokens = lemmatize_text(tokens, lemmatizer)\n",
    "    return tokens\n",
    "\n",
    "def build_bow_vector(sequence, idx2token):\n",
    "    vector = [0] * len(idx2token)\n",
    "    for token_idx in sequence:\n",
    "        if token_idx not in idx2token:\n",
    "            raise ValueError('Wrong sequence index found!')\n",
    "        else:\n",
    "            vector[token_idx] += 1\n",
    "    return vector"
   ]
  },
  {
   "cell_type": "markdown",
   "metadata": {
    "id": "lRH1n4NLP1zt"
   },
   "source": [
    "# 3. Splitting and transforming the Dataset"
   ]
  },
  {
   "cell_type": "markdown",
   "metadata": {
    "id": "Vrtj7ZIEyI2Q"
   },
   "source": [
    "<h1>Exercise 3.1</h1>\n",
    "(3 points)"
   ]
  },
  {
   "cell_type": "markdown",
   "metadata": {
    "id": "2h8bZrGZ5AAq"
   },
   "source": [
    "In this part, we will build a class to assign our data to. It helps us to easier access different parts of our dataset. But before doing so, we want you to do something else. Go to the `TwitterDataset` class and implement a function that assigns to the variable `common_tokens` the `n` most frequent/used words accross all tokens. `n` in this case is denoted as `max_vocab`.<br>\n",
    "\n",
    "Make sure to use a function that compresses the output to a set of unique words, ie. disregard dublicates. If you're done with that, come back up here!"
   ]
  },
  {
   "cell_type": "markdown",
   "metadata": {
    "id": "ImymqbaNSlaw"
   },
   "source": [
    "Next, we want you to implement a function `remove_rare_words` that will be called in the `TwitterDataset` class to remove rare words from each sequence of tokens in our dataset. As you can see, the function takes two arguments: a list of tokens, and a set of common_tokens (which is the variable you just filled in the previous task)."
   ]
  },
  {
   "cell_type": "markdown",
   "metadata": {
    "id": "Ar3preW3YHkV"
   },
   "source": [
    "(1 point)"
   ]
  },
  {
   "cell_type": "code",
   "execution_count": 101,
   "metadata": {
    "id": "EAplm-XXSk3L"
   },
   "outputs": [],
   "source": [
    "def remove_rare_words(tokens, common_tokens):\n",
    "\n",
    "    ''' input: list = tokens, set = common_tokens\n",
    "    output: a list with only those tokens that can also be found among the most common tokens. all rare words are to be replaced with '<UNK>' '''\n",
    "    # Your answer goes here\n",
    "\n",
    "    return tokens"
   ]
  },
  {
   "cell_type": "markdown",
   "metadata": {
    "id": "KnXv8sfrgLzS"
   },
   "source": [
    "Now we would like you to implement a function called `common_tokens`, that is called inside the class `TwitterDataset` and takes `all_tokens` to then return a set of most common words. The length of the set should be limited by the parameter `max_vocab`."
   ]
  },
  {
   "cell_type": "code",
   "execution_count": 102,
   "metadata": {
    "id": "YkzHMUzngMIv"
   },
   "outputs": [],
   "source": [
    "def common_tokens (all_tokens, max_vocab):\n",
    "\n",
    "  return common_tokens"
   ]
  },
  {
   "cell_type": "markdown",
   "metadata": {
    "id": "K0BCq67QYLs0"
   },
   "source": [
    "(1 point)"
   ]
  },
  {
   "cell_type": "code",
   "execution_count": 103,
   "metadata": {
    "id": "cRpfCXB5QR8Y"
   },
   "outputs": [],
   "source": [
    "class TwitterDataset(Dataset):\n",
    "    def __init__(self, data_path, max_vocab=5000):\n",
    "        df = pd.read_csv(data_path)\n",
    "\n",
    "        # Clean and tokenize\n",
    "        stop_words = set(stopwords.words('english'))\n",
    "        lemmatizer = WordNetLemmatizer()\n",
    "        df['tokens'] = df.tweet.apply(\n",
    "            partial(\n",
    "                tokenize,\n",
    "                stop_words=stop_words,\n",
    "                lemmatizer=lemmatizer,\n",
    "            ),\n",
    "        )\n",
    "\n",
    "        all_tokens = [token for doc in list(df.tokens) for token in doc]\n",
    "\n",
    "        # This is where your function will be called\n",
    "        common_tokens = common_tokens(all_tokens, max_vocab)\n",
    "\n",
    "        # Replace rare words with <UNK>\n",
    "        df.loc[:, 'tokens'] = df.tokens.progress_apply(\n",
    "            partial(\n",
    "                remove_rare_words,\n",
    "                common_tokens=common_tokens\n",
    "            ),\n",
    "        )\n",
    "\n",
    "        # Replace numbers with <NUM>\n",
    "        df.loc[:, 'tokens'] = df.tokens.progress_apply(replace_numbers)\n",
    "\n",
    "        # Remove sequences with only <UNK>\n",
    "        df = df[df.tokens.progress_apply(\n",
    "            lambda tokens: any(token != '<UNK>' for token in tokens),\n",
    "        )]\n",
    "\n",
    "        # Build vocab\n",
    "        self.token2idx = build_vocab(list(df.tokens))\n",
    "        self.idx2token = build_index2token(self.token2idx)\n",
    "\n",
    "\n",
    "        # Convert tokens to indexes\n",
    "        df['indexed_tokens'] = df.tokens.progress_apply(\n",
    "            lambda doc: [self.token2idx[token] for token in doc],\n",
    "        )\n",
    "\n",
    "        # Build BoW vector\n",
    "        df['bow_vector'] = df.indexed_tokens.progress_apply(\n",
    "            build_bow_vector, args=(self.idx2token,)\n",
    "        )\n",
    "\n",
    "        self.text = df.tweet.tolist()\n",
    "        self.sequences = df.indexed_tokens.tolist()\n",
    "        self.bow_vector = df.bow_vector.tolist()\n",
    "        self.targets = df.label.tolist()\n",
    "\n",
    "    def __getitem__(self, i):\n",
    "        return (\n",
    "            self.sequences[i],\n",
    "            self.bow_vector[i],\n",
    "            self.targets[i],\n",
    "            self.text[i],\n",
    "        )\n",
    "\n",
    "    def __len__(self):\n",
    "        return len(self.targets)"
   ]
  },
  {
   "cell_type": "markdown",
   "metadata": {
    "id": "g97gYaZaYB_w"
   },
   "source": [
    "**Question**: Why might removing rare words not be a good idea? Why or when could rare words be valuable?\n",
    "\n",
    "(1 point)"
   ]
  },
  {
   "cell_type": "markdown",
   "metadata": {
    "id": "zLywxHsLYhAf"
   },
   "source": [
    "**Your answer goes here:**"
   ]
  },
  {
   "cell_type": "markdown",
   "metadata": {
    "id": "8ufiOM7iY1W2"
   },
   "source": [
    "Finally, we can instantiate our dataset."
   ]
  },
  {
   "cell_type": "code",
   "execution_count": 104,
   "metadata": {
    "id": "bYb2RZSI_F8A"
   },
   "outputs": [],
   "source": [
    "MAX_VOCAB = \"500\" #@param [1000, 5000, 10000, 100000] {allow-input: true}\n",
    "\n",
    "MAX_VOCAB = int(MAX_VOCAB)"
   ]
  },
  {
   "cell_type": "code",
   "execution_count": 105,
   "metadata": {
    "id": "K31nmR1KQR8a"
   },
   "outputs": [
    {
     "ename": "NameError",
     "evalue": "name 'tokens' is not defined",
     "output_type": "error",
     "traceback": [
      "\u001b[1;31m---------------------------------------------------------------------------\u001b[0m",
      "\u001b[1;31mNameError\u001b[0m                                 Traceback (most recent call last)",
      "\u001b[1;32m<ipython-input-105-913f7eefd242>\u001b[0m in \u001b[0;36m<module>\u001b[1;34m\u001b[0m\n\u001b[0;32m      1\u001b[0m \u001b[1;31m# This will load for a while: Grab a coffee\u001b[0m\u001b[1;33m\u001b[0m\u001b[1;33m\u001b[0m\u001b[1;33m\u001b[0m\u001b[0m\n\u001b[1;32m----> 2\u001b[1;33m \u001b[0mdataset\u001b[0m \u001b[1;33m=\u001b[0m \u001b[0mTwitterDataset\u001b[0m\u001b[1;33m(\u001b[0m\u001b[0mDATA_PATH\u001b[0m\u001b[1;33m,\u001b[0m \u001b[0mmax_vocab\u001b[0m\u001b[1;33m=\u001b[0m\u001b[0mMAX_VOCAB\u001b[0m\u001b[1;33m)\u001b[0m\u001b[1;33m\u001b[0m\u001b[1;33m\u001b[0m\u001b[0m\n\u001b[0m",
      "\u001b[1;32m<ipython-input-103-382a7e84f199>\u001b[0m in \u001b[0;36m__init__\u001b[1;34m(self, data_path, max_vocab)\u001b[0m\n\u001b[0;32m     10\u001b[0m                 \u001b[0mtokenize\u001b[0m\u001b[1;33m,\u001b[0m\u001b[1;33m\u001b[0m\u001b[1;33m\u001b[0m\u001b[0m\n\u001b[0;32m     11\u001b[0m                 \u001b[0mstop_words\u001b[0m\u001b[1;33m=\u001b[0m\u001b[0mstop_words\u001b[0m\u001b[1;33m,\u001b[0m\u001b[1;33m\u001b[0m\u001b[1;33m\u001b[0m\u001b[0m\n\u001b[1;32m---> 12\u001b[1;33m                 \u001b[0mlemmatizer\u001b[0m\u001b[1;33m=\u001b[0m\u001b[0mlemmatizer\u001b[0m\u001b[1;33m,\u001b[0m\u001b[1;33m\u001b[0m\u001b[1;33m\u001b[0m\u001b[0m\n\u001b[0m\u001b[0;32m     13\u001b[0m             ),\n\u001b[0;32m     14\u001b[0m         )\n",
      "\u001b[1;32m~\\anaconda3\\lib\\site-packages\\pandas\\core\\series.py\u001b[0m in \u001b[0;36mapply\u001b[1;34m(self, func, convert_dtype, args, **kwds)\u001b[0m\n\u001b[0;32m   3846\u001b[0m             \u001b[1;32melse\u001b[0m\u001b[1;33m:\u001b[0m\u001b[1;33m\u001b[0m\u001b[1;33m\u001b[0m\u001b[0m\n\u001b[0;32m   3847\u001b[0m                 \u001b[0mvalues\u001b[0m \u001b[1;33m=\u001b[0m \u001b[0mself\u001b[0m\u001b[1;33m.\u001b[0m\u001b[0mastype\u001b[0m\u001b[1;33m(\u001b[0m\u001b[0mobject\u001b[0m\u001b[1;33m)\u001b[0m\u001b[1;33m.\u001b[0m\u001b[0mvalues\u001b[0m\u001b[1;33m\u001b[0m\u001b[1;33m\u001b[0m\u001b[0m\n\u001b[1;32m-> 3848\u001b[1;33m                 \u001b[0mmapped\u001b[0m \u001b[1;33m=\u001b[0m \u001b[0mlib\u001b[0m\u001b[1;33m.\u001b[0m\u001b[0mmap_infer\u001b[0m\u001b[1;33m(\u001b[0m\u001b[0mvalues\u001b[0m\u001b[1;33m,\u001b[0m \u001b[0mf\u001b[0m\u001b[1;33m,\u001b[0m \u001b[0mconvert\u001b[0m\u001b[1;33m=\u001b[0m\u001b[0mconvert_dtype\u001b[0m\u001b[1;33m)\u001b[0m\u001b[1;33m\u001b[0m\u001b[1;33m\u001b[0m\u001b[0m\n\u001b[0m\u001b[0;32m   3849\u001b[0m \u001b[1;33m\u001b[0m\u001b[0m\n\u001b[0;32m   3850\u001b[0m         \u001b[1;32mif\u001b[0m \u001b[0mlen\u001b[0m\u001b[1;33m(\u001b[0m\u001b[0mmapped\u001b[0m\u001b[1;33m)\u001b[0m \u001b[1;32mand\u001b[0m \u001b[0misinstance\u001b[0m\u001b[1;33m(\u001b[0m\u001b[0mmapped\u001b[0m\u001b[1;33m[\u001b[0m\u001b[1;36m0\u001b[0m\u001b[1;33m]\u001b[0m\u001b[1;33m,\u001b[0m \u001b[0mSeries\u001b[0m\u001b[1;33m)\u001b[0m\u001b[1;33m:\u001b[0m\u001b[1;33m\u001b[0m\u001b[1;33m\u001b[0m\u001b[0m\n",
      "\u001b[1;32mpandas\\_libs\\lib.pyx\u001b[0m in \u001b[0;36mpandas._libs.lib.map_infer\u001b[1;34m()\u001b[0m\n",
      "\u001b[1;32m<ipython-input-100-908376425e5f>\u001b[0m in \u001b[0;36mtokenize\u001b[1;34m(text, stop_words, lemmatizer)\u001b[0m\n\u001b[0;32m      4\u001b[0m     \u001b[1;31m# Think carefully about a sensible order!\u001b[0m\u001b[1;33m\u001b[0m\u001b[1;33m\u001b[0m\u001b[1;33m\u001b[0m\u001b[0m\n\u001b[0;32m      5\u001b[0m \u001b[1;33m\u001b[0m\u001b[0m\n\u001b[1;32m----> 6\u001b[1;33m     \u001b[1;32mreturn\u001b[0m \u001b[0mtokens\u001b[0m\u001b[1;33m\u001b[0m\u001b[1;33m\u001b[0m\u001b[0m\n\u001b[0m\u001b[0;32m      7\u001b[0m \u001b[1;33m\u001b[0m\u001b[0m\n\u001b[0;32m      8\u001b[0m \u001b[1;32mdef\u001b[0m \u001b[0mbuild_bow_vector\u001b[0m\u001b[1;33m(\u001b[0m\u001b[0msequence\u001b[0m\u001b[1;33m,\u001b[0m \u001b[0midx2token\u001b[0m\u001b[1;33m)\u001b[0m\u001b[1;33m:\u001b[0m\u001b[1;33m\u001b[0m\u001b[1;33m\u001b[0m\u001b[0m\n",
      "\u001b[1;31mNameError\u001b[0m: name 'tokens' is not defined"
     ]
    }
   ],
   "source": [
    "# This will load for a while: Grab a coffee\n",
    "dataset = TwitterDataset(DATA_PATH, max_vocab=MAX_VOCAB)"
   ]
  },
  {
   "cell_type": "markdown",
   "metadata": {
    "id": "ZgCt9GdyQR8d"
   },
   "source": [
    "Again, we can check a random sample out of the dataset."
   ]
  },
  {
   "cell_type": "code",
   "execution_count": null,
   "metadata": {
    "id": "V57qJlwuQR8e"
   },
   "outputs": [],
   "source": [
    "print('Number of records:', len(dataset), '\\n')\n",
    "\n",
    "import random\n",
    "random_idx = random.randint(0,len(dataset)-1)\n",
    "print('index:', random_idx, '\\n')\n",
    "sample_seq, bow_vector, sample_target, sample_text = dataset[random_idx]\n",
    "print(sample_text, '\\n')\n",
    "print(sample_seq, '\\n')\n",
    "print('BoW vector size:', len(bow_vector), '\\n')\n",
    "print('label:', sample_target, '\\n')"
   ]
  },
  {
   "cell_type": "markdown",
   "metadata": {
    "id": "3ScUh32jQR8g"
   },
   "source": [
    "<h1>Exercise 3.2</h1> (2 Points)<br> Split into training, validation, and test sets.\n",
    "\n",
    "Since we only have a certain ammount of Data to train, validate and test our model on, we need to split our Dataset into 3 Parts:\n",
    "\n",
    "- **Training**: data the model learns from (80%)\n",
    "- **Validation**: data to evaluate with for hyperparameter tuning (make sure the model doesn't overfit!) (10%)\n",
    "- **Testing**: data to evaluate the final performance of the model (10%)\n",
    "\n",
    "Given the ratios for validation and testing, it is your task to complete the `function split_train_valid_test` and calculate the three split lenghts, which are then used as argument in the `random_split` function we have imported at the top of this notebook."
   ]
  },
  {
   "cell_type": "code",
   "execution_count": null,
   "metadata": {
    "id": "n06g-zwTQR8g"
   },
   "outputs": [],
   "source": [
    "# Please complete this\n",
    "def split_train_valid_test():\n",
    "    \"\"\"Split dataset into train, validation, and test.\"\"\"\n",
    "\n",
    "    return random_split()"
   ]
  },
  {
   "cell_type": "code",
   "execution_count": null,
   "metadata": {
    "id": "qRIrAPkmQR8i"
   },
   "outputs": [],
   "source": [
    "# Now we apply the function above:\n",
    "train_dataset, valid_dataset, test_dataset = split_train_valid_test(\n",
    "    dataset, valid_ratio=0.05, test_ratio=0.05)\n",
    "len(train_dataset), len(valid_dataset), len(test_dataset)"
   ]
  },
  {
   "cell_type": "markdown",
   "metadata": {
    "id": "VdbeQ4l05SXQ"
   },
   "source": [
    "Next up: **Batching**. Since our classifier can only work on a certain amount of data at a time and we dont have endless amounts of RAM available, we will use batching to split our dataset into mouth-sized bites."
   ]
  },
  {
   "cell_type": "code",
   "execution_count": null,
   "metadata": {
    "id": "Z1iPjOIOQR8l"
   },
   "outputs": [],
   "source": [
    "BATCH_SIZE = 528\n",
    "\n",
    "def collate(batch):\n",
    "    seq = [item[0] for item in batch]\n",
    "    bow = [item[1] for item in batch]\n",
    "    target = torch.LongTensor([item[2] for item in batch])\n",
    "    text = [item[3] for item in batch]\n",
    "    return seq, bow, target, text\n",
    "\n",
    "train_loader = DataLoader(train_dataset, batch_size=BATCH_SIZE, collate_fn=collate)\n",
    "valid_loader = DataLoader(valid_dataset, batch_size=BATCH_SIZE, collate_fn=collate)\n",
    "test_loader = DataLoader(test_dataset, batch_size=BATCH_SIZE, collate_fn=collate)"
   ]
  },
  {
   "cell_type": "markdown",
   "metadata": {
    "id": "gg5oSR-U5XfW"
   },
   "source": [
    "After splitting our data it now looks like this:"
   ]
  },
  {
   "cell_type": "code",
   "execution_count": null,
   "metadata": {
    "id": "3LNYX9TOQR8n"
   },
   "outputs": [],
   "source": [
    "print('number of training batches:', len(train_loader), '\\n')\n",
    "batch_idx = random.randint(0, len(train_loader)-1)\n",
    "example_idx = random.randint(0, BATCH_SIZE-1)\n",
    "\n",
    "for i, fields in enumerate(train_loader):\n",
    "    seq, bow, target, text = fields\n",
    "    if i == batch_idx:\n",
    "        print('Training input sequence:', seq[example_idx], '\\n')\n",
    "        print('BoW vector size:', len(bow[example_idx]), '\\n')\n",
    "        print('Label: ', target[example_idx], '\\n')\n",
    "        print('Review text:', text[example_idx], '\\n')\n"
   ]
  },
  {
   "cell_type": "markdown",
   "metadata": {
    "id": "dRziGFdtQR8p"
   },
   "source": [
    "# 4. BoW Model\n",
    "\n",
    "So, now to the fun part. In the following, we are going to construct our classifier to the actual job of predicting positive or negative tweets. Ever step will take you through a different phase of building our model."
   ]
  },
  {
   "cell_type": "markdown",
   "metadata": {
    "id": "1aZ_jCUBGll4"
   },
   "source": [
    "### Building the BoW Model\n",
    "\n",
    "![BOW](https://github.com/scoutbeedev/pytorch-nlp-notebooks/blob/master/images/bow_representation.png?raw=1)\n",
    "\n",
    "In the cell below 4.1 we implemented a BoW-Model with the following specifics:\n",
    "- Input: BoW Vector\n",
    "- Model:\n",
    "    - feed-forward fully connected network\n",
    "    - 2 hidden layers\n",
    "- Output:\n",
    "    - vector size of 2 (2 possible outcome: positive v.s. negative)\n",
    "    - probability of input document classified as the label"
   ]
  },
  {
   "cell_type": "markdown",
   "metadata": {
    "id": "GreaW-FG80cU"
   },
   "source": [
    "<h1>Exercise 4.1 </h1> (2 Points)<br> Substitute the three non-linear functions which are currently of type `relu` with any other type you like. You may want to experiment with several types and then leave you favourite in the final solution. Check [here](https://pytorch.org/docs/stable/nn.html#non-linear-activations-weighted-sum-nonlinearity) for the available non-linear functions in Pytorch."
   ]
  },
  {
   "cell_type": "code",
   "execution_count": null,
   "metadata": {
    "id": "-eKgEFZOQR8s"
   },
   "outputs": [],
   "source": [
    "class FeedfowardTextClassifier(nn.Module):\n",
    "    def __init__(self, device, vocab_size, hidden1, hidden2, hidden3, num_labels, batch_size):\n",
    "        super(FeedfowardTextClassifier, self).__init__()\n",
    "        self.device = device\n",
    "        self.batch_size = batch_size\n",
    "        # Here we instantiate the different layers of our network\n",
    "        self.fc1 = nn.Linear(vocab_size, hidden1)\n",
    "        self.fc2 = # Complete this code line\n",
    "        self.fc3 = # Complete this code line\n",
    "        self.fc4 = nn.Linear(hidden3, num_labels)\n",
    "\n",
    "    def forward(self, x):\n",
    "        batch_size = len(x)\n",
    "        if batch_size != self.batch_size:\n",
    "            self.batch_size = batch_size\n",
    "\n",
    "        # Here we feed our data through our neural network\n",
    "        # Please send them through each layer one my one.\n",
    "        x = torch.FloatTensor(x)\n",
    "        x =  # Your Changes go here\n",
    "        x =  # Your Changes go here\n",
    "        x =  # Your Changes go here\n",
    "        x =  # Your Changes go here\n",
    "        return x"
   ]
  },
  {
   "cell_type": "markdown",
   "metadata": {
    "id": "ZU0R7y2j9rOF"
   },
   "source": [
    "<h1>Exercise 4.2</h1>\n",
    "(not scored)<br> Play with HIDDEN1 and HIDDEN2 parameters. Try to find which parameter configuration leads to better classification performance. The number below influences the amount of Neurons per Layer."
   ]
  },
  {
   "cell_type": "code",
   "execution_count": null,
   "metadata": {
    "id": "EgoFy6Z3K5vC"
   },
   "outputs": [],
   "source": [
    "# Define hidden layer size\n",
    "HIDDEN1 = \"175\" #@param [10, 30, 50, 100, 200, 500] {allow-input: true}\n",
    "HIDDEN2 = \"500\" #@param [10, 30, 50, 100, 200, 500] {allow-input: true}\n",
    "HIDDEN3 = \"500\" #@param [10, 30, 50, 100, 200, 500] {allow-input: true}\n",
    "\n",
    "LEARNING_RATE = \"0.1\" #@param [0.1, 0.001, 0.0001, 0.00001, 0.000001, 0.00000001] {allow-input: true}\n",
    "criterion = nn.CrossEntropyLoss() # try out different loss functions here. read the documenation for more.\n",
    "\n",
    "HIDDEN1 = int(HIDDEN1)\n",
    "HIDDEN2 = int(HIDDEN2)\n",
    "HIDDEN3 = int(HIDDEN3)\n",
    "LEARNING_RATE = float(LEARNING_RATE)"
   ]
  },
  {
   "cell_type": "markdown",
   "metadata": {
    "id": "oJHJnPnJLUfo"
   },
   "source": [
    "<h1>Exercise 4.3</h1> (2 Points) <br> Add an extra hidden layer to the network, with a size of your choice. You can do it by modifying the cell below and of course adjusting the Class definition of `FeedfowardTextClassifier` such that it accepts one more layer when initialized."
   ]
  },
  {
   "cell_type": "code",
   "execution_count": null,
   "metadata": {
    "id": "M0Q9ze4EQR8t"
   },
   "outputs": [],
   "source": [
    "# Initializing the model.\n",
    "bow_model = FeedfowardTextClassifier(\n",
    "    vocab_size=len(dataset.token2idx),\n",
    "    hidden1=HIDDEN1,\n",
    "    hidden2=HIDDEN2,\n",
    "    hidden3 = HIDDEN3,\n",
    "    num_labels=2,\n",
    "    device=device,\n",
    "    batch_size=BATCH_SIZE,\n",
    ")\n",
    "\n",
    "bow_model"
   ]
  },
  {
   "cell_type": "code",
   "execution_count": null,
   "metadata": {
    "id": "a3PifawkQR8w"
   },
   "outputs": [],
   "source": [
    "for param in bow_model.parameters():\n",
    "    print(param.size())"
   ]
  },
  {
   "cell_type": "markdown",
   "metadata": {
    "id": "F9AG4SosQR80"
   },
   "source": [
    "### Training the BoW Model\n",
    "\n",
    "Theoretically, our model now looks like this. You have seen these mathematical formulas in the lecture and the tutorial.\n",
    "\n",
    "\n",
    "Layer 1 affine: $$x_1 = W_1 X + b_1$$\n",
    "Layer 1 activation: $$h_1 = Relu(x_1)$$\n",
    "Layer 2 affine: $$x_2 = W_2 h_1 + b_2$$\n",
    "output: $$p = softmax(x_2)$$\n",
    "Loss: $$L = −(ylog(p)+(1−y)log(1−p))$$\n",
    "Gradient:\n",
    "$$\\frac{\\partial }{\\partial W_1}L(W_1, b_1, W_2, b_2) = \\frac{\\partial L}{\\partial p}\\frac{\\partial p}{\\partial x_2}\\frac{\\partial x_2}{\\partial h_1}\\frac{\\partial h_1}{\\partial x_1}\\frac{\\partial x_1}{\\partial W_1}$$\n",
    "\n",
    "Parameter update:\n",
    "$$W_1 = W_1 - \\alpha \\frac{\\partial L}{\\partial W_1}$$"
   ]
  },
  {
   "cell_type": "markdown",
   "metadata": {
    "id": "3utDgyY2G2vK"
   },
   "source": [
    "**Define a loss function, a gradient descent optimizer, and a scheduler.**\n",
    "\n",
    "- Criterion: compute *Loss* to see how much the prediction does differ from truth\n",
    "- Optimizer: different ways of updating the weight parameters. It can affect the speed of training and how easily the global minimum is reached.\n",
    "- Scheduler: dynamic alteration of the learning rate\n",
    "\n",
    "**Question**: When selecting optimizers, you can think about what problems we may run into when performing gradient desent? (hint: global minimum vs. local minimum) <br>\n",
    "(0.5 points)"
   ]
  },
  {
   "cell_type": "markdown",
   "metadata": {
    "id": "ZC6WD1lReyRY"
   },
   "source": [
    "**Your answer goes here:**"
   ]
  },
  {
   "cell_type": "code",
   "execution_count": null,
   "metadata": {
    "id": "H2emTYNqE4yC"
   },
   "outputs": [],
   "source": [
    "criterion = nn.CrossEntropyLoss()\n",
    "\n",
    "optimizer = optim.Adam(\n",
    "    filter(lambda p: p.requires_grad, bow_model.parameters()),\n",
    "    lr=LEARNING_RATE,\n",
    ")\n",
    "scheduler = CosineAnnealingLR(optimizer, 1)"
   ]
  },
  {
   "cell_type": "markdown",
   "metadata": {
    "id": "IpHbURwPH74N"
   },
   "source": [
    "**Define training round & validation round** <br>\n",
    "Nothing to do here, just run the cell."
   ]
  },
  {
   "cell_type": "code",
   "execution_count": null,
   "metadata": {
    "id": "ROAha1KQQR81"
   },
   "outputs": [],
   "source": [
    "def train_epoch(model, optimizer, train_loader, input_type='bow'):\n",
    "    model.train()\n",
    "    total_loss, total = 0, 0\n",
    "    for seq, bow, target, text in train_loader:\n",
    "        if input_type == 'bow':\n",
    "            inputs = bow\n",
    "\n",
    "        # Reset gradient\n",
    "        optimizer.zero_grad()\n",
    "\n",
    "        # Forward pass\n",
    "        output = model(inputs)\n",
    "\n",
    "        # Compute loss\n",
    "        loss = criterion(output, target)\n",
    "        # Perform gradient descent, backwards pass\n",
    "        loss.backward()\n",
    "\n",
    "        # Take a step in the right direction\n",
    "        optimizer.step()\n",
    "        scheduler.step()\n",
    "\n",
    "        # Record metrics\n",
    "        total_loss += loss.item()\n",
    "        total += len(target)\n",
    "\n",
    "    return total_loss / total\n",
    "\n",
    "\n",
    "def validate_epoch(model, valid_loader, input_type='bow'):\n",
    "    model.eval()\n",
    "    total_loss, total = 0, 0\n",
    "    with torch.no_grad():\n",
    "        for seq, bow, target, text in valid_loader:\n",
    "            if input_type == 'bow':\n",
    "                inputs = bow\n",
    "\n",
    "            # Forward pass\n",
    "            output = model(inputs)\n",
    "\n",
    "            # Calculate how wrong the model is\n",
    "            loss = criterion(output, target)\n",
    "\n",
    "            # Record metrics\n",
    "            total_loss += loss.item()\n",
    "            total += len(target)\n",
    "\n",
    "    return total_loss / total"
   ]
  },
  {
   "cell_type": "markdown",
   "metadata": {
    "id": "4JwqTT6bQR83"
   },
   "source": [
    "And after all the construction work, we can now finally **train our classifier!**"
   ]
  },
  {
   "cell_type": "code",
   "execution_count": null,
   "metadata": {
    "id": "k_DOlOHkQR83"
   },
   "outputs": [],
   "source": [
    "n_epochs = 0\n",
    "max_epochs =200\n",
    "train_losses, valid_losses = [], []\n",
    "while n_epochs <= max_epochs:\n",
    "    train_loss = train_epoch(bow_model, optimizer, train_loader, input_type='bow')\n",
    "    valid_loss = validate_epoch(bow_model, valid_loader, input_type='bow')\n",
    "\n",
    "    tqdm.write(\n",
    "        f'epoch #{n_epochs + 1:3d}\\ttrain_loss: {train_loss:.2e}\\tvalid_loss: {valid_loss:.2e}\\n',\n",
    "    )\n",
    "\n",
    "    # Early stopping if the current valid_loss is greater than the last three valid losses\n",
    "    if len(valid_losses) > 2 and all(valid_loss >= loss for loss in valid_losses[-3:]):\n",
    "        print('Stopping early')\n",
    "        break\n",
    "\n",
    "    train_losses.append(train_loss)\n",
    "    valid_losses.append(valid_loss)\n",
    "\n",
    "    n_epochs += 1"
   ]
  },
  {
   "cell_type": "code",
   "execution_count": null,
   "metadata": {
    "id": "kmGeqkhPZ9cp"
   },
   "outputs": [],
   "source": [
    "# This plot will visualize the model's loss over the epochs it was trained for.\n",
    "epoch_ticks = range(1, n_epochs + 1)\n",
    "plt.plot(epoch_ticks, train_losses)\n",
    "plt.plot(epoch_ticks, valid_losses)\n",
    "plt.legend(['Train Loss', 'Valid Loss'])\n",
    "plt.title('Losses')\n",
    "plt.xlabel('Epoch #')\n",
    "plt.ylabel('Loss')\n",
    "plt.xticks(epoch_ticks)\n",
    "plt.show()"
   ]
  },
  {
   "cell_type": "markdown",
   "metadata": {
    "id": "f2V02KK6ZLQE"
   },
   "source": [
    "# 4.4. Understanding of the impact of layers and different parameters.\n",
    "\n",
    "  - In this section you will explore the impact of hidden layers, the number of neurons in each hidden layer, the learning rate and loss functions. We will produce the training and validation losses to compare the graphs of different combinations to build up a deeper understanding of how all these parameters can have an impact on the overall classification performance.\n",
    "\n",
    "  -  You are welcome to create your own number of hidden layers, experiment with it and observe the changes in the training and validation losses. In that case, don't forget to change the bow_model and FeedfowardTextClassifier class as well."
   ]
  },
  {
   "cell_type": "code",
   "execution_count": null,
   "metadata": {
    "id": "1Ted2SscZ_B0"
   },
   "outputs": [],
   "source": [
    "# This exercise will take some time. Have patience.\n",
    "\n",
    "HIDDEN_1 = [64, 128, 128] # change your parameters here\n",
    "HIDDEN_2 = [128, 128, 128] # change your parameters here\n",
    "HIDDEN_3 = [128, 512, 64] # change your parameters here\n",
    "\n",
    "LEARNING__RATE = [0.1, 0.01, 0.001] # change your parameters here\n",
    "max_epochs =[100,100,100] # change your parameters here, you can keep the epocs same to comare the results for different set of experiments.\n",
    "\n",
    "criterion = nn.CrossEntropyLoss() # try out different loss functions here. read documentaion for more\n",
    "\n",
    "combination = 3\n",
    "results = []\n",
    "\n",
    "for i in range(combination) :\n",
    "  print(f'training model for {i} combination of parameters.')\n",
    "\n",
    "  HIDDEN1 = HIDDEN_1[i]\n",
    "  HIDDEN2 = HIDDEN_2[i]\n",
    "  HIDDEN3 = HIDDEN_3[i]\n",
    "  LEARNING_RATE = LEARNING__RATE[i]\n",
    "\n",
    "# Store results for each run\n",
    "\n",
    "  # Initialize the model with current parameters\n",
    "  bow_model = FeedfowardTextClassifier(\n",
    "      vocab_size=len(dataset.token2idx),\n",
    "      hidden1=HIDDEN1,\n",
    "      hidden2=HIDDEN2,\n",
    "      hidden3 = HIDDEN3,\n",
    "      num_labels=2,\n",
    "      device=device,\n",
    "      batch_size=BATCH_SIZE,\n",
    "  )\n",
    "\n",
    "  # Convert learning_rate to float\n",
    "  learning_rate = float(LEARNING_RATE)\n",
    "\n",
    "  optimizer = optim.Adam(\n",
    "      filter(lambda p: p.requires_grad, bow_model.parameters()),\n",
    "      lr=learning_rate,\n",
    "  )\n",
    "  scheduler = CosineAnnealingLR(optimizer, 1)\n",
    "  def train_epoch(model, optimizer, train_loader, input_type='bow'):\n",
    "    model.train()\n",
    "    total_loss, total = 0, 0\n",
    "    for seq, bow, target, text in train_loader:\n",
    "        if input_type == 'bow':\n",
    "            inputs = bow\n",
    "\n",
    "        # Reset gradient\n",
    "        optimizer.zero_grad()\n",
    "\n",
    "        # Forward pass\n",
    "        output = model(inputs)\n",
    "\n",
    "        # Compute loss\n",
    "        loss = criterion(output, target)\n",
    "\n",
    "        # Perform gradient descent, backwards pass\n",
    "        loss.backward()\n",
    "\n",
    "        # Take a step in the right direction\n",
    "        optimizer.step()\n",
    "        scheduler.step()\n",
    "\n",
    "        # Record metrics\n",
    "        total_loss += loss.item()\n",
    "        total += len(target)\n",
    "\n",
    "    return total_loss / total\n",
    "\n",
    "\n",
    "  def validate_epoch(model, valid_loader, input_type='bow'):\n",
    "    model.eval()\n",
    "    total_loss, total = 0, 0\n",
    "    with torch.no_grad():\n",
    "        for seq, bow, target, text in valid_loader:\n",
    "            if input_type == 'bow':\n",
    "                inputs = bow\n",
    "\n",
    "            # Forward pass\n",
    "            output = model(inputs)\n",
    "\n",
    "            # Calculate how wrong the model is\n",
    "            loss = criterion(output, target)\n",
    "\n",
    "            # Record metrics\n",
    "            total_loss += loss.item()\n",
    "            total += len(target)\n",
    "\n",
    "    return total_loss\n",
    "\n",
    "  n_epochs = 0\n",
    "  train_losses, valid_losses = [], []\n",
    "  while n_epochs <= max_epochs[i]:\n",
    "      train_loss = train_epoch(bow_model, optimizer, train_loader, input_type='bow')\n",
    "      valid_loss = validate_epoch(bow_model, valid_loader, input_type='bow')\n",
    "\n",
    "      tqdm.write(\n",
    "          f'epoch #{n_epochs + 1:3d}\\ttrain_loss: {train_loss:.2e}\\tvalid_loss: {valid_loss:.2e}\\n',\n",
    "      )\n",
    "\n",
    "      train_losses.append(train_loss)\n",
    "      valid_losses.append(valid_loss)\n",
    "\n",
    "      n_epochs += 1\n",
    "\n",
    "  # Store the results for this run\n",
    "  result_entry = {\n",
    "      'combination': f' hidden1 = {HIDDEN1}, hidden2 = {HIDDEN2}, hidden3 = {HIDDEN3},\\n  learning_rate = {LEARNING_RATE}, and epoch = {max_epochs[i]}'  ,\n",
    "      'learning_rate': learning_rate,\n",
    "      'max_epochs': max_epochs,\n",
    "      'train_losses': train_losses,\n",
    "      'valid_losses': valid_losses,\n",
    "  }\n",
    "\n",
    "  results.append(result_entry)"
   ]
  },
  {
   "cell_type": "markdown",
   "metadata": {
    "id": "dE3ylZ4UmP71"
   },
   "source": [
    "You can also play with `MAX_VOCAB` parameter that set the number of unique and most frequent words to include in our vocabulary. If you do so, you need to re-run some code blocks from above. Try to find which parameter configuration leads to better classification performance."
   ]
  },
  {
   "cell_type": "markdown",
   "metadata": {
    "id": "pV6o4b2ZaC-X"
   },
   "source": [
    "### Here we will produce the graphs to compare the and understand the results."
   ]
  },
  {
   "cell_type": "code",
   "execution_count": null,
   "metadata": {
    "id": "nX4LFaXTaDWN"
   },
   "outputs": [],
   "source": [
    "for i, result in enumerate(results):\n",
    "    # Extract relevant information\n",
    "    combination = result['combination']\n",
    "    learning_rate = result['learning_rate']\n",
    "    max_epochs = result['max_epochs']\n",
    "    train_losses = result['train_losses']\n",
    "    valid_losses = result['valid_losses']\n",
    "\n",
    "    plt.figure(figsize=(10, 5))\n",
    "\n",
    "    # Plot training losses\n",
    "    plt.plot(range(1, len(train_losses) + 1), train_losses, label='Train Loss')\n",
    "    plt.title(f'Training Losses for {combination}')\n",
    "    plt.plot(range(1, len(train_losses) + 1), valid_losses, label='Valid Loss')\n",
    "    plt.title(f'Validation Losses for {combination}')\n",
    "    plt.xticks(range(1, len(train_losses) + 1))\n",
    "    plt.xlabel('Epoch')\n",
    "    plt.ylabel('Loss')\n",
    "    plt.legend()\n",
    "\n",
    "    plt.tight_layout()\n",
    "    plt.show()"
   ]
  },
  {
   "cell_type": "markdown",
   "metadata": {
    "id": "gxopnY_V1e5B"
   },
   "source": [
    "### Explain the differences you see in the produced plots from your experiment. (3 Point)\n",
    "  - What does training loss mean? (0.5 point)\n",
    "  - What does validation loss mean? (0.5 point)\n",
    "  - How does adding hidden layers impact the results? (0 point)\n",
    "  - How do different parameters in each hidden layer impact the result? (0 point)\n",
    "  - How can you evaluate a model from this training and validation graphs? Describe it in your own words. (0.5 point)\n",
    "  - Can you give some intuitive explanations of overfitting and underfitting based on the graphs you produced? (0.5)\n",
    "  - How does a very small and very large learning rate impact the training and\n",
    "   validation loss? (1 point)"
   ]
  },
  {
   "cell_type": "markdown",
   "metadata": {
    "id": "3LRz5FPR2AlS"
   },
   "source": [
    "\n",
    " **Your answers go here:**"
   ]
  },
  {
   "cell_type": "markdown",
   "metadata": {
    "id": "0hmGZdPhGUyO"
   },
   "source": [
    "# 5. Check Performance of BoW Model"
   ]
  },
  {
   "cell_type": "markdown",
   "metadata": {
    "id": "eC9W6wf__uQe"
   },
   "source": [
    "<h1>Exercise 5.1</h1> (2 Points)<br> Calculate `precision`, `recall` and `f1-score` for each of the classes. As you learned in the lecture, those are common measures to define the quality of our classifier.\n",
    "\n",
    "![](https://upload.wikimedia.org/wikipedia/commons/2/26/Precisionrecall.svg)"
   ]
  },
  {
   "cell_type": "code",
   "execution_count": null,
   "metadata": {
    "id": "oyUgARIFGRtQ"
   },
   "outputs": [],
   "source": [
    "bow_model.eval()\n",
    "test_accuracy, n_examples = 0, 0\n",
    "y_true, y_pred = [], []\n",
    "input_type = 'bow'\n",
    "\n",
    "with torch.no_grad():\n",
    "    for seq, bow, target, text in test_loader:\n",
    "        inputs = bow\n",
    "        probs = bow_model(inputs)\n",
    "\n",
    "        probs = probs.detach().cpu().numpy()\n",
    "        predictions = np.argmax(probs, axis=1)\n",
    "        target = target.cpu().numpy()\n",
    "\n",
    "        y_true.extend(predictions)\n",
    "        y_pred.extend(target)\n",
    "\n",
    "print(classification_report(y_true, y_pred))"
   ]
  },
  {
   "cell_type": "markdown",
   "metadata": {
    "id": "SdUah0AkIOdq"
   },
   "source": [
    "**Let's check a few examples!**\n",
    "\n",
    "Checking them might help understand, what might still go wrong."
   ]
  },
  {
   "cell_type": "code",
   "execution_count": null,
   "metadata": {
    "id": "sr0faB2WIe-M"
   },
   "outputs": [],
   "source": [
    "flatten = lambda x: [sublst for lst in x for sublst in lst]\n",
    "seq_lst, bow_lst, target_lst, text_lst = zip(*test_loader)\n",
    "seq_lst, bow_lst, target_lst, text_lst = map(flatten, [seq_lst, bow_lst, target_lst, text_lst])\n",
    "test_examples = list(zip(seq_lst, bow_lst, target_lst, text_lst))\n",
    "\n",
    "def print_random_prediction(model, n=4, input_type='bow'):\n",
    "    # prints prediction made by the model and the true value for n items.\n",
    "    to_emoji = lambda x: '😄' if x else '😡'\n",
    "    model.eval()\n",
    "    rows = []\n",
    "    for i in range(n):\n",
    "        with torch.no_grad():\n",
    "            seq, bow, target, text = random.choice(test_examples)\n",
    "            target = target.item()\n",
    "\n",
    "            inputs = bow\n",
    "            probs = model([inputs])\n",
    "\n",
    "            probs = probs.detach().cpu().numpy()\n",
    "            prediction = np.argmax(probs, axis=1)[0]\n",
    "\n",
    "            predicted = to_emoji(prediction)\n",
    "            actual = to_emoji(target)\n",
    "\n",
    "            row = f\"\"\"\n",
    "            <tr>\n",
    "            <td>{i+1}&nbsp;</td>\n",
    "            <td>{text}&nbsp;</td>\n",
    "            <td>{predicted}&nbsp;</td>\n",
    "            <td>{actual}&nbsp;</td>\n",
    "            </tr>\n",
    "            \"\"\"\n",
    "            rows.append(row)\n",
    "\n",
    "    rows_joined = '\\n'.join(rows)\n",
    "    table = f\"\"\"\n",
    "    <table>\n",
    "    <tbody>\n",
    "    <tr>\n",
    "    <td><b>Number</b>&nbsp;</td>\n",
    "    <td><b>Review</b>&nbsp;</td>\n",
    "    <td><b>Predicted</b>&nbsp;</td>\n",
    "    <td><b>Actual</b>&nbsp;</td>\n",
    "    </tr>{rows_joined}\n",
    "    </tbody>\n",
    "    </table>\n",
    "    \"\"\"\n",
    "    display(HTML(table))"
   ]
  },
  {
   "cell_type": "code",
   "execution_count": null,
   "metadata": {
    "id": "HPZKONRaIu_U"
   },
   "outputs": [],
   "source": [
    "print_random_prediction(bow_model, n=20, input_type='bow')"
   ]
  },
  {
   "cell_type": "markdown",
   "metadata": {
    "id": "ngBtgXms0oJJ"
   },
   "source": [
    "### Final task: Using the formula, calculate **precision**, **recall** and **f1-score** for the above 20 random predictions. <br> (1.5 points)"
   ]
  },
  {
   "cell_type": "markdown",
   "metadata": {
    "id": "8RFpE4nb0yZz"
   },
   "source": [
    "**Your answer goes here.**\n",
    "\n"
   ]
  },
  {
   "cell_type": "markdown",
   "metadata": {
    "id": "jnuPGzZWAXHY"
   },
   "source": [
    "You are done, we hope that you learned something practical in this homework! 🎄\n"
   ]
  }
 ],
 "metadata": {
  "accelerator": "GPU",
  "colab": {
   "gpuType": "T4",
   "provenance": []
  },
  "kernelspec": {
   "display_name": "Python 3",
   "language": "python",
   "name": "python3"
  },
  "language_info": {
   "codemirror_mode": {
    "name": "ipython",
    "version": 3
   },
   "file_extension": ".py",
   "mimetype": "text/x-python",
   "name": "python",
   "nbconvert_exporter": "python",
   "pygments_lexer": "ipython3",
   "version": "3.7.6"
  }
 },
 "nbformat": 4,
 "nbformat_minor": 1
}
