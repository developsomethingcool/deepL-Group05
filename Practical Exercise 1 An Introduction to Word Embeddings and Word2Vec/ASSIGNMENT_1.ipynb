{
 "cells": [
  {
   "cell_type": "markdown",
   "metadata": {
    "id": "ighIhhiLaBtR"
   },
   "source": [
    "## Practical Exercise 1: An Introduction to Word Embeddings and Word2Vec"
   ]
  },
  {
   "cell_type": "markdown",
   "metadata": {
    "id": "QRKl0OAYcvl2"
   },
   "source": [
    "Before we start, we would like to highlight that each of the three notebooks will contribute equally to your final grade."
   ]
  },
  {
   "cell_type": "markdown",
   "metadata": {
    "id": "qCmr1p64aBtW"
   },
   "source": [
    "This practical Exercise is presented as an IPython Notebook, with the code written for recent versions of **Python 3**.\n",
    "\n",
    "Before working with this notebook, you need to execute some of the pre-coded cells (to load libraries/functions/modules etc.). To execute one notebook cell, press `shift-enter`. The return value of the last command will be displayed, if it is not `None`.\n",
    "\n",
    "Below is a list with potentially useful library documentation, references, and resources:\n",
    "\n",
    "* IPython notebooks: <https://ipython.org/ipython-doc/3/notebook/notebook.html#introduction>\n",
    "* Numpy numerical array library: <https://docs.scipy.org/doc/>\n",
    "* Gensim's word2vec: <https://radimrehurek.com/gensim/models/word2vec.html>\n",
    "* Bokeh interactive plots: <http://bokeh.pydata.org/en/latest/> (we provide plotting code here, but click the thumbnails for more examples to copy-paste)\n",
    "* scikit-learn ML library (aka `sklearn`): <http://scikit-learn.org/stable/documentation.html>\n",
    "* nltk NLP toolkit: <http://www.nltk.org/>\n",
    "* tutorial for processing xml in python using `lxml`: <http://lxml.de/tutorial.html> (we did this for you below, but in case you need it in the future)"
   ]
  },
  {
   "cell_type": "markdown",
   "metadata": {
    "id": "3-9ymQ4XRUtG"
   },
   "source": [
    "#### Introduction & imports"
   ]
  },
  {
   "cell_type": "markdown",
   "metadata": {
    "id": "5fOOU1S7cvl8"
   },
   "source": [
    "In this notebook you will familiarize yourselves with constructing and using word-embeddings. As you recall from the lecture, word-embeddings are a type of word representation that allow words with similar meaning to have similar representations. This can be achieved by representing words as real-valued vectors in a predefined vector space. However, before delving into the embedding process, you will need to learn how to use some basic NLP tools like tokenization and regular expressions!\n",
    "Good Luck and happy coding!"
   ]
  },
  {
   "cell_type": "code",
   "execution_count": 12,
   "metadata": {
    "id": "569W6MImaBtX"
   },
   "outputs": [
    {
     "name": "stdout",
     "output_type": "stream",
     "text": [
      "Requirement already satisfied: gensim in c:\\users\\pomet\\anaconda3\\lib\\site-packages (4.2.0)\n",
      "Requirement already satisfied: numpy>=1.17.0 in c:\\users\\pomet\\anaconda3\\lib\\site-packages (from gensim) (1.18.1)\n",
      "Requirement already satisfied: scipy>=0.18.1 in c:\\users\\pomet\\anaconda3\\lib\\site-packages (from gensim) (1.4.1)\n",
      "Requirement already satisfied: Cython==0.29.28 in c:\\users\\pomet\\anaconda3\\lib\\site-packages (from gensim) (0.29.28)\n",
      "Requirement already satisfied: smart-open>=1.8.1 in c:\\users\\pomet\\anaconda3\\lib\\site-packages (from gensim) (6.4.0)\n"
     ]
    },
    {
     "data": {
      "text/html": [
       "<div class=\"bk-root\">\n",
       "        <a href=\"https://bokeh.org\" target=\"_blank\" class=\"bk-logo bk-logo-small bk-logo-notebook\"></a>\n",
       "        <span id=\"1003\">Loading BokehJS ...</span>\n",
       "    </div>\n"
      ]
     },
     "metadata": {},
     "output_type": "display_data"
    },
    {
     "data": {
      "application/javascript": [
       "(function(root) {\n",
       "  function now() {\n",
       "    return new Date();\n",
       "  }\n",
       "\n",
       "  const force = true;\n",
       "\n",
       "  if (typeof root._bokeh_onload_callbacks === \"undefined\" || force === true) {\n",
       "    root._bokeh_onload_callbacks = [];\n",
       "    root._bokeh_is_loading = undefined;\n",
       "  }\n",
       "\n",
       "const JS_MIME_TYPE = 'application/javascript';\n",
       "  const HTML_MIME_TYPE = 'text/html';\n",
       "  const EXEC_MIME_TYPE = 'application/vnd.bokehjs_exec.v0+json';\n",
       "  const CLASS_NAME = 'output_bokeh rendered_html';\n",
       "\n",
       "  /**\n",
       "   * Render data to the DOM node\n",
       "   */\n",
       "  function render(props, node) {\n",
       "    const script = document.createElement(\"script\");\n",
       "    node.appendChild(script);\n",
       "  }\n",
       "\n",
       "  /**\n",
       "   * Handle when an output is cleared or removed\n",
       "   */\n",
       "  function handleClearOutput(event, handle) {\n",
       "    const cell = handle.cell;\n",
       "\n",
       "    const id = cell.output_area._bokeh_element_id;\n",
       "    const server_id = cell.output_area._bokeh_server_id;\n",
       "    // Clean up Bokeh references\n",
       "    if (id != null && id in Bokeh.index) {\n",
       "      Bokeh.index[id].model.document.clear();\n",
       "      delete Bokeh.index[id];\n",
       "    }\n",
       "\n",
       "    if (server_id !== undefined) {\n",
       "      // Clean up Bokeh references\n",
       "      const cmd_clean = \"from bokeh.io.state import curstate; print(curstate().uuid_to_server['\" + server_id + \"'].get_sessions()[0].document.roots[0]._id)\";\n",
       "      cell.notebook.kernel.execute(cmd_clean, {\n",
       "        iopub: {\n",
       "          output: function(msg) {\n",
       "            const id = msg.content.text.trim();\n",
       "            if (id in Bokeh.index) {\n",
       "              Bokeh.index[id].model.document.clear();\n",
       "              delete Bokeh.index[id];\n",
       "            }\n",
       "          }\n",
       "        }\n",
       "      });\n",
       "      // Destroy server and session\n",
       "      const cmd_destroy = \"import bokeh.io.notebook as ion; ion.destroy_server('\" + server_id + \"')\";\n",
       "      cell.notebook.kernel.execute(cmd_destroy);\n",
       "    }\n",
       "  }\n",
       "\n",
       "  /**\n",
       "   * Handle when a new output is added\n",
       "   */\n",
       "  function handleAddOutput(event, handle) {\n",
       "    const output_area = handle.output_area;\n",
       "    const output = handle.output;\n",
       "\n",
       "    // limit handleAddOutput to display_data with EXEC_MIME_TYPE content only\n",
       "    if ((output.output_type != \"display_data\") || (!Object.prototype.hasOwnProperty.call(output.data, EXEC_MIME_TYPE))) {\n",
       "      return\n",
       "    }\n",
       "\n",
       "    const toinsert = output_area.element.find(\".\" + CLASS_NAME.split(' ')[0]);\n",
       "\n",
       "    if (output.metadata[EXEC_MIME_TYPE][\"id\"] !== undefined) {\n",
       "      toinsert[toinsert.length - 1].firstChild.textContent = output.data[JS_MIME_TYPE];\n",
       "      // store reference to embed id on output_area\n",
       "      output_area._bokeh_element_id = output.metadata[EXEC_MIME_TYPE][\"id\"];\n",
       "    }\n",
       "    if (output.metadata[EXEC_MIME_TYPE][\"server_id\"] !== undefined) {\n",
       "      const bk_div = document.createElement(\"div\");\n",
       "      bk_div.innerHTML = output.data[HTML_MIME_TYPE];\n",
       "      const script_attrs = bk_div.children[0].attributes;\n",
       "      for (let i = 0; i < script_attrs.length; i++) {\n",
       "        toinsert[toinsert.length - 1].firstChild.setAttribute(script_attrs[i].name, script_attrs[i].value);\n",
       "        toinsert[toinsert.length - 1].firstChild.textContent = bk_div.children[0].textContent\n",
       "      }\n",
       "      // store reference to server id on output_area\n",
       "      output_area._bokeh_server_id = output.metadata[EXEC_MIME_TYPE][\"server_id\"];\n",
       "    }\n",
       "  }\n",
       "\n",
       "  function register_renderer(events, OutputArea) {\n",
       "\n",
       "    function append_mime(data, metadata, element) {\n",
       "      // create a DOM node to render to\n",
       "      const toinsert = this.create_output_subarea(\n",
       "        metadata,\n",
       "        CLASS_NAME,\n",
       "        EXEC_MIME_TYPE\n",
       "      );\n",
       "      this.keyboard_manager.register_events(toinsert);\n",
       "      // Render to node\n",
       "      const props = {data: data, metadata: metadata[EXEC_MIME_TYPE]};\n",
       "      render(props, toinsert[toinsert.length - 1]);\n",
       "      element.append(toinsert);\n",
       "      return toinsert\n",
       "    }\n",
       "\n",
       "    /* Handle when an output is cleared or removed */\n",
       "    events.on('clear_output.CodeCell', handleClearOutput);\n",
       "    events.on('delete.Cell', handleClearOutput);\n",
       "\n",
       "    /* Handle when a new output is added */\n",
       "    events.on('output_added.OutputArea', handleAddOutput);\n",
       "\n",
       "    /**\n",
       "     * Register the mime type and append_mime function with output_area\n",
       "     */\n",
       "    OutputArea.prototype.register_mime_type(EXEC_MIME_TYPE, append_mime, {\n",
       "      /* Is output safe? */\n",
       "      safe: true,\n",
       "      /* Index of renderer in `output_area.display_order` */\n",
       "      index: 0\n",
       "    });\n",
       "  }\n",
       "\n",
       "  // register the mime type if in Jupyter Notebook environment and previously unregistered\n",
       "  if (root.Jupyter !== undefined) {\n",
       "    const events = require('base/js/events');\n",
       "    const OutputArea = require('notebook/js/outputarea').OutputArea;\n",
       "\n",
       "    if (OutputArea.prototype.mime_types().indexOf(EXEC_MIME_TYPE) == -1) {\n",
       "      register_renderer(events, OutputArea);\n",
       "    }\n",
       "  }\n",
       "  if (typeof (root._bokeh_timeout) === \"undefined\" || force === true) {\n",
       "    root._bokeh_timeout = Date.now() + 5000;\n",
       "    root._bokeh_failed_load = false;\n",
       "  }\n",
       "\n",
       "  const NB_LOAD_WARNING = {'data': {'text/html':\n",
       "     \"<div style='background-color: #fdd'>\\n\"+\n",
       "     \"<p>\\n\"+\n",
       "     \"BokehJS does not appear to have successfully loaded. If loading BokehJS from CDN, this \\n\"+\n",
       "     \"may be due to a slow or bad network connection. Possible fixes:\\n\"+\n",
       "     \"</p>\\n\"+\n",
       "     \"<ul>\\n\"+\n",
       "     \"<li>re-rerun `output_notebook()` to attempt to load from CDN again, or</li>\\n\"+\n",
       "     \"<li>use INLINE resources instead, as so:</li>\\n\"+\n",
       "     \"</ul>\\n\"+\n",
       "     \"<code>\\n\"+\n",
       "     \"from bokeh.resources import INLINE\\n\"+\n",
       "     \"output_notebook(resources=INLINE)\\n\"+\n",
       "     \"</code>\\n\"+\n",
       "     \"</div>\"}};\n",
       "\n",
       "  function display_loaded() {\n",
       "    const el = document.getElementById(\"1003\");\n",
       "    if (el != null) {\n",
       "      el.textContent = \"BokehJS is loading...\";\n",
       "    }\n",
       "    if (root.Bokeh !== undefined) {\n",
       "      if (el != null) {\n",
       "        el.textContent = \"BokehJS \" + root.Bokeh.version + \" successfully loaded.\";\n",
       "      }\n",
       "    } else if (Date.now() < root._bokeh_timeout) {\n",
       "      setTimeout(display_loaded, 100)\n",
       "    }\n",
       "  }\n",
       "\n",
       "  function run_callbacks() {\n",
       "    try {\n",
       "      root._bokeh_onload_callbacks.forEach(function(callback) {\n",
       "        if (callback != null)\n",
       "          callback();\n",
       "      });\n",
       "    } finally {\n",
       "      delete root._bokeh_onload_callbacks\n",
       "    }\n",
       "    console.debug(\"Bokeh: all callbacks have finished\");\n",
       "  }\n",
       "\n",
       "  function load_libs(css_urls, js_urls, callback) {\n",
       "    if (css_urls == null) css_urls = [];\n",
       "    if (js_urls == null) js_urls = [];\n",
       "\n",
       "    root._bokeh_onload_callbacks.push(callback);\n",
       "    if (root._bokeh_is_loading > 0) {\n",
       "      console.debug(\"Bokeh: BokehJS is being loaded, scheduling callback at\", now());\n",
       "      return null;\n",
       "    }\n",
       "    if (js_urls == null || js_urls.length === 0) {\n",
       "      run_callbacks();\n",
       "      return null;\n",
       "    }\n",
       "    console.debug(\"Bokeh: BokehJS not loaded, scheduling load and callback at\", now());\n",
       "    root._bokeh_is_loading = css_urls.length + js_urls.length;\n",
       "\n",
       "    function on_load() {\n",
       "      root._bokeh_is_loading--;\n",
       "      if (root._bokeh_is_loading === 0) {\n",
       "        console.debug(\"Bokeh: all BokehJS libraries/stylesheets loaded\");\n",
       "        run_callbacks()\n",
       "      }\n",
       "    }\n",
       "\n",
       "    function on_error(url) {\n",
       "      console.error(\"failed to load \" + url);\n",
       "    }\n",
       "\n",
       "    for (let i = 0; i < css_urls.length; i++) {\n",
       "      const url = css_urls[i];\n",
       "      const element = document.createElement(\"link\");\n",
       "      element.onload = on_load;\n",
       "      element.onerror = on_error.bind(null, url);\n",
       "      element.rel = \"stylesheet\";\n",
       "      element.type = \"text/css\";\n",
       "      element.href = url;\n",
       "      console.debug(\"Bokeh: injecting link tag for BokehJS stylesheet: \", url);\n",
       "      document.body.appendChild(element);\n",
       "    }\n",
       "\n",
       "    for (let i = 0; i < js_urls.length; i++) {\n",
       "      const url = js_urls[i];\n",
       "      const element = document.createElement('script');\n",
       "      element.onload = on_load;\n",
       "      element.onerror = on_error.bind(null, url);\n",
       "      element.async = false;\n",
       "      element.src = url;\n",
       "      console.debug(\"Bokeh: injecting script tag for BokehJS library: \", url);\n",
       "      document.head.appendChild(element);\n",
       "    }\n",
       "  };\n",
       "\n",
       "  function inject_raw_css(css) {\n",
       "    const element = document.createElement(\"style\");\n",
       "    element.appendChild(document.createTextNode(css));\n",
       "    document.body.appendChild(element);\n",
       "  }\n",
       "\n",
       "  const js_urls = [\"https://cdn.bokeh.org/bokeh/release/bokeh-2.4.3.min.js\", \"https://cdn.bokeh.org/bokeh/release/bokeh-gl-2.4.3.min.js\", \"https://cdn.bokeh.org/bokeh/release/bokeh-widgets-2.4.3.min.js\", \"https://cdn.bokeh.org/bokeh/release/bokeh-tables-2.4.3.min.js\", \"https://cdn.bokeh.org/bokeh/release/bokeh-mathjax-2.4.3.min.js\"];\n",
       "  const css_urls = [];\n",
       "\n",
       "  const inline_js = [    function(Bokeh) {\n",
       "      Bokeh.set_log_level(\"info\");\n",
       "    },\n",
       "function(Bokeh) {\n",
       "    }\n",
       "  ];\n",
       "\n",
       "  function run_inline_js() {\n",
       "    if (root.Bokeh !== undefined || force === true) {\n",
       "          for (let i = 0; i < inline_js.length; i++) {\n",
       "      inline_js[i].call(root, root.Bokeh);\n",
       "    }\n",
       "if (force === true) {\n",
       "        display_loaded();\n",
       "      }} else if (Date.now() < root._bokeh_timeout) {\n",
       "      setTimeout(run_inline_js, 100);\n",
       "    } else if (!root._bokeh_failed_load) {\n",
       "      console.log(\"Bokeh: BokehJS failed to load within specified timeout.\");\n",
       "      root._bokeh_failed_load = true;\n",
       "    } else if (force !== true) {\n",
       "      const cell = $(document.getElementById(\"1003\")).parents('.cell').data().cell;\n",
       "      cell.output_area.append_execute_result(NB_LOAD_WARNING)\n",
       "    }\n",
       "  }\n",
       "\n",
       "  if (root._bokeh_is_loading === 0) {\n",
       "    console.debug(\"Bokeh: BokehJS loaded, going straight to plotting\");\n",
       "    run_inline_js();\n",
       "  } else {\n",
       "    load_libs(css_urls, js_urls, function() {\n",
       "      console.debug(\"Bokeh: BokehJS plotting callback run at\", now());\n",
       "      run_inline_js();\n",
       "    });\n",
       "  }\n",
       "}(window));"
      ],
      "application/vnd.bokehjs_load.v0+json": "(function(root) {\n  function now() {\n    return new Date();\n  }\n\n  const force = true;\n\n  if (typeof root._bokeh_onload_callbacks === \"undefined\" || force === true) {\n    root._bokeh_onload_callbacks = [];\n    root._bokeh_is_loading = undefined;\n  }\n\n\n  if (typeof (root._bokeh_timeout) === \"undefined\" || force === true) {\n    root._bokeh_timeout = Date.now() + 5000;\n    root._bokeh_failed_load = false;\n  }\n\n  const NB_LOAD_WARNING = {'data': {'text/html':\n     \"<div style='background-color: #fdd'>\\n\"+\n     \"<p>\\n\"+\n     \"BokehJS does not appear to have successfully loaded. If loading BokehJS from CDN, this \\n\"+\n     \"may be due to a slow or bad network connection. Possible fixes:\\n\"+\n     \"</p>\\n\"+\n     \"<ul>\\n\"+\n     \"<li>re-rerun `output_notebook()` to attempt to load from CDN again, or</li>\\n\"+\n     \"<li>use INLINE resources instead, as so:</li>\\n\"+\n     \"</ul>\\n\"+\n     \"<code>\\n\"+\n     \"from bokeh.resources import INLINE\\n\"+\n     \"output_notebook(resources=INLINE)\\n\"+\n     \"</code>\\n\"+\n     \"</div>\"}};\n\n  function display_loaded() {\n    const el = document.getElementById(\"1003\");\n    if (el != null) {\n      el.textContent = \"BokehJS is loading...\";\n    }\n    if (root.Bokeh !== undefined) {\n      if (el != null) {\n        el.textContent = \"BokehJS \" + root.Bokeh.version + \" successfully loaded.\";\n      }\n    } else if (Date.now() < root._bokeh_timeout) {\n      setTimeout(display_loaded, 100)\n    }\n  }\n\n  function run_callbacks() {\n    try {\n      root._bokeh_onload_callbacks.forEach(function(callback) {\n        if (callback != null)\n          callback();\n      });\n    } finally {\n      delete root._bokeh_onload_callbacks\n    }\n    console.debug(\"Bokeh: all callbacks have finished\");\n  }\n\n  function load_libs(css_urls, js_urls, callback) {\n    if (css_urls == null) css_urls = [];\n    if (js_urls == null) js_urls = [];\n\n    root._bokeh_onload_callbacks.push(callback);\n    if (root._bokeh_is_loading > 0) {\n      console.debug(\"Bokeh: BokehJS is being loaded, scheduling callback at\", now());\n      return null;\n    }\n    if (js_urls == null || js_urls.length === 0) {\n      run_callbacks();\n      return null;\n    }\n    console.debug(\"Bokeh: BokehJS not loaded, scheduling load and callback at\", now());\n    root._bokeh_is_loading = css_urls.length + js_urls.length;\n\n    function on_load() {\n      root._bokeh_is_loading--;\n      if (root._bokeh_is_loading === 0) {\n        console.debug(\"Bokeh: all BokehJS libraries/stylesheets loaded\");\n        run_callbacks()\n      }\n    }\n\n    function on_error(url) {\n      console.error(\"failed to load \" + url);\n    }\n\n    for (let i = 0; i < css_urls.length; i++) {\n      const url = css_urls[i];\n      const element = document.createElement(\"link\");\n      element.onload = on_load;\n      element.onerror = on_error.bind(null, url);\n      element.rel = \"stylesheet\";\n      element.type = \"text/css\";\n      element.href = url;\n      console.debug(\"Bokeh: injecting link tag for BokehJS stylesheet: \", url);\n      document.body.appendChild(element);\n    }\n\n    for (let i = 0; i < js_urls.length; i++) {\n      const url = js_urls[i];\n      const element = document.createElement('script');\n      element.onload = on_load;\n      element.onerror = on_error.bind(null, url);\n      element.async = false;\n      element.src = url;\n      console.debug(\"Bokeh: injecting script tag for BokehJS library: \", url);\n      document.head.appendChild(element);\n    }\n  };\n\n  function inject_raw_css(css) {\n    const element = document.createElement(\"style\");\n    element.appendChild(document.createTextNode(css));\n    document.body.appendChild(element);\n  }\n\n  const js_urls = [\"https://cdn.bokeh.org/bokeh/release/bokeh-2.4.3.min.js\", \"https://cdn.bokeh.org/bokeh/release/bokeh-gl-2.4.3.min.js\", \"https://cdn.bokeh.org/bokeh/release/bokeh-widgets-2.4.3.min.js\", \"https://cdn.bokeh.org/bokeh/release/bokeh-tables-2.4.3.min.js\", \"https://cdn.bokeh.org/bokeh/release/bokeh-mathjax-2.4.3.min.js\"];\n  const css_urls = [];\n\n  const inline_js = [    function(Bokeh) {\n      Bokeh.set_log_level(\"info\");\n    },\nfunction(Bokeh) {\n    }\n  ];\n\n  function run_inline_js() {\n    if (root.Bokeh !== undefined || force === true) {\n          for (let i = 0; i < inline_js.length; i++) {\n      inline_js[i].call(root, root.Bokeh);\n    }\nif (force === true) {\n        display_loaded();\n      }} else if (Date.now() < root._bokeh_timeout) {\n      setTimeout(run_inline_js, 100);\n    } else if (!root._bokeh_failed_load) {\n      console.log(\"Bokeh: BokehJS failed to load within specified timeout.\");\n      root._bokeh_failed_load = true;\n    } else if (force !== true) {\n      const cell = $(document.getElementById(\"1003\")).parents('.cell').data().cell;\n      cell.output_area.append_execute_result(NB_LOAD_WARNING)\n    }\n  }\n\n  if (root._bokeh_is_loading === 0) {\n    console.debug(\"Bokeh: BokehJS loaded, going straight to plotting\");\n    run_inline_js();\n  } else {\n    load_libs(css_urls, js_urls, function() {\n      console.debug(\"Bokeh: BokehJS plotting callback run at\", now());\n      run_inline_js();\n    });\n  }\n}(window));"
     },
     "metadata": {},
     "output_type": "display_data"
    },
    {
     "name": "stderr",
     "output_type": "stream",
     "text": [
      "[nltk_data] Downloading package punkt to\n",
      "[nltk_data]     C:\\Users\\pomet\\AppData\\Roaming\\nltk_data...\n",
      "[nltk_data]   Package punkt is already up-to-date!\n",
      "[nltk_data] Downloading package stopwords to\n",
      "[nltk_data]     C:\\Users\\pomet\\AppData\\Roaming\\nltk_data...\n",
      "[nltk_data]   Package stopwords is already up-to-date!\n"
     ]
    },
    {
     "name": "stdout",
     "output_type": "stream",
     "text": [
      "Requirement already satisfied: wordcloud in c:\\users\\pomet\\anaconda3\\lib\\site-packages (1.9.2)\n",
      "Requirement already satisfied: pillow in c:\\users\\pomet\\anaconda3\\lib\\site-packages (from wordcloud) (9.4.0)\n",
      "Requirement already satisfied: numpy>=1.6.1 in c:\\users\\pomet\\anaconda3\\lib\\site-packages (from wordcloud) (1.18.1)\n",
      "Requirement already satisfied: matplotlib in c:\\users\\pomet\\anaconda3\\lib\\site-packages (from wordcloud) (3.1.3)\n",
      "Requirement already satisfied: python-dateutil>=2.1 in c:\\users\\pomet\\anaconda3\\lib\\site-packages (from matplotlib->wordcloud) (2.8.2)\n",
      "Requirement already satisfied: pyparsing!=2.0.4,!=2.1.2,!=2.1.6,>=2.0.1 in c:\\users\\pomet\\anaconda3\\lib\\site-packages (from matplotlib->wordcloud) (3.0.9)\n",
      "Requirement already satisfied: cycler>=0.10 in c:\\users\\pomet\\anaconda3\\lib\\site-packages (from matplotlib->wordcloud) (0.11.0)\n",
      "Requirement already satisfied: kiwisolver>=1.0.1 in c:\\users\\pomet\\anaconda3\\lib\\site-packages (from matplotlib->wordcloud) (1.4.4)\n",
      "Requirement already satisfied: typing-extensions in c:\\users\\pomet\\anaconda3\\lib\\site-packages (from kiwisolver>=1.0.1->matplotlib->wordcloud) (4.4.0)\n",
      "Requirement already satisfied: six>=1.5 in c:\\users\\pomet\\anaconda3\\lib\\site-packages (from python-dateutil>=2.1->matplotlib->wordcloud) (1.16.0)\n"
     ]
    }
   ],
   "source": [
    "# Importing necessary libraries/modules; requires to be executed once for every session\n",
    "import numpy as np\n",
    "import matplotlib.pyplot as plt\n",
    "import os\n",
    "from random import shuffle\n",
    "import re\n",
    "import nltk\n",
    "import pickle\n",
    "from nltk.corpus import stopwords\n",
    "\n",
    "from bokeh.models import ColumnDataSource, LabelSet\n",
    "from bokeh.plotting import figure, show, output_file\n",
    "from bokeh.io import output_notebook\n",
    "\n",
    "!pip install -U gensim\n",
    "from gensim.models import Word2Vec\n",
    "\n",
    "\n",
    "output_notebook()\n",
    "nltk.download('punkt')\n",
    "nltk.download('stopwords')\n",
    "\n",
    "!pip install wordcloud\n",
    "from wordcloud import WordCloud"
   ]
  },
  {
   "cell_type": "code",
   "execution_count": 13,
   "metadata": {
    "id": "ofHeuGejaZHs"
   },
   "outputs": [],
   "source": [
    "# Here we install nltk. You only have to execute this cell once!\n",
    "try:\n",
    "    import nltk\n",
    "except:\n",
    "    import sys\n",
    "    !{sys.executable} -m pip install nltk\n",
    "    import nltk\n",
    "    nltk.download()"
   ]
  },
  {
   "cell_type": "markdown",
   "metadata": {
    "id": "Haav4K7YaBti"
   },
   "source": [
    "### Part 0: Download the TED dataset"
   ]
  },
  {
   "cell_type": "markdown",
   "metadata": {
    "id": "TXCrpUdjcvmM"
   },
   "source": [
    "For this practical exercise, we need a large amount of text data. We will use the TED database, which are the transcripts of Ted Talks. The next cells will download everything you need, this might take a while as the dataset is 75MB large."
   ]
  },
  {
   "cell_type": "code",
   "execution_count": 14,
   "metadata": {
    "id": "stf464BBaBtj"
   },
   "outputs": [],
   "source": [
    "import zipfile\n",
    "import lxml.etree"
   ]
  },
  {
   "cell_type": "code",
   "execution_count": 15,
   "metadata": {
    "id": "91T_rkPbaBtn"
   },
   "outputs": [],
   "source": [
    "# Upload the dataset if it's not already there: this may take a minute..\n",
    "if not os.path.isfile('ted_en-20160408.zip'):\n",
    "  from google.colab import files\n",
    "  # select the file \"ted_en-20160408.zip\" from your local drive here\n",
    "  uploaded = files.upload()"
   ]
  },
  {
   "cell_type": "code",
   "execution_count": 16,
   "metadata": {
    "id": "0oWf1JkvaBtr"
   },
   "outputs": [
    {
     "name": "stdout",
     "output_type": "stream",
     "text": [
      "<class 'str'>\n"
     ]
    }
   ],
   "source": [
    "# For now, we're only interested in the subtitle text, so let's extract that from the XML:\n",
    "with zipfile.ZipFile('ted_en-20160408.zip', 'r') as z:\n",
    "    doc = lxml.etree.parse(z.open('ted_en-20160408.xml', 'r'))\n",
    "input_text = '\\n'.join(doc.xpath('//content/text()'))\n",
    "\n",
    "print(type(input_text))"
   ]
  },
  {
   "cell_type": "markdown",
   "metadata": {
    "id": "LNL6FNYQA9QO"
   },
   "source": [
    "To give you a little bit of an idea about the structure of the dataset, you can open the `xml` file inside the zip folder and have a look at it. The dataset consists of metadata or properties of TedTalks, such as speaker information, language, transcripts, tags, date, and much more.\n",
    "\n",
    "As you can see, the `xml` file has lots of different tags to mark the beginning and end of the particular datapoint. The code cell bellow shows the tags that are inside the `xml` file. As you can already imagine, the tags are used to mark different properties of the data. For this assignment, we are interested in the content/text only, which is the reason for extracting the text from the content tag and from it, create the text data."
   ]
  },
  {
   "cell_type": "code",
   "execution_count": 17,
   "metadata": {
    "id": "AcrOfaQfhDVY"
   },
   "outputs": [
    {
     "name": "stdout",
     "output_type": "stream",
     "text": [
      "translator\n",
      "transcribers\n",
      "transcription\n",
      "talkid\n",
      "wordnum\n",
      "content\n",
      "xml\n",
      "pagesize\n",
      "videopath\n",
      "encoding\n",
      "file\n",
      "speaker\n",
      "translators\n",
      "seekvideo\n",
      "keywords\n",
      "transcriber\n",
      "url\n",
      "content-type\n",
      "dtime\n",
      "videourl\n",
      "reviewer\n",
      "title\n",
      "reviewers\n",
      "description\n",
      "date\n",
      "head\n",
      "charnum\n"
     ]
    }
   ],
   "source": [
    "# Extract all the tags in the XML\n",
    "tags = [element.tag for element in doc.iter()]\n",
    "\n",
    "# Get unique tags using a set\n",
    "unique_tags = set(tags)\n",
    "\n",
    "# Print the unique tags\n",
    "for tag in unique_tags:\n",
    "    print(tag)\n",
    "\n",
    "# Delete the variable doc to save space as we have alreay extracted the necessary data we need.\n",
    "del doc"
   ]
  },
  {
   "cell_type": "markdown",
   "metadata": {
    "id": "G9UVfpExaBtu"
   },
   "source": [
    "### Part 1: Preprocessing\n",
    "\n",
    "Although language oftentimes follows strict rules and structures, text datasets in practice are often noisy. Before we can use our text data, we therefore need to clean it. This process is called *preprocessing*. If we don't do this, the data may be inconsistent and therefore more difficult to analyze and work with. You may ask yourself, what exactly do we need to clean, where exactly would we expect inconsistencies? Take a moment and think about it potential hickups in the raw data. What we need to do, is to preprocess the text and bring it into a clean and consistent format, allowing further analyzing steps."
   ]
  },
  {
   "cell_type": "markdown",
   "metadata": {
    "id": "eKWHxHG7bkWa"
   },
   "source": [
    "<h4>Exercise 1.1 (3 Points)</h4>\n",
    "\n"
   ]
  },
  {
   "cell_type": "markdown",
   "metadata": {
    "id": "Lf3LEeuDVcs4"
   },
   "source": [
    "The following part of the code shows a chunk of text from our ted text dataset. Have a look and try to identify **three** issues you can think of that can create a problem for text analysis, next to the one which is already provided. When giving your answer, we ask you to also mention **why** the issues could be problematic (similar to the example given). Each correct answer (naming + explaining the problem) will give 1 point."
   ]
  },
  {
   "cell_type": "code",
   "execution_count": 18,
   "metadata": {
    "id": "yGpx6RFzaBtv",
    "scrolled": false
   },
   "outputs": [
    {
     "name": "stdout",
     "output_type": "stream",
     "text": [
      "Hyowon Gweon: See this? (Ball squeaks) Did you see that? (Ball squeaks) Cool. See this one? (Ball squeaks) Wow.\n",
      "Laura Schulz: Told you. (Laughs)\n",
      "(Video) HG: See this one? (Ball squeaks) Hey Clara, this one's for you. You can go ahead and play. (Laughter)\n",
      "LS: I don't even have to talk, right? All right, it's nice that babies will generalize properties of blue balls to yellow balls, and it's impressive that babies can learn from imitating us, but we've known those things about babies for a very lo\n",
      "\n",
      "You will earn 10% of any gold you distributes.\"\n",
      "(Laughter)\n",
      "So I knew I was dealing with a profession\n"
     ]
    }
   ],
   "source": [
    "# Have a look at the output of this code, to see some text examples.\n",
    "i = input_text.find(\"Hyowon Gweon: See this?\")\n",
    "print(input_text[i:i+500])\n",
    "print()\n",
    "\n",
    "i = input_text.find(\"You will earn\")\n",
    "print(input_text[i:i+100])"
   ]
  },
  {
   "cell_type": "markdown",
   "metadata": {
    "id": "33t3GOGqcvmZ"
   },
   "source": [
    "<b>Your Solution goes here:</b>\n",
    "<br>- Speakers' names: embeddings for names will dominate the embedding space unnecessarily.\n",
    "<br>- Lack of Punctuation Consistency\n",
    "<br>- Non-verbal sounds like ball, laughter\n",
    "<br>- "
   ]
  },
  {
   "cell_type": "markdown",
   "metadata": {
    "id": "3F5MFEDWt-WN"
   },
   "source": [
    "<h4>Exercise 1.2 (9 Points)</h4>\n",
    "\n",
    "Next we want to create a preprocessing pipeline to later clean the entire dataset in one go. The pipeline takes `input_text` as input and should provide a cleaned and ready-to-use text data called `cleaned_text`.\n",
    "\n",
    "Your task is to implement this pipeline with **three** functions that each take care of **one** of the **three** issues you listed in exercise 1.1.\n",
    "\n",
    "Some hints about the pipeline are given as well as the code for the example from 1.1."
   ]
  },
  {
   "cell_type": "code",
   "execution_count": 39,
   "metadata": {
    "id": "Ow4UqreOvXH_"
   },
   "outputs": [],
   "source": [
    "import re\n",
    "import string\n",
    "\n",
    "def remove_speaker(input_text):\n",
    "    ''' Takes the text as input and removes the name of the speaker as output '''\n",
    "    X = []\n",
    "    for line in input_text.split('\\n'):\n",
    "        # Use regular expression to match lines with a speaker and remove the speaker's name\n",
    "        m = re.match(r'^(?:(?P<precolon>[^:]{,20}):)?(?P<postcolon>.*)$', line)\n",
    "        X.extend(m.groupdict()['postcolon'])\n",
    "    without_speaker = \"\".join(X)\n",
    "    return without_speaker\n",
    "\n",
    "\n",
    "def remove_noises(input_text):\n",
    "    ''' Takes text as input and removes background noises (like \"(laughs)\") '''\n",
    "    # Remove anything with parentheses in the dataset\n",
    "    text = re.sub(r'\\(\\)', '', input_text)\n",
    "    return text\n",
    "\n",
    "\n",
    "def remove_punctuations(input_text):\n",
    "    ''' Removes punctuation marks from the input text '''\n",
    "    # Remove punctuation marks using string.punctuation set and translate method\n",
    "    text = input_text.translate(str.maketrans('', '', string.punctuation))\n",
    "    return text\n",
    "\n",
    "\n",
    "def text_cleaned(input_text):\n",
    "    ''' Takes the raw text as input, runs the text through cleaning functions,\n",
    "    outputs a clean and preprocessed text for further analysis '''\n",
    "    \n",
    "    # Apply cleaning functions in sequence\n",
    "    text_no_speaker = remove_speaker(input_text)\n",
    "    text_no_noises = remove_noises(text_no_speaker)\n",
    "    text_no_punctuations = remove_punctuations(text_no_noises)\n",
    "    \n",
    "    # Return the cleaned and preprocessed text\n",
    "    text_cleaned = text_no_punctuations\n",
    "    return text_cleaned\n",
    "\n",
    "input_text_clean = text_cleaned(input_text)"
   ]
  },
  {
   "cell_type": "markdown",
   "metadata": {
    "id": "sX5lFA4XijPm"
   },
   "source": [
    "<h4>Exercise 1.3 (6 Points)</h4>\n",
    "\n",
    "To continue with building our embedding, we need to tokenize every single word (so that the model has individual tokens to process). Therefore we first need to split the text into sentences and after that into words.\n",
    "Try it yourselves or use the NLTK-Tools build for this (https://www.kite.com/python/docs/nltk.word_tokenize + https://www.kite.com/python/docs/nltk.sent_tokenize).\n",
    "To make it easier, we should also delete every character that is not a letter. Additionally, we could decrease the size of our vocabulary. A way to do this is by converting capital characters to lower case characters (but it also has some drawbacks - more on this in exercise 1.4).<br>\n",
    "\n",
    "Split your text into sentences and save them in the array `sentences_strings_ted`.\n",
    "Save one variabale `tokens` with all the tokens in the text and one array named `sentences_ted` that contains an array for every sentence, with all the tokenized words of that sentence.<br><br>\n",
    "Example:<br>\n",
    "If the text looks like this: \"I love cake. You have to be honest, you love it too!\", the variables should look like:<br>\n",
    "sentences_strings_ted=['I love cake.', 'You have to be honest, you love it too!']<br>\n",
    "sentences_ted=[['i', 'love', 'cake'], ['you', 'have', 'to', 'be', 'honest', 'you', 'love', 'it', 'too']]<br>\n",
    "tokens=['i', 'love', 'cake', 'you', 'have', 'to', 'be', 'honest', 'you', 'love', 'it', 'too']<br><br>\n",
    "\n",
    "IMPORTANT: Apply this to `input_text_clean`.<br><br>\n",
    "\n",
    "\n",
    " **[Hint:]** use pickle file (.pkl) to dump and load the variables like `sentences_strings_ted`, `tokens`, `sentences_ted` to continue where you left, when you comeback next time. It will save a lot of time/effort."
   ]
  },
  {
   "cell_type": "code",
   "execution_count": 40,
   "metadata": {},
   "outputs": [
    {
     "data": {
      "text/plain": [
       "'Here are two reasons companies fail they only do more of the same or they only do whats newTo me the real real solution to quality growth is figuring out the balance between two activities exploration and exploitation Both are necessary but it can be too much of a good thingConsider Facit Im actually old enough to remember them Facit was a fantastic company They were born deep in the Swedish forest and they made the best mechanical calculators in the world Everybody used them And what did Facit do when the electronic calculator came along They continued doing exactly the same In six months they went from maximum revenue  and they were gone GoneTo me the irony about the Facit story is hearing about the Facit engineers who had bought cheap small electronic calculators in Japan that they used to doublecheck their calculatorsLaughterFacit did too much exploitation But exploration can go wild tooA few years back I worked closely alongside a European biotech company Lets call them OncoSearch'"
      ]
     },
     "execution_count": 40,
     "metadata": {},
     "output_type": "execute_result"
    }
   ],
   "source": [
    "input_text_clean[:1000]"
   ]
  },
  {
   "cell_type": "code",
   "execution_count": 11,
   "metadata": {
    "id": "_zAfwo7Dcvml"
   },
   "outputs": [
    {
     "ename": "KeyboardInterrupt",
     "evalue": "",
     "output_type": "error",
     "traceback": [
      "\u001b[1;31m---------------------------------------------------------------------------\u001b[0m",
      "\u001b[1;31mKeyboardInterrupt\u001b[0m                         Traceback (most recent call last)",
      "\u001b[1;32m<ipython-input-11-06d6694d20ec>\u001b[0m in \u001b[0;36m<module>\u001b[1;34m\u001b[0m\n\u001b[0;32m      1\u001b[0m \u001b[1;31m# Tokenize sentences using NLTK\u001b[0m\u001b[1;33m\u001b[0m\u001b[1;33m\u001b[0m\u001b[1;33m\u001b[0m\u001b[0m\n\u001b[1;32m----> 2\u001b[1;33m \u001b[0msentences_strings_ted\u001b[0m  \u001b[1;33m=\u001b[0m \u001b[0mnltk\u001b[0m\u001b[1;33m.\u001b[0m\u001b[0mtokenize\u001b[0m\u001b[1;33m.\u001b[0m\u001b[0msent_tokenize\u001b[0m\u001b[1;33m(\u001b[0m\u001b[0minput_text_clean\u001b[0m\u001b[1;33m)\u001b[0m\u001b[1;33m\u001b[0m\u001b[1;33m\u001b[0m\u001b[0m\n\u001b[0m\u001b[0;32m      3\u001b[0m \u001b[0mprint\u001b[0m\u001b[1;33m(\u001b[0m\u001b[0msentences_strings_ted\u001b[0m\u001b[1;33m)\u001b[0m\u001b[1;33m\u001b[0m\u001b[1;33m\u001b[0m\u001b[0m\n\u001b[0;32m      4\u001b[0m \u001b[1;31m# Word Tokenization and Preprocessing\u001b[0m\u001b[1;33m\u001b[0m\u001b[1;33m\u001b[0m\u001b[1;33m\u001b[0m\u001b[0m\n\u001b[0;32m      5\u001b[0m \u001b[0mtokens\u001b[0m \u001b[1;33m=\u001b[0m \u001b[1;33m[\u001b[0m\u001b[1;33m]\u001b[0m  \u001b[1;31m# List to store all tokens in the text\u001b[0m\u001b[1;33m\u001b[0m\u001b[1;33m\u001b[0m\u001b[0m\n",
      "\u001b[1;32m~\\anaconda3\\lib\\site-packages\\nltk\\tokenize\\__init__.py\u001b[0m in \u001b[0;36msent_tokenize\u001b[1;34m(text, language)\u001b[0m\n\u001b[0;32m    105\u001b[0m     \"\"\"\n\u001b[0;32m    106\u001b[0m     \u001b[0mtokenizer\u001b[0m \u001b[1;33m=\u001b[0m \u001b[0mload\u001b[0m\u001b[1;33m(\u001b[0m\u001b[1;34mf\"tokenizers/punkt/{language}.pickle\"\u001b[0m\u001b[1;33m)\u001b[0m\u001b[1;33m\u001b[0m\u001b[1;33m\u001b[0m\u001b[0m\n\u001b[1;32m--> 107\u001b[1;33m     \u001b[1;32mreturn\u001b[0m \u001b[0mtokenizer\u001b[0m\u001b[1;33m.\u001b[0m\u001b[0mtokenize\u001b[0m\u001b[1;33m(\u001b[0m\u001b[0mtext\u001b[0m\u001b[1;33m)\u001b[0m\u001b[1;33m\u001b[0m\u001b[1;33m\u001b[0m\u001b[0m\n\u001b[0m\u001b[0;32m    108\u001b[0m \u001b[1;33m\u001b[0m\u001b[0m\n\u001b[0;32m    109\u001b[0m \u001b[1;33m\u001b[0m\u001b[0m\n",
      "\u001b[1;32m~\\anaconda3\\lib\\site-packages\\nltk\\tokenize\\punkt.py\u001b[0m in \u001b[0;36mtokenize\u001b[1;34m(self, text, realign_boundaries)\u001b[0m\n\u001b[0;32m   1274\u001b[0m         \u001b[0mGiven\u001b[0m \u001b[0ma\u001b[0m \u001b[0mtext\u001b[0m\u001b[1;33m,\u001b[0m \u001b[0mreturns\u001b[0m \u001b[0ma\u001b[0m \u001b[0mlist\u001b[0m \u001b[0mof\u001b[0m \u001b[0mthe\u001b[0m \u001b[0msentences\u001b[0m \u001b[1;32min\u001b[0m \u001b[0mthat\u001b[0m \u001b[0mtext\u001b[0m\u001b[1;33m.\u001b[0m\u001b[1;33m\u001b[0m\u001b[1;33m\u001b[0m\u001b[0m\n\u001b[0;32m   1275\u001b[0m         \"\"\"\n\u001b[1;32m-> 1276\u001b[1;33m         \u001b[1;32mreturn\u001b[0m \u001b[0mlist\u001b[0m\u001b[1;33m(\u001b[0m\u001b[0mself\u001b[0m\u001b[1;33m.\u001b[0m\u001b[0msentences_from_text\u001b[0m\u001b[1;33m(\u001b[0m\u001b[0mtext\u001b[0m\u001b[1;33m,\u001b[0m \u001b[0mrealign_boundaries\u001b[0m\u001b[1;33m)\u001b[0m\u001b[1;33m)\u001b[0m\u001b[1;33m\u001b[0m\u001b[1;33m\u001b[0m\u001b[0m\n\u001b[0m\u001b[0;32m   1277\u001b[0m \u001b[1;33m\u001b[0m\u001b[0m\n\u001b[0;32m   1278\u001b[0m     \u001b[1;32mdef\u001b[0m \u001b[0mdebug_decisions\u001b[0m\u001b[1;33m(\u001b[0m\u001b[0mself\u001b[0m\u001b[1;33m,\u001b[0m \u001b[0mtext\u001b[0m\u001b[1;33m)\u001b[0m\u001b[1;33m:\u001b[0m\u001b[1;33m\u001b[0m\u001b[1;33m\u001b[0m\u001b[0m\n",
      "\u001b[1;32m~\\anaconda3\\lib\\site-packages\\nltk\\tokenize\\punkt.py\u001b[0m in \u001b[0;36msentences_from_text\u001b[1;34m(self, text, realign_boundaries)\u001b[0m\n\u001b[0;32m   1330\u001b[0m         \u001b[0mfollows\u001b[0m \u001b[0mthe\u001b[0m \u001b[0mperiod\u001b[0m\u001b[1;33m.\u001b[0m\u001b[1;33m\u001b[0m\u001b[1;33m\u001b[0m\u001b[0m\n\u001b[0;32m   1331\u001b[0m         \"\"\"\n\u001b[1;32m-> 1332\u001b[1;33m         \u001b[1;32mreturn\u001b[0m \u001b[1;33m[\u001b[0m\u001b[0mtext\u001b[0m\u001b[1;33m[\u001b[0m\u001b[0ms\u001b[0m\u001b[1;33m:\u001b[0m\u001b[0me\u001b[0m\u001b[1;33m]\u001b[0m \u001b[1;32mfor\u001b[0m \u001b[0ms\u001b[0m\u001b[1;33m,\u001b[0m \u001b[0me\u001b[0m \u001b[1;32min\u001b[0m \u001b[0mself\u001b[0m\u001b[1;33m.\u001b[0m\u001b[0mspan_tokenize\u001b[0m\u001b[1;33m(\u001b[0m\u001b[0mtext\u001b[0m\u001b[1;33m,\u001b[0m \u001b[0mrealign_boundaries\u001b[0m\u001b[1;33m)\u001b[0m\u001b[1;33m]\u001b[0m\u001b[1;33m\u001b[0m\u001b[1;33m\u001b[0m\u001b[0m\n\u001b[0m\u001b[0;32m   1333\u001b[0m \u001b[1;33m\u001b[0m\u001b[0m\n\u001b[0;32m   1334\u001b[0m     \u001b[1;32mdef\u001b[0m \u001b[0m_match_potential_end_contexts\u001b[0m\u001b[1;33m(\u001b[0m\u001b[0mself\u001b[0m\u001b[1;33m,\u001b[0m \u001b[0mtext\u001b[0m\u001b[1;33m)\u001b[0m\u001b[1;33m:\u001b[0m\u001b[1;33m\u001b[0m\u001b[1;33m\u001b[0m\u001b[0m\n",
      "\u001b[1;32m~\\anaconda3\\lib\\site-packages\\nltk\\tokenize\\punkt.py\u001b[0m in \u001b[0;36m<listcomp>\u001b[1;34m(.0)\u001b[0m\n\u001b[0;32m   1330\u001b[0m         \u001b[0mfollows\u001b[0m \u001b[0mthe\u001b[0m \u001b[0mperiod\u001b[0m\u001b[1;33m.\u001b[0m\u001b[1;33m\u001b[0m\u001b[1;33m\u001b[0m\u001b[0m\n\u001b[0;32m   1331\u001b[0m         \"\"\"\n\u001b[1;32m-> 1332\u001b[1;33m         \u001b[1;32mreturn\u001b[0m \u001b[1;33m[\u001b[0m\u001b[0mtext\u001b[0m\u001b[1;33m[\u001b[0m\u001b[0ms\u001b[0m\u001b[1;33m:\u001b[0m\u001b[0me\u001b[0m\u001b[1;33m]\u001b[0m \u001b[1;32mfor\u001b[0m \u001b[0ms\u001b[0m\u001b[1;33m,\u001b[0m \u001b[0me\u001b[0m \u001b[1;32min\u001b[0m \u001b[0mself\u001b[0m\u001b[1;33m.\u001b[0m\u001b[0mspan_tokenize\u001b[0m\u001b[1;33m(\u001b[0m\u001b[0mtext\u001b[0m\u001b[1;33m,\u001b[0m \u001b[0mrealign_boundaries\u001b[0m\u001b[1;33m)\u001b[0m\u001b[1;33m]\u001b[0m\u001b[1;33m\u001b[0m\u001b[1;33m\u001b[0m\u001b[0m\n\u001b[0m\u001b[0;32m   1333\u001b[0m \u001b[1;33m\u001b[0m\u001b[0m\n\u001b[0;32m   1334\u001b[0m     \u001b[1;32mdef\u001b[0m \u001b[0m_match_potential_end_contexts\u001b[0m\u001b[1;33m(\u001b[0m\u001b[0mself\u001b[0m\u001b[1;33m,\u001b[0m \u001b[0mtext\u001b[0m\u001b[1;33m)\u001b[0m\u001b[1;33m:\u001b[0m\u001b[1;33m\u001b[0m\u001b[1;33m\u001b[0m\u001b[0m\n",
      "\u001b[1;32m~\\anaconda3\\lib\\site-packages\\nltk\\tokenize\\punkt.py\u001b[0m in \u001b[0;36mspan_tokenize\u001b[1;34m(self, text, realign_boundaries)\u001b[0m\n\u001b[0;32m   1320\u001b[0m         \u001b[1;32mif\u001b[0m \u001b[0mrealign_boundaries\u001b[0m\u001b[1;33m:\u001b[0m\u001b[1;33m\u001b[0m\u001b[1;33m\u001b[0m\u001b[0m\n\u001b[0;32m   1321\u001b[0m             \u001b[0mslices\u001b[0m \u001b[1;33m=\u001b[0m \u001b[0mself\u001b[0m\u001b[1;33m.\u001b[0m\u001b[0m_realign_boundaries\u001b[0m\u001b[1;33m(\u001b[0m\u001b[0mtext\u001b[0m\u001b[1;33m,\u001b[0m \u001b[0mslices\u001b[0m\u001b[1;33m)\u001b[0m\u001b[1;33m\u001b[0m\u001b[1;33m\u001b[0m\u001b[0m\n\u001b[1;32m-> 1322\u001b[1;33m         \u001b[1;32mfor\u001b[0m \u001b[0msentence\u001b[0m \u001b[1;32min\u001b[0m \u001b[0mslices\u001b[0m\u001b[1;33m:\u001b[0m\u001b[1;33m\u001b[0m\u001b[1;33m\u001b[0m\u001b[0m\n\u001b[0m\u001b[0;32m   1323\u001b[0m             \u001b[1;32myield\u001b[0m \u001b[1;33m(\u001b[0m\u001b[0msentence\u001b[0m\u001b[1;33m.\u001b[0m\u001b[0mstart\u001b[0m\u001b[1;33m,\u001b[0m \u001b[0msentence\u001b[0m\u001b[1;33m.\u001b[0m\u001b[0mstop\u001b[0m\u001b[1;33m)\u001b[0m\u001b[1;33m\u001b[0m\u001b[1;33m\u001b[0m\u001b[0m\n\u001b[0;32m   1324\u001b[0m \u001b[1;33m\u001b[0m\u001b[0m\n",
      "\u001b[1;32m~\\anaconda3\\lib\\site-packages\\nltk\\tokenize\\punkt.py\u001b[0m in \u001b[0;36m_realign_boundaries\u001b[1;34m(self, text, slices)\u001b[0m\n\u001b[0;32m   1419\u001b[0m         \"\"\"\n\u001b[0;32m   1420\u001b[0m         \u001b[0mrealign\u001b[0m \u001b[1;33m=\u001b[0m \u001b[1;36m0\u001b[0m\u001b[1;33m\u001b[0m\u001b[1;33m\u001b[0m\u001b[0m\n\u001b[1;32m-> 1421\u001b[1;33m         \u001b[1;32mfor\u001b[0m \u001b[0msentence1\u001b[0m\u001b[1;33m,\u001b[0m \u001b[0msentence2\u001b[0m \u001b[1;32min\u001b[0m \u001b[0m_pair_iter\u001b[0m\u001b[1;33m(\u001b[0m\u001b[0mslices\u001b[0m\u001b[1;33m)\u001b[0m\u001b[1;33m:\u001b[0m\u001b[1;33m\u001b[0m\u001b[1;33m\u001b[0m\u001b[0m\n\u001b[0m\u001b[0;32m   1422\u001b[0m             \u001b[0msentence1\u001b[0m \u001b[1;33m=\u001b[0m \u001b[0mslice\u001b[0m\u001b[1;33m(\u001b[0m\u001b[0msentence1\u001b[0m\u001b[1;33m.\u001b[0m\u001b[0mstart\u001b[0m \u001b[1;33m+\u001b[0m \u001b[0mrealign\u001b[0m\u001b[1;33m,\u001b[0m \u001b[0msentence1\u001b[0m\u001b[1;33m.\u001b[0m\u001b[0mstop\u001b[0m\u001b[1;33m)\u001b[0m\u001b[1;33m\u001b[0m\u001b[1;33m\u001b[0m\u001b[0m\n\u001b[0;32m   1423\u001b[0m             \u001b[1;32mif\u001b[0m \u001b[1;32mnot\u001b[0m \u001b[0msentence2\u001b[0m\u001b[1;33m:\u001b[0m\u001b[1;33m\u001b[0m\u001b[1;33m\u001b[0m\u001b[0m\n",
      "\u001b[1;32m~\\anaconda3\\lib\\site-packages\\nltk\\tokenize\\punkt.py\u001b[0m in \u001b[0;36m_pair_iter\u001b[1;34m(iterator)\u001b[0m\n\u001b[0;32m    316\u001b[0m     \u001b[0miterator\u001b[0m \u001b[1;33m=\u001b[0m \u001b[0miter\u001b[0m\u001b[1;33m(\u001b[0m\u001b[0miterator\u001b[0m\u001b[1;33m)\u001b[0m\u001b[1;33m\u001b[0m\u001b[1;33m\u001b[0m\u001b[0m\n\u001b[0;32m    317\u001b[0m     \u001b[1;32mtry\u001b[0m\u001b[1;33m:\u001b[0m\u001b[1;33m\u001b[0m\u001b[1;33m\u001b[0m\u001b[0m\n\u001b[1;32m--> 318\u001b[1;33m         \u001b[0mprev\u001b[0m \u001b[1;33m=\u001b[0m \u001b[0mnext\u001b[0m\u001b[1;33m(\u001b[0m\u001b[0miterator\u001b[0m\u001b[1;33m)\u001b[0m\u001b[1;33m\u001b[0m\u001b[1;33m\u001b[0m\u001b[0m\n\u001b[0m\u001b[0;32m    319\u001b[0m     \u001b[1;32mexcept\u001b[0m \u001b[0mStopIteration\u001b[0m\u001b[1;33m:\u001b[0m\u001b[1;33m\u001b[0m\u001b[1;33m\u001b[0m\u001b[0m\n\u001b[0;32m    320\u001b[0m         \u001b[1;32mreturn\u001b[0m\u001b[1;33m\u001b[0m\u001b[1;33m\u001b[0m\u001b[0m\n",
      "\u001b[1;32m~\\anaconda3\\lib\\site-packages\\nltk\\tokenize\\punkt.py\u001b[0m in \u001b[0;36m_slices_from_text\u001b[1;34m(self, text)\u001b[0m\n\u001b[0;32m   1393\u001b[0m     \u001b[1;32mdef\u001b[0m \u001b[0m_slices_from_text\u001b[0m\u001b[1;33m(\u001b[0m\u001b[0mself\u001b[0m\u001b[1;33m,\u001b[0m \u001b[0mtext\u001b[0m\u001b[1;33m)\u001b[0m\u001b[1;33m:\u001b[0m\u001b[1;33m\u001b[0m\u001b[1;33m\u001b[0m\u001b[0m\n\u001b[0;32m   1394\u001b[0m         \u001b[0mlast_break\u001b[0m \u001b[1;33m=\u001b[0m \u001b[1;36m0\u001b[0m\u001b[1;33m\u001b[0m\u001b[1;33m\u001b[0m\u001b[0m\n\u001b[1;32m-> 1395\u001b[1;33m         \u001b[1;32mfor\u001b[0m \u001b[0mmatch\u001b[0m\u001b[1;33m,\u001b[0m \u001b[0mcontext\u001b[0m \u001b[1;32min\u001b[0m \u001b[0mself\u001b[0m\u001b[1;33m.\u001b[0m\u001b[0m_match_potential_end_contexts\u001b[0m\u001b[1;33m(\u001b[0m\u001b[0mtext\u001b[0m\u001b[1;33m)\u001b[0m\u001b[1;33m:\u001b[0m\u001b[1;33m\u001b[0m\u001b[1;33m\u001b[0m\u001b[0m\n\u001b[0m\u001b[0;32m   1396\u001b[0m             \u001b[1;32mif\u001b[0m \u001b[0mself\u001b[0m\u001b[1;33m.\u001b[0m\u001b[0mtext_contains_sentbreak\u001b[0m\u001b[1;33m(\u001b[0m\u001b[0mcontext\u001b[0m\u001b[1;33m)\u001b[0m\u001b[1;33m:\u001b[0m\u001b[1;33m\u001b[0m\u001b[1;33m\u001b[0m\u001b[0m\n\u001b[0;32m   1397\u001b[0m                 \u001b[1;32myield\u001b[0m \u001b[0mslice\u001b[0m\u001b[1;33m(\u001b[0m\u001b[0mlast_break\u001b[0m\u001b[1;33m,\u001b[0m \u001b[0mmatch\u001b[0m\u001b[1;33m.\u001b[0m\u001b[0mend\u001b[0m\u001b[1;33m(\u001b[0m\u001b[1;33m)\u001b[0m\u001b[1;33m)\u001b[0m\u001b[1;33m\u001b[0m\u001b[1;33m\u001b[0m\u001b[0m\n",
      "\u001b[1;32m~\\anaconda3\\lib\\site-packages\\nltk\\tokenize\\punkt.py\u001b[0m in \u001b[0;36m_match_potential_end_contexts\u001b[1;34m(self, text)\u001b[0m\n\u001b[0;32m   1379\u001b[0m             \u001b[1;31m# Find the word before the current match\u001b[0m\u001b[1;33m\u001b[0m\u001b[1;33m\u001b[0m\u001b[1;33m\u001b[0m\u001b[0m\n\u001b[0;32m   1380\u001b[0m             \u001b[0msplit\u001b[0m \u001b[1;33m=\u001b[0m \u001b[0mtext\u001b[0m\u001b[1;33m[\u001b[0m\u001b[1;33m:\u001b[0m \u001b[0mmatch\u001b[0m\u001b[1;33m.\u001b[0m\u001b[0mstart\u001b[0m\u001b[1;33m(\u001b[0m\u001b[1;33m)\u001b[0m\u001b[1;33m]\u001b[0m\u001b[1;33m.\u001b[0m\u001b[0mrsplit\u001b[0m\u001b[1;33m(\u001b[0m\u001b[0mmaxsplit\u001b[0m\u001b[1;33m=\u001b[0m\u001b[1;36m1\u001b[0m\u001b[1;33m)\u001b[0m\u001b[1;33m\u001b[0m\u001b[1;33m\u001b[0m\u001b[0m\n\u001b[1;32m-> 1381\u001b[1;33m             \u001b[0mbefore_start\u001b[0m \u001b[1;33m=\u001b[0m \u001b[0mlen\u001b[0m\u001b[1;33m(\u001b[0m\u001b[0msplit\u001b[0m\u001b[1;33m[\u001b[0m\u001b[1;36m0\u001b[0m\u001b[1;33m]\u001b[0m\u001b[1;33m)\u001b[0m \u001b[1;32mif\u001b[0m \u001b[0mlen\u001b[0m\u001b[1;33m(\u001b[0m\u001b[0msplit\u001b[0m\u001b[1;33m)\u001b[0m \u001b[1;33m==\u001b[0m \u001b[1;36m2\u001b[0m \u001b[1;32melse\u001b[0m \u001b[1;36m0\u001b[0m\u001b[1;33m\u001b[0m\u001b[1;33m\u001b[0m\u001b[0m\n\u001b[0m\u001b[0;32m   1382\u001b[0m             \u001b[0mbefore_words\u001b[0m\u001b[1;33m[\u001b[0m\u001b[0mmatch\u001b[0m\u001b[1;33m]\u001b[0m \u001b[1;33m=\u001b[0m \u001b[0msplit\u001b[0m\u001b[1;33m[\u001b[0m\u001b[1;33m-\u001b[0m\u001b[1;36m1\u001b[0m\u001b[1;33m]\u001b[0m \u001b[1;32mif\u001b[0m \u001b[0msplit\u001b[0m \u001b[1;32melse\u001b[0m \u001b[1;34m\"\"\u001b[0m\u001b[1;33m\u001b[0m\u001b[1;33m\u001b[0m\u001b[0m\n\u001b[0;32m   1383\u001b[0m             \u001b[0mmatches\u001b[0m\u001b[1;33m.\u001b[0m\u001b[0mappend\u001b[0m\u001b[1;33m(\u001b[0m\u001b[0mmatch\u001b[0m\u001b[1;33m)\u001b[0m\u001b[1;33m\u001b[0m\u001b[1;33m\u001b[0m\u001b[0m\n",
      "\u001b[1;31mKeyboardInterrupt\u001b[0m: "
     ]
    }
   ],
   "source": [
    "# Tokenize sentences using NLTK\n",
    "sentences_strings_ted  = nltk.tokenize.sent_tokenize(input_text_clean)\n",
    "print(sentences_strings_ted)\n",
    "# Word Tokenization and Preprocessing\n",
    "tokens = []  # List to store all tokens in the text\n",
    "sentences_ted = []  # List to store tokenized words for each sentence\n",
    "\n",
    "# Loop through each sentence\n",
    "for sentence in sentences_strings_ted:\n",
    "    # Word Tokenization\n",
    "    words = nltk.tokenize.word_tokenize(sentence)\n",
    "\n",
    "    # Remove Non-Letter Characters and Lowercasing\n",
    "    words = [word.lower() for word in words if word.isalpha()]\n",
    "\n",
    "    # Extend the tokens list with the words in the current sentence\n",
    "    tokens.extend(words)\n",
    "    \n",
    "    # Append the list of tokenized words for the current sentence\n",
    "    sentences_ted.append(words)"
   ]
  },
  {
   "cell_type": "code",
   "execution_count": 69,
   "metadata": {},
   "outputs": [],
   "source": [
    "# Save the variables using pickle\n",
    "with open('preprocessed_data.pkl', 'wb') as file:\n",
    "    pickle.dump((sentences_strings_ted, tokens, sentences_ted), file)"
   ]
  },
  {
   "cell_type": "code",
   "execution_count": 20,
   "metadata": {},
   "outputs": [],
   "source": [
    "# Load data from the file\n",
    "with open('preprocessed_data.pkl', 'rb') as file:\n",
    "    sentences_strings_ted, tokens, sentences_ted = pickle.load(file)"
   ]
  },
  {
   "cell_type": "markdown",
   "metadata": {
    "id": "sUiFC0I5j31i"
   },
   "source": [
    "<h4>Exercise 1.4 (1 Point)</h4>"
   ]
  },
  {
   "cell_type": "markdown",
   "metadata": {
    "id": "7OICTv5Ybj9Q"
   },
   "source": [
    "The good side of converting all capital letters is, that we reduce the volume of the vocabulary. Thereby we dont differentiate between the the words \"today\" and \"Today\". But there is a caveat. Can you think of any downside to this process?"
   ]
  },
  {
   "cell_type": "markdown",
   "metadata": {
    "id": "Gk6zmQjNcvmo"
   },
   "source": [
    "**Your answer goes here:**\n",
    "1. Becomes for difficult to distinguish personal names from not personal names\n",
    "2. Makes sentiment analysis more difficult (some words are emphisised with capital letters)\n"
   ]
  },
  {
   "cell_type": "markdown",
   "metadata": {
    "id": "e_8Pg_RQYglD"
   },
   "source": [
    "Let's quickly see how large our vocabulary turned out to be!"
   ]
  },
  {
   "cell_type": "code",
   "execution_count": 21,
   "metadata": {
    "id": "ooe1gfSZaBuG"
   },
   "outputs": [
    {
     "data": {
      "text/plain": [
       "273649"
      ]
     },
     "execution_count": 21,
     "metadata": {},
     "output_type": "execute_result"
    }
   ],
   "source": [
    "len(sentences_ted)"
   ]
  },
  {
   "cell_type": "markdown",
   "metadata": {
    "id": "SCjkAGHjaBuN"
   },
   "source": [
    "### Part 2: Word Frequencies"
   ]
  },
  {
   "cell_type": "markdown",
   "metadata": {
    "id": "hvLMH0iXaBuO"
   },
   "source": [
    "<h4>Exercise 2.1 (2 Points)</h4>"
   ]
  },
  {
   "cell_type": "markdown",
   "metadata": {
    "id": "Pm9092DdYskT"
   },
   "source": [
    "Your next task will be to store the counts of the top 1,000 most frequent words in a list called `counts_ted_top1000` ! There are multiple ways to do this. You can have a look at the Counter-Function (https://docs.python.org/2/library/collections.html) or the FreqDist-Function (https://www.kite.com/python/docs/nltk.FreqDist). If you don't trust any of these, you can of course build your own function. In the end we want an array with tuples of the structure:\n",
    "\n",
    "counts_ted_top1000 =  [(WordA,FrequencyA),(WordB,FrequencyB)]"
   ]
  },
  {
   "cell_type": "code",
   "execution_count": 22,
   "metadata": {
    "id": "LcQzY8iWaBuP"
   },
   "outputs": [],
   "source": [
    "# Calculate word frequencies using NLTK FreqDist\n",
    "word_frequencies = nltk.FreqDist(tokens)\n",
    "\n",
    "# Get the 1000 most common words and their counts\n",
    "counts_ted_top1000 = word_frequencies.most_common(1000)"
   ]
  },
  {
   "cell_type": "code",
   "execution_count": 23,
   "metadata": {},
   "outputs": [
    {
     "name": "stdout",
     "output_type": "stream",
     "text": [
      "The 1000 most frequent words are:\n",
      "the, 207745\n",
      "and, 149171\n",
      "to, 124886\n",
      "of, 114750\n",
      "a, 105005\n",
      "that, 95167\n",
      "i, 83056\n",
      "in, 77904\n",
      "it, 74734\n",
      "you, 70956\n",
      "we, 67657\n",
      "is, 64390\n",
      "this, 49273\n",
      "so, 36932\n",
      "they, 33105\n",
      "was, 31902\n",
      "for, 29675\n",
      "are, 28494\n",
      "have, 27846\n",
      "but, 26748\n",
      "what, 26519\n",
      "do, 26073\n",
      "on, 25831\n",
      "with, 24719\n",
      "can, 21488\n",
      "about, 21249\n",
      "there, 21049\n",
      "be, 20190\n",
      "as, 19483\n",
      "not, 19308\n",
      "at, 19226\n",
      "all, 18890\n",
      "my, 17930\n",
      "one, 17165\n",
      "people, 16724\n",
      "like, 16046\n",
      "if, 15866\n",
      "from, 15458\n",
      "now, 14392\n",
      "our, 14065\n",
      "he, 13995\n",
      "an, 13917\n",
      "just, 13897\n",
      "these, 13881\n",
      "or, 13841\n",
      "when, 13280\n",
      "because, 12881\n",
      "very, 12368\n",
      "me, 12296\n",
      "out, 12048\n",
      "by, 11867\n",
      "them, 11593\n",
      "how, 11565\n",
      "know, 11488\n",
      "going, 11364\n",
      "up, 11130\n",
      "had, 11091\n",
      "more, 10907\n",
      "would, 10579\n",
      "were, 10533\n",
      "think, 10463\n",
      "who, 10447\n",
      "see, 10175\n",
      "your, 10094\n",
      "their, 10031\n",
      "which, 10024\n",
      "here, 9895\n",
      "really, 9675\n",
      "get, 9378\n",
      "then, 9224\n",
      "us, 8836\n",
      "world, 8811\n",
      "some, 8620\n",
      "time, 8567\n",
      "has, 8449\n",
      "laughter, 8422\n",
      "could, 8105\n",
      "actually, 8014\n",
      "into, 7862\n",
      "where, 7722\n",
      "way, 7691\n",
      "did, 7668\n",
      "will, 7618\n",
      "things, 7538\n",
      "years, 7519\n",
      "other, 7285\n",
      "no, 7184\n",
      "go, 7142\n",
      "want, 7120\n",
      "been, 6936\n",
      "make, 6793\n",
      "well, 6789\n",
      "she, 6423\n",
      "right, 6420\n",
      "said, 6361\n",
      "something, 6304\n",
      "those, 6293\n",
      "first, 6174\n",
      "than, 5970\n",
      "much, 5905\n",
      "two, 5856\n",
      "also, 5697\n",
      "look, 5673\n",
      "thing, 5561\n",
      "new, 5551\n",
      "got, 5539\n",
      "little, 5500\n",
      "back, 5331\n",
      "over, 5312\n",
      "most, 5306\n",
      "say, 5282\n",
      "even, 5220\n",
      "his, 5196\n",
      "only, 5142\n",
      "work, 5119\n",
      "life, 5024\n",
      "need, 4934\n",
      "many, 4930\n",
      "take, 4898\n",
      "does, 4668\n",
      "applause, 4619\n",
      "lot, 4549\n",
      "kind, 4542\n",
      "why, 4507\n",
      "good, 4462\n",
      "around, 4449\n",
      "every, 4398\n",
      "different, 4295\n",
      "let, 4134\n",
      "her, 4121\n",
      "through, 4070\n",
      "down, 4038\n",
      "same, 4021\n",
      "come, 3966\n",
      "being, 3847\n",
      "use, 3760\n",
      "doing, 3706\n",
      "day, 3626\n",
      "put, 3610\n",
      "any, 3451\n",
      "three, 3433\n",
      "called, 3374\n",
      "today, 3368\n",
      "percent, 3303\n",
      "made, 3245\n",
      "after, 3241\n",
      "thank, 3234\n",
      "ca, 3229\n",
      "tell, 3199\n",
      "great, 3121\n",
      "find, 3081\n",
      "human, 3062\n",
      "fact, 3022\n",
      "should, 3019\n",
      "talk, 2993\n",
      "year, 2972\n",
      "change, 2966\n",
      "another, 2922\n",
      "started, 2914\n",
      "idea, 2901\n",
      "last, 2868\n",
      "own, 2859\n",
      "big, 2855\n",
      "before, 2852\n",
      "its, 2844\n",
      "better, 2771\n",
      "never, 2766\n",
      "give, 2758\n",
      "thought, 2741\n",
      "went, 2728\n",
      "might, 2705\n",
      "important, 2668\n",
      "again, 2636\n",
      "together, 2622\n",
      "able, 2610\n",
      "still, 2602\n",
      "problem, 2580\n",
      "next, 2567\n",
      "course, 2554\n",
      "part, 2540\n",
      "system, 2527\n",
      "him, 2515\n",
      "each, 2504\n",
      "start, 2480\n",
      "show, 2477\n",
      "off, 2458\n",
      "ago, 2454\n",
      "came, 2451\n",
      "story, 2427\n",
      "brain, 2377\n",
      "few, 2373\n",
      "bit, 2337\n",
      "used, 2330\n",
      "between, 2325\n",
      "place, 2321\n",
      "women, 2287\n",
      "technology, 2284\n",
      "too, 2259\n",
      "mean, 2245\n",
      "question, 2221\n",
      "data, 2217\n",
      "water, 2215\n",
      "maybe, 2195\n",
      "found, 2193\n",
      "love, 2188\n",
      "looking, 2167\n",
      "example, 2160\n",
      "long, 2149\n",
      "done, 2113\n",
      "point, 2096\n",
      "end, 2095\n",
      "wanted, 2074\n",
      "understand, 2043\n",
      "sort, 2034\n",
      "ever, 2019\n",
      "call, 2011\n",
      "children, 2011\n",
      "school, 2008\n",
      "live, 2007\n",
      "always, 1996\n",
      "whole, 1987\n",
      "trying, 1979\n",
      "real, 1976\n",
      "may, 1975\n",
      "away, 1942\n",
      "try, 1940\n",
      "feel, 1936\n",
      "believe, 1935\n",
      "person, 1921\n",
      "everything, 1918\n",
      "help, 1914\n",
      "working, 1909\n",
      "four, 1889\n",
      "million, 1876\n",
      "country, 1865\n",
      "thinking, 1833\n",
      "using, 1829\n",
      "information, 1828\n",
      "number, 1787\n",
      "second, 1781\n",
      "money, 1773\n",
      "means, 1772\n",
      "took, 1766\n",
      "times, 1758\n",
      "kids, 1739\n",
      "power, 1734\n",
      "become, 1720\n",
      "create, 1714\n",
      "five, 1714\n",
      "music, 1707\n",
      "space, 1704\n",
      "man, 1690\n",
      "home, 1689\n",
      "design, 1674\n",
      "small, 1673\n",
      "getting, 1652\n",
      "old, 1641\n",
      "enough, 1633\n",
      "future, 1630\n",
      "best, 1625\n",
      "quite, 1622\n",
      "without, 1617\n",
      "happened, 1593\n",
      "sense, 1589\n",
      "city, 1589\n",
      "comes, 1585\n",
      "probably, 1581\n",
      "talking, 1574\n",
      "making, 1571\n",
      "less, 1564\n",
      "am, 1559\n",
      "social, 1552\n",
      "left, 1548\n",
      "energy, 1536\n",
      "building, 1529\n",
      "light, 1525\n",
      "food, 1524\n",
      "science, 1522\n",
      "ask, 1520\n",
      "told, 1520\n",
      "interesting, 1519\n",
      "body, 1496\n",
      "pretty, 1492\n",
      "anything, 1479\n",
      "lives, 1478\n",
      "countries, 1469\n",
      "coming, 1462\n",
      "such, 1459\n",
      "family, 1450\n",
      "stuff, 1446\n",
      "play, 1441\n",
      "hard, 1436\n",
      "dollars, 1427\n",
      "imagine, 1417\n",
      "across, 1415\n",
      "moment, 1406\n",
      "saw, 1401\n",
      "okay, 1401\n",
      "while, 1400\n",
      "happen, 1393\n",
      "earth, 1390\n",
      "having, 1387\n",
      "once, 1383\n",
      "later, 1383\n",
      "build, 1381\n",
      "men, 1381\n",
      "experience, 1378\n",
      "makes, 1376\n",
      "asked, 1375\n",
      "video, 1374\n",
      "side, 1363\n",
      "living, 1360\n",
      "says, 1358\n",
      "seen, 1356\n",
      "half, 1350\n",
      "ways, 1348\n",
      "else, 1346\n",
      "simple, 1345\n",
      "room, 1345\n",
      "case, 1334\n",
      "almost, 1334\n",
      "yet, 1331\n",
      "health, 1328\n",
      "days, 1327\n",
      "young, 1324\n",
      "nothing, 1322\n",
      "happens, 1310\n",
      "bad, 1307\n",
      "goes, 1303\n",
      "move, 1300\n",
      "high, 1295\n",
      "care, 1293\n",
      "reason, 1292\n",
      "africa, 1283\n",
      "process, 1282\n",
      "learn, 1280\n",
      "states, 1279\n",
      "inside, 1274\n",
      "someone, 1272\n",
      "project, 1268\n",
      "remember, 1265\n",
      "both, 1255\n",
      "computer, 1252\n",
      "picture, 1251\n",
      "whether, 1249\n",
      "problems, 1247\n",
      "saying, 1239\n",
      "basically, 1238\n",
      "already, 1235\n",
      "within, 1234\n",
      "far, 1225\n",
      "community, 1214\n",
      "looked, 1214\n",
      "single, 1213\n",
      "myself, 1212\n",
      "often, 1198\n",
      "possible, 1198\n",
      "global, 1193\n",
      "sure, 1192\n",
      "planet, 1190\n",
      "business, 1190\n",
      "everybody, 1189\n",
      "mind, 1188\n",
      "wrong, 1179\n",
      "set, 1178\n",
      "yes, 1177\n",
      "billion, 1176\n",
      "keep, 1172\n",
      "answer, 1170\n",
      "book, 1169\n",
      "public, 1167\n",
      "hand, 1165\n",
      "history, 1163\n",
      "hope, 1161\n",
      "sometimes, 1161\n",
      "true, 1159\n",
      "guy, 1157\n",
      "child, 1152\n",
      "car, 1151\n",
      "instead, 1149\n",
      "six, 1148\n",
      "oh, 1148\n",
      "ideas, 1146\n",
      "months, 1145\n",
      "looks, 1145\n",
      "matter, 1135\n",
      "amazing, 1130\n",
      "united, 1130\n",
      "top, 1127\n",
      "war, 1122\n",
      "since, 1121\n",
      "bring, 1119\n",
      "open, 1118\n",
      "cells, 1118\n",
      "heard, 1109\n",
      "until, 1108\n",
      "job, 1108\n",
      "woman, 1108\n",
      "government, 1105\n",
      "research, 1087\n",
      "read, 1085\n",
      "words, 1085\n",
      "control, 1080\n",
      "age, 1075\n",
      "somebody, 1067\n",
      "group, 1066\n",
      "face, 1057\n",
      "friends, 1052\n",
      "beautiful, 1051\n",
      "knew, 1047\n",
      "under, 1045\n",
      "couple, 1045\n",
      "turn, 1043\n",
      "yeah, 1041\n",
      "order, 1039\n",
      "form, 1036\n",
      "internet, 1030\n",
      "built, 1029\n",
      "though, 1029\n",
      "nature, 1026\n",
      "piece, 1024\n",
      "everyone, 1019\n",
      "line, 1015\n",
      "stop, 1014\n",
      "places, 1013\n",
      "learned, 1010\n",
      "decided, 1007\n",
      "language, 1003\n",
      "study, 1001\n",
      "works, 1000\n",
      "became, 999\n",
      "exactly, 998\n",
      "night, 998\n",
      "cancer, 996\n",
      "completely, 996\n",
      "society, 995\n",
      "run, 994\n",
      "taking, 993\n",
      "education, 992\n",
      "against, 989\n",
      "stories, 986\n",
      "america, 981\n",
      "species, 980\n",
      "share, 977\n",
      "gets, 973\n",
      "model, 972\n",
      "state, 971\n",
      "questions, 970\n",
      "word, 968\n",
      "company, 963\n",
      "mother, 963\n",
      "turns, 961\n",
      "ourselves, 959\n",
      "god, 959\n",
      "happening, 958\n",
      "hear, 957\n",
      "head, 956\n",
      "themselves, 956\n",
      "must, 955\n",
      "middle, 953\n",
      "itself, 950\n",
      "heart, 948\n",
      "rather, 942\n",
      "kinds, 941\n",
      "students, 940\n",
      "name, 937\n",
      "disease, 928\n",
      "huge, 925\n",
      "large, 924\n",
      "art, 921\n",
      "hours, 921\n",
      "universe, 917\n",
      "created, 917\n",
      "front, 913\n",
      "animals, 913\n",
      "house, 913\n",
      "environment, 908\n",
      "worked, 906\n",
      "minutes, 905\n",
      "ones, 903\n",
      "perhaps, 899\n",
      "sound, 897\n",
      "along, 889\n",
      "finally, 885\n",
      "level, 885\n",
      "others, 884\n",
      "past, 883\n",
      "thousands, 878\n",
      "lots, 871\n",
      "early, 871\n",
      "least, 870\n",
      "ted, 863\n",
      "guys, 861\n",
      "news, 860\n",
      "particular, 860\n",
      "per, 859\n",
      "figure, 856\n",
      "black, 856\n",
      "game, 856\n",
      "entire, 853\n",
      "happy, 853\n",
      "gave, 850\n",
      "india, 847\n",
      "learning, 846\n",
      "during, 845\n",
      "systems, 840\n",
      "third, 839\n",
      "outside, 835\n",
      "difference, 835\n",
      "machine, 831\n",
      "taken, 830\n",
      "natural, 828\n",
      "changed, 823\n",
      "given, 822\n",
      "leave, 820\n",
      "american, 812\n",
      "cities, 808\n",
      "behind, 807\n",
      "audience, 804\n",
      "air, 803\n",
      "cell, 801\n",
      "difficult, 798\n",
      "china, 797\n",
      "takes, 795\n",
      "companies, 794\n",
      "close, 791\n",
      "reality, 788\n",
      "seeing, 787\n",
      "yourself, 785\n",
      "area, 785\n",
      "turned, 782\n",
      "eyes, 778\n",
      "easy, 772\n",
      "century, 772\n",
      "team, 766\n",
      "culture, 762\n",
      "moving, 762\n",
      "york, 761\n",
      "population, 761\n",
      "began, 758\n",
      "free, 758\n",
      "whatever, 756\n",
      "seven, 755\n",
      "terms, 755\n",
      "simply, 753\n",
      "ok, 752\n",
      "needs, 752\n",
      "beginning, 750\n",
      "realized, 748\n",
      "needed, 747\n",
      "local, 744\n",
      "father, 744\n",
      "media, 743\n",
      "parents, 742\n",
      "image, 740\n",
      "walk, 738\n",
      "hands, 735\n",
      "parts, 734\n",
      "view, 731\n",
      "felt, 729\n",
      "death, 725\n",
      "powerful, 724\n",
      "economic, 724\n",
      "certain, 722\n",
      "spend, 722\n",
      "humans, 721\n",
      "phone, 719\n",
      "market, 717\n",
      "wonderful, 713\n",
      "week, 713\n",
      "ocean, 713\n",
      "longer, 709\n",
      "grow, 705\n",
      "tried, 705\n",
      "white, 704\n",
      "center, 703\n",
      "common, 702\n",
      "full, 697\n",
      "fish, 696\n",
      "deal, 696\n",
      "gone, 695\n",
      "political, 695\n",
      "interested, 695\n",
      "amount, 694\n",
      "size, 692\n",
      "weeks, 691\n",
      "land, 689\n",
      "oil, 689\n",
      "spent, 688\n",
      "quickly, 688\n",
      "national, 685\n",
      "lost, 683\n",
      "paper, 682\n",
      "opportunity, 678\n",
      "poor, 678\n",
      "scale, 678\n",
      "known, 677\n",
      "either, 673\n",
      "girl, 673\n",
      "cost, 672\n",
      "patients, 672\n",
      "changes, 670\n",
      "buy, 669\n",
      "sitting, 669\n",
      "ability, 667\n",
      "blue, 667\n",
      "red, 665\n",
      "growth, 662\n",
      "challenge, 662\n",
      "friend, 661\n",
      "eight, 661\n",
      "green, 660\n",
      "shows, 655\n",
      "rest, 654\n",
      "south, 653\n",
      "write, 653\n",
      "field, 651\n",
      "based, 647\n",
      "step, 646\n",
      "climate, 642\n",
      "incredible, 641\n",
      "test, 640\n",
      "born, 639\n",
      "physical, 637\n",
      "scientists, 637\n",
      "morning, 636\n",
      "program, 636\n",
      "street, 635\n",
      "hundreds, 635\n",
      "met, 635\n",
      "feeling, 634\n",
      "behavior, 634\n",
      "growing, 633\n",
      "voice, 631\n",
      "average, 630\n",
      "economy, 630\n",
      "dna, 630\n",
      "surface, 629\n",
      "complex, 629\n",
      "pay, 625\n",
      "animal, 625\n",
      "structure, 625\n",
      "areas, 621\n",
      "attention, 621\n",
      "access, 621\n",
      "anyone, 620\n",
      "value, 620\n",
      "watch, 618\n",
      "absolutely, 616\n",
      "feet, 616\n",
      "brought, 613\n",
      "speak, 612\n",
      "numbers, 609\n",
      "images, 607\n",
      "realize, 606\n",
      "die, 604\n",
      "wrote, 603\n",
      "literally, 602\n",
      "understanding, 602\n",
      "books, 601\n",
      "movement, 597\n",
      "seems, 595\n",
      "alone, 595\n",
      "giving, 595\n",
      "stage, 593\n",
      "eat, 593\n",
      "telling, 592\n",
      "starting, 591\n",
      "wo, 589\n",
      "hold, 588\n",
      "nice, 588\n",
      "knowledge, 586\n",
      "kid, 586\n",
      "developed, 585\n",
      "ground, 584\n",
      "millions, 584\n",
      "individual, 584\n",
      "tools, 579\n",
      "force, 579\n",
      "support, 578\n",
      "result, 577\n",
      "running, 577\n",
      "miles, 576\n",
      "online, 576\n",
      "risk, 574\n",
      "act, 574\n",
      "deep, 573\n",
      "technologies, 573\n",
      "lab, 570\n",
      "nobody, 568\n",
      "medical, 568\n",
      "development, 567\n",
      "map, 565\n",
      "north, 565\n",
      "law, 565\n",
      "sea, 564\n",
      "issue, 562\n",
      "personal, 562\n",
      "blood, 561\n",
      "fear, 561\n",
      "recently, 560\n",
      "bottom, 557\n",
      "forward, 557\n",
      "theory, 557\n",
      "cars, 556\n",
      "key, 555\n",
      "material, 554\n",
      "especially, 551\n",
      "girls, 549\n",
      "short, 547\n",
      "soon, 544\n",
      "playing, 542\n",
      "sun, 541\n",
      "choice, 541\n",
      "cut, 541\n",
      "europe, 541\n",
      "talked, 541\n",
      "patient, 541\n",
      "gives, 540\n",
      "discovered, 540\n",
      "relationship, 540\n",
      "clear, 538\n",
      "creating, 537\n",
      "normal, 537\n",
      "fly, 535\n",
      "showed, 533\n",
      "seem, 532\n",
      "chance, 531\n",
      "asking, 531\n",
      "issues, 530\n",
      "computers, 529\n",
      "university, 528\n",
      "allow, 528\n",
      "fun, 528\n",
      "several, 527\n",
      "save, 527\n",
      "industry, 527\n",
      "innovation, 526\n",
      "tiny, 526\n",
      "rate, 525\n",
      "baby, 525\n",
      "developing, 525\n",
      "film, 525\n",
      "dark, 524\n",
      "digital, 524\n",
      "english, 524\n",
      "solve, 524\n",
      "solution, 522\n",
      "focus, 522\n",
      "situation, 521\n",
      "network, 521\n",
      "special, 519\n",
      "reasons, 518\n",
      "meet, 517\n",
      "begin, 516\n",
      "knows, 516\n",
      "pictures, 515\n",
      "anybody, 515\n",
      "color, 514\n",
      "beyond, 514\n",
      "generation, 513\n",
      "impact, 513\n",
      "fast, 512\n",
      "please, 512\n",
      "designed, 512\n",
      "produce, 509\n",
      "changing, 508\n",
      "wall, 508\n",
      "resources, 506\n",
      "major, 506\n",
      "ice, 505\n",
      "likely, 504\n",
      "dead, 504\n",
      "cool, 503\n",
      "available, 502\n",
      "becomes, 502\n",
      "obviously, 502\n",
      "experiment, 502\n",
      "groups, 501\n",
      "robot, 501\n",
      "rights, 501\n",
      "incredibly, 500\n",
      "type, 500\n",
      "truth, 499\n",
      "bigger, 499\n",
      "box, 499\n",
      "shape, 498\n",
      "guess, 497\n",
      "stay, 495\n",
      "drugs, 495\n",
      "writing, 495\n",
      "involved, 493\n",
      "perfect, 491\n",
      "effect, 489\n",
      "product, 489\n",
      "evidence, 489\n",
      "putting, 488\n",
      "google, 487\n",
      "message, 487\n",
      "stand, 487\n",
      "similar, 486\n",
      "office, 486\n",
      "sounds, 486\n",
      "drug, 484\n",
      "basic, 482\n",
      "indeed, 482\n",
      "modern, 481\n",
      "towards, 481\n",
      "listen, 480\n",
      "send, 479\n",
      "boy, 479\n",
      "evolution, 478\n",
      "violence, 477\n",
      "explain, 476\n",
      "certainly, 476\n",
      "died, 476\n",
      "teach, 475\n",
      "journey, 474\n",
      "security, 474\n",
      "lived, 473\n",
      "revolution, 473\n",
      "general, 473\n",
      "approach, 472\n",
      "international, 472\n",
      "web, 472\n",
      "chinese, 472\n",
      "hit, 470\n",
      "games, 469\n",
      "communities, 468\n",
      "drive, 468\n",
      "potential, 466\n",
      "device, 465\n",
      "crazy, 465\n",
      "camera, 464\n",
      "pick, 464\n",
      "walking, 463\n",
      "starts, 463\n",
      "ready, 463\n",
      "scientific, 462\n",
      "rules, 462\n",
      "present, 461\n",
      "examples, 458\n",
      "reach, 458\n",
      "measure, 455\n",
      "particularly, 455\n",
      "led, 455\n",
      "west, 455\n",
      "cause, 454\n",
      "totally, 454\n",
      "suddenly, 453\n",
      "hundred, 453\n",
      "software, 453\n",
      "solar, 453\n",
      "success, 452\n",
      "worth, 452\n",
      "eventually, 449\n",
      "eye, 449\n",
      "among, 445\n",
      "action, 445\n",
      "nine, 443\n",
      "college, 442\n",
      "code, 442\n",
      "showing, 441\n",
      "notice, 440\n",
      "sit, 440\n",
      "period, 440\n",
      "democracy, 439\n",
      "develop, 439\n",
      "sex, 439\n",
      "break, 438\n",
      "onto, 438\n",
      "quality, 437\n",
      "plants, 437\n",
      "favorite, 437\n",
      "higher, 437\n",
      "dream, 436\n",
      "memory, 436\n",
      "hospital, 436\n",
      "schools, 435\n",
      "everywhere, 435\n",
      "moved, 435\n",
      "wants, 434\n",
      "anyway, 434\n",
      "extremely, 433\n",
      "movie, 433\n",
      "biggest, 433\n",
      "individuals, 433\n",
      "response, 433\n",
      "medicine, 432\n",
      "class, 432\n",
      "wait, 432\n",
      "table, 431\n",
      "month, 431\n",
      "trust, 431\n",
      "largest, 430\n",
      "choose, 428\n",
      "watching, 427\n",
      "worse, 427\n",
      "creative, 427\n",
      "add, 426\n",
      "results, 426\n",
      "road, 426\n",
      "grew, 425\n",
      "exciting, 425\n",
      "jobs, 425\n",
      "plant, 422\n",
      "doctor, 422\n",
      "materials, 422\n",
      "essentially, 421\n",
      "low, 420\n",
      "continue, 420\n",
      "strong, 419\n",
      "further, 419\n",
      "happiness, 419\n",
      "safe, 418\n",
      "including, 418\n",
      "fall, 418\n",
      "carbon, 418\n",
      "lead, 417\n",
      "son, 417\n",
      "objects, 417\n",
      "hour, 417\n",
      "plan, 416\n",
      "mass, 416\n",
      "extraordinary, 416\n",
      "organization, 415\n",
      "object, 415\n",
      "named, 415\n",
      "conversation, 415\n",
      "poverty, 415\n",
      "leaders, 414\n",
      "usually, 414\n",
      "vision, 414\n",
      "east, 413\n",
      "student, 413\n",
      "skin, 412\n",
      "allowed, 412\n",
      "s, 412\n",
      "supposed, 411\n",
      "projects, 411\n",
      "families, 410\n",
      "police, 408\n",
      "models, 408\n",
      "cases, 406\n",
      "faster, 405\n",
      "somewhere, 405\n",
      "buildings, 405\n",
      "standing, 404\n",
      "shown, 404\n",
      "door, 404\n",
      "goal, 403\n",
      "role, 402\n",
      "teachers, 401\n",
      "follow, 401\n",
      "tree, 401\n",
      "older, 400\n",
      "expect, 400\n",
      "fight, 399\n",
      "taught, 399\n",
      "connected, 398\n",
      "freedom, 398\n",
      "village, 398\n",
      "mine, 397\n",
      "wife, 397\n",
      "finding, 396\n",
      "sent, 396\n",
      "serious, 396\n",
      "meant, 396\n",
      "tells, 396\n",
      "robots, 394\n",
      "crisis, 393\n",
      "however, 393\n",
      "trees, 393\n",
      "positive, 393\n",
      "mom, 392\n",
      "wish, 392\n",
      "meaning, 391\n",
      "conditions, 390\n",
      "speed, 390\n",
      "killed, 390\n",
      "sleep, 389\n",
      "somehow, 388\n",
      "smart, 388\n",
      "impossible, 386\n",
      "screen, 386\n",
      "thanks, 386\n",
      "brains, 386\n",
      "fire, 386\n",
      "compassion, 386\n",
      "successful, 385\n",
      "fundamental, 385\n",
      "lose, 384\n",
      "bunch, 384\n",
      "increase, 384\n",
      "protect, 383\n",
      "visual, 383\n",
      "truly, 382\n",
      "pieces, 382\n",
      "late, 382\n",
      "above, 381\n"
     ]
    }
   ],
   "source": [
    "# Print the top 1000 most frequent words\n",
    "print(\"The 1000 most frequent words are:\")\n",
    "for word, frequency in counts_ted_top1000:\n",
    "    print(f\"{word}, {frequency}\")"
   ]
  },
  {
   "cell_type": "markdown",
   "metadata": {
    "id": "hti5NFdGaBuX"
   },
   "source": [
    "The following code is going to plot a histogram with the counts of the  top-30 words as bars."
   ]
  },
  {
   "cell_type": "code",
   "execution_count": 24,
   "metadata": {
    "id": "M5BMmYmhcvmt"
   },
   "outputs": [
    {
     "data": {
      "image/png": "[encoded data removed]",
      "text/plain": [
       "<Figure size 432x288 with 1 Axes>"
      ]
     },
     "metadata": {
      "needs_background": "light"
     },
     "output_type": "display_data"
    }
   ],
   "source": [
    "mostfreqn=30 # Here we define how many of them we want to see in the diagramm\n",
    "frequency=[y for (x,y) in counts_ted_top1000][:mostfreqn]\n",
    "word=[x for (x,y) in counts_ted_top1000][:mostfreqn]\n",
    "indices = np.arange(len(counts_ted_top1000[:mostfreqn]))\n",
    "plt.bar(indices, frequency, color='r')\n",
    "plt.xticks(indices, word, rotation='vertical')\n",
    "plt.tight_layout()\n",
    "plt.show()"
   ]
  },
  {
   "cell_type": "markdown",
   "metadata": {
    "id": "WssgORGecvmu"
   },
   "source": [
    "Exercise: You can clearly see, that many of the most common words are redundant and not very meaningful. These types of words are called **stopwords**. What problems can stop words create in the NLP and why it is important to remove them?"
   ]
  },
  {
   "cell_type": "markdown",
   "metadata": {
    "id": "mQ3Fvsteb-Hi"
   },
   "source": [
    "**Your answer goes here:**\n",
    "1. They do not carry much of a meaning\n",
    "2. Can increase the dimensionality of the data"
   ]
  },
  {
   "cell_type": "markdown",
   "metadata": {
    "id": "8r19KPrAH4iM"
   },
   "source": [
    "<h4>Exercise 2.2 (2 Points)</h4>"
   ]
  },
  {
   "cell_type": "markdown",
   "metadata": {
    "id": "imgTrP0jcCXz"
   },
   "source": [
    "Now, write a function that removes the stopwords from the variable `counts_ted_top1000` and save it as `counts_ted_top1000_no_stopword`. Use the code for visualization and spot the differences.\n",
    "\n",
    "The structure in the end should look like this: counts_ted_top1000_no_stopword = [(WordA,FrequencyA),(WordB,FrequencyB)]"
   ]
  },
  {
   "cell_type": "code",
   "execution_count": 25,
   "metadata": {},
   "outputs": [],
   "source": [
    "from nltk.corpus import stopwords"
   ]
  },
  {
   "cell_type": "code",
   "execution_count": 26,
   "metadata": {
    "id": "x7dpvwqyPuzS"
   },
   "outputs": [],
   "source": [
    "# Create a set of English stopwords\n",
    "stop_words = set(stopwords.words('english'))\n",
    "\n",
    "# Filter out stopwords from the list of tokens\n",
    "filtered_sentence = [w for w in tokens if not w.lower() in stop_words]\n",
    "\n",
    "# Create a frequency distribution of the filtered tokens\n",
    "word_frequencies = nltk.FreqDist(filtered_sentence)\n",
    "\n",
    "# Get the 1000 most common words after removing stopwords\n",
    "counts_ted_top1000_no_stopword = word_frequencies.most_common(1000)"
   ]
  },
  {
   "cell_type": "code",
   "execution_count": 27,
   "metadata": {
    "id": "tSo2313hK8n2"
   },
   "outputs": [
    {
     "data": {
      "image/png": "[encoded data removed]",
      "text/plain": [
       "<Figure size 432x288 with 1 Axes>"
      ]
     },
     "metadata": {
      "needs_background": "light"
     },
     "output_type": "display_data"
    }
   ],
   "source": [
    "mostfreqn=30 # Here we define how many of them we want to see in the diagramm\n",
    "frequency=[y for (x,y) in counts_ted_top1000_no_stopword][:mostfreqn]\n",
    "word=[x for (x,y) in counts_ted_top1000_no_stopword][:mostfreqn]\n",
    "indices = np.arange(len(counts_ted_top1000_no_stopword[:mostfreqn]))\n",
    "plt.bar(indices, frequency, color='r')\n",
    "plt.xticks(indices, word, rotation='vertical')\n",
    "plt.tight_layout()\n",
    "plt.show()"
   ]
  },
  {
   "cell_type": "markdown",
   "metadata": {
    "id": "ntM-fNW1cVPj"
   },
   "source": [
    "#### Wordcloud Visualization"
   ]
  },
  {
   "cell_type": "markdown",
   "metadata": {
    "id": "zp5LcPxWvIRG"
   },
   "source": [
    "The below so-called **wordcloud** shows the most frequent words in a larger font and the less frequent ones in a smaller font size. It's a quick and cool way of visualizing the most frequent words!"
   ]
  },
  {
   "cell_type": "code",
   "execution_count": 28,
   "metadata": {
    "id": "W1AucK5tMc0l"
   },
   "outputs": [
    {
     "data": {
      "image/png": "[encoded data removed]",
      "text/plain": [
       "<Figure size 720x360 with 1 Axes>"
      ]
     },
     "metadata": {
      "needs_background": "light"
     },
     "output_type": "display_data"
    }
   ],
   "source": [
    "# Create a dictionary that maps words to their frequencies\n",
    "counts_ted_top1000_no_stopword = {word: count for word, count in counts_ted_top1000_no_stopword}\n",
    "\n",
    "# Create a WordCloud object\n",
    "wordcloud = WordCloud(width=800, height=400, background_color='white')\n",
    "\n",
    "# Generate the word cloud\n",
    "wordcloud.generate_from_frequencies(counts_ted_top1000_no_stopword)\n",
    "\n",
    "# Display the word cloud using matplotlib\n",
    "plt.figure(figsize=(10, 5))\n",
    "plt.imshow(wordcloud, interpolation='bilinear')\n",
    "plt.axis(\"off\")\n",
    "plt.show()"
   ]
  },
  {
   "cell_type": "markdown",
   "metadata": {
    "id": "2oRdD3e4aBud"
   },
   "source": [
    "### Part 3: Generating the Word Embeddings with Word2Vec"
   ]
  },
  {
   "cell_type": "markdown",
   "metadata": {
    "id": "kp0JGmKWhrNd"
   },
   "source": [
    "Now it is time to run the embedding model. Gensim has an already implemented model that you can use. Using the provided model is enough for the purposes of our notebook. If you want to dive deeper into the topic - this youtube video https://www.youtube.com/watch?v=kKDYtZfriI8 could be a great guidance for you to get started."
   ]
  },
  {
   "cell_type": "code",
   "execution_count": 29,
   "metadata": {
    "id": "A_t4-aiTaBue"
   },
   "outputs": [],
   "source": [
    "model_ted = Word2Vec(sentences_ted)"
   ]
  },
  {
   "cell_type": "markdown",
   "metadata": {
    "id": "KKYd7ZemaBuj"
   },
   "source": [
    "### Part 4: Inspection of our learned representations/embeddings (3 Points)\n"
   ]
  },
  {
   "cell_type": "markdown",
   "metadata": {
    "id": "P7VvU82AaBuj"
   },
   "source": [
    "Now that we have a model that captures the word embeddings, we can use it to explore properties of the words in the text."
   ]
  },
  {
   "cell_type": "markdown",
   "metadata": {
    "id": "QFV06B1xcvm2"
   },
   "source": [
    "First, code a line that looks at the embedding of one individual word/token.  What does the representation of \"house\" look like in the embedding model? You may refer to the following gensim docs for functions, that might help you https://radimrehurek.com/gensim/models/keyedvectors.html). This will give you 1 point."
   ]
  },
  {
   "cell_type": "code",
   "execution_count": 30,
   "metadata": {
    "id": "Tec0Q5WBcvm3"
   },
   "outputs": [
    {
     "name": "stdout",
     "output_type": "stream",
     "text": [
      "Vector for 'house': [-0.46434417 -0.29509994  0.42627537 -1.0309836   1.26637    -0.395657\n",
      " -0.8882464  -2.2583926  -0.7258356   0.7165687   0.2666645  -0.05269838\n",
      " -0.68417335  1.4012575   1.2564899   0.69246566 -0.33647928  0.34063822\n",
      "  1.1245798  -0.41095227  0.3072063  -0.36453193  0.6521911  -0.10972846\n",
      "  0.72026837  0.20348586  0.5730618   0.49809098 -1.9197153  -1.0554398\n",
      "  1.6923529  -0.28961116 -2.0501075   0.505125   -1.2638857   0.38717797\n",
      " -1.311967    0.07575388 -1.919429    0.9119634   1.4423063   1.2865795\n",
      " -1.2378172   0.6337643  -0.73466843  0.6995707   0.9889787  -1.6260515\n",
      "  1.4181049   0.26745784 -0.0746371  -2.0845165  -0.62299204 -0.66533464\n",
      "  0.09443172  0.14958377  0.46457317  1.0182687   0.59578896  0.6253717\n",
      "  0.54095227  1.2779647  -0.5785377  -0.3101451   1.5591544   0.7326784\n",
      " -0.30944815 -1.3493277  -0.1644367   0.8512089  -0.25284073  0.30107826\n",
      "  0.08515931  0.07380744 -0.70092463  0.93429387 -0.96518713 -1.4058365\n",
      "  0.58646    -0.2984331   0.849272    0.00436395 -1.2227607   1.0260305\n",
      "  0.00395824 -0.25496647  0.898661    1.0285554   1.4027438  -0.72548646\n",
      "  0.9039441   0.92975974 -0.2505539  -1.1532581  -0.86103195  0.44430837\n",
      "  1.0278057   0.11114167  1.0035836  -0.8608588 ]\n"
     ]
    }
   ],
   "source": [
    "from gensim.models import KeyedVectors\n",
    "# Extracting the word vector for the word \"house\" from the trained Word2Vec model\n",
    "word_vector = model_ted.wv[\"house\"]\n",
    "\n",
    "# Printing the vector representation of the word\n",
    "print(f\"Vector for 'house': {word_vector}\")"
   ]
  },
  {
   "cell_type": "markdown",
   "metadata": {
    "id": "-8yGLeYpcvm6"
   },
   "source": [
    "The next task for you is to output the most similar word to \"town\"? This will also give you 1 point."
   ]
  },
  {
   "cell_type": "code",
   "execution_count": 31,
   "metadata": {
    "id": "Bs4MIsdpcvm7"
   },
   "outputs": [
    {
     "name": "stdout",
     "output_type": "stream",
     "text": [
      "Most similar word: ('village', 0.8671132326126099)\n"
     ]
    }
   ],
   "source": [
    "# Find the most similar word to \"town\" using the Word2Vec model\n",
    "similar_words = model_ted.wv.similar_by_word(\"town\")\n",
    "\n",
    "# Print the most similar word\n",
    "print(f\"Most similar word: {similar_words[0]}\")"
   ]
  },
  {
   "cell_type": "markdown",
   "metadata": {
    "id": "fCdHf0Sdcvm8"
   },
   "source": [
    "Finally, we want to find out how similar the words \"town\" and \"house\" are. Again: 1 point for this!"
   ]
  },
  {
   "cell_type": "code",
   "execution_count": 32,
   "metadata": {
    "id": "3E9opXOTcvm8"
   },
   "outputs": [
    {
     "name": "stdout",
     "output_type": "stream",
     "text": [
      "Similarity between 'town' and 'house': 0.7464375495910645\n"
     ]
    }
   ],
   "source": [
    "# Calculate the similarity between \"town\" and \"house\" using the Word2Vec model\n",
    "similarity = model_ted.wv.similarity(\"town\", \"house\")\n",
    "\n",
    "# Print the similarity score\n",
    "print(f\"Similarity between 'town' and 'house': {similarity}\")"
   ]
  },
  {
   "cell_type": "markdown",
   "metadata": {
    "id": "p7I5G-KpqbfH"
   },
   "source": [
    "<h4>Exercise 4.1 (3 Points)</h4>\n"
   ]
  },
  {
   "cell_type": "markdown",
   "metadata": {
    "id": "dgCMx111ej8l"
   },
   "source": [
    "Now that we have generated our embeddings, let's test some classical ideas:\n",
    "implement the following formula. Print out the 10 words, that are most similar to this formula: <br>\n",
    "$King-Man+Woman=???$\n",
    "There are two ways of computing similarity in word embeddings:\n",
    " - https://tedboy.github.io/nlps/generated/generated/gensim.models.Word2Vec.most_similar.html\n",
    " - https://tedboy.github.io/nlps/generated/generated/gensim.models.Word2Vec.most_similar_cosmul.html\n",
    "You should try out both! In this case one of them is better, but both of them are valid methods for computing similarity in the word-space."
   ]
  },
  {
   "cell_type": "code",
   "execution_count": 33,
   "metadata": {
    "id": "S0y_5MLlqiMx"
   },
   "outputs": [
    {
     "name": "stdout",
     "output_type": "stream",
     "text": [
      "Most similar words to 'woman' and 'king' (excluding 'man'): [('president', 0.7955580353736877), ('german', 0.7510263919830322), ('obama', 0.7397924661636353), ('luther', 0.7392354011535645), ('queen', 0.7391101717948914), ('minister', 0.7391051650047302), ('nelson', 0.7319698333740234), ('french', 0.7273588180541992), ('james', 0.725019633769989), ('royal', 0.7210901975631714)]\n"
     ]
    }
   ],
   "source": [
    "# Find words that are similar to \"woman\" and \"king\" but dissimilar to \"man\" using Word2Vec model\n",
    "similar_words = model_ted.wv.most_similar(positive=['woman', 'king'], negative=['man'], topn=10)\n",
    "\n",
    "print(f\"Most similar words to 'woman' and 'king' (excluding 'man'): {similar_words}\")\n"
   ]
  },
  {
   "cell_type": "markdown",
   "metadata": {
    "id": "7XcdY5s-cvnA"
   },
   "source": [
    "Exercise 4.2 (2 Points)"
   ]
  },
  {
   "cell_type": "markdown",
   "metadata": {
    "id": "kejO0Tmze1tq"
   },
   "source": [
    "The expected outcome (Queen) should be one of the top ten most similar words. But there are also a lot of words, that you would not expect. Think about where how these words might be connected to the formula. Take your time and understand why some of the words (luther, mary, dr, president) might be in this list."
   ]
  },
  {
   "cell_type": "markdown",
   "metadata": {
    "id": "RapTRcHce7Ua"
   },
   "source": [
    "There can be some biases in the text????"
   ]
  },
  {
   "cell_type": "markdown",
   "metadata": {
    "id": "TMtpPOVtaBup"
   },
   "source": [
    "#### t-SNE visualization\n",
    "\n",
    "We will use the t-SNE algorithm, given below, for visualization. The so-called t-Distributed Stochastic Neighbor Embedding (t-SNE) is an unsupervised and non-linear machine learning technique. It is commonly used for visualizing high dimensional data (just like our high dimensional vectors). You do not have to understand the code, its purpose is simply to give you an idea of how the data is arranged in high dimensional space."
   ]
  },
  {
   "cell_type": "markdown",
   "metadata": {
    "id": "DLyQ3qoAcvnB"
   },
   "source": [
    "<h4>Exercise 4.3 (2 Points)</h4>"
   ]
  },
  {
   "cell_type": "markdown",
   "metadata": {
    "id": "JpHG2ON9fH2j"
   },
   "source": [
    "To use the t-SNE code below, first put a list of the top 50 words (as **strings**, without **stopwords**) into a variable `words_top_ted`."
   ]
  },
  {
   "cell_type": "code",
   "execution_count": 34,
   "metadata": {
    "id": "xXstzIntcvnC"
   },
   "outputs": [],
   "source": [
    "# Select the top 50 words from the list of counts (counts_ted_top1000_no_stopword)\n",
    "words_top_ted = list(counts_ted_top1000_no_stopword.keys())[:50]"
   ]
  },
  {
   "cell_type": "markdown",
   "metadata": {
    "id": "RSJ1AAzEcvnC"
   },
   "source": [
    "The following code gets the corresponding vectors from the model, assuming it's called `model_ted`:"
   ]
  },
  {
   "cell_type": "code",
   "execution_count": 35,
   "metadata": {
    "id": "0-lLF1lZaBus"
   },
   "outputs": [],
   "source": [
    "# This assumes words_top_ted is a list of strings, the top 250 words\n",
    "words_top_vec_ted = model_ted.wv[words_top_ted]"
   ]
  },
  {
   "cell_type": "markdown",
   "metadata": {
    "id": "7-NxjQVMcvnE"
   },
   "source": [
    "The next few lines are for the t-SNE visualization."
   ]
  },
  {
   "cell_type": "code",
   "execution_count": 36,
   "metadata": {
    "id": "HeJF5ut9aBux"
   },
   "outputs": [],
   "source": [
    "from sklearn.manifold import TSNE\n",
    "tsne = TSNE(n_components=2, random_state=0)\n",
    "words_top_ted_tsne = tsne.fit_transform(words_top_vec_ted)"
   ]
  },
  {
   "cell_type": "code",
   "execution_count": 37,
   "metadata": {
    "id": "J2VgYLIZaBu2"
   },
   "outputs": [
    {
     "data": {
      "text/html": [
       "\n",
       "  <div class=\"bk-root\" id=\"24d5114e-3ea7-4462-8293-10adc11a8c76\" data-root-id=\"1004\"></div>\n"
      ]
     },
     "metadata": {},
     "output_type": "display_data"
    },
    {
     "data": {
      "application/javascript": [
       "(function(root) {\n",
       "  function embed_document(root) {\n",
       "  const docs_json = {\"0994fe07-1bc9-4488-89e0-a42e02e7c135\":{\"defs\":[],\"roots\":{\"references\":[{\"attributes\":{\"below\":[{\"id\":\"1015\"}],\"center\":[{\"id\":\"1018\"},{\"id\":\"1022\"},{\"id\":\"1039\"}],\"left\":[{\"id\":\"1019\"}],\"renderers\":[{\"id\":\"1037\"}],\"title\":{\"id\":\"1005\"},\"toolbar\":{\"id\":\"1027\"},\"toolbar_location\":\"above\",\"x_range\":{\"id\":\"1007\"},\"x_scale\":{\"id\":\"1011\"},\"y_range\":{\"id\":\"1009\"},\"y_scale\":{\"id\":\"1013\"}},\"id\":\"1004\",\"subtype\":\"Figure\",\"type\":\"Plot\"},{\"attributes\":{\"coordinates\":null,\"group\":null,\"source\":{\"id\":\"1032\"},\"text\":{\"field\":\"names\"},\"text_align\":{\"value\":\"center\"},\"text_color\":{\"value\":\"#555555\"},\"text_font_size\":{\"value\":\"8pt\"},\"x\":{\"field\":\"x1\"},\"y\":{\"field\":\"x2\"},\"y_offset\":{\"value\":6}},\"id\":\"1039\",\"type\":\"LabelSet\"},{\"attributes\":{\"fill_alpha\":{\"value\":0.1},\"fill_color\":{\"value\":\"#1f77b4\"},\"hatch_alpha\":{\"value\":0.1},\"line_alpha\":{\"value\":0.1},\"line_color\":{\"value\":\"#1f77b4\"},\"size\":{\"value\":8},\"x\":{\"field\":\"x1\"},\"y\":{\"field\":\"x2\"}},\"id\":\"1035\",\"type\":\"Scatter\"},{\"attributes\":{\"data\":{\"names\":[\"one\",\"people\",\"like\",\"know\",\"going\",\"would\",\"think\",\"see\",\"really\",\"get\",\"us\",\"world\",\"time\",\"laughter\",\"could\",\"actually\",\"way\",\"things\",\"years\",\"go\",\"want\",\"make\",\"well\",\"right\",\"said\",\"something\",\"first\",\"much\",\"two\",\"also\",\"look\",\"thing\",\"new\",\"got\",\"little\",\"back\",\"say\",\"even\",\"work\",\"life\",\"need\",\"many\",\"take\",\"applause\",\"lot\",\"kind\",\"good\",\"around\",\"every\",\"different\"],\"x1\":{\"__ndarray__\":\"QwWnwfQUg0EtH3W/82ebQBUIsEGtU6NB+OOrPu80gcHtcsO9Y3wVwR9lDcGlY9fBL62eQRm8gsArIHRBpG2oQPz9RUE5nAxBtE0TwkKNOcHTwnRBOLy9wYjvGMBRdSBBtMsOwSQuzUDB1JjBQhqLQVWqccGKKYhA8nNCwFoB4T+QrPBBJMvowEp4zcHbNWLBjYW8wH2BL0FbnEbB+KygwfokU0EhOslBEpGFwbu2AMF/mt1BjZVvQC6M2sCpRY9BqV7bwVL/aEA=\",\"dtype\":\"float32\",\"order\":\"little\",\"shape\":[50]},\"x2\":{\"__ndarray__\":\"HgUnQS26pcEE0CZBIrxfQSf0r0F3wwVC/LmVQWzATsHCcvy+m/qRwWc2/UHbWhNAEz8CQdNdgEAIKQxCehiQv5scF0EtJl7B2XdIwPggx8Frn75BcIS7wQB608CgGzdAt9+iQcfOosHxG6NBgR8mwciPR0HfGMvAP8PUwQkhasFYRidBSfFAwQl4IsEx7mFAhRhyQSdCpsDSvq3A+0rtvzc4lUHY2UvBlPGnwW1O90BIZITAKWGvQFwc8r/G/7K+G7WGQUd74UE=\",\"dtype\":\"float32\",\"order\":\"little\",\"shape\":[50]}},\"selected\":{\"id\":\"1049\"},\"selection_policy\":{\"id\":\"1048\"}},\"id\":\"1032\",\"type\":\"ColumnDataSource\"},{\"attributes\":{\"coordinates\":null,\"data_source\":{\"id\":\"1032\"},\"glyph\":{\"id\":\"1034\"},\"group\":null,\"hover_glyph\":null,\"muted_glyph\":{\"id\":\"1036\"},\"nonselection_glyph\":{\"id\":\"1035\"},\"view\":{\"id\":\"1038\"}},\"id\":\"1037\",\"type\":\"GlyphRenderer\"},{\"attributes\":{},\"id\":\"1023\",\"type\":\"PanTool\"},{\"attributes\":{\"fill_alpha\":{\"value\":0.2},\"fill_color\":{\"value\":\"#1f77b4\"},\"hatch_alpha\":{\"value\":0.2},\"line_alpha\":{\"value\":0.2},\"line_color\":{\"value\":\"#1f77b4\"},\"size\":{\"value\":8},\"x\":{\"field\":\"x1\"},\"y\":{\"field\":\"x2\"}},\"id\":\"1036\",\"type\":\"Scatter\"},{\"attributes\":{},\"id\":\"1026\",\"type\":\"SaveTool\"},{\"attributes\":{},\"id\":\"1025\",\"type\":\"ResetTool\"},{\"attributes\":{\"axis\":{\"id\":\"1015\"},\"coordinates\":null,\"group\":null,\"ticker\":null},\"id\":\"1018\",\"type\":\"Grid\"},{\"attributes\":{\"fill_color\":{\"value\":\"#1f77b4\"},\"line_color\":{\"value\":\"#1f77b4\"},\"size\":{\"value\":8},\"x\":{\"field\":\"x1\"},\"y\":{\"field\":\"x2\"}},\"id\":\"1034\",\"type\":\"Scatter\"},{\"attributes\":{\"coordinates\":null,\"group\":null,\"text\":\"word2vec T-SNE for most common words\"},\"id\":\"1005\",\"type\":\"Title\"},{\"attributes\":{\"tools\":[{\"id\":\"1023\"},{\"id\":\"1024\"},{\"id\":\"1025\"},{\"id\":\"1026\"}]},\"id\":\"1027\",\"type\":\"Toolbar\"},{\"attributes\":{},\"id\":\"1024\",\"type\":\"WheelZoomTool\"},{\"attributes\":{},\"id\":\"1009\",\"type\":\"DataRange1d\"},{\"attributes\":{},\"id\":\"1046\",\"type\":\"BasicTickFormatter\"},{\"attributes\":{\"coordinates\":null,\"formatter\":{\"id\":\"1043\"},\"group\":null,\"major_label_policy\":{\"id\":\"1044\"},\"ticker\":{\"id\":\"1020\"}},\"id\":\"1019\",\"type\":\"LinearAxis\"},{\"attributes\":{\"source\":{\"id\":\"1032\"}},\"id\":\"1038\",\"type\":\"CDSView\"},{\"attributes\":{},\"id\":\"1043\",\"type\":\"BasicTickFormatter\"},{\"attributes\":{},\"id\":\"1016\",\"type\":\"BasicTicker\"},{\"attributes\":{},\"id\":\"1011\",\"type\":\"LinearScale\"},{\"attributes\":{},\"id\":\"1044\",\"type\":\"AllLabels\"},{\"attributes\":{},\"id\":\"1048\",\"type\":\"UnionRenderers\"},{\"attributes\":{},\"id\":\"1013\",\"type\":\"LinearScale\"},{\"attributes\":{},\"id\":\"1047\",\"type\":\"AllLabels\"},{\"attributes\":{},\"id\":\"1007\",\"type\":\"DataRange1d\"},{\"attributes\":{\"coordinates\":null,\"formatter\":{\"id\":\"1046\"},\"group\":null,\"major_label_policy\":{\"id\":\"1047\"},\"ticker\":{\"id\":\"1016\"}},\"id\":\"1015\",\"type\":\"LinearAxis\"},{\"attributes\":{},\"id\":\"1049\",\"type\":\"Selection\"},{\"attributes\":{},\"id\":\"1020\",\"type\":\"BasicTicker\"},{\"attributes\":{\"axis\":{\"id\":\"1019\"},\"coordinates\":null,\"dimension\":1,\"group\":null,\"ticker\":null},\"id\":\"1022\",\"type\":\"Grid\"}],\"root_ids\":[\"1004\"]},\"title\":\"Bokeh Application\",\"version\":\"2.4.3\"}};\n",
       "  const render_items = [{\"docid\":\"0994fe07-1bc9-4488-89e0-a42e02e7c135\",\"root_ids\":[\"1004\"],\"roots\":{\"1004\":\"24d5114e-3ea7-4462-8293-10adc11a8c76\"}}];\n",
       "  root.Bokeh.embed.embed_items_notebook(docs_json, render_items);\n",
       "  }\n",
       "  if (root.Bokeh !== undefined) {\n",
       "    embed_document(root);\n",
       "  } else {\n",
       "    let attempts = 0;\n",
       "    const timer = setInterval(function(root) {\n",
       "      if (root.Bokeh !== undefined) {\n",
       "        clearInterval(timer);\n",
       "        embed_document(root);\n",
       "      } else {\n",
       "        attempts++;\n",
       "        if (attempts > 100) {\n",
       "          clearInterval(timer);\n",
       "          console.log(\"Bokeh: ERROR: Unable to run BokehJS code because BokehJS library is missing\");\n",
       "        }\n",
       "      }\n",
       "    }, 10, root)\n",
       "  }\n",
       "})(window);"
      ],
      "application/vnd.bokehjs_exec.v0+json": ""
     },
     "metadata": {
      "application/vnd.bokehjs_exec.v0+json": {
       "id": "1004"
      }
     },
     "output_type": "display_data"
    }
   ],
   "source": [
    "p = figure(tools=\"pan,wheel_zoom,reset,save\",\n",
    "           toolbar_location=\"above\",\n",
    "           title=\"word2vec T-SNE for most common words\")\n",
    "\n",
    "source = ColumnDataSource(data=dict(x1=words_top_ted_tsne[:,0],\n",
    "                                    x2=words_top_ted_tsne[:,1],\n",
    "                                    names=words_top_ted))\n",
    "\n",
    "p.scatter(x=\"x1\", y=\"x2\", size=8, source=source)\n",
    "\n",
    "labels = LabelSet(x=\"x1\", y=\"x2\", text=\"names\", y_offset=6,\n",
    "                  text_font_size=\"8pt\", text_color=\"#555555\",\n",
    "                  source=source, text_align='center')\n",
    "p.add_layout(labels)\n",
    "\n",
    "show(p)"
   ]
  },
  {
   "cell_type": "markdown",
   "metadata": {
    "id": "qn3osAABfZjQ"
   },
   "source": [
    "That's it. We hope you had fun and learned something in the process :-)"
   ]
  }
 ],
 "metadata": {
  "accelerator": "GPU",
  "anaconda-cloud": {},
  "colab": {
   "gpuType": "T4",
   "provenance": []
  },
  "kernelspec": {
   "display_name": "Python 3",
   "language": "python",
   "name": "python3"
  },
  "language_info": {
   "codemirror_mode": {
    "name": "ipython",
    "version": 3
   },
   "file_extension": ".py",
   "mimetype": "text/x-python",
   "name": "python",
   "nbconvert_exporter": "python",
   "pygments_lexer": "ipython3",
   "version": "3.7.6"
  }
 },
 "nbformat": 4,
 "nbformat_minor": 1
}
